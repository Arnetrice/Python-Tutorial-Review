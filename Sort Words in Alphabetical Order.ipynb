{
 "cells": [
  {
   "cell_type": "markdown",
   "id": "de666638",
   "metadata": {},
   "source": [
    " # **Sort Words in Alphabetical Order**"
   ]
  },
  {
   "cell_type": "markdown",
   "id": "b1b377e4",
   "metadata": {},
   "source": [
    "### Standard Approach:"
   ]
  },
  {
   "cell_type": "code",
   "execution_count": null,
   "id": "24184929",
   "metadata": {},
   "outputs": [],
   "source": [
    "word = 'Wonderful World'\n",
    "\n",
    "# Step 1: Convert the string to lowercase and split it into words\n",
    "word_array = word.lower().split(' ')\n",
    "\n",
    "new_word = ''\n",
    "\n",
    "# Step 2: Sort the characters of each word\n",
    "for word in word_array:\n",
    "    new_word += \"\".join(sorted(word)) + ' '\n",
    "\n",
    "# Step 3: Print the resulting string after removing the trailing space\n",
    "print(new_word.rstrip())\n"
   ]
  },
  {
   "cell_type": "markdown",
   "id": "a9865f88",
   "metadata": {},
   "source": [
    "Note: This approach sorts the letters of each word in a string, converting all letters to lowercase before sorting to ensure consistent alphabetical sorting."
   ]
  },
  {
   "cell_type": "markdown",
   "id": "017aff0b",
   "metadata": {},
   "source": [
    "### Optimized Solution:"
   ]
  },
  {
   "cell_type": "code",
   "execution_count": null,
   "id": "496e1d1c",
   "metadata": {},
   "outputs": [],
   "source": [
    "word = 'Wonderful World'\n",
    "\n",
    "# Step 1: Split the string into words\n",
    "word_array = word.split(' ')\n",
    "\n",
    "new_word = ''\n",
    "\n",
    "# Step 2: Sort each word's characters, converted to lowercase\n",
    "for word in word_array:\n",
    "    new_word += \"\".join(sorted(word.lower())) + ' '\n",
    "\n",
    "# Step 3: Print the resulting string after removing the trailing space\n",
    "print(new_word.rstrip())\n"
   ]
  },
  {
   "cell_type": "markdown",
   "id": "f2901c30",
   "metadata": {},
   "source": [
    "Note: This solution eliminates redundant operations by sorting the words directly after splitting the string."
   ]
  },
  {
   "cell_type": "markdown",
   "id": "46c2e449",
   "metadata": {},
   "source": [
    "### Additional Practice:\n",
    "See Practice Exercise: Sort Words in Alphabetical Order"
   ]
  }
 ],
 "metadata": {
  "kernelspec": {
   "display_name": "Python 3 (ipykernel)",
   "language": "python",
   "name": "python3"
  },
  "language_info": {
   "codemirror_mode": {
    "name": "ipython",
    "version": 3
   },
   "file_extension": ".py",
   "mimetype": "text/x-python",
   "name": "python",
   "nbconvert_exporter": "python",
   "pygments_lexer": "ipython3",
   "version": "3.11.4"
  }
 },
 "nbformat": 4,
 "nbformat_minor": 5
}
