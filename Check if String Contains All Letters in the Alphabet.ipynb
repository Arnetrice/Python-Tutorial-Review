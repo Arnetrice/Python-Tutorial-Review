{
 "cells": [
  {
   "attachments": {},
   "cell_type": "markdown",
   "id": "de666638",
   "metadata": {},
   "source": [
    " # **Check if String Contains All Letters in the Alphabet**"
   ]
  },
  {
   "cell_type": "markdown",
   "id": "b1b377e4",
   "metadata": {},
   "source": [
    "### Standard Approach:"
   ]
  },
  {
   "cell_type": "code",
   "execution_count": 6,
   "id": "24184929",
   "metadata": {},
   "outputs": [
    {
     "name": "stdout",
     "output_type": "stream",
     "text": [
      "True\n",
      "Missing letters: set()\n"
     ]
    }
   ],
   "source": [
    "import string\n",
    "\n",
    "word = 'The five boxing wizards jump quickly.'\n",
    "\n",
    "# Step 1: Create a set of unique letters from the string, removing spaces\n",
    "word_set = set(word.lower()) - {\" \"}\n",
    "\n",
    "# Step 2: Create a set of the alphabet\n",
    "alpha_check = set(string.ascii_lowercase)\n",
    "\n",
    "# Step 3: Check if word_set contains all alphabet letters\n",
    "if alpha_check.issubset(word_set):  # Check if all letters are present\n",
    "    print(True)\n",
    "else:\n",
    "    print(False)\n",
    "\n",
    "missing_letters = alpha_check - word_set\n",
    "print(\"Missing letters:\", missing_letters)\n"
   ]
  },
  {
   "cell_type": "markdown",
   "id": "a9865f88",
   "metadata": {},
   "source": [
    "Note: This approach uses a set to store unique characters from the string, removes spaces, and compares it to the set of all alphabet letters. It also identifies any missing letters."
   ]
  },
  {
   "cell_type": "markdown",
   "id": "017aff0b",
   "metadata": {},
   "source": [
    "### Optimized Solution:"
   ]
  },
  {
   "cell_type": "code",
   "execution_count": 5,
   "id": "496e1d1c",
   "metadata": {},
   "outputs": [
    {
     "name": "stdout",
     "output_type": "stream",
     "text": [
      "True\n"
     ]
    }
   ],
   "source": [
    "import string\n",
    "\n",
    "word = 'The five boxing wizards jump quickly.'\n",
    "\n",
    "# Step 1: Create a set of unique alphabetic characters\n",
    "word_set = {char for char in word.lower() if char.isalpha()}  # Only keep letters\n",
    "\n",
    "# Step 2: Compare with the alphabet\n",
    "print(word_set == set(string.ascii_lowercase))\n"
   ]
  },
  {
   "cell_type": "markdown",
   "id": "f2901c30",
   "metadata": {},
   "source": [
    "Note: This solution directly filters the input string to include only alphabetic characters, ensuring no extra spaces or punctuation interfere with the comparison."
   ]
  },
  {
   "cell_type": "markdown",
   "id": "46c2e449",
   "metadata": {},
   "source": [
    "### Additional Practice:\n",
    "See Practice Exercise: Check if String Contains All Letters in the Alphabet"
   ]
  }
 ],
 "metadata": {
  "kernelspec": {
   "display_name": "Python 3 (ipykernel)",
   "language": "python",
   "name": "python3"
  },
  "language_info": {
   "codemirror_mode": {
    "name": "ipython",
    "version": 3
   },
   "file_extension": ".py",
   "mimetype": "text/x-python",
   "name": "python",
   "nbconvert_exporter": "python",
   "pygments_lexer": "ipython3",
   "version": "3.11.4"
  }
 },
 "nbformat": 4,
 "nbformat_minor": 5
}
