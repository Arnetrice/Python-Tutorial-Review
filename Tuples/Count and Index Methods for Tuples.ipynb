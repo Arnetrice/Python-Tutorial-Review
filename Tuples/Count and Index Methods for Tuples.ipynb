{
 "cells": [
  {
   "cell_type": "markdown",
   "id": "de666638",
   "metadata": {},
   "source": [
    " # **Count and Index Methods for Tuples**"
   ]
  },
  {
   "cell_type": "markdown",
   "id": "b1b377e4",
   "metadata": {},
   "source": [
    "### Standard Approach:"
   ]
  },
  {
   "cell_type": "code",
   "execution_count": null,
   "id": "24184929",
   "metadata": {},
   "outputs": [],
   "source": [
    "the_tuple = (1, 2, 2, 3, 3, 3)\n",
    "\n",
    "# Count occurrences of the value 3\n",
    "print(the_tuple.count(3)) \n",
    "\n",
    "# Find the index of the first occurrence of the value 2\n",
    "print(the_tuple.index(2)) \n"
   ]
  },
  {
   "cell_type": "markdown",
   "id": "a9865f88",
   "metadata": {},
   "source": [
    "Note: In  this approach, count(value) iterates through the tuple and counts how many times value appears. Whereas, index(value) finds the first position (zero-based index) where value occurs."
   ]
  },
  {
   "cell_type": "markdown",
   "id": "017aff0b",
   "metadata": {},
   "source": [
    "### Optimized Solution:"
   ]
  },
  {
   "cell_type": "code",
   "execution_count": null,
   "id": "496e1d1c",
   "metadata": {},
   "outputs": [],
   "source": [
    "the_tuple = ('apple', 'banana', 'cherry', 'apple')\n",
    "\n",
    "# Count occurrences of the value 'apple'\n",
    "print(the_tuple.count('apple'))  \n",
    "\n",
    "# Find the index of the first occurrence of the value 'cherry'\n",
    "print(the_tuple.index('cherry')) \n"
   ]
  },
  {
   "cell_type": "markdown",
   "id": "f2901c30",
   "metadata": {},
   "source": [
    "Note: This solution demonstrates how the methods work in scenarios involving text data. It expands understanding by applying the same methods to different types of tuples."
   ]
  },
  {
   "cell_type": "markdown",
   "id": "46c2e449",
   "metadata": {},
   "source": [
    "### Additional Practice:\n",
    "See Tuples - Practice Exercises & Challenges: Count and Index Methods for Tuples"
   ]
  }
 ],
 "metadata": {
  "kernelspec": {
   "display_name": "Python 3 (ipykernel)",
   "language": "python",
   "name": "python3"
  },
  "language_info": {
   "codemirror_mode": {
    "name": "ipython",
    "version": 3
   },
   "file_extension": ".py",
   "mimetype": "text/x-python",
   "name": "python",
   "nbconvert_exporter": "python",
   "pygments_lexer": "ipython3",
   "version": "3.11.4"
  }
 },
 "nbformat": 4,
 "nbformat_minor": 5
}
