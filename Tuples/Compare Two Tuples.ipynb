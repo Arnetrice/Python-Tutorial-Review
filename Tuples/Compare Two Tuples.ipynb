{
 "cells": [
  {
   "cell_type": "markdown",
   "id": "de666638",
   "metadata": {},
   "source": [
    " # **Compare Two Tuples**"
   ]
  },
  {
   "cell_type": "markdown",
   "id": "b1b377e4",
   "metadata": {},
   "source": [
    "### Standard Approach:"
   ]
  },
  {
   "cell_type": "code",
   "execution_count": null,
   "id": "24184929",
   "metadata": {},
   "outputs": [],
   "source": [
    "tuple1 = (1, 2, 3)\n",
    "tuple2 = (1, 2, 4)\n",
    "\n",
    "# Check for equality\n",
    "print(tuple1 == tuple2) \n",
    "\n",
    "# Check if tuple1 is less than tuple2\n",
    "print(tuple1 < tuple2) \n",
    "\n",
    "# Check if tuple1 is greater than tuple2\n",
    "print(tuple1 > tuple2)\n"
   ]
  },
  {
   "cell_type": "markdown",
   "id": "a9865f88",
   "metadata": {},
   "source": [
    "Note: This approach demonstrates basic tuple comparison using relational operators. Lexicographical Order -> Tuples are compared element by element until a mismatch is found."
   ]
  },
  {
   "cell_type": "markdown",
   "id": "017aff0b",
   "metadata": {},
   "source": [
    "### Optimized Solution:"
   ]
  },
  {
   "cell_type": "code",
   "execution_count": null,
   "id": "496e1d1c",
   "metadata": {},
   "outputs": [],
   "source": [
    "tuple1 = (1, 2, 3)\n",
    "tuple2 = (1, 2, 4)\n",
    "\n",
    "# Enhanced equality check\n",
    "comparison = \"Equal\" if tuple1 == tuple2 else \"Not Equal\"\n",
    "print(comparison)  \n",
    "\n",
    "# Enhanced less-than check\n",
    "print(\"Tuple1 is less than Tuple2\" if tuple1 < tuple2 else \"Tuple1 is not less than Tuple2\")"
   ]
  },
  {
   "cell_type": "markdown",
   "id": "f2901c30",
   "metadata": {},
   "source": [
    "Note: This solution uses conditional expressions and formatted output to improve clarity and user-friendliness. Use concise, inline checks to determine and display the comparison results. The output explicitly describes the relationship between the tuples, making it more user-friendly."
   ]
  },
  {
   "cell_type": "markdown",
   "id": "46c2e449",
   "metadata": {},
   "source": [
    "### Additional Practice:\n",
    "See Tuples - Practice Exercises & Challenges: Compare Two Tuples"
   ]
  }
 ],
 "metadata": {
  "kernelspec": {
   "display_name": "Python 3 (ipykernel)",
   "language": "python",
   "name": "python3"
  },
  "language_info": {
   "codemirror_mode": {
    "name": "ipython",
    "version": 3
   },
   "file_extension": ".py",
   "mimetype": "text/x-python",
   "name": "python",
   "nbconvert_exporter": "python",
   "pygments_lexer": "ipython3",
   "version": "3.11.4"
  }
 },
 "nbformat": 4,
 "nbformat_minor": 5
}
