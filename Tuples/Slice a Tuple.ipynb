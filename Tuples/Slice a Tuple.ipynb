{
 "cells": [
  {
   "cell_type": "markdown",
   "id": "de666638",
   "metadata": {},
   "source": [
    " # **Slice a Tuple**"
   ]
  },
  {
   "cell_type": "markdown",
   "id": "b1b377e4",
   "metadata": {},
   "source": [
    "### Standard Approach:"
   ]
  },
  {
   "cell_type": "code",
   "execution_count": null,
   "id": "24184929",
   "metadata": {},
   "outputs": [],
   "source": [
    "the_tuple = (1, 2, 3, 4, 5)\n",
    "\n",
    "# Slice from index 1 to 3 (exclusive of 4)\n",
    "print(the_tuple[1:4])  \n",
    "\n",
    "# Slice from the beginning to index 2 (exclusive of 3)\n",
    "print(the_tuple[:3])  \n",
    "\n",
    "# Slice the last three elements\n",
    "print(the_tuple[-3:]) \n"
   ]
  },
  {
   "cell_type": "markdown",
   "id": "a9865f88",
   "metadata": {},
   "source": [
    "Note: This approach demonstrates common slicing techniques, such as selecting a range of elements and using negative indexing. start is the index where slicing begins (inclusive). stop is the index where slicing ends (exclusive). Use negative indices to count from the end of the tuple. Example: the_tuple[-3:] selects the last three elements."
   ]
  },
  {
   "cell_type": "markdown",
   "id": "017aff0b",
   "metadata": {},
   "source": [
    "### Optimized Solution:"
   ]
  },
  {
   "cell_type": "code",
   "execution_count": null,
   "id": "496e1d1c",
   "metadata": {},
   "outputs": [],
   "source": [
    "the_tuple = (10, 20, 30, 40, 50)\n",
    "\n",
    "# Slice with a step of 2\n",
    "sliced_tuple = the_tuple[::2]  \n",
    "print(sliced_tuple) \n",
    "\n",
    "# Reverse the tuple using slicing\n",
    "reversed_tuple = the_tuple[::-1]\n",
    "print(reversed_tuple) \n"
   ]
  },
  {
   "cell_type": "markdown",
   "id": "f2901c30",
   "metadata": {},
   "source": [
    "Note: This solution demonstrates slicing with a step value to skip elements or reverse the tuple."
   ]
  },
  {
   "cell_type": "markdown",
   "id": "46c2e449",
   "metadata": {},
   "source": [
    "### Additional Practice:\n",
    "See Tuples - Practice Exercises & Challenges: Slice a Tuple"
   ]
  }
 ],
 "metadata": {
  "kernelspec": {
   "display_name": "Python 3 (ipykernel)",
   "language": "python",
   "name": "python3"
  },
  "language_info": {
   "codemirror_mode": {
    "name": "ipython",
    "version": 3
   },
   "file_extension": ".py",
   "mimetype": "text/x-python",
   "name": "python",
   "nbconvert_exporter": "python",
   "pygments_lexer": "ipython3",
   "version": "3.11.4"
  }
 },
 "nbformat": 4,
 "nbformat_minor": 5
}
