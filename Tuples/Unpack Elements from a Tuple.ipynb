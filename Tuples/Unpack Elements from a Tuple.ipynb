{
 "cells": [
  {
   "cell_type": "markdown",
   "id": "de666638",
   "metadata": {},
   "source": [
    " # **Unpack Elements from a Tuple**"
   ]
  },
  {
   "cell_type": "markdown",
   "id": "b1b377e4",
   "metadata": {},
   "source": [
    "### Standard Approach:"
   ]
  },
  {
   "cell_type": "code",
   "execution_count": null,
   "id": "24184929",
   "metadata": {},
   "outputs": [],
   "source": [
    "the_tuple = (10, 20, 30)\n",
    "\n",
    "# Unpack all elements\n",
    "a, b, c = the_tuple\n",
    "print(a, b, c)  "
   ]
  },
  {
   "cell_type": "markdown",
   "id": "a9865f88",
   "metadata": {},
   "source": [
    "Note: This approach demonstrates how to unpack all elements of a tuple into individual variables. Assign each element of the tuple to a separate variable (a, b, c). The order of elements in the tuple determines the assignment. Example: a gets 10, b gets 20, and c gets 30."
   ]
  },
  {
   "cell_type": "markdown",
   "id": "017aff0b",
   "metadata": {},
   "source": [
    "### Optimized Solution:"
   ]
  },
  {
   "cell_type": "code",
   "execution_count": null,
   "id": "496e1d1c",
   "metadata": {},
   "outputs": [],
   "source": [
    "the_tuple = (1, 2, 3, 4)\n",
    "\n",
    "# Unpack using *\n",
    "a, *b, c = the_tuple\n",
    "print(a, b, c) "
   ]
  },
  {
   "cell_type": "markdown",
   "id": "f2901c30",
   "metadata": {},
   "source": [
    "Note: This solution demonstrates unpacking a tuple with the * operator, which captures multiple elements in a single variable. Advanced Unpacking with the * operator captures all remaining elements in the tuple that are not explicitly assigned to other variables. Example: a gets 1, c gets 4, and b (with *) captures [2, 3]."
   ]
  },
  {
   "cell_type": "markdown",
   "id": "46c2e449",
   "metadata": {},
   "source": [
    "### Additional Practice:\n",
    "See Tuples - Practice Exercises & Challenges: Unpack Elements from a Tuple"
   ]
  }
 ],
 "metadata": {
  "kernelspec": {
   "display_name": "Python 3 (ipykernel)",
   "language": "python",
   "name": "python3"
  },
  "language_info": {
   "codemirror_mode": {
    "name": "ipython",
    "version": 3
   },
   "file_extension": ".py",
   "mimetype": "text/x-python",
   "name": "python",
   "nbconvert_exporter": "python",
   "pygments_lexer": "ipython3",
   "version": "3.11.4"
  }
 },
 "nbformat": 4,
 "nbformat_minor": 5
}
