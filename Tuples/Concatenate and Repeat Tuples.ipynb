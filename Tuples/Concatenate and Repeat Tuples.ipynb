{
 "cells": [
  {
   "cell_type": "markdown",
   "id": "de666638",
   "metadata": {},
   "source": [
    " # **Concatenate and Repeat Tuples**"
   ]
  },
  {
   "cell_type": "markdown",
   "id": "b1b377e4",
   "metadata": {},
   "source": [
    "### Standard Approach:"
   ]
  },
  {
   "cell_type": "code",
   "execution_count": null,
   "id": "24184929",
   "metadata": {},
   "outputs": [],
   "source": [
    "tuple1 = (1, 2)\n",
    "tuple2 = (3, 4)\n",
    "\n",
    "# Concatenate tuples\n",
    "combined = tuple1 + tuple2  \n",
    "print(combined)\n",
    "\n",
    "# Repeat a tuple\n",
    "repeated = tuple1 * 3  \n",
    "print(repeated)  "
   ]
  },
  {
   "cell_type": "markdown",
   "id": "a9865f88",
   "metadata": {},
   "source": [
    "Note: This approach demonstrates the fundamentals of tuple concatenation and repetition with numeric tuples. Concatenation (+): Combines tuple1 and tuple2 into a new tuple (1, 2, 3, 4). Repetition (*): Repeats the elements of tuple1 three times to create (1, 2, 1, 2, 1, 2)."
   ]
  },
  {
   "cell_type": "markdown",
   "id": "017aff0b",
   "metadata": {},
   "source": [
    "### Optimized Solution:"
   ]
  },
  {
   "cell_type": "code",
   "execution_count": null,
   "id": "496e1d1c",
   "metadata": {},
   "outputs": [],
   "source": [
    "tuple1 = ('a',)  # Single-element tuple\n",
    "\n",
    "# Concatenate with another tuple\n",
    "combined = tuple1 + ('b', 'c')  \n",
    "print(combined)  \n",
    "\n",
    "# Repeat the tuple\n",
    "repeated = tuple1 * 4\n",
    "print(repeated) \n"
   ]
  },
  {
   "cell_type": "markdown",
   "id": "f2901c30",
   "metadata": {},
   "source": [
    "Note: This solution builds on the basics with examples involving single-element tuples and a mixture of data types to highlight practical use cases."
   ]
  },
  {
   "cell_type": "markdown",
   "id": "46c2e449",
   "metadata": {},
   "source": [
    "### Additional Practice:\n",
    "See Tuples - Practice Exercises & Challenges: Concatenate and Repeat Tuples"
   ]
  }
 ],
 "metadata": {
  "kernelspec": {
   "display_name": "Python 3 (ipykernel)",
   "language": "python",
   "name": "python3"
  },
  "language_info": {
   "codemirror_mode": {
    "name": "ipython",
    "version": 3
   },
   "file_extension": ".py",
   "mimetype": "text/x-python",
   "name": "python",
   "nbconvert_exporter": "python",
   "pygments_lexer": "ipython3",
   "version": "3.11.4"
  }
 },
 "nbformat": 4,
 "nbformat_minor": 5
}
