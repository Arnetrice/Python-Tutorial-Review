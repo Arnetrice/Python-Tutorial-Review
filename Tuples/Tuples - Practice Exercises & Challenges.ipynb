{
 "cells": [
  {
   "cell_type": "markdown",
   "id": "1a54ccbf",
   "metadata": {},
   "source": [
    "# Practice Exercises & Challenges - Tuples"
   ]
  },
  {
   "cell_type": "markdown",
   "id": "356d2478",
   "metadata": {},
   "source": [
    "### 1. Practice Exercise: Access Elements in a Tuple"
   ]
  },
  {
   "cell_type": "markdown",
   "id": "4778e73c",
   "metadata": {},
   "source": [
    "1.1. What happens if you use a negative index larger than the length of the tuple?"
   ]
  },
  {
   "cell_type": "code",
   "execution_count": null,
   "id": "b8face61",
   "metadata": {},
   "outputs": [],
   "source": [
    "the_tuple = (1, 2, 3)\n",
    "print(the_tuple[-5])"
   ]
  },
  {
   "cell_type": "markdown",
   "id": "81c2a243",
   "metadata": {},
   "source": [
    "1.2. Experiment with slicing using different ranges, including out-of-bounds indices."
   ]
  },
  {
   "cell_type": "code",
   "execution_count": null,
   "id": "2d89c8db",
   "metadata": {},
   "outputs": [],
   "source": [
    "the_tuple = (1, 2, 3)\n",
    "print(the_tuple[1:10])"
   ]
  },
  {
   "cell_type": "markdown",
   "id": "ae2348ed",
   "metadata": {},
   "source": [
    "1.3. What happens if you try to access an element in an empty tuple?"
   ]
  },
  {
   "cell_type": "code",
   "execution_count": null,
   "id": "243bfd88",
   "metadata": {},
   "outputs": [],
   "source": [
    "empty_tuple = ()"
   ]
  },
  {
   "cell_type": "markdown",
   "id": "0b5a4c36",
   "metadata": {},
   "source": [
    "1.4. How can you access specific elements within a tuple of tuples?"
   ]
  },
  {
   "cell_type": "code",
   "execution_count": null,
   "id": "990f0c97",
   "metadata": {},
   "outputs": [],
   "source": [
    "nested_tuple = ((1, 2), (3, 4))\n",
    "print(nested_tuple[1][1])"
   ]
  },
  {
   "cell_type": "markdown",
   "id": "2cb8dc3d",
   "metadata": {},
   "source": [
    "1.5. Implement error handling for both slicing and indexing operations."
   ]
  },
  {
   "cell_type": "code",
   "execution_count": null,
   "id": "8de5b3c0",
   "metadata": {},
   "outputs": [],
   "source": [
    "the_tuple = (10, 20, 30, 40)\n",
    "try:\n",
    "    # replace this with your code \n",
    "except # replace this with your code :\n",
    "    # replace this with your code "
   ]
  },
  {
   "cell_type": "markdown",
   "id": "4a7d2670",
   "metadata": {},
   "source": [
    "### 2. Practice Exercise: Convert Tuple to List and Vice Versa"
   ]
  },
  {
   "cell_type": "markdown",
   "id": "117d787b",
   "metadata": {},
   "source": [
    "2.1. Convert a tuple (10, 20, 30) into a list, add an element 40, and convert it back into a tuple."
   ]
  },
  {
   "cell_type": "code",
   "execution_count": null,
   "id": "bddbbea7",
   "metadata": {},
   "outputs": [],
   "source": [
    "the_tuple = (10, 20, 30)\n",
    "the_list = # replace this with your code\n",
    "the_list.# replace this with your code\n",
    "the_tuple = # replace this with your code\n",
    "print(the_tuple) "
   ]
  },
  {
   "cell_type": "markdown",
   "id": "4f4ec830",
   "metadata": {},
   "source": [
    "2.2. Create a tuple (100, 200, 300) directly from a list using tuple()."
   ]
  },
  {
   "cell_type": "code",
   "execution_count": null,
   "id": "8bbded0c",
   "metadata": {},
   "outputs": [],
   "source": [
    "the_tuple = # replace this with your code\n",
    "print(the_tuple) "
   ]
  },
  {
   "cell_type": "markdown",
   "id": "c3a0b0c3",
   "metadata": {},
   "source": [
    "2.3. Convert a nested tuple ((1, 2), (3, 4)) into a nested list, modify one of the inner lists, and convert it back into a nested tuple."
   ]
  },
  {
   "cell_type": "code",
   "execution_count": null,
   "id": "960706bf",
   "metadata": {},
   "outputs": [],
   "source": [
    "nested_tuple = ((1, 2), (3, 4))\n",
    "nested_list = [list(inner) for inner in nested_tuple]  # Convert nested tuples to lists\n",
    "nested_list[0].# replace this with your code\n",
    "nested_tuple = tuple(tuple(inner) for inner in nested_list)  # Convert back to nested tuple\n",
    "print(nested_tuple) "
   ]
  },
  {
   "cell_type": "markdown",
   "id": "965041bc",
   "metadata": {},
   "source": [
    "2.4. Convert an empty tuple () into a list, add elements [1, 2, 3], and convert it back into a tuple."
   ]
  },
  {
   "cell_type": "code",
   "execution_count": null,
   "id": "0d1d8d65",
   "metadata": {},
   "outputs": [],
   "source": [
    "empty_tuple = # replace this with your code\n",
    "empty_list = list(empty_tuple)\n",
    "empty_list.extend([1, 2, 3])  # Add elements\n",
    "empty_tuple = # replace this with your code\n",
    "print(empty_tuple)"
   ]
  },
  {
   "cell_type": "markdown",
   "id": "698fbad2",
   "metadata": {},
   "source": [
    "2.5. Convert a tuple (5, 6, 7) to a list, add two elements (8 and 9), remove one (6), and convert it back into a tuple."
   ]
  },
  {
   "cell_type": "code",
   "execution_count": null,
   "id": "b616d53e",
   "metadata": {},
   "outputs": [],
   "source": [
    "the_tuple = (5, 6, 7)\n",
    "the_list = list(the_tuple)\n",
    "the_list.# replace this with your code\n",
    "the_list.remove(6)  # Remove an element\n",
    "the_tuple = # replace this with your code\n",
    "print(the_tuple) "
   ]
  },
  {
   "cell_type": "markdown",
   "id": "76d70660",
   "metadata": {},
   "source": [
    "### 3. Practice Exercise: Count and Index Methods for Tuples"
   ]
  },
  {
   "cell_type": "markdown",
   "id": "613651f2",
   "metadata": {},
   "source": [
    "3.1. Given the tuple (5, 5, 5, 10, 15), count the occurrences of 5 and find the index of 10."
   ]
  },
  {
   "cell_type": "code",
   "execution_count": null,
   "id": "6df488ae",
   "metadata": {},
   "outputs": [],
   "source": [
    "the_tuple = (5, 5, 5, 10, 15)\n",
    "# replace this with your code\n",
    "# replace this with your code"
   ]
  },
  {
   "cell_type": "markdown",
   "id": "c5fb03d5",
   "metadata": {},
   "source": [
    "3.2. or the tuple ('cat', 'dog', 'cat', 'bird'), count how many times 'cat' appears and find the index of 'bird'."
   ]
  },
  {
   "cell_type": "code",
   "execution_count": null,
   "id": "adb6d53e",
   "metadata": {},
   "outputs": [],
   "source": [
    "the_tuple = ('cat', 'dog', 'cat', 'bird')\n",
    "# replace this with your code\n",
    "# replace this with your code"
   ]
  },
  {
   "cell_type": "markdown",
   "id": "2016803c",
   "metadata": {},
   "source": [
    "3.3. What happens if the value you search for using index() does not exist in the tuple?"
   ]
  },
  {
   "cell_type": "code",
   "execution_count": null,
   "id": "d1f31c7f",
   "metadata": {},
   "outputs": [],
   "source": [
    "the_tuple = (1, 2, 3)\n",
    "try:\n",
    "    # replace this with your code\n",
    "# replace this with your code:\n",
    "    print(\"Value not found\")"
   ]
  },
  {
   "cell_type": "markdown",
   "id": "18d40240",
   "metadata": {},
   "source": [
    "3.4. Given the tuple (1, 'a', 1, 'b', 1), count the occurrences of 1 and find the index of 'b'."
   ]
  },
  {
   "cell_type": "code",
   "execution_count": null,
   "id": "c868fb2b",
   "metadata": {},
   "outputs": [],
   "source": [
    "the_tuple = (1, 'a', 1, 'b', 1)\n",
    "# replace this with your code\n",
    "# replace this with your code"
   ]
  },
  {
   "cell_type": "markdown",
   "id": "5f7434e7",
   "metadata": {},
   "source": [
    "3.5. What are the results of calling count() and index() on an empty tuple?"
   ]
  },
  {
   "cell_type": "code",
   "execution_count": null,
   "id": "feba4038",
   "metadata": {},
   "outputs": [],
   "source": [
    "the_tuple = ()\n",
    "# replace this with your code\n",
    "try:\n",
    "    # replace this with your code\n",
    "except ValueError:\n",
    "    print(\"Value not found\")\n"
   ]
  },
  {
   "cell_type": "markdown",
   "id": "a4c1e9e4",
   "metadata": {},
   "source": [
    "### 4. Practice Exercise: Concatenate and Repeat Tuples"
   ]
  },
  {
   "cell_type": "markdown",
   "id": "22f7077c",
   "metadata": {},
   "source": [
    "4.1. Combine the tuples (10, 20) and (30, 40, 50) into a single tuple."
   ]
  },
  {
   "cell_type": "code",
   "execution_count": null,
   "id": "5c4baf51",
   "metadata": {},
   "outputs": [],
   "source": [
    "tuple1 = (10, 20)\n",
    "# replace this with your code\n",
    "combined = # replace this with your code\n",
    "print(combined) "
   ]
  },
  {
   "cell_type": "markdown",
   "id": "e923f237",
   "metadata": {},
   "source": [
    "4.2. Repeat the tuple ('x', 'y') 5 times."
   ]
  },
  {
   "cell_type": "code",
   "execution_count": null,
   "id": "cb51268a",
   "metadata": {},
   "outputs": [],
   "source": [
    "tuple1 = ('x', 'y')\n",
    "repeated = # replace this with your code\n",
    "print(repeated)"
   ]
  },
  {
   "cell_type": "markdown",
   "id": "07ec3522",
   "metadata": {},
   "source": [
    "4.3. Create a single-element tuple with the value 42, concatenate it with (50, 60), and repeat the result 2 times."
   ]
  },
  {
   "cell_type": "code",
   "execution_count": null,
   "id": "08091933",
   "metadata": {},
   "outputs": [],
   "source": [
    "single_tuple = # replace this with your code\n",
    "combined = single_tuple + # replace this with your code\n",
    "repeated = # replace this with your code\n",
    "print(repeated)  "
   ]
  },
  {
   "cell_type": "markdown",
   "id": "7099e7e7",
   "metadata": {},
   "source": [
    "4.4. Concatenate (1, 'a') with (2, 'b') and repeat the result 3 times."
   ]
  },
  {
   "cell_type": "code",
   "execution_count": null,
   "id": "3247cbf7",
   "metadata": {},
   "outputs": [],
   "source": [
    "tuple1 = (1, 'a')\n",
    "tuple2 = (2, 'b')\n",
    "combined = # replace this with your code\n",
    "repeated = # replace this with your code\n",
    "print(repeated)  "
   ]
  },
  {
   "cell_type": "markdown",
   "id": "78c8a8e3",
   "metadata": {},
   "source": [
    "4.5. Concatenate an empty tuple () with (1, 2, 3) and repeat the result 4 times."
   ]
  },
  {
   "cell_type": "code",
   "execution_count": null,
   "id": "9367f5fc",
   "metadata": {},
   "outputs": [],
   "source": [
    "empty_tuple = # replace this with your code\n",
    "tuple1 = (1, 2, 3)\n",
    "combined = # replace this with your code\n",
    "repeated = # replace this with your code\n",
    "print(repeated)  "
   ]
  },
  {
   "cell_type": "markdown",
   "id": "13ea6d4a",
   "metadata": {},
   "source": [
    "### 5. Practice Exercise: Unpack Elements from a Tuple"
   ]
  },
  {
   "cell_type": "markdown",
   "id": "21533a29",
   "metadata": {},
   "source": [
    "5.1. Unpack the tuple (5, 10, 15, 20) into four variables and print them."
   ]
  },
  {
   "cell_type": "code",
   "execution_count": null,
   "id": "57c2649f",
   "metadata": {},
   "outputs": [],
   "source": [
    "the_tuple = (5, 10, 15, 20)\n",
    "# replace this with your code\n",
    "print(a, b, c, d)  "
   ]
  },
  {
   "cell_type": "markdown",
   "id": "0a85a746",
   "metadata": {},
   "source": [
    "5.2. For the tuple (100, 200, 300, 400, 500), unpack the first and last elements into separate variables and the middle elements into a list."
   ]
  },
  {
   "cell_type": "code",
   "execution_count": null,
   "id": "820bc26b",
   "metadata": {},
   "outputs": [],
   "source": [
    "the_tuple = (100, 200, 300, 400, 500)\n",
    "# replace this with your code\n",
    "print(a, b, c) "
   ]
  },
  {
   "cell_type": "markdown",
   "id": "d75f0d0e",
   "metadata": {},
   "source": [
    "5.3. Unpack the tuple ((1, 2), 3, 4) so that the first element is unpacked into two variables, and the other elements are stored in separate variables."
   ]
  },
  {
   "cell_type": "code",
   "execution_count": null,
   "id": "75425793",
   "metadata": {},
   "outputs": [],
   "source": [
    "the_tuple = ((1, 2), 3, 4)\n",
    "# replace this with your code\n",
    "print(x, y, z, w) "
   ]
  },
  {
   "cell_type": "markdown",
   "id": "4ef2634f",
   "metadata": {},
   "source": [
    "5.4. For the tuple (10, 20, 30, 40, 50), unpack only the first two elements and store the rest in another variable."
   ]
  },
  {
   "cell_type": "code",
   "execution_count": null,
   "id": "81957606",
   "metadata": {},
   "outputs": [],
   "source": [
    "the_tuple = (10, 20, 30, 40, 50)\n",
    "# replace this with your code\n",
    "print(a, b, rest)  "
   ]
  },
  {
   "cell_type": "markdown",
   "id": "0dd5b67c",
   "metadata": {},
   "source": [
    "5.5. What happens if the number of variables does not match the number of elements in the tuple? Write a code example to handle this gracefully."
   ]
  },
  {
   "cell_type": "code",
   "execution_count": null,
   "id": "a71a1fe1",
   "metadata": {},
   "outputs": [],
   "source": [
    "the_tuple = (1, 2, 3)\n",
    "try:\n",
    "    # replace this with your code\n",
    "except ValueError as e:\n",
    "    print(\"Error:\", e)\n"
   ]
  },
  {
   "cell_type": "markdown",
   "id": "ba4cf44a",
   "metadata": {},
   "source": [
    "### 6. Practice Exercise: Check if an Element Exists in a Tuple"
   ]
  },
  {
   "cell_type": "markdown",
   "id": "bce06cd4",
   "metadata": {},
   "source": [
    "6.1. Check if 30 exists in the tuple (10, 20, 30, 40) and print the result."
   ]
  },
  {
   "cell_type": "code",
   "execution_count": null,
   "id": "e7ae2257",
   "metadata": {},
   "outputs": [],
   "source": [
    "the_tuple = (10, 20, 30, 40)\n",
    "# replace this with your code:\n",
    "    print(\"Found\") \n",
    "else:\n",
    "    # replace this with your code\n"
   ]
  },
  {
   "cell_type": "markdown",
   "id": "1dce4fe9",
   "metadata": {},
   "source": [
    "6.2. Verify if 'dog' exists in the tuple ('cat', 'dog', 'bird') using both a standard if-else statement and an inline conditional."
   ]
  },
  {
   "cell_type": "code",
   "execution_count": null,
   "id": "3bea87b8",
   "metadata": {},
   "outputs": [],
   "source": [
    "the_tuple = ('cat', 'dog', 'bird')\n",
    "# Standard\n",
    "# replace this with your code:\n",
    "    print(\"Found\")  \n",
    "else:\n",
    "    print(\"Not Found\")\n",
    "\n",
    "# Optimized\n",
    "result = # replace this with your code\n",
    "print(# replace this with your code) \n"
   ]
  },
  {
   "cell_type": "markdown",
   "id": "6b99e120",
   "metadata": {},
   "source": [
    "6.3. For the tuple (1, 2, 3, 4), check if 5 does not exist and print \"Not Found\"."
   ]
  },
  {
   "cell_type": "code",
   "execution_count": null,
   "id": "6eaa36f2",
   "metadata": {},
   "outputs": [],
   "source": [
    "the_tuple = (1, 2, 3, 4)\n",
    "# replace this with your code:\n",
    "    print(# replace this with your code) "
   ]
  },
  {
   "cell_type": "markdown",
   "id": "4f8b76ca",
   "metadata": {},
   "source": [
    "6.4. Check if any element exists in an empty tuple ()."
   ]
  },
  {
   "cell_type": "code",
   "execution_count": null,
   "id": "ba345091",
   "metadata": {},
   "outputs": [],
   "source": [
    "# replace this with your code\n",
    "# replace this with your code:\n",
    "    print(\"Found\")\n",
    "else:\n",
    "    print(\"Not Found\") "
   ]
  },
  {
   "cell_type": "markdown",
   "id": "3c57be74",
   "metadata": {},
   "source": [
    "6.5. Accept a user-provided value, check if it exists in the tuple (100, 200, 300), and print the result."
   ]
  },
  {
   "cell_type": "code",
   "execution_count": null,
   "id": "10a76c1e",
   "metadata": {},
   "outputs": [],
   "source": [
    "the_tuple = # replace this with your code\n",
    "value = int(input(\"Enter a number: \")) \n",
    "result = # replace this with your code\n",
    "print(# replace this with your code)  "
   ]
  },
  {
   "cell_type": "markdown",
   "id": "562f852a",
   "metadata": {},
   "source": [
    "### 7. Practice Exercise: Slice a Tuple"
   ]
  },
  {
   "cell_type": "markdown",
   "id": "7680f83f",
   "metadata": {},
   "source": [
    "7.1. Slice (1, 2, 3, 4, 5, 6) to extract elements from index 2 to 4."
   ]
  },
  {
   "cell_type": "code",
   "execution_count": null,
   "id": "1a4f5b8e",
   "metadata": {},
   "outputs": [],
   "source": [
    "the_tuple = (1, 2, 3, 4, 5, 6)\n",
    "print(the_tuple[# replace this with your code])"
   ]
  },
  {
   "cell_type": "markdown",
   "id": "cd046106",
   "metadata": {},
   "source": [
    "7.2. Slice (10, 20, 30, 40, 50) to extract the last two elements."
   ]
  },
  {
   "cell_type": "code",
   "execution_count": null,
   "id": "540a8467",
   "metadata": {},
   "outputs": [],
   "source": [
    "the_tuple = (10, 20, 30, 40, 50)\n",
    "print(the_tuple[# replace this with your code]) "
   ]
  },
  {
   "cell_type": "markdown",
   "id": "b898a48a",
   "metadata": {},
   "source": [
    "7.3. Use slicing with a step of 3 on (5, 10, 15, 20, 25, 30) to select every third element."
   ]
  },
  {
   "cell_type": "code",
   "execution_count": null,
   "id": "c7793b74",
   "metadata": {},
   "outputs": [],
   "source": [
    "the_tuple = (5, 10, 15, 20, 25, 30)\n",
    "print(the_tuple[# replace this with your code])"
   ]
  },
  {
   "cell_type": "markdown",
   "id": "d572f83c",
   "metadata": {},
   "source": [
    "7.4. Reverse the tuple (100, 200, 300, 400, 500) using slicing."
   ]
  },
  {
   "cell_type": "code",
   "execution_count": null,
   "id": "35ab3d6a",
   "metadata": {},
   "outputs": [],
   "source": [
    "the_tuple = (100, 200, 300, 400, 500)\n",
    "print(the_tuple[# replace this with your code]) "
   ]
  },
  {
   "cell_type": "markdown",
   "id": "d33dca9d",
   "metadata": {},
   "source": [
    "7.5. What happens when the start and stop indices are the same? Test on (7, 8, 9)."
   ]
  },
  {
   "cell_type": "code",
   "execution_count": null,
   "id": "301f2584",
   "metadata": {},
   "outputs": [],
   "source": [
    "the_tuple = (7, 8, 9)\n",
    "print(the_tuple[# replace this with your code]) "
   ]
  },
  {
   "cell_type": "markdown",
   "id": "880b14e6",
   "metadata": {},
   "source": [
    "### 8. Practice Exercise: Compare Two Tuples"
   ]
  },
  {
   "cell_type": "markdown",
   "id": "014c9ecb",
   "metadata": {},
   "source": [
    "8.1. Compare (5, 10, 15) with (5, 10, 20) for equality and lexicographical order."
   ]
  },
  {
   "cell_type": "code",
   "execution_count": null,
   "id": "77538830",
   "metadata": {},
   "outputs": [],
   "source": [
    "tuple1 = (5, 10, 15)\n",
    "tuple2 = (5, 10, 20)\n",
    "print(# replace this with your code])  \n",
    "print(# replace this with your code])  "
   ]
  },
  {
   "cell_type": "markdown",
   "id": "6458426f",
   "metadata": {},
   "source": [
    "8.2. Compare ((1, 2), 3) with ((1, 2), 4) using relational operators."
   ]
  },
  {
   "cell_type": "code",
   "execution_count": null,
   "id": "a7cf85d6",
   "metadata": {},
   "outputs": [],
   "source": [
    "tuple1 = ((1, 2), 3)\n",
    "tuple2 = ((1, 2), 4)\n",
    "print(# replace this with your code])  \n",
    "print(# replace this with your code])  "
   ]
  },
  {
   "cell_type": "markdown",
   "id": "b995f04f",
   "metadata": {},
   "source": [
    "8.3. Compare (1, 2, 3) with (1, 2) and explain the result."
   ]
  },
  {
   "cell_type": "code",
   "execution_count": null,
   "id": "86eac684",
   "metadata": {},
   "outputs": [],
   "source": [
    "tuple1 = (1, 2, 3)\n",
    "tuple2 = (1, 2)\n",
    "print(# replace this with your code])  \n",
    "print(# replace this with your code])  "
   ]
  },
  {
   "cell_type": "markdown",
   "id": "066f6ef0",
   "metadata": {},
   "source": [
    "8.4. Compare (1, 'a', 3) with (1, 'b', 3) and determine the outcome."
   ]
  },
  {
   "cell_type": "code",
   "execution_count": null,
   "id": "8e76124d",
   "metadata": {},
   "outputs": [],
   "source": [
    "tuple1 = (1, 'a', 3)\n",
    "tuple2 = (1, 'b', 3)\n",
    "print(# replace this with your code]) "
   ]
  },
  {
   "cell_type": "markdown",
   "id": "941e811f",
   "metadata": {},
   "source": [
    "8.5. Compare an empty tuple () with (1,)."
   ]
  },
  {
   "cell_type": "code",
   "execution_count": null,
   "id": "6549ae69",
   "metadata": {},
   "outputs": [],
   "source": [
    "tuple1 = ()\n",
    "tuple2 = (1,)\n",
    "print(# replace this with your code])"
   ]
  },
  {
   "cell_type": "markdown",
   "id": "d9838a60",
   "metadata": {},
   "source": [
    "### 9. Practice Exercise: Iterate Over a Tuple"
   ]
  },
  {
   "cell_type": "markdown",
   "id": "2d4546ff",
   "metadata": {},
   "source": [
    "9.1. Iterate over the tuple (1, 2, 3, 4) and print each element."
   ]
  },
  {
   "cell_type": "code",
   "execution_count": null,
   "id": "084e03ff",
   "metadata": {},
   "outputs": [],
   "source": [
    "the_tuple = (1, 2, 3, 4)\n",
    "# replace this with your code:\n",
    "    print(elem)"
   ]
  },
  {
   "cell_type": "markdown",
   "id": "6d916a0c",
   "metadata": {},
   "source": [
    "9.2. Use enumerate() to iterate over (5, 10, 15, 20) and print the index and value for each element."
   ]
  },
  {
   "cell_type": "code",
   "execution_count": null,
   "id": "1e81493a",
   "metadata": {},
   "outputs": [],
   "source": [
    "the_tuple = (5, 10, 15, 20)\n",
    "# replace this with your code:\n",
    "    print(f\"Index {index}: {elem}\")"
   ]
  },
  {
   "cell_type": "markdown",
   "id": "65b9089b",
   "metadata": {},
   "source": [
    "9.3. Iterate over ((1, 2), (3, 4), (5, 6)) and print each sub-tuple."
   ]
  },
  {
   "cell_type": "code",
   "execution_count": null,
   "id": "844ac3c9",
   "metadata": {},
   "outputs": [],
   "source": [
    "the_tuple = ((1, 2), (3, 4), (5, 6))\n",
    "# replace this with your code:\n",
    "    print(sub_tuple)"
   ]
  },
  {
   "cell_type": "markdown",
   "id": "45727aa6",
   "metadata": {},
   "source": [
    "9.4. Iterate over (10, 15, 20, 25, 30) and print only the elements greater than 20."
   ]
  },
  {
   "cell_type": "code",
   "execution_count": null,
   "id": "e2a804be",
   "metadata": {},
   "outputs": [],
   "source": [
    "the_tuple = (10, 15, 20, 25, 30)\n",
    "# replace this with your code:\n",
    "    if elem > # replace this with your code:\n",
    "        print(elem)"
   ]
  },
  {
   "cell_type": "markdown",
   "id": "8945fd71",
   "metadata": {},
   "source": [
    "9.5. Iterate over an empty tuple () and verify that nothing is printed."
   ]
  },
  {
   "cell_type": "code",
   "execution_count": null,
   "id": "e7f3550d",
   "metadata": {},
   "outputs": [],
   "source": [
    "the_tuple = ()\n",
    " # replace this with your code:\n",
    "    print(elem)"
   ]
  },
  {
   "cell_type": "markdown",
   "id": "4b80e87a",
   "metadata": {},
   "source": [
    "### 10. Practice Exercise: Sort Elements of a Tuple"
   ]
  },
  {
   "cell_type": "markdown",
   "id": "c54d5089",
   "metadata": {},
   "source": [
    "10.1. Sort the tuple (9, 7, 8, 5) in ascending order."
   ]
  },
  {
   "cell_type": "code",
   "execution_count": null,
   "id": "9c391c9f",
   "metadata": {},
   "outputs": [],
   "source": [
    "the_tuple = (9, 7, 8, 5)\n",
    "sorted_tuple = # replace this with your code\n",
    "print(sorted_tuple) "
   ]
  },
  {
   "cell_type": "markdown",
   "id": "61b53e67",
   "metadata": {},
   "source": [
    "10.2. Sort the tuple (6, 3, 9, 1) in descending order."
   ]
  },
  {
   "cell_type": "code",
   "execution_count": null,
   "id": "e5fea837",
   "metadata": {},
   "outputs": [],
   "source": [
    "the_tuple = (6, 3, 9, 1)\n",
    "sorted_tuple = # replace this with your code\n",
    "print(sorted_tuple)  "
   ]
  },
  {
   "cell_type": "markdown",
   "id": "cfd7b312",
   "metadata": {},
   "source": [
    "10.3. Sort the tuple ('banana', 'apple', 'cherry') in alphabetical order and reverse alphabetical order."
   ]
  },
  {
   "cell_type": "code",
   "execution_count": null,
   "id": "e6ba8a80",
   "metadata": {},
   "outputs": [],
   "source": [
    "the_tuple = ('banana', 'apple', 'cherry')\n",
    "\n",
    "# Alphabetical order\n",
    "sorted_tuple = t# replace this with your code\n",
    "print(sorted_tuple)  \n",
    "\n",
    "# Reverse alphabetical order\n",
    "sorted_tuple_desc = # replace this with your code\n",
    "print(sorted_tuple_desc)  "
   ]
  },
  {
   "cell_type": "markdown",
   "id": "0984cb24",
   "metadata": {},
   "source": [
    "10.4. Given the tuple (1, 'apple', 2, 'banana'), explain why sorting will raise an error."
   ]
  },
  {
   "cell_type": "code",
   "execution_count": null,
   "id": "f0b47bfc",
   "metadata": {},
   "outputs": [],
   "source": [
    "the_tuple = (1, 'apple', 2, 'banana')\n",
    "try:\n",
    "    sorted_tuple = # replace this with your code\n",
    "except TypeError as e:\n",
    "    print(\"Error:\", e) "
   ]
  },
  {
   "cell_type": "markdown",
   "id": "016fa8e7",
   "metadata": {},
   "source": [
    "10.5. Sort an empty tuple ()."
   ]
  },
  {
   "cell_type": "code",
   "execution_count": null,
   "id": "c8cd27c0",
   "metadata": {},
   "outputs": [],
   "source": [
    "the_tuple = ()\n",
    "sorted_tuple = # replace this with your code\n",
    "print(sorted_tuple) "
   ]
  },
  {
   "cell_type": "markdown",
   "id": "ad5bfd03",
   "metadata": {},
   "source": [
    "### Solution Available at: Tuple Solutions: Practice Exercises & Challenges"
   ]
  }
 ],
 "metadata": {
  "kernelspec": {
   "display_name": "Python 3 (ipykernel)",
   "language": "python",
   "name": "python3"
  },
  "language_info": {
   "codemirror_mode": {
    "name": "ipython",
    "version": 3
   },
   "file_extension": ".py",
   "mimetype": "text/x-python",
   "name": "python",
   "nbconvert_exporter": "python",
   "pygments_lexer": "ipython3",
   "version": "3.11.4"
  }
 },
 "nbformat": 4,
 "nbformat_minor": 5
}
