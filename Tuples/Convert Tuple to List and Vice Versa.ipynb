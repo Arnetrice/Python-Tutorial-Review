{
 "cells": [
  {
   "cell_type": "markdown",
   "id": "de666638",
   "metadata": {},
   "source": [
    " # **Convert Tuple to List and Vice Versa**"
   ]
  },
  {
   "cell_type": "markdown",
   "id": "b1b377e4",
   "metadata": {},
   "source": [
    "### Standard Approach:"
   ]
  },
  {
   "cell_type": "code",
   "execution_count": 1,
   "id": "24184929",
   "metadata": {},
   "outputs": [
    {
     "name": "stdout",
     "output_type": "stream",
     "text": [
      "(1, 2, 3, 4)\n"
     ]
    }
   ],
   "source": [
    "the_tuple = (1, 2, 3)\n",
    "\n",
    "# Convert tuple to list\n",
    "the_list = list(the_tuple)\n",
    "\n",
    "# Modify the list\n",
    "the_list.append(4)\n",
    "\n",
    "# Convert the list back to tuple\n",
    "the_tuple = tuple(the_list)\n",
    "\n",
    "# Output the modified tuple\n",
    "print(the_tuple)  # Output: (1, 2, 3, 4)"
   ]
  },
  {
   "cell_type": "markdown",
   "id": "a9865f88",
   "metadata": {},
   "source": [
    "Note: This approach demonstrates converting a tuple to a list, modifying the list, and then converting it back to a tuple. It uses list() to convert the tuple into a list, allowing modification since tuples are immutable. It makes use of the  .append() method to add elements or make other changes. Afterwards, it uses tuple() to convert the modified list back to a tuple."
   ]
  },
  {
   "cell_type": "markdown",
   "id": "017aff0b",
   "metadata": {},
   "source": [
    "### Optimized Solution:"
   ]
  },
  {
   "cell_type": "code",
   "execution_count": null,
   "id": "496e1d1c",
   "metadata": {},
   "outputs": [],
   "source": [
    "the_tuple = (1, 2, 3)\n",
    "\n",
    "# Convert, modify, and revert in fewer steps\n",
    "the_tuple = tuple(list(the_tuple) + [4])\n",
    "\n",
    "# Output the modified tuple\n",
    "print(the_tuple)  # Output: (1, 2, 3, 4)"
   ]
  },
  {
   "cell_type": "markdown",
   "id": "f2901c30",
   "metadata": {},
   "source": [
    "Note: This solution demonstrates tuple modification by combining the conversion and modification steps concisely."
   ]
  },
  {
   "cell_type": "markdown",
   "id": "46c2e449",
   "metadata": {},
   "source": [
    "### Additional Practice:\n",
    "See Tuples - Practice Exercises & Challenges: Convert Tuple to List and Vice Versa"
   ]
  }
 ],
 "metadata": {
  "kernelspec": {
   "display_name": "Python 3 (ipykernel)",
   "language": "python",
   "name": "python3"
  },
  "language_info": {
   "codemirror_mode": {
    "name": "ipython",
    "version": 3
   },
   "file_extension": ".py",
   "mimetype": "text/x-python",
   "name": "python",
   "nbconvert_exporter": "python",
   "pygments_lexer": "ipython3",
   "version": "3.11.4"
  }
 },
 "nbformat": 4,
 "nbformat_minor": 5
}
