{
 "cells": [
  {
   "cell_type": "markdown",
   "id": "de666638",
   "metadata": {},
   "source": [
    " # **Print Character at a Given Index**"
   ]
  },
  {
   "cell_type": "markdown",
   "id": "b1b377e4",
   "metadata": {},
   "source": [
    "### Standard Approach:"
   ]
  },
  {
   "cell_type": "code",
   "execution_count": null,
   "id": "24184929",
   "metadata": {},
   "outputs": [],
   "source": [
    "word = \" \"\n",
    "\n",
    "i = index_given  # Replace with the desired index\n",
    "\n",
    "if len(word) == 0:\n",
    "    print(\"Empty String\")  # Handle the case where the string is empty\n",
    "elif i < len(word):\n",
    "    print(word[i])  # Access the character at the given index\n",
    "else:\n",
    "    print(\"The given index\", i, \"is out of range\")  # Handle out-of-range indices\n",
    "\n"
   ]
  },
  {
   "cell_type": "markdown",
   "id": "a9865f88",
   "metadata": {},
   "source": [
    "Note: This approach manually checks the string's validity and whether the given index is within the allowed range before accessing the character."
   ]
  },
  {
   "cell_type": "markdown",
   "id": "017aff0b",
   "metadata": {},
   "source": [
    "### Optimized Solution:"
   ]
  },
  {
   "cell_type": "code",
   "execution_count": null,
   "id": "496e1d1c",
   "metadata": {},
   "outputs": [],
   "source": [
    "word = \" \"\n",
    "\n",
    "i = index_given  # Replace with the desired index\n",
    "\n",
    "if not word:\n",
    "    print(\"Empty String\")  # Handle the case where the string is empty\n",
    "elif i < len(word):\n",
    "    print(word[i])  # Access the character at the given index\n",
    "else:\n",
    "    print(f\"The given index {i} is out of range\")  # Handle out-of-range indices with f-strings\n",
    "\n"
   ]
  },
  {
   "cell_type": "markdown",
   "id": "f2901c30",
   "metadata": {},
   "source": [
    "Note: This solution uses Python's `not` keyword for clarity and `f-strings` for cleaner formatting."
   ]
  },
  {
   "cell_type": "markdown",
   "id": "46c2e449",
   "metadata": {},
   "source": [
    "### Additional Practice:\n",
    "See Practice Exercise: Print Character at a Given Index"
   ]
  }
 ],
 "metadata": {
  "kernelspec": {
   "display_name": "Python 3 (ipykernel)",
   "language": "python",
   "name": "python3"
  },
  "language_info": {
   "codemirror_mode": {
    "name": "ipython",
    "version": 3
   },
   "file_extension": ".py",
   "mimetype": "text/x-python",
   "name": "python",
   "nbconvert_exporter": "python",
   "pygments_lexer": "ipython3",
   "version": "3.11.4"
  }
 },
 "nbformat": 4,
 "nbformat_minor": 5
}
