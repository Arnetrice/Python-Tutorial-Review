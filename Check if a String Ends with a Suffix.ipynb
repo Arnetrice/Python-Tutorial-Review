{
 "cells": [
  {
   "cell_type": "markdown",
   "id": "de666638",
   "metadata": {},
   "source": [
    " # **Check if a String Ends with a Suffix**"
   ]
  },
  {
   "cell_type": "markdown",
   "id": "b1b377e4",
   "metadata": {},
   "source": [
    "### Standard Approach:"
   ]
  },
  {
   "cell_type": "code",
   "execution_count": null,
   "id": "24184929",
   "metadata": {},
   "outputs": [],
   "source": [
    "# Define the main string and the suffix to check\n",
    "word = 'Arnetrice'       # The string we want to check\n",
    "suffix_word = 'ice'      # The suffix we are checking for\n",
    "\n",
    "# Step 1: Check if the suffix is longer than the main string\n",
    "if len(suffix_word) > len(word):\n",
    "    # If the suffix is longer, it cannot be a valid suffix of the string\n",
    "    print(False)\n",
    "else:\n",
    "    # Step 2: Extract the last `len(suffix_word)` characters from the main string\n",
    "    new_word = word[-len(suffix_word):]  # Slice from the end of the string\n",
    "\n",
    "    # Step 3: Compare the extracted part with the suffix\n",
    "    if new_word == suffix_word:\n",
    "        # If they are equal, the string ends with the suffix\n",
    "        print(True)\n",
    "    else:\n",
    "        # Otherwise, the string does not end with the suffix\n",
    "        print(False)"
   ]
  },
  {
   "cell_type": "markdown",
   "id": "a9865f88",
   "metadata": {},
   "source": [
    "Note: In the standard approach, the condition len(suffix_word) > len(word) is included to explicitly check if the suffix is longer than the word. While this is a logical safeguard, it is not strictly necessary because Python slicing handles out-of-range cases gracefully."
   ]
  },
  {
   "cell_type": "markdown",
   "id": "017aff0b",
   "metadata": {},
   "source": [
    "### Optimized Solution:"
   ]
  },
  {
   "cell_type": "code",
   "execution_count": null,
   "id": "496e1d1c",
   "metadata": {},
   "outputs": [],
   "source": [
    "# Use the built-in `endswith` method to check the suffix\n",
    "word = 'Arnetrice'       # The string we want to check\n",
    "suffix_word = 'ice'      # The suffix we are checking for\n",
    "\n",
    "# Use the built-in `endswith` method to check if the string ends with the given suffix\n",
    "print(word.endswith(suffix_word))  "
   ]
  },
  {
   "cell_type": "markdown",
   "id": "f2901c30",
   "metadata": {},
   "source": [
    "Note: This approach leverages Python’s built-in endswith() method for a clean and efficient suffix check. It avoids the potential pitfalls of manual slicing and is recommended for its simplicity and readability."
   ]
  },
  {
   "cell_type": "markdown",
   "id": "46c2e449",
   "metadata": {},
   "source": [
    "### Additional Practice:\n",
    "See Practice Exercise: Check if a String Ends with a Suffix\n"
   ]
  }
 ],
 "metadata": {
  "kernelspec": {
   "display_name": "Python 3 (ipykernel)",
   "language": "python",
   "name": "python3"
  },
  "language_info": {
   "codemirror_mode": {
    "name": "ipython",
    "version": 3
   },
   "file_extension": ".py",
   "mimetype": "text/x-python",
   "name": "python",
   "nbconvert_exporter": "python",
   "pygments_lexer": "ipython3",
   "version": "3.11.4"
  }
 },
 "nbformat": 4,
 "nbformat_minor": 5
}
