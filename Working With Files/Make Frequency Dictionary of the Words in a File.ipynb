{
 "cells": [
  {
   "cell_type": "markdown",
   "id": "de666638",
   "metadata": {},
   "source": [
    " # **Make Frequency Dictionary of the Words in a File**"
   ]
  },
  {
   "cell_type": "markdown",
   "id": "b1b377e4",
   "metadata": {},
   "source": [
    "### Standard Approach:"
   ]
  },
  {
   "cell_type": "code",
   "execution_count": null,
   "id": "24184929",
   "metadata": {},
   "outputs": [],
   "source": [
    "# Define the file to read\n",
    "the_file = 'This Text File.txt'\n",
    "\n",
    "# Initialize an empty frequency dictionary\n",
    "the_frequency_dict = {}\n",
    "\n",
    "# Open the file for reading\n",
    "with open(the_file, 'r') as read_file:\n",
    "    the_count = 1  # Initialize the count for new words\n",
    "\n",
    "    for word in read_file:\n",
    "        # Remove trailing newlines\n",
    "        word = word.strip('\\n')\n",
    "\n",
    "        # Update the frequency dictionary\n",
    "        if word not in the_frequency_dict:\n",
    "            the_frequency_dict[word] = the_count\n",
    "        else:\n",
    "            the_frequency_dict[word] += 1\n",
    "\n",
    "# Print the frequency dictionary\n",
    "print(the_frequency_dict)"
   ]
  },
  {
   "cell_type": "markdown",
   "id": "a9865f88",
   "metadata": {},
   "source": [
    "Note: This approach reads each line of the file, processes it word by word, and updates the frequency dictionary for each word."
   ]
  },
  {
   "cell_type": "markdown",
   "id": "017aff0b",
   "metadata": {},
   "source": [
    "### Optimized Solution:"
   ]
  },
  {
   "cell_type": "code",
   "execution_count": null,
   "id": "496e1d1c",
   "metadata": {},
   "outputs": [],
   "source": [
    "# Define the file to read\n",
    "the_file = 'This Text File.txt'\n",
    "\n",
    "# Initialize an empty frequency dictionary\n",
    "the_frequency_dict = {}\n",
    "\n",
    "# Open the file for reading\n",
    "with open(the_file, 'r') as read_file:\n",
    "    for line in read_file:\n",
    "        # Split the line into words\n",
    "        for word in line.split():\n",
    "            # Remove trailing newlines\n",
    "            word = word.strip('\\n')\n",
    "\n",
    "            # Update the frequency dictionary\n",
    "            if word not in the_frequency_dict:\n",
    "                the_frequency_dict[word] = 1\n",
    "            else:\n",
    "                the_frequency_dict[word] += 1\n",
    "\n",
    "# Print the frequency dictionary\n",
    "print(the_frequency_dict)"
   ]
  },
  {
   "cell_type": "markdown",
   "id": "f2901c30",
   "metadata": {},
   "source": [
    "Note: This solution splits each line into words, processes each word individually, and updates the frequency dictionary in a more comprehensive manner."
   ]
  },
  {
   "cell_type": "markdown",
   "id": "46c2e449",
   "metadata": {},
   "source": [
    "### Additional Practice:\n",
    "See For Loops - Practice Exercises & Challenges: Make Frequency Dictionary of the Words in a File"
   ]
  }
 ],
 "metadata": {
  "kernelspec": {
   "display_name": "Python 3 (ipykernel)",
   "language": "python",
   "name": "python3"
  },
  "language_info": {
   "codemirror_mode": {
    "name": "ipython",
    "version": 3
   },
   "file_extension": ".py",
   "mimetype": "text/x-python",
   "name": "python",
   "nbconvert_exporter": "python",
   "pygments_lexer": "ipython3",
   "version": "3.11.4"
  }
 },
 "nbformat": 4,
 "nbformat_minor": 5
}
