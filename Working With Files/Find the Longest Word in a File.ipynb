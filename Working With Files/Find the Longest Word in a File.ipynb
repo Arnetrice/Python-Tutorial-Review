{
 "cells": [
  {
   "cell_type": "markdown",
   "id": "de666638",
   "metadata": {},
   "source": [
    " # **Find the Longest Word in a File**"
   ]
  },
  {
   "cell_type": "markdown",
   "id": "b1b377e4",
   "metadata": {},
   "source": [
    "### Standard Approach:"
   ]
  },
  {
   "cell_type": "code",
   "execution_count": null,
   "id": "24184929",
   "metadata": {},
   "outputs": [],
   "source": [
    "# Define the file to read\n",
    "the_file = 'This Text File.txt'\n",
    "\n",
    "# Open the file for reading\n",
    "with open(the_file, 'r') as read_file:\n",
    "    # Split the content into words\n",
    "    list_of_words = read_file.read().split()\n",
    "    \n",
    "    # Initialize the longest word as an empty string\n",
    "    longest_word = ''\n",
    "    \n",
    "    # Iterate through the words to find the longest one\n",
    "    for word in list_of_words:\n",
    "        if len(word) > len(longest_word):\n",
    "            longest_word = word\n",
    "\n",
    "# Print the longest word\n",
    "print(longest_word)"
   ]
  },
  {
   "cell_type": "markdown",
   "id": "a9865f88",
   "metadata": {},
   "source": [
    "Note: This approach reads the entire content of the file into a single string, splits it into a list of words, and identifies the longest word using a loop."
   ]
  },
  {
   "cell_type": "markdown",
   "id": "017aff0b",
   "metadata": {},
   "source": [
    "### Optimized Solution:"
   ]
  },
  {
   "cell_type": "code",
   "execution_count": null,
   "id": "496e1d1c",
   "metadata": {},
   "outputs": [],
   "source": [
    "# Define the file to read\n",
    "the_file = 'This Text File.txt'\n",
    "\n",
    "# Initialize the longest word as an empty string\n",
    "longest_word = ''\n",
    "\n",
    "# Open the file for reading\n",
    "with open(the_file, 'r') as read_file:\n",
    "    for line in read_file:\n",
    "        # Split each line into words and find the longest word\n",
    "        for word in line.split():\n",
    "            if len(word) > len(longest_word):\n",
    "                longest_word = word\n",
    "\n",
    "# Print the longest word\n",
    "print(longest_word)"
   ]
  },
  {
   "cell_type": "markdown",
   "id": "f2901c30",
   "metadata": {},
   "source": [
    "Note: This solution reads the file line by line, splits each line into words, and identifies the longest word without loading the entire file into memory."
   ]
  },
  {
   "cell_type": "markdown",
   "id": "46c2e449",
   "metadata": {},
   "source": [
    "### Additional Practice:\n",
    "See For Loops - Practice Exercises & Challenges: Find the Longest Word in a File"
   ]
  }
 ],
 "metadata": {
  "kernelspec": {
   "display_name": "Python 3 (ipykernel)",
   "language": "python",
   "name": "python3"
  },
  "language_info": {
   "codemirror_mode": {
    "name": "ipython",
    "version": 3
   },
   "file_extension": ".py",
   "mimetype": "text/x-python",
   "name": "python",
   "nbconvert_exporter": "python",
   "pygments_lexer": "ipython3",
   "version": "3.11.4"
  }
 },
 "nbformat": 4,
 "nbformat_minor": 5
}
