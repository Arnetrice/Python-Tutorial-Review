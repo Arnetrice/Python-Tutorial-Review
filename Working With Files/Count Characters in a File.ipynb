{
 "cells": [
  {
   "cell_type": "markdown",
   "id": "de666638",
   "metadata": {},
   "source": [
    " # **Count Characters in a File**"
   ]
  },
  {
   "cell_type": "markdown",
   "id": "b1b377e4",
   "metadata": {},
   "source": [
    "### Standard Approach:"
   ]
  },
  {
   "cell_type": "code",
   "execution_count": null,
   "id": "24184929",
   "metadata": {},
   "outputs": [],
   "source": [
    "# Define the file to read\n",
    "the_file = 'This Text File.txt'\n",
    "\n",
    "# Open the file for reading\n",
    "with open(the_file, 'r') as read_file:\n",
    "    num_of_chars = 0  # Initialize character count\n",
    "    \n",
    "    # Iterate through each line in the file\n",
    "    for line in read_file:\n",
    "        # Count non-space characters in the line and add to total\n",
    "        num_of_chars += len(line.replace(' ', '').strip('\\n'))\n",
    "\n",
    "# Print the total number of characters\n",
    "print(num_of_chars)"
   ]
  },
  {
   "cell_type": "markdown",
   "id": "a9865f88",
   "metadata": {},
   "source": [
    "Note: This approach iterates through each line of the file, counts the number of non-space characters, and accumulates the total count."
   ]
  },
  {
   "cell_type": "markdown",
   "id": "017aff0b",
   "metadata": {},
   "source": [
    "### Optimized Solution:"
   ]
  },
  {
   "cell_type": "code",
   "execution_count": null,
   "id": "496e1d1c",
   "metadata": {},
   "outputs": [],
   "source": [
    "# Define the file to read\n",
    "the_file = 'This Text File.txt'\n",
    "\n",
    "# Initialize character count\n",
    "num_of_chars = 0\n",
    "\n",
    "# Open the file for reading\n",
    "with open(the_file, 'r') as read_file:\n",
    "    # Count non-space characters in each line\n",
    "    for line in read_file:\n",
    "        num_of_chars += len(line.replace(' ', '').strip('\\n'))\n",
    "\n",
    "# Print the total number of characters\n",
    "print(num_of_chars)"
   ]
  },
  {
   "cell_type": "markdown",
   "id": "f2901c30",
   "metadata": {},
   "source": [
    "Note: This solution eliminates redundant code by initializing num_of_chars before the with statement, simplifying the logic."
   ]
  },
  {
   "cell_type": "markdown",
   "id": "46c2e449",
   "metadata": {},
   "source": [
    "### Additional Practice:\n",
    "See For Loops - Practice Exercises & Challenges: Count Characters in a File"
   ]
  }
 ],
 "metadata": {
  "kernelspec": {
   "display_name": "Python 3 (ipykernel)",
   "language": "python",
   "name": "python3"
  },
  "language_info": {
   "codemirror_mode": {
    "name": "ipython",
    "version": 3
   },
   "file_extension": ".py",
   "mimetype": "text/x-python",
   "name": "python",
   "nbconvert_exporter": "python",
   "pygments_lexer": "ipython3",
   "version": "3.11.4"
  }
 },
 "nbformat": 4,
 "nbformat_minor": 5
}
