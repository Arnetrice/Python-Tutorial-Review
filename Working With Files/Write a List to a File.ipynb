{
 "cells": [
  {
   "cell_type": "markdown",
   "id": "de666638",
   "metadata": {},
   "source": [
    " # **Write a List to a File**"
   ]
  },
  {
   "cell_type": "markdown",
   "id": "b1b377e4",
   "metadata": {},
   "source": [
    "### Standard Approach:"
   ]
  },
  {
   "cell_type": "code",
   "execution_count": null,
   "id": "24184929",
   "metadata": {},
   "outputs": [],
   "source": [
    "# List to be written to the file\n",
    "the_list = [1, 2, 3, 4, 5]\n",
    "\n",
    "# File to write to\n",
    "the_file = 'This Text File.txt'\n",
    "\n",
    "# Write each element to the file, adding a newline character\n",
    "with open(the_file, 'w') as write_file:\n",
    "    for i in the_list:\n",
    "        write_file.write(str(i))\n",
    "        write_file.write('\\n')\n",
    "\n",
    "# Read back the content to verify\n",
    "with open(the_file, 'r') as list_file:\n",
    "    read_it = list_file.read()\n",
    "\n",
    "print(read_it)"
   ]
  },
  {
   "cell_type": "markdown",
   "id": "a9865f88",
   "metadata": {},
   "source": [
    "Note: This approach uses a for loop to write each element of a list to a file, ensuring a newline character (\\n) is added after each element."
   ]
  },
  {
   "cell_type": "markdown",
   "id": "017aff0b",
   "metadata": {},
   "source": [
    "### Optimized Solution:"
   ]
  },
  {
   "cell_type": "code",
   "execution_count": null,
   "id": "496e1d1c",
   "metadata": {},
   "outputs": [],
   "source": [
    "# List to be written to the file\n",
    "the_list = [1, 2, 3, 4, 5]\n",
    "\n",
    "# File to write to\n",
    "the_file = 'This Text File.txt'\n",
    "\n",
    "# Write each element with a newline character in a single step\n",
    "with open(the_file, 'w') as write_file:\n",
    "    for i in the_list:\n",
    "        write_file.write(str(i) + '\\n')\n",
    "\n",
    "# Read back the content to verify\n",
    "with open(the_file, 'r') as list_file:\n",
    "    read_it = list_file.read()\n",
    "\n",
    "print(read_it)"
   ]
  },
  {
   "cell_type": "markdown",
   "id": "f2901c30",
   "metadata": {},
   "source": [
    "Note: This solution combines the element conversion and newline addition into a single operation, simplifying the code slightly."
   ]
  },
  {
   "cell_type": "markdown",
   "id": "46c2e449",
   "metadata": {},
   "source": [
    "### Additional Practice:\n",
    "See For Loops - Practice Exercises & Challenges: Read a Text File"
   ]
  }
 ],
 "metadata": {
  "kernelspec": {
   "display_name": "Python 3 (ipykernel)",
   "language": "python",
   "name": "python3"
  },
  "language_info": {
   "codemirror_mode": {
    "name": "ipython",
    "version": 3
   },
   "file_extension": ".py",
   "mimetype": "text/x-python",
   "name": "python",
   "nbconvert_exporter": "python",
   "pygments_lexer": "ipython3",
   "version": "3.11.4"
  }
 },
 "nbformat": 4,
 "nbformat_minor": 5
}
