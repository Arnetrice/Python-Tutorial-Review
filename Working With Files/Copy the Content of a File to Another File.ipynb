{
 "cells": [
  {
   "cell_type": "markdown",
   "id": "de666638",
   "metadata": {},
   "source": [
    " # **Copy the Content of a File to Another File**"
   ]
  },
  {
   "cell_type": "markdown",
   "id": "b1b377e4",
   "metadata": {},
   "source": [
    "### Standard Approach:"
   ]
  },
  {
   "cell_type": "code",
   "execution_count": null,
   "id": "24184929",
   "metadata": {},
   "outputs": [],
   "source": [
    "# Define the source file and destination file\n",
    "the_file = 'This Text File.txt'\n",
    "\n",
    "# Open the source file for reading\n",
    "with open(the_file, 'r') as read_file:\n",
    "    # Open the destination file for writing\n",
    "    with open('Copy to Me.txt', 'w') as write_file:\n",
    "        # Write each line from the source file to the destination file\n",
    "        for line in read_file:\n",
    "            write_file.write(line)\n",
    "\n",
    "# Verify the content by reading from the destination file\n",
    "with open('Copy to Me.txt', 'r') as read_file:\n",
    "    for copied_line in read_file:\n",
    "        print(copied_line)"
   ]
  },
  {
   "cell_type": "markdown",
   "id": "a9865f88",
   "metadata": {},
   "source": [
    "Note: This approach uses nested with statements to open both the source file for reading and the destination file for writing, and it copies each line from one file to the other."
   ]
  },
  {
   "cell_type": "markdown",
   "id": "017aff0b",
   "metadata": {},
   "source": [
    "### Optimized Solution:"
   ]
  },
  {
   "cell_type": "code",
   "execution_count": null,
   "id": "496e1d1c",
   "metadata": {},
   "outputs": [],
   "source": [
    "# Define the source file and destination file\n",
    "the_file = 'This Text File.txt'\n",
    "copied_file = 'Copy to Me.txt'\n",
    "\n",
    "# Open both files in a single `with` statement\n",
    "with open(the_file, 'r') as read_file, open(copied_file, 'w') as write_file:\n",
    "    for line in read_file:\n",
    "        write_file.write(line)"
   ]
  },
  {
   "cell_type": "markdown",
   "id": "f2901c30",
   "metadata": {},
   "source": [
    "Note: This solution uses a single with statement to open both files simultaneously, improving code readability and conciseness."
   ]
  },
  {
   "cell_type": "markdown",
   "id": "46c2e449",
   "metadata": {},
   "source": [
    "### Additional Practice:\n",
    "See For Loops - Practice Exercises & Challenges: Copy the Content of a File to Another File"
   ]
  }
 ],
 "metadata": {
  "kernelspec": {
   "display_name": "Python 3 (ipykernel)",
   "language": "python",
   "name": "python3"
  },
  "language_info": {
   "codemirror_mode": {
    "name": "ipython",
    "version": 3
   },
   "file_extension": ".py",
   "mimetype": "text/x-python",
   "name": "python",
   "nbconvert_exporter": "python",
   "pygments_lexer": "ipython3",
   "version": "3.11.4"
  }
 },
 "nbformat": 4,
 "nbformat_minor": 5
}
