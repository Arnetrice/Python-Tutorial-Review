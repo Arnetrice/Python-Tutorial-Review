{
 "cells": [
  {
   "cell_type": "markdown",
   "id": "de666638",
   "metadata": {},
   "source": [
    " # **Print the First n Lines of a File**"
   ]
  },
  {
   "cell_type": "markdown",
   "id": "b1b377e4",
   "metadata": {},
   "source": [
    "### Standard Approach:"
   ]
  },
  {
   "cell_type": "code",
   "execution_count": null,
   "id": "24184929",
   "metadata": {},
   "outputs": [],
   "source": [
    "# File to read\n",
    "the_file = 'This Text File.txt'\n",
    "\n",
    "# Get the number of lines to print from the user\n",
    "num_lines_to_print = int(input('Enter the number of lines to print: '))\n",
    "\n",
    "# Open the file and read all lines\n",
    "with open(the_file, 'r') as read_file:\n",
    "    list_of_lines = read_file.readlines()\n",
    "\n",
    "    # Check if the requested number exceeds the total lines in the file\n",
    "    if num_lines_to_print > len(list_of_lines):\n",
    "        print(f'Please enter a valid number of lines. This file has {len(list_of_lines)} lines.')\n",
    "    else:\n",
    "        # Slice the list to get the first n lines\n",
    "        list_of_lines = list_of_lines[:num_lines_to_print]\n",
    "        for line in list_of_lines:\n",
    "            # Print each line without the newline character\n",
    "            print(line.strip('\\n'))"
   ]
  },
  {
   "cell_type": "markdown",
   "id": "a9865f88",
   "metadata": {},
   "source": [
    "Note: This approach reads all lines from the file into a list, checks if the requested number of lines is valid, slices the list, and prints the specified number of lines."
   ]
  },
  {
   "cell_type": "markdown",
   "id": "017aff0b",
   "metadata": {},
   "source": [
    "### Optimized Solution:"
   ]
  },
  {
   "cell_type": "code",
   "execution_count": null,
   "id": "496e1d1c",
   "metadata": {},
   "outputs": [],
   "source": [
    "# File to read\n",
    "the_file = 'This Text File.txt'\n",
    "\n",
    "# Get the number of lines to print from the user\n",
    "num_lines_to_print = int(input('Enter the number of lines to print: '))\n",
    "\n",
    "# Open the file and read all lines\n",
    "with open(the_file, 'r') as read_file:\n",
    "    list_of_lines = read_file.readlines()\n",
    "\n",
    "    # Check if the requested number exceeds the total lines in the file\n",
    "    if num_lines_to_print > len(list_of_lines):\n",
    "        print(f'Please enter a valid number of lines. This file has {len(list_of_lines)} lines.')\n",
    "    else:\n",
    "        # Iterate over the first n lines\n",
    "        for line in range(num_lines_to_print):\n",
    "            print(list_of_lines[line].strip('\\n'))"
   ]
  },
  {
   "cell_type": "markdown",
   "id": "f2901c30",
   "metadata": {},
   "source": [
    "Note: This solution avoids slicing by iterating directly over the first n lines using a range() loop, making the code slightly more efficient for large files."
   ]
  },
  {
   "cell_type": "markdown",
   "id": "46c2e449",
   "metadata": {},
   "source": [
    "### Additional Practice:\n",
    "See For Loops - Practice Exercises & Challenges: Print the First n Lines of a File"
   ]
  }
 ],
 "metadata": {
  "kernelspec": {
   "display_name": "Python 3 (ipykernel)",
   "language": "python",
   "name": "python3"
  },
  "language_info": {
   "codemirror_mode": {
    "name": "ipython",
    "version": 3
   },
   "file_extension": ".py",
   "mimetype": "text/x-python",
   "name": "python",
   "nbconvert_exporter": "python",
   "pygments_lexer": "ipython3",
   "version": "3.11.4"
  }
 },
 "nbformat": 4,
 "nbformat_minor": 5
}
