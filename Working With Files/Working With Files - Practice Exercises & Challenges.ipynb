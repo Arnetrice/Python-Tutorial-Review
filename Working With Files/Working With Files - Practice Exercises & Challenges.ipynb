{
 "cells": [
  {
   "cell_type": "markdown",
   "id": "1a54ccbf",
   "metadata": {},
   "source": [
    "# Practice Exercises & Challenges - Working With Files"
   ]
  },
  {
   "cell_type": "markdown",
   "id": "356d2478",
   "metadata": {},
   "source": [
    "### 1. Practice Exercise: Check if a File Exists"
   ]
  },
  {
   "cell_type": "markdown",
   "id": "4778e73c",
   "metadata": {},
   "source": [
    "1.1. Check if the file data.csv exists in the current directory."
   ]
  },
  {
   "cell_type": "code",
   "execution_count": null,
   "id": "b8face61",
   "metadata": {},
   "outputs": [],
   "source": [
    "import os\n",
    "\n",
    "the_file = 'data.csv'\n",
    "print('File exists' # replace this with your code else 'File does not exist')"
   ]
  },
  {
   "cell_type": "markdown",
   "id": "81c2a243",
   "metadata": {},
   "source": [
    "1.2. Modify the code to work with relative and absolute paths interchangeably."
   ]
  },
  {
   "cell_type": "code",
   "execution_count": null,
   "id": "2d89c8db",
   "metadata": {},
   "outputs": [],
   "source": [
    "import os\n",
    "the_file = os.path.abspath('Copy to Me.txt')\n",
    "print('File exists' # replace this with your code else 'File does not exist')"
   ]
  },
  {
   "cell_type": "markdown",
   "id": "ae2348ed",
   "metadata": {},
   "source": [
    "1.3. Write a program that prints a custom error message if the file does not exist."
   ]
  },
  {
   "cell_type": "code",
   "execution_count": null,
   "id": "243bfd88",
   "metadata": {},
   "outputs": [],
   "source": [
    "import os\n",
    "if not os.path.isfile(# replace this with your code):\n",
    "    print(f'Error: {the_file} is missing! Please provide the file.')"
   ]
  },
  {
   "cell_type": "markdown",
   "id": "0b5a4c36",
   "metadata": {},
   "source": [
    "1.4. Use an alias for the os module instead of os.path."
   ]
  },
  {
   "cell_type": "code",
   "execution_count": null,
   "id": "990f0c97",
   "metadata": {},
   "outputs": [],
   "source": [
    "import os as this_os\n",
    "# replace this with your code:\n",
    "    print(f'{the_file} exists.')"
   ]
  },
  {
   "cell_type": "markdown",
   "id": "2cb8dc3d",
   "metadata": {},
   "source": [
    "1.5. Create a function check_file_exists(filename) that returns a Boolean value."
   ]
  },
  {
   "cell_type": "code",
   "execution_count": null,
   "id": "8de5b3c0",
   "metadata": {},
   "outputs": [],
   "source": [
    "import os\n",
    "def check_file_exists(filename):\n",
    "    # replace this with your code\n",
    "\n",
    "print(check_file_exists('Copy to Me.txt'))"
   ]
  },
  {
   "cell_type": "markdown",
   "id": "4a7d2670",
   "metadata": {},
   "source": [
    "### 2. Practice Exercise: Read a Text File"
   ]
  },
  {
   "cell_type": "markdown",
   "id": "117d787b",
   "metadata": {},
   "source": [
    "2.1. Read a file named data.txt and print the number of lines it contains."
   ]
  },
  {
   "cell_type": "code",
   "execution_count": null,
   "id": "bddbbea7",
   "metadata": {},
   "outputs": [],
   "source": [
    "with open('data.txt', 'r') as file:\n",
    "     # replace this with your code = file.readlines()\n",
    "    print(f'The file contains {len(lines)} lines.')"
   ]
  },
  {
   "cell_type": "markdown",
   "id": "4f4ec830",
   "metadata": {},
   "source": [
    "2.2. Write code to skip blank lines while reading a file."
   ]
  },
  {
   "cell_type": "code",
   "execution_count": null,
   "id": "8bbded0c",
   "metadata": {},
   "outputs": [],
   "source": [
    "with open('This Text File.txt', 'r') as file:\n",
    "    non_blank_lines = [ # replace this with your code in file if line.strip()]\n",
    "    print(non_blank_lines)"
   ]
  },
  {
   "cell_type": "markdown",
   "id": "c3a0b0c3",
   "metadata": {},
   "source": [
    "2.3. Modify the program to remove trailing newline characters from each line."
   ]
  },
  {
   "cell_type": "code",
   "execution_count": null,
   "id": "960706bf",
   "metadata": {},
   "outputs": [],
   "source": [
    "with open('This Text File.txt', 'r') as file:\n",
    "    lines = [line.strip() for # replace this with your code]\n",
    "    print(lines)"
   ]
  },
  {
   "cell_type": "markdown",
   "id": "965041bc",
   "metadata": {},
   "source": [
    "2.4. Create a function read_file_as_list(filename) that returns a list of lines."
   ]
  },
  {
   "cell_type": "code",
   "execution_count": null,
   "id": "0d1d8d65",
   "metadata": {},
   "outputs": [],
   "source": [
    "def read_file_as_list(filename):\n",
    "    try:\n",
    "        with open(filename, 'r') as file:\n",
    "            return [# replace this with your code]\n",
    "    except FileNotFoundError:\n",
    "        return f\"Error: The file '{filename}' was not found.\"\n",
    "\n",
    "print(read_file_as_list('This Text File.txt'))"
   ]
  },
  {
   "cell_type": "markdown",
   "id": "698fbad2",
   "metadata": {},
   "source": [
    "2.5. Handle the case where the file doesn't exist by printing a custom error message."
   ]
  },
  {
   "cell_type": "code",
   "execution_count": null,
   "id": "b616d53e",
   "metadata": {},
   "outputs": [],
   "source": [
    "try:\n",
    "    with open('This Text File.txt', 'r') as file:\n",
    "        lines = file.# replace this with your code\n",
    "        print(lines)\n",
    "except FileNotFoundError:\n",
    "    print(\"The specified file could not be found. Please check the file path.\")"
   ]
  },
  {
   "cell_type": "markdown",
   "id": "76d70660",
   "metadata": {},
   "source": [
    "### 3. Practice Exercise: Write a List to a File"
   ]
  },
  {
   "cell_type": "markdown",
   "id": "613651f2",
   "metadata": {},
   "source": [
    "3.1. Write a list of strings ['apple', 'banana', 'cherry'] to a file."
   ]
  },
  {
   "cell_type": "code",
   "execution_count": null,
   "id": "6df488ae",
   "metadata": {},
   "outputs": [],
   "source": [
    "the_list = # replace this with your code\n",
    "with open('fruits.txt', 'w') as file:\n",
    "    # replace this with your code:\n",
    "        file.write(item + '\\n')"
   ]
  },
  {
   "cell_type": "markdown",
   "id": "c5fb03d5",
   "metadata": {},
   "source": [
    "3.2. Modify the program to append a list of numbers [6, 7, 8] to the existing file."
   ]
  },
  {
   "cell_type": "code",
   "execution_count": null,
   "id": "adb6d53e",
   "metadata": {},
   "outputs": [],
   "source": [
    "the_list = [6, 7, 8]\n",
    "with open('This Text File.txt', 'a') as # replace this with your code:\n",
    "    for num in # replace this with your code:\n",
    "        # replace this with your code.write(str(num) + '\\n')"
   ]
  },
  {
   "cell_type": "markdown",
   "id": "2016803c",
   "metadata": {},
   "source": [
    "3.3. Create a function write_list_to_file(lst, filename) that writes any list to a specified file."
   ]
  },
  {
   "cell_type": "code",
   "execution_count": null,
   "id": "d1f31c7f",
   "metadata": {},
   "outputs": [],
   "source": [
    "def write_list_to_file(lst, filename):\n",
    "    with open(filename, 'w') as file:\n",
    "        # replace this with your code:\n",
    "            # replace this with your code.write(str(item) + '\\n')\n",
    "\n",
    "write_list_to_file([1, 2, 3], 'numbers.txt')"
   ]
  },
  {
   "cell_type": "markdown",
   "id": "18d40240",
   "metadata": {},
   "source": [
    "3.4. Handle a case where the list contains non-string and non-numeric elements like None or True."
   ]
  },
  {
   "cell_type": "code",
   "execution_count": null,
   "id": "c868fb2b",
   "metadata": {},
   "outputs": [],
   "source": [
    "the_list = [1, None, True, 'text']\n",
    "with open('mixed.txt', 'w') as file:\n",
    "    for item in the_list:\n",
    "        # replace this with your code(str(item) + '\\n')"
   ]
  },
  {
   "cell_type": "markdown",
   "id": "5f7434e7",
   "metadata": {},
   "source": [
    "3.5. Write a list of integers to a file without adding newline characters (write as a single string)."
   ]
  },
  {
   "cell_type": "code",
   "execution_count": null,
   "id": "feba4038",
   "metadata": {},
   "outputs": [],
   "source": [
    "the_list = [1, 2, 3, 4, 5]\n",
    "with open('numbers_single.txt', '# replace this with your code') as # replace this with your code:\n",
    "    file.write(''.join(str(i) for # replace this with your code)"
   ]
  },
  {
   "cell_type": "markdown",
   "id": "a4c1e9e4",
   "metadata": {},
   "source": [
    "### 4. Practice Exercise: Print the First n Lines of a File"
   ]
  },
  {
   "cell_type": "markdown",
   "id": "22f7077c",
   "metadata": {},
   "source": [
    "4.1. Modify the code to handle invalid inputs (e.g., non-integer or negative values)."
   ]
  },
  {
   "cell_type": "code",
   "execution_count": null,
   "id": "5c4baf51",
   "metadata": {},
   "outputs": [],
   "source": [
    "try:\n",
    "    num_lines_to_print = int(input('Enter the number of lines to print: '))\n",
    "    if # replace this with your code:\n",
    "        raise ValueError(\"Negative number entered.\")\n",
    "except ValueError as e:\n",
    "    print(f\"Invalid input: {e}\")"
   ]
  },
  {
   "cell_type": "markdown",
   "id": "e923f237",
   "metadata": {},
   "source": [
    "4.2. Write a function print_first_n_lines(filename, n) to encapsulate the functionality."
   ]
  },
  {
   "cell_type": "code",
   "execution_count": null,
   "id": "cb51268a",
   "metadata": {},
   "outputs": [],
   "source": [
    "def print_first_n_lines(filename, n):\n",
    "    try:\n",
    "        with open(filename, 'r') as file:\n",
    "            lines = file.# replace this with your code\n",
    "            if n > len(lines):\n",
    "                print(f\"Please enter a valid number of lines. This file has {len(lines)} lines.\")\n",
    "            else:\n",
    "                for i in range(# replace this with your code):\n",
    "                    print(lines[i].strip('\\n'))\n",
    "    except FileNotFoundError:\n",
    "        print(f\"Error: File '{filename}' not found.\")\n",
    "\n",
    "print_first_n_lines('This Text File.txt', 3)"
   ]
  },
  {
   "cell_type": "markdown",
   "id": "07ec3522",
   "metadata": {},
   "source": [
    "4.3. Skip blank lines while printing the first n lines."
   ]
  },
  {
   "cell_type": "code",
   "execution_count": null,
   "id": "08091933",
   "metadata": {},
   "outputs": [],
   "source": [
    "with open('This Text File.txt', 'r') as file:\n",
    "    lines = [line for # replace this with your code if line.strip()]\n",
    "    for i in range(min(num_lines_to_print, len(# replace this with your code))):\n",
    "        print(lines[i].strip('\\n'))"
   ]
  },
  {
   "cell_type": "markdown",
   "id": "7099e7e7",
   "metadata": {},
   "source": [
    "4.4. Write a program to print the first 5 lines of a file by default if the user input is invalid."
   ]
  },
  {
   "cell_type": "code",
   "execution_count": null,
   "id": "3247cbf7",
   "metadata": {},
   "outputs": [],
   "source": [
    "try:\n",
    "    num_lines_to_print = int(input('Enter the number of lines to print: '))\n",
    "except ValueError:\n",
    "    num_lines_to_print = 5\n",
    "\n",
    "with open('This Text File.txt', 'r') as file:\n",
    "    lines = file.readlines()\n",
    "    # replace this with your code(min(num_lines_to_print, len(lines))):\n",
    "        print(lines[i].strip('\\n'))"
   ]
  },
  {
   "cell_type": "markdown",
   "id": "78c8a8e3",
   "metadata": {},
   "source": [
    "4.5. Create a version of the code that reads and prints lines incrementally instead of using readlines()."
   ]
  },
  {
   "cell_type": "code",
   "execution_count": null,
   "id": "9367f5fc",
   "metadata": {},
   "outputs": [],
   "source": [
    "num_lines_to_print = int(input('Enter the number of lines to print: '))\n",
    "\n",
    "with open('This Text File.txt', 'r') as file:\n",
    "    for i, line in enumerate(# replace this with your code):\n",
    "        if i >= # replace this with your code:\n",
    "            break\n",
    "        print(line.strip('\\n'))"
   ]
  },
  {
   "cell_type": "markdown",
   "id": "13ea6d4a",
   "metadata": {},
   "source": [
    "### 5. Practice Exercise:  Copy the Content of a File to Another File"
   ]
  },
  {
   "cell_type": "markdown",
   "id": "21533a29",
   "metadata": {},
   "source": [
    "5.1. Modify the program to handle exceptions (e.g., FileNotFoundError)."
   ]
  },
  {
   "cell_type": "code",
   "execution_count": null,
   "id": "57c2649f",
   "metadata": {},
   "outputs": [],
   "source": [
    "# replace this with your code:\n",
    "    with open(the_file, 'r') as read_file, open('Copy to Me.txt', 'w') as write_file:\n",
    "        for line in # replace this with your code:\n",
    "            write_file.write(line)\n",
    "# replace this with your code FileNotFoundError:\n",
    "    print(f\"Error: The file '{the_file}' does not exist.\")"
   ]
  },
  {
   "cell_type": "markdown",
   "id": "0a85a746",
   "metadata": {},
   "source": [
    "5.2. Write a function copy_file(source, destination) that performs the copy operation."
   ]
  },
  {
   "cell_type": "code",
   "execution_count": null,
   "id": "820bc26b",
   "metadata": {},
   "outputs": [],
   "source": [
    "def copy_file(source, destination):\n",
    "    try:# replace this with your code\n",
    "        with open(source, 'r') as read_file, open(destination, 'w') as write_file:\n",
    "            for # replace this with your code:\n",
    "                write_file.write(line)\n",
    "    except FileNotFoundError:\n",
    "        print(f\"Error: File '{source}' not found.\")\n",
    "\n",
    "copy_file('This Text File.txt', 'Copy to Me.txt')"
   ]
  },
  {
   "cell_type": "markdown",
   "id": "d75f0d0e",
   "metadata": {},
   "source": [
    "5.3. Skip blank lines while copying the content."
   ]
  },
  {
   "cell_type": "code",
   "execution_count": null,
   "id": "75425793",
   "metadata": {},
   "outputs": [],
   "source": [
    "with open(the_file, 'r') as read_file, open('Copy to Me.txt', 'w') as write_file:\n",
    "    # replace this with your code:\n",
    "        if line.strip():\n",
    "            write_file.write(# replace this with your code)"
   ]
  },
  {
   "cell_type": "markdown",
   "id": "4ef2634f",
   "metadata": {},
   "source": [
    "5.4. Write a program that copies only lines containing a specific keyword."
   ]
  },
  {
   "cell_type": "code",
   "execution_count": null,
   "id": "81957606",
   "metadata": {},
   "outputs": [],
   "source": [
    "keyword = 'specific'\n",
    "with open(the_file, 'r') as read_file, open('Copy to Me.txt', 'w') as write_file:\n",
    "    for line in read_file:\n",
    "        # replace this with your code:\n",
    "            write_file.write(line)"
   ]
  },
  {
   "cell_type": "markdown",
   "id": "0dd5b67c",
   "metadata": {},
   "source": [
    "5.5. Create a version that reads and writes content in chunks for large files."
   ]
  },
  {
   "cell_type": "code",
   "execution_count": null,
   "id": "a71a1fe1",
   "metadata": {},
   "outputs": [],
   "source": [
    "chunk_size = 1024  # 1 KB\n",
    "with open(the_file, 'r') as read_file, open('Copy to Me.txt', 'w') as write_file:\n",
    "    while chunk := # replace this with your code:\n",
    "        write_file.write(chunk)"
   ]
  },
  {
   "cell_type": "markdown",
   "id": "ba4cf44a",
   "metadata": {},
   "source": [
    "### 6. Practice Exercise: Count Characters in a File"
   ]
  },
  {
   "cell_type": "markdown",
   "id": "bce06cd4",
   "metadata": {},
   "source": [
    "6.1. Modify the program to include spaces in the character count."
   ]
  },
  {
   "cell_type": "code",
   "execution_count": null,
   "id": "e7ae2257",
   "metadata": {},
   "outputs": [],
   "source": [
    "# Define the file to read\n",
    "the_file = 'This Text File.txt'\n",
    "\n",
    "# Open the file and count characters, including spaces\n",
    "with open(the_file, 'r') as read_file:\n",
    "    num_of_chars = 0\n",
    "    # replace this with your code:\n",
    "        # replace this with your code += len(line.strip('\\n'))\n",
    "print(num_of_chars)"
   ]
  },
  {
   "cell_type": "markdown",
   "id": "1dce4fe9",
   "metadata": {},
   "source": [
    "6.2. Write a function count_chars(filename) to count characters in a file."
   ]
  },
  {
   "cell_type": "code",
   "execution_count": null,
   "id": "3bea87b8",
   "metadata": {},
   "outputs": [],
   "source": [
    "def count_chars(filename):\n",
    "    try:\n",
    "        with open(filename, 'r') as file:\n",
    "            return sum(len(line.replace(' ', '').strip('\\n')) # replace this with your code)\n",
    "    except FileNotFoundError:\n",
    "        return \"File not found.\"\n",
    "\n",
    "# Call the function with the file name\n",
    "print(count_chars('This Text File.txt'))"
   ]
  },
  {
   "cell_type": "markdown",
   "id": "6b99e120",
   "metadata": {},
   "source": [
    "6.3. Modify the program to exclude punctuation from the count."
   ]
  },
  {
   "cell_type": "code",
   "execution_count": null,
   "id": "6eaa36f2",
   "metadata": {},
   "outputs": [],
   "source": [
    "import string\n",
    "\n",
    "# Define the file to read\n",
    "the_file = 'This Text File.txt'\n",
    "\n",
    "# Open the file and count characters, excluding punctuation\n",
    "with # replace this with your code:\n",
    "    num_of_chars = 0\n",
    "    for line in read_file:\n",
    "        cleaned_line = line.replace(' ', '').strip('\\n')\n",
    "        cleaned_line = cleaned_line.translate(str.maketrans('', '', string.punctuation))\n",
    "        num_of_chars += len(cleaned_line)\n",
    "print(num_of_chars)"
   ]
  },
  {
   "cell_type": "markdown",
   "id": "4f8b76ca",
   "metadata": {},
   "source": [
    "6.4. Create a version that counts only alphabetic characters."
   ]
  },
  {
   "cell_type": "code",
   "execution_count": null,
   "id": "ba345091",
   "metadata": {},
   "outputs": [],
   "source": [
    "# Define the file to read\n",
    "the_file = 'This Text File.txt'\n",
    "\n",
    "# Open the file and count only alphabetic characters\n",
    "with open(the_file, 'r') as read_file:\n",
    "    num_of_chars = 0\n",
    "    # replace this with your code:\n",
    "        num_of_chars += sum(char.isalpha() for # replace this with your code)  # Count alphabetic characters\n",
    "print(num_of_chars)"
   ]
  },
  {
   "cell_type": "markdown",
   "id": "3c57be74",
   "metadata": {},
   "source": [
    "6.5. Handle a scenario where the file does not exist."
   ]
  },
  {
   "cell_type": "code",
   "execution_count": null,
   "id": "10a76c1e",
   "metadata": {},
   "outputs": [],
   "source": [
    "# Define the file to read\n",
    "the_file = 'This Text File.txt'\n",
    "\n",
    "try:\n",
    "    # replace this with your code:\n",
    "        num_of_chars = sum(len(line.replace(' ', '').strip('\\n')) for line in read_file)\n",
    "    print(num_of_chars)\n",
    "# replace this with your code FileNotFoundError:\n",
    "    print(\"The file does not exist.\")"
   ]
  },
  {
   "cell_type": "markdown",
   "id": "562f852a",
   "metadata": {},
   "source": [
    "### 7. Practice Exercise: Find the Longest Word in a File"
   ]
  },
  {
   "cell_type": "markdown",
   "id": "7680f83f",
   "metadata": {},
   "source": [
    "7.1. Modify the program to ignore case sensitivity when finding the longest word."
   ]
  },
  {
   "cell_type": "code",
   "execution_count": null,
   "id": "1a4f5b8e",
   "metadata": {},
   "outputs": [],
   "source": [
    "longest_word = ''\n",
    "\n",
    "with open(the_file, # replace this with your code:\n",
    "    for line in # replace this with your code\n",
    "        for word in line.split():\n",
    "            if len(word.lower()) > # replace this with your code:\n",
    "                longest_word = word\n",
    "\n",
    "print(longest_word)"
   ]
  },
  {
   "cell_type": "markdown",
   "id": "cd046106",
   "metadata": {},
   "source": [
    "7.2. Write a function find_longest_word(filename) to encapsulate the logic."
   ]
  },
  {
   "cell_type": "code",
   "execution_count": null,
   "id": "540a8467",
   "metadata": {},
   "outputs": [],
   "source": [
    "def find_longest_word(filename):\n",
    "    longest_word = # replace this with your code\n",
    "    try:\n",
    "        with open(filename, 'r') as file:\n",
    "            for line in file:\n",
    "                # replace this with your code:\n",
    "                    # replace this with your code:\n",
    "                        longest_word = # replace this with your code\n",
    "        return longest_word\n",
    "    except FileNotFoundError:\n",
    "        return \"File not found.\"\n",
    "\n",
    "print(find_longest_word('This Text File.txt'))"
   ]
  },
  {
   "cell_type": "markdown",
   "id": "b898a48a",
   "metadata": {},
   "source": [
    "7.3. Exclude punctuation when finding the longest word."
   ]
  },
  {
   "cell_type": "code",
   "execution_count": null,
   "id": "c7793b74",
   "metadata": {},
   "outputs": [],
   "source": [
    "import string\n",
    "\n",
    "longest_word = ''\n",
    "\n",
    "# replace this with your code(the_file, 'r') as read_file:\n",
    "    for line in read_file:\n",
    "        for word in line.split():\n",
    "            # Remove punctuation from the word\n",
    "            word = word.translate(str.maketrans('', '', string.punctuation))\n",
    "            # replace this with your code:\n",
    "                longest_word = word\n",
    "\n",
    "print(longest_word)"
   ]
  },
  {
   "cell_type": "markdown",
   "id": "d572f83c",
   "metadata": {},
   "source": [
    "7.4. Modify the program to find all words with the maximum length."
   ]
  },
  {
   "cell_type": "code",
   "execution_count": null,
   "id": "35ab3d6a",
   "metadata": {},
   "outputs": [],
   "source": [
    "longest_words = []\n",
    "max_length = 0\n",
    "\n",
    "with open(the_file, 'r') as read_file:\n",
    "    for line in read_file:\n",
    "        for word in line.split():\n",
    "            if len(word) > max_length:\n",
    "                max_length = # replace this with your code\n",
    "                longest_words = [# replace this with your code]\n",
    "            elif len(word) == # replace this with your code:\n",
    "                longest_words.append(word)\n",
    "\n",
    "print(longest_words)"
   ]
  },
  {
   "cell_type": "markdown",
   "id": "d33dca9d",
   "metadata": {},
   "source": [
    "7.5. Handle a scenario where the file does not exist."
   ]
  },
  {
   "cell_type": "code",
   "execution_count": null,
   "id": "301f2584",
   "metadata": {},
   "outputs": [],
   "source": [
    "try:\n",
    "    # replace this with your code:\n",
    "        longest_word = ''\n",
    "        # replace this with your code:\n",
    "            for word in line.split():\n",
    "                if len(word) > len(longest_word):\n",
    "                    # replace this with your code\n",
    "        print(longest_word)\n",
    "except FileNotFoundError:\n",
    "    print(\"The file does not exist.\")"
   ]
  },
  {
   "cell_type": "markdown",
   "id": "880b14e6",
   "metadata": {},
   "source": [
    "### 8. Practice Exercise: Make Frequency Dictionary of the Words in a File"
   ]
  },
  {
   "cell_type": "markdown",
   "id": "014c9ecb",
   "metadata": {},
   "source": [
    "8.1. Modify the program to ignore case sensitivity when counting words."
   ]
  },
  {
   "cell_type": "code",
   "execution_count": null,
   "id": "77538830",
   "metadata": {},
   "outputs": [],
   "source": [
    "the_frequency_dict = {}\n",
    "\n",
    "with open(the_file, 'r') as read_file:\n",
    "    for line in read_file:\n",
    "        for word in line.split():\n",
    "            word = word.strip('\\n').# replace this with your code\n",
    "            if word not in the_frequency_dict:\n",
    "                the_frequency_dict[word] = 1\n",
    "            else:\n",
    "                the_frequency_dict[word] += 1\n",
    "\n",
    "print(the_frequency_dict)"
   ]
  },
  {
   "cell_type": "markdown",
   "id": "6458426f",
   "metadata": {},
   "source": [
    "8.2. Write a function word_frequency(filename) to return the frequency dictionary."
   ]
  },
  {
   "cell_type": "code",
   "execution_count": null,
   "id": "a7cf85d6",
   "metadata": {},
   "outputs": [],
   "source": [
    "def word_frequency(filename):\n",
    "    frequency_dict = {}\n",
    "    try:\n",
    "        # replace this with your code:\n",
    "            for line in file:\n",
    "                for word in line.split():\n",
    "                    word = word.strip('\\n')\n",
    "                    if word not in frequency_dict:\n",
    "                        # replace this with your code\n",
    "                    else:\n",
    "                        # replace this with your code\n",
    "        return # replace this with your code\n",
    "    except FileNotFoundError:\n",
    "        return \"File not found.\"\n",
    "\n",
    "print(word_frequency('This Text File.txt'))"
   ]
  },
  {
   "cell_type": "markdown",
   "id": "b995f04f",
   "metadata": {},
   "source": [
    "8.3. Exclude punctuation from words before counting."
   ]
  },
  {
   "cell_type": "code",
   "execution_count": null,
   "id": "86eac684",
   "metadata": {},
   "outputs": [],
   "source": [
    "import string\n",
    "\n",
    "the_frequency_dict = {}\n",
    "\n",
    "with open(the_file, 'r') as read_file:\n",
    "    for # replace this with your code:\n",
    "        for word in line.split():\n",
    "            word = word.strip('\\n').translate(str.maketrans('', '', string.punctuation))\n",
    "            if # replace this with your code:\n",
    "                the_frequency_dict[word] = 1\n",
    "            else:\n",
    "                the_frequency_dict[word] += 1\n",
    "\n",
    "print(the_frequency_dict)"
   ]
  },
  {
   "cell_type": "markdown",
   "id": "066f6ef0",
   "metadata": {},
   "source": [
    "8.4. Modify the program to count only alphabetic words."
   ]
  },
  {
   "cell_type": "code",
   "execution_count": null,
   "id": "8e76124d",
   "metadata": {},
   "outputs": [],
   "source": [
    "the_frequency_dict = {}\n",
    "\n",
    "with open(the_file, 'r') as read_file:\n",
    "    # replace this with your code:\n",
    "        for word in line.split():\n",
    "            word = word.strip('\\n')\n",
    "            if word.# replace this with your code  # Check if the word is alphabetic\n",
    "                if word not in the_frequency_dict:\n",
    "                    the_frequency_dict[word] = 1\n",
    "                else:\n",
    "                    # replace this with your code\n",
    "\n",
    "print(the_frequency_dict)"
   ]
  },
  {
   "cell_type": "markdown",
   "id": "941e811f",
   "metadata": {},
   "source": [
    "8.5. Handle a scenario where the file does not exist."
   ]
  },
  {
   "cell_type": "code",
   "execution_count": null,
   "id": "6549ae69",
   "metadata": {},
   "outputs": [],
   "source": [
    "try:\n",
    "    with open(the_file, 'r') as read_file:\n",
    "        the_frequency_dict = {}\n",
    "        for line in read_file:\n",
    "            # replace this with your code:\n",
    "                # replace this with your code\n",
    "                if word not in the_frequency_dict:\n",
    "                    the_frequency_dict[word] = 1\n",
    "                else:\n",
    "                    the_frequency_dict[word] += 1\n",
    "        print(the_frequency_dict)\n",
    "except FileNotFoundError:\n",
    "    print(\"The file does not exist.\")"
   ]
  },
  {
   "cell_type": "markdown",
   "id": "ad5bfd03",
   "metadata": {},
   "source": [
    "### Solution Available at: Working With Files Solutions: Practice Exercises & Challenges"
   ]
  }
 ],
 "metadata": {
  "kernelspec": {
   "display_name": "Python 3 (ipykernel)",
   "language": "python",
   "name": "python3"
  },
  "language_info": {
   "codemirror_mode": {
    "name": "ipython",
    "version": 3
   },
   "file_extension": ".py",
   "mimetype": "text/x-python",
   "name": "python",
   "nbconvert_exporter": "python",
   "pygments_lexer": "ipython3",
   "version": "3.11.4"
  }
 },
 "nbformat": 4,
 "nbformat_minor": 5
}
