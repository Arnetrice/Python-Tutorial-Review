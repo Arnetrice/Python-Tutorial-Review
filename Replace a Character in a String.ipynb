{
 "cells": [
  {
   "attachments": {},
   "cell_type": "markdown",
   "id": "de666638",
   "metadata": {},
   "source": [
    " # **Replace a Character in a String**"
   ]
  },
  {
   "cell_type": "markdown",
   "id": "b1b377e4",
   "metadata": {},
   "source": [
    "### Standard Approach:"
   ]
  },
  {
   "cell_type": "code",
   "execution_count": null,
   "id": "24184929",
   "metadata": {},
   "outputs": [],
   "source": [
    "word = 'Python'\n",
    "\n",
    "new_word = ''\n",
    "\n",
    "current_char = 'P'\n",
    "new_char = 'a'\n",
    "\n",
    "# Iterate through each character in the string\n",
    "for i in word:\n",
    "    # Replace the target character with the new character\n",
    "    if i == current_char:\n",
    "        new_word += new_char  \n",
    "    else:\n",
    "        new_word += i\n",
    "\n",
    "print(new_word)\n"
   ]
  },
  {
   "cell_type": "markdown",
   "id": "a9865f88",
   "metadata": {},
   "source": [
    "Note: This approach manually iterates through each character in the string, replacing the target character with a new one when found."
   ]
  },
  {
   "cell_type": "markdown",
   "id": "017aff0b",
   "metadata": {},
   "source": [
    "### Optimized Solution:"
   ]
  },
  {
   "cell_type": "code",
   "execution_count": null,
   "id": "496e1d1c",
   "metadata": {},
   "outputs": [],
   "source": [
    "word = 'Python'\n",
    "\n",
    "current_char = 'P'\n",
    "new_char = 'a'\n",
    "\n",
    "# Use the replace method to replace the character\n",
    "word = word.replace(current_char, new_char)\n",
    "\n",
    "print(word)\n"
   ]
  },
  {
   "cell_type": "markdown",
   "id": "f2901c30",
   "metadata": {},
   "source": [
    "Note: This solution leverages Python’s `str.replace()` method to efficiently replace the target character."
   ]
  },
  {
   "cell_type": "markdown",
   "id": "46c2e449",
   "metadata": {},
   "source": [
    "### Additional Practice:\n",
    "See Practice Exercise: Replace a Character in a String"
   ]
  }
 ],
 "metadata": {
  "kernelspec": {
   "display_name": "Python 3 (ipykernel)",
   "language": "python",
   "name": "python3"
  },
  "language_info": {
   "codemirror_mode": {
    "name": "ipython",
    "version": 3
   },
   "file_extension": ".py",
   "mimetype": "text/x-python",
   "name": "python",
   "nbconvert_exporter": "python",
   "pygments_lexer": "ipython3",
   "version": "3.11.4"
  }
 },
 "nbformat": 4,
 "nbformat_minor": 5
}
