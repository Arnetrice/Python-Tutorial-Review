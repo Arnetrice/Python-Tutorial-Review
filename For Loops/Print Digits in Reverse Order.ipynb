{
 "cells": [
  {
   "attachments": {},
   "cell_type": "markdown",
   "id": "de666638",
   "metadata": {},
   "source": [
    " # **Print Digits in Reverse Order**"
   ]
  },
  {
   "cell_type": "markdown",
   "id": "b1b377e4",
   "metadata": {},
   "source": [
    "### Standard Approach:"
   ]
  },
  {
   "cell_type": "code",
   "execution_count": null,
   "id": "24184929",
   "metadata": {},
   "outputs": [],
   "source": [
    "# Initialize the number\n",
    "the_num = 584\n",
    "\n",
    "# Convert the number to a string and initialize reversed_num\n",
    "reversed_num = 0\n",
    "num_str = str(the_num)\n",
    "\n",
    "# Reverse the digits using a for loop\n",
    "for digit in num_str:\n",
    "    reversed_num = int(digit + str(reversed_num))  # Build the reversed number\n",
    "\n",
    "print(reversed_num)"
   ]
  },
  {
   "cell_type": "markdown",
   "id": "a9865f88",
   "metadata": {},
   "source": [
    "Note: This approach combines string manipulation and arithmetic to achieve the desired result."
   ]
  },
  {
   "cell_type": "markdown",
   "id": "017aff0b",
   "metadata": {},
   "source": [
    "### Optimized Solution:"
   ]
  },
  {
   "cell_type": "code",
   "execution_count": null,
   "id": "496e1d1c",
   "metadata": {},
   "outputs": [],
   "source": [
    "# Initialize the number\n",
    "the_num = 3456\n",
    "\n",
    "# Reverse the number using string slicing\n",
    "the_reverse = int(str(the_num)[::-1])\n",
    "\n",
    "# Print the reversed number\n",
    "print(the_reverse)"
   ]
  },
  {
   "cell_type": "markdown",
   "id": "f2901c30",
   "metadata": {},
   "source": [
    "Note: This solution converts the number to a string, reverses it using slicing, and converts it back to an integer."
   ]
  },
  {
   "cell_type": "markdown",
   "id": "46c2e449",
   "metadata": {},
   "source": [
    "### Additional Practice:\n",
    "See For Loops - Practice Exercises & Challenges: Print Digits in Reverse Order"
   ]
  }
 ],
 "metadata": {
  "kernelspec": {
   "display_name": "Python 3 (ipykernel)",
   "language": "python",
   "name": "python3"
  },
  "language_info": {
   "codemirror_mode": {
    "name": "ipython",
    "version": 3
   },
   "file_extension": ".py",
   "mimetype": "text/x-python",
   "name": "python",
   "nbconvert_exporter": "python",
   "pygments_lexer": "ipython3",
   "version": "3.11.4"
  }
 },
 "nbformat": 4,
 "nbformat_minor": 5
}
