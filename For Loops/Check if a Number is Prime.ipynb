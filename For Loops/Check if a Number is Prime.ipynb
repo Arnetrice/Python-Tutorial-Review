{
 "cells": [
  {
   "cell_type": "markdown",
   "id": "de666638",
   "metadata": {},
   "source": [
    " # **Check if a Number is Prime**"
   ]
  },
  {
   "cell_type": "markdown",
   "id": "b1b377e4",
   "metadata": {},
   "source": [
    "### Standard Approach:"
   ]
  },
  {
   "cell_type": "code",
   "execution_count": null,
   "id": "24184929",
   "metadata": {},
   "outputs": [],
   "source": [
    "# Initialize flag\n",
    "is_prime = True  \n",
    "\n",
    "# Input a number\n",
    "the_num = int(input('Enter a number: '))\n",
    "\n",
    "# Check for special case\n",
    "if the_num == 1:\n",
    "    is_prime = False\n",
    "else:\n",
    "    # Check divisibility from 2 to the_num - 1\n",
    "    for i in range(2, the_num):\n",
    "        if the_num % i == 0:\n",
    "            is_prime = False\n",
    "            break\n",
    "\n",
    "# Print result based on flag\n",
    "if is_prime:\n",
    "    print('Prime')\n",
    "else:\n",
    "    print('Not Prime')"
   ]
  },
  {
   "cell_type": "markdown",
   "id": "a9865f88",
   "metadata": {},
   "source": [
    "Note: This approach uses a boolean variable (is_prime) as a flag to determine if a number is prime."
   ]
  },
  {
   "cell_type": "markdown",
   "id": "017aff0b",
   "metadata": {},
   "source": [
    "### Optimized Solution:"
   ]
  },
  {
   "cell_type": "code",
   "execution_count": null,
   "id": "496e1d1c",
   "metadata": {},
   "outputs": [],
   "source": [
    "# Input a number\n",
    "the_num = int(input('Enter a number: '))\n",
    "\n",
    "# Special case for 1\n",
    "if the_num == 1:\n",
    "    print('Not Prime')\n",
    "else:\n",
    "    # Check divisibility from 2 to the_num - 1\n",
    "    for i in range(2, the_num):\n",
    "        if the_num % i == 0:\n",
    "            print('Not Prime')\n",
    "            break\n",
    "    else:\n",
    "        print('Prime')  # Executed only if no break occurs in the loop"
   ]
  },
  {
   "cell_type": "markdown",
   "id": "f2901c30",
   "metadata": {},
   "source": [
    "Note: This solution eliminates the need for a separate flag and uses an else block directly with the for loop for better efficiency and readability."
   ]
  },
  {
   "cell_type": "markdown",
   "id": "46c2e449",
   "metadata": {},
   "source": [
    "### Additional Practice:\n",
    "See For Loops - Practice Exercises & Challenges: Check if a Number is Prime"
   ]
  }
 ],
 "metadata": {
  "kernelspec": {
   "display_name": "Python 3 (ipykernel)",
   "language": "python",
   "name": "python3"
  },
  "language_info": {
   "codemirror_mode": {
    "name": "ipython",
    "version": 3
   },
   "file_extension": ".py",
   "mimetype": "text/x-python",
   "name": "python",
   "nbconvert_exporter": "python",
   "pygments_lexer": "ipython3",
   "version": "3.11.4"
  }
 },
 "nbformat": 4,
 "nbformat_minor": 5
}
