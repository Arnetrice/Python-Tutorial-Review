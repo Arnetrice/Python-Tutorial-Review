{
 "cells": [
  {
   "cell_type": "markdown",
   "id": "de666638",
   "metadata": {},
   "source": [
    " # **Triangular Letters Pattern**"
   ]
  },
  {
   "cell_type": "markdown",
   "id": "b1b377e4",
   "metadata": {},
   "source": [
    "### Standard Approach:"
   ]
  },
  {
   "cell_type": "code",
   "execution_count": null,
   "id": "24184929",
   "metadata": {},
   "outputs": [],
   "source": [
    "import string\n",
    "\n",
    "# Input number of rows\n",
    "num_rows = int(input('Enter the number of rows for this triangle: '))\n",
    "\n",
    "# Uppercase alphabet string\n",
    "the_alpha = string.ascii_uppercase\n",
    "\n",
    "# Generate the pattern\n",
    "for row in range(1, num_rows + 1):  # Outer loop for rows\n",
    "    repeat_letter = the_alpha[row - 1] * row  # Repeated letter based on row\n",
    "    for char in repeat_letter:  # Print each character with space\n",
    "        print(char + ' ', end='')\n",
    "    print()  # Move to the next line"
   ]
  },
  {
   "cell_type": "markdown",
   "id": "a9865f88",
   "metadata": {},
   "source": [
    "Note: This approach generates a triangular pattern using uppercase letters. Each row contains repetitions of a single letter, determined by the row number."
   ]
  },
  {
   "cell_type": "markdown",
   "id": "017aff0b",
   "metadata": {},
   "source": [
    "### Optimized Solution:"
   ]
  },
  {
   "cell_type": "code",
   "execution_count": null,
   "id": "496e1d1c",
   "metadata": {},
   "outputs": [],
   "source": [
    "# Input number of rows\n",
    "num_rows = int(input('Enter the number of rows for this triangle: '))\n",
    "\n",
    "# Generate the pattern\n",
    "for row in range(num_rows):  # Outer loop for rows\n",
    "    repeat_letter = chr(65 + row) * (row + 1)  # Generate letter using ASCII\n",
    "    for char in repeat_letter:  # Print each character with space\n",
    "        print(char + ' ', end='')\n",
    "    print()  # Move to the next line"
   ]
  },
  {
   "cell_type": "markdown",
   "id": "f2901c30",
   "metadata": {},
   "source": [
    "Note: This solution avoids importing the string module and directly uses the chr() function to generate uppercase letters based on ASCII values."
   ]
  },
  {
   "cell_type": "markdown",
   "id": "46c2e449",
   "metadata": {},
   "source": [
    "### Additional Practice:\n",
    "See For Loops - Practice Exercises & Challenges: Triangular Letters Pattern"
   ]
  }
 ],
 "metadata": {
  "kernelspec": {
   "display_name": "Python 3 (ipykernel)",
   "language": "python",
   "name": "python3"
  },
  "language_info": {
   "codemirror_mode": {
    "name": "ipython",
    "version": 3
   },
   "file_extension": ".py",
   "mimetype": "text/x-python",
   "name": "python",
   "nbconvert_exporter": "python",
   "pygments_lexer": "ipython3",
   "version": "3.11.4"
  }
 },
 "nbformat": 4,
 "nbformat_minor": 5
}
