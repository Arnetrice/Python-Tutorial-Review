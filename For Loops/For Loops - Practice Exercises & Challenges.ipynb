{
 "cells": [
  {
   "cell_type": "markdown",
   "id": "1a54ccbf",
   "metadata": {},
   "source": [
    "# Practice Exercises & Challenges - For Loops"
   ]
  },
  {
   "cell_type": "markdown",
   "id": "356d2478",
   "metadata": {},
   "source": [
    "### 1. Practice Exercise: Generate the First 100 Even Numbers"
   ]
  },
  {
   "cell_type": "markdown",
   "id": "4778e73c",
   "metadata": {},
   "source": [
    "1.1. Adjust the range to generate the first 50 even numbers."
   ]
  },
  {
   "cell_type": "code",
   "execution_count": null,
   "id": "b8face61",
   "metadata": {},
   "outputs": [],
   "source": [
    "for num in # replace this with your code:\n",
    "    print(num)\n",
    "\n",
    "    # OR\n",
    "for i # replace this with your code:\n",
    "    print(i * # replace this with your code)"
   ]
  },
  {
   "cell_type": "markdown",
   "id": "81c2a243",
   "metadata": {},
   "source": [
    "1.2. Modify the code to generate the first 100 odd numbers."
   ]
  },
  {
   "cell_type": "code",
   "execution_count": null,
   "id": "2d89c8db",
   "metadata": {},
   "outputs": [],
   "source": [
    "for num  # replace this with your code):\n",
    "    print( # replace this with your code)\n",
    "# OR\n",
    "for i in  # replace this with your code:\n",
    "    print(i * 2 - 1)"
   ]
  },
  {
   "cell_type": "markdown",
   "id": "ae2348ed",
   "metadata": {},
   "source": [
    "1.3. Write a program to calculate the sum of the first 100 even numbers."
   ]
  },
  {
   "cell_type": "code",
   "execution_count": null,
   "id": "243bfd88",
   "metadata": {},
   "outputs": [],
   "source": [
    "print(sum(range( # replace this with your code)))\n",
    "# OR\n",
    "print(sum([i * 2 for i in range( # replace this with your code)]))"
   ]
  },
  {
   "cell_type": "markdown",
   "id": "0b5a4c36",
   "metadata": {},
   "source": [
    "1.4. Modify the code to generate the first 100 multiples of 5."
   ]
  },
  {
   "cell_type": "code",
   "execution_count": null,
   "id": "990f0c97",
   "metadata": {},
   "outputs": [],
   "source": [
    "for # replace this with your code:\n",
    "    print(# replace this with your code)"
   ]
  },
  {
   "cell_type": "markdown",
   "id": "2cb8dc3d",
   "metadata": {},
   "source": [
    "1.5. Write a program to print the first 100 even numbers and label whether each number is divisible by 4.\n",
    "Hint: Use an if statement inside the loop to check divisibility (num % 4 == 0)."
   ]
  },
  {
   "cell_type": "code",
   "execution_count": null,
   "id": "8de5b3c0",
   "metadata": {},
   "outputs": [],
   "source": [
    "for num # replace this with your code:\n",
    "    if # replace this with your code:\n",
    "        print(f\"{num} is divisible by 4\")\n",
    "    else:\n",
    "        print(f\"{num} is not divisible by 4\")"
   ]
  },
  {
   "cell_type": "markdown",
   "id": "4a7d2670",
   "metadata": {},
   "source": [
    "### 2. Practice Exercise: Calculating Factorials"
   ]
  },
  {
   "cell_type": "markdown",
   "id": "117d787b",
   "metadata": {},
   "source": [
    "2.1. Calculate the factorial of 0. Hint: Factorial of 0 is defined as 1."
   ]
  },
  {
   "cell_type": "code",
   "execution_count": null,
   "id": "bddbbea7",
   "metadata": {},
   "outputs": [],
   "source": [
    "import  # replace this with your code\n",
    "print(math. # replace this with your code) "
   ]
  },
  {
   "cell_type": "markdown",
   "id": "4f4ec830",
   "metadata": {},
   "source": [
    "2.2. Calculate the factorial of 20."
   ]
  },
  {
   "cell_type": "code",
   "execution_count": null,
   "id": "8bbded0c",
   "metadata": {},
   "outputs": [],
   "source": [
    "import  # replace this with your code\n",
    "print(math. # replace this with your code)"
   ]
  },
  {
   "cell_type": "markdown",
   "id": "c3a0b0c3",
   "metadata": {},
   "source": [
    "2.3. Write a recursive function to calculate the factorial of a number."
   ]
  },
  {
   "cell_type": "code",
   "execution_count": null,
   "id": "960706bf",
   "metadata": {},
   "outputs": [],
   "source": [
    "def factorial_recursive(n):\n",
    "    if n == 0 or n == 1:\n",
    "        return 1\n",
    "    else:\n",
    "        return n * factorial_recursive(n - 1)\n",
    "\n",
    "print(factorial_recursive( # replace this with your code))  "
   ]
  },
  {
   "cell_type": "markdown",
   "id": "965041bc",
   "metadata": {},
   "source": [
    "2.4. Write a program to calculate the sum of factorials of the first 5 numbers."
   ]
  },
  {
   "cell_type": "code",
   "execution_count": null,
   "id": "0d1d8d65",
   "metadata": {},
   "outputs": [],
   "source": [
    "import  # replace this with your code\n",
    "total = sum(math.factorial(i) for i in  # replace this with your code)\n",
    "print(total) "
   ]
  },
  {
   "cell_type": "markdown",
   "id": "698fbad2",
   "metadata": {},
   "source": [
    "2.5. Generate and print factorials for all numbers from 1 to 10."
   ]
  },
  {
   "cell_type": "code",
   "execution_count": null,
   "id": "b616d53e",
   "metadata": {},
   "outputs": [],
   "source": [
    "import  # replace this with your code\n",
    "for i in  # replace this with your code:\n",
    "    print(f\"Factorial of {i} is {math.factorial(i)}\")"
   ]
  },
  {
   "cell_type": "markdown",
   "id": "76d70660",
   "metadata": {},
   "source": [
    "### 3. Practice Exercise: Check if a Number is Prime"
   ]
  },
  {
   "cell_type": "markdown",
   "id": "613651f2",
   "metadata": {},
   "source": [
    "3.1. Write a program to find all prime numbers between 1 and 50."
   ]
  },
  {
   "cell_type": "code",
   "execution_count": null,
   "id": "6df488ae",
   "metadata": {},
   "outputs": [],
   "source": [
    "  for num # replace this with your code:\n",
    "    for # replace this with your code:\n",
    "        if num % i == 0:\n",
    "            break\n",
    "    else:\n",
    "        print(num, \"is Prime\")"
   ]
  },
  {
   "cell_type": "markdown",
   "id": "c5fb03d5",
   "metadata": {},
   "source": [
    "3.2. Modify the program to handle negative inputs (prime numbers are positive by definition)."
   ]
  },
  {
   "cell_type": "code",
   "execution_count": null,
   "id": "adb6d53e",
   "metadata": {},
   "outputs": [],
   "source": [
    "the_num = int(input('Enter a number: '))\n",
    "if the_num < 2:\n",
    "    print('Not Prime')\n",
    "else:\n",
    "    for # replace this with your code:\n",
    "        if the_num % i == 0:\n",
    "            print('Not Prime')\n",
    "            break\n",
    "    else:\n",
    "        print('Prime')"
   ]
  },
  {
   "cell_type": "markdown",
   "id": "2016803c",
   "metadata": {},
   "source": [
    "3.3. Write a program to find the largest prime factor of a given number."
   ]
  },
  {
   "cell_type": "code",
   "execution_count": null,
   "id": "d1f31c7f",
   "metadata": {},
   "outputs": [],
   "source": [
    "the_num = int(input('Enter a number: '))\n",
    "largest_factor = 1\n",
    "\n",
    "for # replace this with your code:\n",
    "    while the_num % i == 0:  # Check if `i` is a factor\n",
    "        largest_factor = i   # Update the largest factor\n",
    "        the_num //= i        # Reduce `the_num` by dividing it by `i`\n",
    "\n",
    "print(f\"Largest prime factor is {largest_factor}\")"
   ]
  },
  {
   "cell_type": "markdown",
   "id": "18d40240",
   "metadata": {},
   "source": [
    "3.4. Write a program to count the number of prime numbers between 1 and 100."
   ]
  },
  {
   "cell_type": "code",
   "execution_count": null,
   "id": "c868fb2b",
   "metadata": {},
   "outputs": [],
   "source": [
    "count = 0\n",
    "for # replace this with your code:\n",
    "    for # replace this with your code:\n",
    "        if num % i == 0:\n",
    "            break\n",
    "    else:\n",
    "        count += 1\n",
    "print(f\"There are {count} prime numbers between 1 and 100.\")"
   ]
  },
  {
   "cell_type": "markdown",
   "id": "5f7434e7",
   "metadata": {},
   "source": [
    "3.5. Modify the code to check divisors only up to the square root of the number for better performance."
   ]
  },
  {
   "cell_type": "code",
   "execution_count": null,
   "id": "feba4038",
   "metadata": {},
   "outputs": [],
   "source": [
    "import math\n",
    "\n",
    "the_num = int(input('Enter a number: '))\n",
    "\n",
    "if the_num < 2:\n",
    "    print('Not Prime')\n",
    "else:\n",
    "    # replace this with your code(2, int(math.sqrt(the_num)) + 1):\n",
    "        if the_num % i == 0:\n",
    "            print('Not Prime')\n",
    "            break\n",
    "    else:\n",
    "        print('Prime')"
   ]
  },
  {
   "cell_type": "markdown",
   "id": "a4c1e9e4",
   "metadata": {},
   "source": [
    "### 4. Practice Exercise: Floyd's Triangle"
   ]
  },
  {
   "cell_type": "markdown",
   "id": "22f7077c",
   "metadata": {},
   "source": [
    "4.1. Modify the code to always generate a triangle with 5 rows without user input."
   ]
  },
  {
   "cell_type": "code",
   "execution_count": null,
   "id": "5c4baf51",
   "metadata": {},
   "outputs": [],
   "source": [
    "num_rows = # replace this with your code\n",
    "the_num = 1\n",
    "\n",
    "for row in # replace this with your code:\n",
    "    for col in # replace this with your code:\n",
    "        print(the_num, end=' ')\n",
    "        the_num += 1\n",
    "    print('')"
   ]
  },
  {
   "cell_type": "markdown",
   "id": "e923f237",
   "metadata": {},
   "source": [
    "4.2. Create a Floyd's Triangle that starts with the largest number and decrements instead of incrementing."
   ]
  },
  {
   "cell_type": "code",
   "execution_count": null,
   "id": "cb51268a",
   "metadata": {},
   "outputs": [],
   "source": [
    "num_rows = int(input('Enter the number of rows for this triangle: '))\n",
    "the_num = sum(range(1, num_rows + 1))  # Calculate the largest number\n",
    "\n",
    "for row in # replace this with your code:  # Outer loop from `num_rows` to 1\n",
    "    for col in # replace this with your code:\n",
    "        print(the_num, end=' ')\n",
    "        the_num -= 1\n",
    "    print('')"
   ]
  },
  {
   "cell_type": "markdown",
   "id": "07ec3522",
   "metadata": {},
   "source": [
    "4.3. Modify the code to allow the user to input the starting number for the triangle."
   ]
  },
  {
   "cell_type": "code",
   "execution_count": null,
   "id": "08091933",
   "metadata": {},
   "outputs": [],
   "source": [
    "num_rows = int(input('Enter the number of rows for this triangle: '))\n",
    "the_num = int(input('Enter the starting number: '))\n",
    "\n",
    "# replace this with your code:\n",
    "    # replace this with your code:\n",
    "        print(the_num, end=' ')\n",
    "        the_num += 1\n",
    "    print('')"
   ]
  },
  {
   "cell_type": "markdown",
   "id": "7099e7e7",
   "metadata": {},
   "source": [
    "4.4. Calculate and print the sum of all numbers in the Floyd's Triangle for num_rows rows."
   ]
  },
  {
   "cell_type": "code",
   "execution_count": null,
   "id": "3247cbf7",
   "metadata": {},
   "outputs": [],
   "source": [
    "num_rows = int(input('Enter the number of rows for this triangle: '))\n",
    "total_sum = 0\n",
    "the_num = 1\n",
    "\n",
    "# replace this with your code:\n",
    "    # replace this with your code:\n",
    "        total_sum += the_num\n",
    "        print(the_num, end=' ')\n",
    "        the_num += 1\n",
    "    print('')\n",
    "\n",
    "print(f\"Sum of the Floyd's Triangle: {total_sum}\")"
   ]
  },
  {
   "cell_type": "markdown",
   "id": "78c8a8e3",
   "metadata": {},
   "source": [
    "4.5. Modify the code to generate a triangle with multiples of 3 instead of consecutive numbers."
   ]
  },
  {
   "cell_type": "code",
   "execution_count": null,
   "id": "9367f5fc",
   "metadata": {},
   "outputs": [],
   "source": [
    "num_rows = int(input('Enter the number of rows for this triangle: '))\n",
    "the_num = 3  # Start with 3\n",
    "\n",
    "# replace this with your code:\n",
    "    # replace this with your code:\n",
    "        print(the_num, end=' ')\n",
    "        the_num += # replace this with your code\n",
    "    print('')"
   ]
  },
  {
   "cell_type": "markdown",
   "id": "13ea6d4a",
   "metadata": {},
   "source": [
    "### 5. Practice Exercise:  Triangular Letters Pattern"
   ]
  },
  {
   "cell_type": "markdown",
   "id": "21533a29",
   "metadata": {},
   "source": [
    "5.1. Modify the code to create a triangle with letters in reverse alphabetical order (Z, Y, X, etc.)."
   ]
  },
  {
   "cell_type": "code",
   "execution_count": null,
   "id": "57c2649f",
   "metadata": {},
   "outputs": [],
   "source": [
    "num_rows = int(input('Enter the number of rows for this triangle: '))\n",
    "\n",
    "# replace this with your code:\n",
    "    repeat_letter = chr(90 - row) * (row + 1)  # Start from Z (ASCII 90)\n",
    "    for char in # replace this with your code:\n",
    "        print(char + ' ', end='')\n",
    "    print()\n"
   ]
  },
  {
   "cell_type": "markdown",
   "id": "0a85a746",
   "metadata": {},
   "source": [
    "5.2. Modify the code to allow the user to input the starting letter for the triangle."
   ]
  },
  {
   "cell_type": "code",
   "execution_count": null,
   "id": "820bc26b",
   "metadata": {},
   "outputs": [],
   "source": [
    "start_letter = input('Enter the starting letter: ').upper()\n",
    "num_rows = int(input('Enter the number of rows for this triangle: '))\n",
    "\n",
    "start_ascii = ord(start_letter)\n",
    "# replace this with your code:\n",
    "    repeat_letter = chr(start_ascii + row) * (row + 1)\n",
    "    # replace this with your code:\n",
    "        print(char + ' ', end='')\n",
    "    print()\n"
   ]
  },
  {
   "cell_type": "markdown",
   "id": "d75f0d0e",
   "metadata": {},
   "source": [
    "5.3. Generate a triangle using lowercase letters instead of uppercase."
   ]
  },
  {
   "cell_type": "code",
   "execution_count": null,
   "id": "75425793",
   "metadata": {},
   "outputs": [],
   "source": [
    "num_rows = int(input('Enter the number of rows for this triangle: '))\n",
    "\n",
    "# replace this with your code:\n",
    "    # replace this with your code = chr(97 + row) * (row + 1)  # Start from 'a' (ASCII 97)\n",
    "    for char in repeat_letter:\n",
    "        print(char + ' ', end='')\n",
    "    print()\n"
   ]
  },
  {
   "cell_type": "markdown",
   "id": "4ef2634f",
   "metadata": {},
   "source": [
    "5.4. Modify the triangle so that the number of repetitions decreases row by row, starting from num_rows and ending at 1"
   ]
  },
  {
   "cell_type": "code",
   "execution_count": null,
   "id": "81957606",
   "metadata": {},
   "outputs": [],
   "source": [
    "num_rows = int(input('Enter the number of rows for this triangle: '))\n",
    "\n",
    "# replace this with your code:  # Start from num_rows down to 1\n",
    "    repeat_letter = chr(65 + (num_rows - row)) * row\n",
    "    for char in # replace this with your code:\n",
    "        print(char + ' ', end='')\n",
    "    print()"
   ]
  },
  {
   "cell_type": "markdown",
   "id": "0dd5b67c",
   "metadata": {},
   "source": [
    "5.5. Write a program to calculate the sum of the ASCII values of all letters in the triangle."
   ]
  },
  {
   "cell_type": "code",
   "execution_count": null,
   "id": "a71a1fe1",
   "metadata": {},
   "outputs": [],
   "source": [
    "num_rows = int(input('Enter the number of rows for this triangle: '))\n",
    "\n",
    "total_sum = 0\n",
    "# replace this with your code:\n",
    "    repeat_letter = chr(65 + row) * (row + 1)\n",
    "    # replace this with your code:\n",
    "        total_sum += ord(# replace this with your code)\n",
    "print(f\"Sum of ASCII values: {total_sum}\")"
   ]
  },
  {
   "cell_type": "markdown",
   "id": "ba4cf44a",
   "metadata": {},
   "source": [
    "### 6. Practice Exercise: Print Digits in Reverse Order"
   ]
  },
  {
   "cell_type": "markdown",
   "id": "bce06cd4",
   "metadata": {},
   "source": [
    "6.1. Write a program to calculate the sum of the reversed digits of a given number using a for loop."
   ]
  },
  {
   "cell_type": "code",
   "execution_count": null,
   "id": "e7ae2257",
   "metadata": {},
   "outputs": [],
   "source": [
    "the_num = 3456\n",
    "reversed_sum = 0\n",
    "\n",
    "for digit # replace this with your code [replace this with your code]:  # Reverse the number as a string and iterate\n",
    "    reversed_sum += int(digit)\n",
    "\n",
    "print(f\"Sum of the reversed digits: {reversed_sum}\")"
   ]
  },
  {
   "cell_type": "markdown",
   "id": "1dce4fe9",
   "metadata": {},
   "source": [
    "6.2. Write a program to count the frequency of each digit in a number and display the result."
   ]
  },
  {
   "cell_type": "code",
   "execution_count": null,
   "id": "3bea87b8",
   "metadata": {},
   "outputs": [],
   "source": [
    "the_num = 1223334444\n",
    "frequency = {}\n",
    "\n",
    "for digit # replace this with your code:\n",
    "    if # replace this with your code\n",
    "        frequency[digit] += 1\n",
    "    else:\n",
    "        frequency[digit] = 1\n",
    "\n",
    "print(\"Digit frequencies:\")\n",
    "for key, value in frequency.items():\n",
    "    print(f\"{key}: {value}\")"
   ]
  },
  {
   "cell_type": "markdown",
   "id": "6b99e120",
   "metadata": {},
   "source": [
    "6.3. Modify the reversal logic to include only the digits at even indices (0-based) in the reversed result."
   ]
  },
  {
   "cell_type": "code",
   "execution_count": null,
   "id": "6eaa36f2",
   "metadata": {},
   "outputs": [],
   "source": [
    "the_num = 123456\n",
    "\n",
    "# Extract digits at even indices (0-based) in reverse order\n",
    "reverse_even = ''\n",
    "for # replace this with your code in enumerate(str(the_num)):\n",
    "    if i % 2 == 0:  # Check for even indices\n",
    "        reverse_even = digit + reverse_even  # Add to the reverse result\n",
    "\n",
    "print(f\"Reversed digits at even indices: {reverse_even}\")"
   ]
  },
  {
   "cell_type": "markdown",
   "id": "4f8b76ca",
   "metadata": {},
   "source": [
    "6.4. Given a list of numbers, reverse the digits of each number using a for loop and display the results."
   ]
  },
  {
   "cell_type": "code",
   "execution_count": null,
   "id": "ba345091",
   "metadata": {},
   "outputs": [],
   "source": [
    "nums = [123, 456, 789]\n",
    "reversed_nums = []\n",
    "\n",
    "for # replace this with your code:\n",
    "    reverse = ''\n",
    "    # replace this with your code:\n",
    "        reverse = digit + reverse\n",
    "    reversed_nums.append(int(reverse))\n",
    "\n",
    "print(f\"Reversed numbers: {reversed_nums}\")"
   ]
  },
  {
   "cell_type": "markdown",
   "id": "3c57be74",
   "metadata": {},
   "source": [
    "6.5. Calculate the product of the digits of a number in reverse order using a for loop."
   ]
  },
  {
   "cell_type": "code",
   "execution_count": null,
   "id": "10a76c1e",
   "metadata": {},
   "outputs": [],
   "source": [
    "the_num = 234\n",
    "reversed_product = 1\n",
    "\n",
    "# replace this with your code:  # Reverse and iterate through digits\n",
    "    reversed_product *= int(digit)\n",
    "\n",
    "print(f\"Product of reversed digits: {reversed_product}\")"
   ]
  },
  {
   "cell_type": "markdown",
   "id": "562f852a",
   "metadata": {},
   "source": [
    "### 7. Practice Exercise: Print the First 15 Positive Integers"
   ]
  },
  {
   "cell_type": "markdown",
   "id": "7680f83f",
   "metadata": {},
   "source": [
    "7.1. Modify the program to print the square of each number instead of the number itself"
   ]
  },
  {
   "cell_type": "code",
   "execution_count": null,
   "id": "1a4f5b8e",
   "metadata": {},
   "outputs": [],
   "source": [
    "# replace this with your code:\n",
    "    print(num ** 2)"
   ]
  },
  {
   "cell_type": "markdown",
   "id": "cd046106",
   "metadata": {},
   "source": [
    "7.2. Print only the odd numbers between 1 and 15."
   ]
  },
  {
   "cell_type": "code",
   "execution_count": null,
   "id": "540a8467",
   "metadata": {},
   "outputs": [],
   "source": [
    "# replace this with your code: \n",
    "    print(num)"
   ]
  },
  {
   "cell_type": "markdown",
   "id": "b898a48a",
   "metadata": {},
   "source": [
    "7.3. Write a program to calculate the sum of the first 15 positive integers."
   ]
  },
  {
   "cell_type": "code",
   "execution_count": null,
   "id": "c7793b74",
   "metadata": {},
   "outputs": [],
   "source": [
    "total = 0\n",
    "# replace this with your code:\n",
    "    total += num\n",
    "print(f\"Sum: {total}\")"
   ]
  },
  {
   "cell_type": "markdown",
   "id": "d572f83c",
   "metadata": {},
   "source": [
    "7.4. Print the numbers from 15 down to 1."
   ]
  },
  {
   "cell_type": "code",
   "execution_count": null,
   "id": "35ab3d6a",
   "metadata": {},
   "outputs": [],
   "source": [
    "# replace this with your code:\n",
    "    print(num)"
   ]
  },
  {
   "cell_type": "markdown",
   "id": "d33dca9d",
   "metadata": {},
   "source": [
    "7.5. Allow the user to input the start and stop values to print numbers within the custom range."
   ]
  },
  {
   "cell_type": "code",
   "execution_count": null,
   "id": "301f2584",
   "metadata": {},
   "outputs": [],
   "source": [
    "start = int(input(\"Enter the start value: \"))\n",
    "stop = int(input(\"Enter the stop value: \"))\n",
    "# replace this with your code: \n",
    "    print(num)"
   ]
  },
  {
   "cell_type": "markdown",
   "id": "880b14e6",
   "metadata": {},
   "source": [
    "### 8. Practice Exercise: Reverse a String using a Loop"
   ]
  },
  {
   "cell_type": "markdown",
   "id": "014c9ecb",
   "metadata": {},
   "source": [
    "8.1. Modify the program to reverse the string while preserving spaces in their original positions."
   ]
  },
  {
   "cell_type": "code",
   "execution_count": null,
   "id": "77538830",
   "metadata": {},
   "outputs": [],
   "source": [
    "the_string = 'Py th on'\n",
    "result = list(the_string)  # Convert to a list for manipulation\n",
    "letters = [char for char in # replace this with your code if char != ' ']  # Extract letters\n",
    "\n",
    "# replace this with your code:\n",
    "    if char != ' ':\n",
    "        result[i] = letters.pop()  # Replace letters in reverse order\n",
    "\n",
    "print(''.join(result))  "
   ]
  },
  {
   "cell_type": "markdown",
   "id": "6458426f",
   "metadata": {},
   "source": [
    "8.2. Write a program to check if the reversed string is the same as the original string."
   ]
  },
  {
   "cell_type": "code",
   "execution_count": null,
   "id": "a7cf85d6",
   "metadata": {},
   "outputs": [],
   "source": [
    "the_string = 'madam'\n",
    "\n",
    "is_same = True\n",
    "# replace this with your code:\n",
    "    if char != # replace this with your code[-(i + 1)]:\n",
    "        is_same = False\n",
    "        break\n",
    "\n",
    "print(\"Reversal is the same as the original:\", is_same)"
   ]
  },
  {
   "cell_type": "markdown",
   "id": "b995f04f",
   "metadata": {},
   "source": [
    "8.3. Reverse the string and convert all characters to uppercase."
   ]
  },
  {
   "cell_type": "code",
   "execution_count": null,
   "id": "86eac684",
   "metadata": {},
   "outputs": [],
   "source": [
    "the_string = 'Python'\n",
    "\n",
    "# replace this with your code:\n",
    "    print(char.upper(), end='')"
   ]
  },
  {
   "cell_type": "markdown",
   "id": "066f6ef0",
   "metadata": {},
   "source": [
    "8.4. Write a program to reverse the order of words in a sentence while keeping each word intact."
   ]
  },
  {
   "cell_type": "code",
   "execution_count": null,
   "id": "8e76124d",
   "metadata": {},
   "outputs": [],
   "source": [
    "sentence = 'Hello World'\n",
    "words = sentence.split()\n",
    "\n",
    "# replace this with your code:\n",
    "    print(word, end=' ')"
   ]
  },
  {
   "cell_type": "markdown",
   "id": "941e811f",
   "metadata": {},
   "source": [
    "8.5. Prompt the user to enter a string and reverse it using a for loop."
   ]
  },
  {
   "cell_type": "code",
   "execution_count": null,
   "id": "6549ae69",
   "metadata": {},
   "outputs": [],
   "source": [
    "the_string = input('Enter a string: ')\n",
    "\n",
    "# replace this with your code:\n",
    "    print(char, end='')"
   ]
  },
  {
   "cell_type": "markdown",
   "id": "d9838a60",
   "metadata": {},
   "source": [
    "### 9. Practice Exercise: Sum of First 100 Positive Integers"
   ]
  },
  {
   "cell_type": "markdown",
   "id": "2d4546ff",
   "metadata": {},
   "source": [
    "9.1. Write a program to calculate the sum of the first 50 even numbers using a for loop."
   ]
  },
  {
   "cell_type": "code",
   "execution_count": null,
   "id": "084e03ff",
   "metadata": {},
   "outputs": [],
   "source": [
    "the_sum = 0\n",
    "\n",
    "# replace this with your code:  # Generate even numbers from 2 to 100\n",
    "    the_sum += num\n",
    "\n",
    "print(the_sum)"
   ]
  },
  {
   "cell_type": "markdown",
   "id": "6d916a0c",
   "metadata": {},
   "source": [
    "9.2. Modify the code to calculate the sum of all multiples of 5 between 1 and 100."
   ]
  },
  {
   "cell_type": "code",
   "execution_count": null,
   "id": "1e81493a",
   "metadata": {},
   "outputs": [],
   "source": [
    "the_sum = 0\n",
    "\n",
    "# replace this with your code:  # Generate multiples of 5 from 5 to 100\n",
    "    the_sum += num\n",
    "\n",
    "print(the_sum)"
   ]
  },
  {
   "cell_type": "markdown",
   "id": "65b9089b",
   "metadata": {},
   "source": [
    "9.3. Allow the user to input a range (start and stop values) and calculate the sum of all integers in that range."
   ]
  },
  {
   "cell_type": "code",
   "execution_count": null,
   "id": "844ac3c9",
   "metadata": {},
   "outputs": [],
   "source": [
    "start = int(input(\"Enter the start value: \"))\n",
    "stop = int(input(\"Enter the stop value: \"))\n",
    "the_sum = 0\n",
    "\n",
    "# replace this with your code:  # Include the stop value in the range\n",
    "    the_sum += num\n",
    "\n",
    "print(f\"Sum from {start} to {stop}: {the_sum}\")"
   ]
  },
  {
   "cell_type": "markdown",
   "id": "45727aa6",
   "metadata": {},
   "source": [
    "9.4. Write a program to calculate the average of the first 100 positive integers."
   ]
  },
  {
   "cell_type": "code",
   "execution_count": null,
   "id": "e2a804be",
   "metadata": {},
   "outputs": [],
   "source": [
    "the_sum = # replace this with your code  # Use the optimized summation\n",
    "average = the_sum / 100  # Divide by the count of numbers\n",
    "\n",
    "print(f\"Average: {average}\")"
   ]
  },
  {
   "cell_type": "markdown",
   "id": "8945fd71",
   "metadata": {},
   "source": [
    "9.5. Calculate the sum of the squares of the first 100 positive integers."
   ]
  },
  {
   "cell_type": "code",
   "execution_count": null,
   "id": "e7f3550d",
   "metadata": {},
   "outputs": [],
   "source": [
    "the_sum = 0\n",
    "\n",
    "# replace this with your code:\n",
    "    the_sum += num ** 2  # Add the square of each number\n",
    "\n",
    "print(f\"Sum of squares: {the_sum}\")"
   ]
  },
  {
   "cell_type": "markdown",
   "id": "4b80e87a",
   "metadata": {},
   "source": [
    "### 10. Practice Exercise: Print a Multiplication Table"
   ]
  },
  {
   "cell_type": "markdown",
   "id": "c54d5089",
   "metadata": {},
   "source": [
    "10.1. Modify the program to print the multiplication table for a user-defined range (e.g., from 1 to a maximum value)."
   ]
  },
  {
   "cell_type": "code",
   "execution_count": null,
   "id": "9c391c9f",
   "metadata": {},
   "outputs": [],
   "source": [
    "the_num = int(input('Enter a number to multiply: '))\n",
    "max_val = int(input('Enter the maximum value for the table: '))\n",
    "\n",
    "print(f'*** Multiplication Table up to {max_val} for the number {the_num} ***')\n",
    "\n",
    "# replace this with your code:\n",
    "    print(f'{the_num} * {i} = {the_num * i}')"
   ]
  },
  {
   "cell_type": "markdown",
   "id": "61b53e67",
   "metadata": {},
   "source": [
    "10.2. Print multiplication tables for numbers from 1 to 5."
   ]
  },
  {
   "cell_type": "code",
   "execution_count": null,
   "id": "e5fea837",
   "metadata": {},
   "outputs": [],
   "source": [
    "# replace this with your code::  # Generate tables for numbers 1 to 5\n",
    "    print(f'*** Multiplication Table for {num} ***')\n",
    "    # replace this with your code:\n",
    "        print(f'{num} * {i} = {num * i}')\n",
    "    print()  # Add a blank line between tables"
   ]
  },
  {
   "cell_type": "markdown",
   "id": "cfd7b312",
   "metadata": {},
   "source": [
    "10.3. Print the multiplication table in a horizontal format, showing the results for all numbers from 1 to 10 in a single row."
   ]
  },
  {
   "cell_type": "code",
   "execution_count": null,
   "id": "e6ba8a80",
   "metadata": {},
   "outputs": [],
   "source": [
    " the_num = int(input('Enter a number to multiply: '))\n",
    "\n",
    "print(f'*** Multiplication Table for {the_num} in Horizontal Format ***')\n",
    "# replace this with your code:\n",
    "    print(f'{the_num * i:4}', end=' ')  # Print results in a row, formatted with spacing\n",
    "print()"
   ]
  },
  {
   "cell_type": "markdown",
   "id": "0984cb24",
   "metadata": {},
   "source": [
    "10.4. Calculate and display the sum of all products in the multiplication table."
   ]
  },
  {
   "cell_type": "code",
   "execution_count": null,
   "id": "f0b47bfc",
   "metadata": {},
   "outputs": [],
   "source": [
    "the_num = int(input('Enter a number to multiply: '))\n",
    "\n",
    "total_sum = 0\n",
    "print(f'*** Multiplication Table for {the_num} ***')\n",
    "# replace this with your code:\n",
    "    product = the_num * i\n",
    "    total_sum += product\n",
    "    print(f'{the_num} * {i} = {product}')\n",
    "\n",
    "print(f'Sum of the products: {total_sum}')"
   ]
  },
  {
   "cell_type": "markdown",
   "id": "016fa8e7",
   "metadata": {},
   "source": [
    "10.5. Print the multiplication table in reverse order (from 10 down to 1)."
   ]
  },
  {
   "cell_type": "code",
   "execution_count": null,
   "id": "c8cd27c0",
   "metadata": {},
   "outputs": [],
   "source": [
    "the_num = int(input('Enter a number to multiply: '))\n",
    "\n",
    "print(f'*** Reverse Multiplication Table for {the_num} ***')\n",
    "# replace this with your code:  \n",
    "    print(f'{the_num} * {i} = {the_num * i}')"
   ]
  },
  {
   "cell_type": "markdown",
   "id": "da745650",
   "metadata": {},
   "source": [
    "### 11. Print Integers in Reverse Order (from n to 1)"
   ]
  },
  {
   "cell_type": "markdown",
   "id": "5e84b1c6",
   "metadata": {},
   "source": [
    "11.1. Modify the program to print only the odd numbers in reverse order from n to 1."
   ]
  },
  {
   "cell_type": "code",
   "execution_count": null,
   "id": "0c54329b",
   "metadata": {},
   "outputs": [],
   "source": [
    "user_num = int(input('Enter a number greater than zero: '))\n",
    "\n",
    "# replace this with your code: \n",
    "    if num % 2 != 0:  # Check if the number is odd\n",
    "        print(num)"
   ]
  },
  {
   "cell_type": "markdown",
   "id": "8b373888",
   "metadata": {},
   "source": [
    "11.2. Calculate the sum of numbers from n to 1 as they are printed in reverse."
   ]
  },
  {
   "cell_type": "code",
   "execution_count": null,
   "id": "4f667e1c",
   "metadata": {},
   "outputs": [],
   "source": [
    "user_num = int(input('Enter a number greater than zero: '))\n",
    "\n",
    "reverse_sum = 0\n",
    "# replace this with your code:\n",
    "    reverse_sum += num\n",
    "    print(num)\n",
    "\n",
    "print(f\"Sum: {reverse_sum}\")"
   ]
  },
  {
   "cell_type": "markdown",
   "id": "cc7074d6",
   "metadata": {},
   "source": [
    "11.3. Allow the user to input both the start and stop values for the reverse range."
   ]
  },
  {
   "cell_type": "code",
   "execution_count": null,
   "id": "b698ac43",
   "metadata": {},
   "outputs": [],
   "source": [
    "start = int(input('Enter the start value: '))\n",
    "stop = int(input('Enter the stop value: '))\n",
    "\n",
    "# replace this with your code:  # Reverse range from start to stop\n",
    "    print(num)"
   ]
  },
  {
   "cell_type": "markdown",
   "id": "70efa321",
   "metadata": {},
   "source": [
    "11.4. Print each number along with its index in the reverse sequence."
   ]
  },
  {
   "cell_type": "code",
   "execution_count": null,
   "id": "0bab76d4",
   "metadata": {},
   "outputs": [],
   "source": [
    "user_num = int(input('Enter a number greater than zero: '))\n",
    "\n",
    "# replace this with your code:\n",
    "    print(f\"Index {index + 1}: {num}\")"
   ]
  },
  {
   "cell_type": "markdown",
   "id": "661a668f",
   "metadata": {},
   "source": [
    "11.5. Modify the program to print only the even numbers in reverse order from n to 1."
   ]
  },
  {
   "cell_type": "code",
   "execution_count": null,
   "id": "4aacc089",
   "metadata": {},
   "outputs": [],
   "source": [
    "user_num = int(input('Enter a number greater than zero: '))\n",
    "\n",
    "# replace this with your code:\n",
    "    if num % 2 == 0:  # Check if the number is even\n",
    "        print(num)"
   ]
  },
  {
   "cell_type": "markdown",
   "id": "6ae4fe38",
   "metadata": {},
   "source": [
    "### 12. Print the Alphabet using a Loop"
   ]
  },
  {
   "cell_type": "markdown",
   "id": "bd734e95",
   "metadata": {},
   "source": [
    "12.1. Modify the program to print the lowercase English alphabet instead of uppercase."
   ]
  },
  {
   "cell_type": "code",
   "execution_count": null,
   "id": "a1f84ffd",
   "metadata": {},
   "outputs": [],
   "source": [
    "# replace this with your code:  \n",
    "    print(chr(ascii_value))"
   ]
  },
  {
   "cell_type": "markdown",
   "id": "8a2e4af0",
   "metadata": {},
   "source": [
    "12.2. Print a subset of the alphabet, such as letters from 'K' to 'P'."
   ]
  },
  {
   "cell_type": "code",
   "execution_count": null,
   "id": "0397d0c8",
   "metadata": {},
   "outputs": [],
   "source": [
    "# replace this with your code:\n",
    "    print(chr(ascii_value))"
   ]
  },
  {
   "cell_type": "markdown",
   "id": "acfbc003",
   "metadata": {},
   "source": [
    "12.3. Print the English alphabet in reverse order ('Z' to 'A')."
   ]
  },
  {
   "cell_type": "code",
   "execution_count": null,
   "id": "c11eaaa4",
   "metadata": {},
   "outputs": [],
   "source": [
    "# replace this with your code:\n",
    "    print(chr(ascii_value))"
   ]
  },
  {
   "cell_type": "markdown",
   "id": "49af8751",
   "metadata": {},
   "source": [
    "12.4. Print each letter along with its position in the alphabet (e.g., 1: A, 2: B)."
   ]
  },
  {
   "cell_type": "code",
   "execution_count": null,
   "id": "c039df70",
   "metadata": {},
   "outputs": [],
   "source": [
    "# replace this with your code:  # Add index\n",
    "    print(f\"{index}: {chr(ascii_value)}\")"
   ]
  },
  {
   "cell_type": "markdown",
   "id": "65889631",
   "metadata": {},
   "source": [
    "12.5. Print every alternate letter in the alphabet (e.g., A, C, E, ...)."
   ]
  },
  {
   "cell_type": "code",
   "execution_count": null,
   "id": "df4bf28d",
   "metadata": {},
   "outputs": [],
   "source": [
    "# replace this with your code:  \n",
    "    print(chr(ascii_value))"
   ]
  },
  {
   "cell_type": "markdown",
   "id": "e1664c7c",
   "metadata": {},
   "source": [
    "### 13. Diamond Made with Asterisks"
   ]
  },
  {
   "cell_type": "markdown",
   "id": "d4bcd858",
   "metadata": {},
   "source": [
    "13.1 Modify the program to allow the user to choose a character (e.g., # or @) for the diamond."
   ]
  },
  {
   "cell_type": "code",
   "execution_count": null,
   "id": "56ea5884",
   "metadata": {},
   "outputs": [],
   "source": [
    "diamond_height = int(input('Enter an odd number to represent the diamond height: '))\n",
    "char = input('Enter a character for the diamond: ')\n",
    "\n",
    "# replace this with your code:  == 0:\n",
    "    print('The height must be an odd number.')\n",
    "else:\n",
    "    mid_of_diamond = (diamond_height + 1) // 2\n",
    "\n",
    "    # replace this with your code:\n",
    "        print(\" \" * (mid_of_diamond - row - 1) + char * (row * 2 + 1))\n",
    "    # replace this with your code: \n",
    "        print(\" \" * (mid_of_diamond - row - 1) + char * (row * 2 + 1))"
   ]
  },
  {
   "cell_type": "markdown",
   "id": "93b2b0ba",
   "metadata": {},
   "source": [
    "13.2. Print a diamond with letters instead of *, starting with A at the top and continuing alphabetically"
   ]
  },
  {
   "cell_type": "code",
   "execution_count": null,
   "id": "7fa3c5ed",
   "metadata": {},
   "outputs": [],
   "source": [
    "diamond_height = int(input('Enter an odd number to represent the diamond height: '))\n",
    "\n",
    "# replace this with your code == 0:\n",
    "    print('The height must be an odd number.')\n",
    "else:\n",
    "    mid_of_diamond = (diamond_height + 1) // 2\n",
    "    alphabet = 'ABCDEFGHIJKLMNOPQRSTUVWXYZ'\n",
    "\n",
    "    # replace this with your code:\n",
    "        print(\" \" * (mid_of_diamond - row - 1) + alphabet[row] * (row * 2 + 1))\n",
    "    # replace this with your code:\n",
    "        print(\" \" * (mid_of_diamond - row - 1) + alphabet[row] * (row * 2 + 1))"
   ]
  },
  {
   "cell_type": "markdown",
   "id": "13b034d2",
   "metadata": {},
   "source": [
    "13.3. Modify the program to print a hollow diamond where only the edges are displayed."
   ]
  },
  {
   "cell_type": "code",
   "execution_count": null,
   "id": "94dd64dc",
   "metadata": {},
   "outputs": [],
   "source": [
    "diamond_height = int(input('Enter an odd number to represent the diamond height: '))\n",
    "\n",
    "# replace this with your code:\n",
    "    print('The height must be an odd number.')\n",
    "else:\n",
    "    mid_of_diamond = (diamond_height + 1) // 2\n",
    "\n",
    "    # replace this with your code:\n",
    "        if row == 0:\n",
    "            print(\" \" * (mid_of_diamond - row - 1) + \"*\")\n",
    "        else:\n",
    "            print(\" \" * (mid_of_diamond - row - 1) + \"*\" + \" \" * (row * 2 - 1) + \"*\")\n",
    "    # replace this with your code:\n",
    "        if row == 0:\n",
    "            print(\" \" * (mid_of_diamond - row - 1) + \"*\")\n",
    "        else:\n",
    "            print(\" \" * (mid_of_diamond - row - 1) + \"*\" + \" \" * (row * 2 - 1) + \"*\")"
   ]
  },
  {
   "cell_type": "markdown",
   "id": "55526dc0",
   "metadata": {},
   "source": [
    "13.4. Print two diamonds side by side, separated by spaces."
   ]
  },
  {
   "cell_type": "code",
   "execution_count": null,
   "id": "268ce972",
   "metadata": {},
   "outputs": [],
   "source": [
    "diamond_height = int(input('Enter an odd number to represent the diamond height: '))\n",
    "\n",
    "if diamond_height % 2 == 0:\n",
    "    print('The height must be an odd number.')\n",
    "else:\n",
    "     # replace this with your code\n",
    "\n",
    "     # replace this with your code:\n",
    "        print(\" \" * (mid_of_diamond - row - 1) + \"*\" * (row * 2 + 1) + \" \" * 3 + \"*\" * (row * 2 + 1))\n",
    "     # replace this with your code:\n",
    "        print(\" \" * (mid_of_diamond - row - 1) + \"*\" * (row * 2 + 1) + \" \" * 3 + \"*\" * (row * 2 + 1))\n"
   ]
  },
  {
   "cell_type": "markdown",
   "id": "b33e611f",
   "metadata": {},
   "source": [
    "13.5. Print a diamond where each row contains its corresponding row number."
   ]
  },
  {
   "cell_type": "code",
   "execution_count": null,
   "id": "e63a12ee",
   "metadata": {},
   "outputs": [],
   "source": [
    "diamond_height = int(input('Enter an odd number to represent the diamond height: '))\n",
    "\n",
    "# replace this with your code:\n",
    "    print('The height must be an odd number.')\n",
    "else:\n",
    "    mid_of_diamond = (diamond_height + 1) // 2\n",
    "\n",
    "    # replace this with your code:\n",
    "        print(\" \" * (mid_of_diamond - row - 1) + str(row + 1) * (row * 2 + 1))\n",
    "    # replace this with your code:\n",
    "        print(\" \" * (mid_of_diamond - row - 1) + str(row + 1) * (row * 2 + 1))"
   ]
  },
  {
   "cell_type": "markdown",
   "id": "4ac456b7",
   "metadata": {},
   "source": [
    "### 14. Print a Pattern using Loops"
   ]
  },
  {
   "cell_type": "markdown",
   "id": "14545fcd",
   "metadata": {},
   "source": [
    "14.1. Modify the program to allow the user to specify a custom character for the pyramid."
   ]
  },
  {
   "cell_type": "code",
   "execution_count": null,
   "id": "1b79c21a",
   "metadata": {},
   "outputs": [],
   "source": [
    "rows_in_pattern = int(input(\"Enter the number of rows in the Pyramid: \"))\n",
    "char = input(\"Enter the character for the Pyramid: \")\n",
    "\n",
    "max_width = (2 * rows_in_pattern) - 1\n",
    "\n",
    "# replace this with your code:\n",
    "    pattern = char * (2 * row - 1)\n",
    "    print(pattern.center(max_width))"
   ]
  },
  {
   "cell_type": "markdown",
   "id": "bf95c7af",
   "metadata": {},
   "source": [
    "14.2. Print the pyramid upside down, starting with the widest row and reducing stars each row."
   ]
  },
  {
   "cell_type": "code",
   "execution_count": null,
   "id": "574b4701",
   "metadata": {},
   "outputs": [],
   "source": [
    "rows_in_pattern = int(input(\"Enter the number of rows in the Pyramid: \"))\n",
    "\n",
    "max_width = (2 * rows_in_pattern) - 1\n",
    "\n",
    "# replace this with your code:  # Start from the widest row\n",
    "    stars = \"*\" * (2 * row - 1)\n",
    "    print(stars.center(max_width))"
   ]
  },
  {
   "cell_type": "markdown",
   "id": "5fb2203c",
   "metadata": {},
   "source": [
    "14.3. Modify the program to create a hollow pyramid where only the outline is printed."
   ]
  },
  {
   "cell_type": "code",
   "execution_count": null,
   "id": "7453cf38",
   "metadata": {},
   "outputs": [],
   "source": [
    "rows_in_pattern = int(input(\"Enter the number of rows in the Pyramid: \"))\n",
    "\n",
    "max_width = (2 * rows_in_pattern) - 1\n",
    "\n",
    "# replace this with your code:\n",
    "    # replace this with your code:  # Top of the pyramid\n",
    "        print(\"*\".center(max_width))\n",
    "    elif row == rows_in_pattern:  # Base of the pyramid\n",
    "        print(\"*\" * (2 * row - 1))\n",
    "    else:\n",
    "        stars = \"*\" + \" \" * (2 * row - 3) + \"*\"  # Hollow row\n",
    "        print(stars.center(max_width))"
   ]
  },
  {
   "cell_type": "markdown",
   "id": "4eff495d",
   "metadata": {},
   "source": [
    "14.4. Combine two pyramids (one upright and one inverted) to form a diamond."
   ]
  },
  {
   "cell_type": "code",
   "execution_count": null,
   "id": "48b8ba46",
   "metadata": {},
   "outputs": [],
   "source": [
    "rows_in_pattern = int(input(\"Enter the number of rows in the Diamond: \"))\n",
    "\n",
    "max_width = (2 * rows_in_pattern) - 1\n",
    "\n",
    "# Upper half\n",
    "# replace this with your code:\n",
    "    stars = \"*\" * (2 * row - 1)\n",
    "    print(stars.center(max_width))\n",
    "\n",
    "# Lower half\n",
    "# replace this with your code:\n",
    "    stars = \"*\" * (2 * row - 1)\n",
    "    print(stars.center(max_width))"
   ]
  },
  {
   "cell_type": "markdown",
   "id": "52d0e61a",
   "metadata": {},
   "source": [
    "14.5. Replace asterisks with numbers that increase from top to bottom."
   ]
  },
  {
   "cell_type": "code",
   "execution_count": null,
   "id": "0ce97a93",
   "metadata": {},
   "outputs": [],
   "source": [
    "rows_in_pattern = int(input(\"Enter the number of rows in the Pyramid: \"))\n",
    "\n",
    "max_width = (2 * rows_in_pattern) - 1\n",
    "\n",
    "# replace this with your code:\n",
    "    numbers = ''.join(str(i % 10) # replace this with your code1, 2 * row))\n",
    "    print(numbers.center(max_width))"
   ]
  },
  {
   "cell_type": "markdown",
   "id": "ad5bfd03",
   "metadata": {},
   "source": [
    "### Solution Available at: For Loop Solutions: Practice Exercises & Challenges"
   ]
  }
 ],
 "metadata": {
  "kernelspec": {
   "display_name": "Python 3 (ipykernel)",
   "language": "python",
   "name": "python3"
  },
  "language_info": {
   "codemirror_mode": {
    "name": "ipython",
    "version": 3
   },
   "file_extension": ".py",
   "mimetype": "text/x-python",
   "name": "python",
   "nbconvert_exporter": "python",
   "pygments_lexer": "ipython3",
   "version": "3.11.4"
  }
 },
 "nbformat": 4,
 "nbformat_minor": 5
}
