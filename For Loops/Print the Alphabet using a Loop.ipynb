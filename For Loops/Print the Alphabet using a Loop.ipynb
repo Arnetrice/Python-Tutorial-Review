{
 "cells": [
  {
   "attachments": {},
   "cell_type": "markdown",
   "id": "de666638",
   "metadata": {},
   "source": [
    " # **Print the Alphabet using a Loop**"
   ]
  },
  {
   "cell_type": "markdown",
   "id": "b1b377e4",
   "metadata": {},
   "source": [
    "### Standard Approach:"
   ]
  },
  {
   "cell_type": "code",
   "execution_count": null,
   "id": "24184929",
   "metadata": {},
   "outputs": [],
   "source": [
    "# Import the string module\n",
    "import string\n",
    "\n",
    "# Get the uppercase alphabet\n",
    "the_alphabet = string.ascii_uppercase\n",
    "\n",
    "# Iterate through each letter in the alphabet\n",
    "for letter in the_alphabet:\n",
    "    print(letter)"
   ]
  },
  {
   "cell_type": "markdown",
   "id": "a9865f88",
   "metadata": {},
   "source": [
    "Note: This approach uses the string module to access the uppercase English alphabet directly, iterating through each letter."
   ]
  },
  {
   "cell_type": "markdown",
   "id": "017aff0b",
   "metadata": {},
   "source": [
    "### Optimized Solution:"
   ]
  },
  {
   "cell_type": "code",
   "execution_count": null,
   "id": "496e1d1c",
   "metadata": {},
   "outputs": [],
   "source": [
    "# Print uppercase alphabet using ASCII values\n",
    "for ascii_value in range(65, 91):  # ASCII values for 'A' to 'Z'\n",
    "    print(chr(ascii_value))  # Convert ASCII value to character and print"
   ]
  },
  {
   "cell_type": "markdown",
   "id": "f2901c30",
   "metadata": {},
   "source": [
    "Note: This solution directly generates uppercase letters using their ASCII values and the chr() function."
   ]
  },
  {
   "attachments": {},
   "cell_type": "markdown",
   "id": "46c2e449",
   "metadata": {},
   "source": [
    "### Additional Practice:\n",
    "See For Loops - Practice Exercises & Challenges: Print the Alphabet using a Loop"
   ]
  }
 ],
 "metadata": {
  "kernelspec": {
   "display_name": "Python 3 (ipykernel)",
   "language": "python",
   "name": "python3"
  },
  "language_info": {
   "codemirror_mode": {
    "name": "ipython",
    "version": 3
   },
   "file_extension": ".py",
   "mimetype": "text/x-python",
   "name": "python",
   "nbconvert_exporter": "python",
   "pygments_lexer": "ipython3",
   "version": "3.11.4"
  }
 },
 "nbformat": 4,
 "nbformat_minor": 5
}
