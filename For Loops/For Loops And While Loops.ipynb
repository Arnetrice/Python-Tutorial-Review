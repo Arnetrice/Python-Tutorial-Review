{
 "cells": [
  {
   "cell_type": "code",
   "execution_count": 1,
   "metadata": {},
   "outputs": [
    {
     "name": "stdout",
     "output_type": "stream",
     "text": [
      "1\n",
      "2\n",
      "3\n",
      "4\n",
      "5\n",
      "6\n",
      "7\n",
      "8\n",
      "9\n",
      "10\n",
      "11\n",
      "12\n",
      "13\n",
      "14\n",
      "15\n"
     ]
    }
   ],
   "source": [
    "# Print the First 15 Positive Integers\n",
    "\n",
    "for num in range(1, 16):\n",
    "    print(num)"
   ]
  },
  {
   "cell_type": "code",
   "execution_count": 2,
   "metadata": {},
   "outputs": [
    {
     "name": "stdout",
     "output_type": "stream",
     "text": [
      "1\n",
      "2\n",
      "3\n",
      "4\n",
      "5\n",
      "6\n",
      "7\n",
      "8\n",
      "9\n",
      "10\n",
      "11\n",
      "12\n",
      "13\n",
      "14\n",
      "15\n"
     ]
    }
   ],
   "source": [
    "for num in range(1, 16, 1):\n",
    "    print(num)"
   ]
  },
  {
   "cell_type": "code",
   "execution_count": 3,
   "metadata": {},
   "outputs": [
    {
     "name": "stdout",
     "output_type": "stream",
     "text": [
      "Enter a number greater than zero: 5\n",
      "5\n",
      "4\n",
      "3\n",
      "2\n",
      "1\n"
     ]
    }
   ],
   "source": [
    "# Print Integers in Reverse Order (from n to 1)\n",
    "\n",
    "user_num = int(input('Enter a number greater than zero: '))\n",
    "\n",
    "the_nums = []\n",
    "\n",
    "for num in range(1, user_num + 1):\n",
    "    the_nums.append(num)\n",
    "the_nums.sort(reverse=True)\n",
    "\n",
    "for _ in the_nums:\n",
    "    print(_)"
   ]
  },
  {
   "cell_type": "code",
   "execution_count": 4,
   "metadata": {},
   "outputs": [
    {
     "name": "stdout",
     "output_type": "stream",
     "text": [
      "Enter a number greater than zero: 5\n",
      "5\n",
      "4\n",
      "3\n",
      "2\n",
      "1\n"
     ]
    }
   ],
   "source": [
    "user_num = int(input('Enter a number greater than zero: '))\n",
    "\n",
    "for num in range(user_num, 0, -1):\n",
    "    print(num)\n"
   ]
  },
  {
   "cell_type": "code",
   "execution_count": 5,
   "metadata": {},
   "outputs": [
    {
     "name": "stdout",
     "output_type": "stream",
     "text": [
      "Enter a number greater than zero: 5\n",
      "5\n",
      "4\n",
      "3\n",
      "2\n",
      "1\n"
     ]
    }
   ],
   "source": [
    "user_num = int(input('Enter a number greater than zero: '))\n",
    "\n",
    "for num in reversed(range(1, user_num + 1)):\n",
    "    print(num)"
   ]
  },
  {
   "cell_type": "code",
   "execution_count": 6,
   "metadata": {},
   "outputs": [
    {
     "name": "stdout",
     "output_type": "stream",
     "text": [
      "5050\n"
     ]
    }
   ],
   "source": [
    "# Sum of First 100 Positive Integers\n",
    "\n",
    "the_nums = [i for i in range(1, 101)]\n",
    "\n",
    "print(sum(the_nums))"
   ]
  },
  {
   "cell_type": "code",
   "execution_count": 7,
   "metadata": {},
   "outputs": [
    {
     "name": "stdout",
     "output_type": "stream",
     "text": [
      "5050\n"
     ]
    }
   ],
   "source": [
    "the_sum = 0\n",
    "\n",
    "for i in range(1, 101):\n",
    "    the_sum += i\n",
    "    \n",
    "print(the_sum)"
   ]
  },
  {
   "cell_type": "code",
   "execution_count": 8,
   "metadata": {},
   "outputs": [
    {
     "name": "stdout",
     "output_type": "stream",
     "text": [
      "*** Multiplication Table up to 10 for the number 3 ***\n",
      "3 * 1 = 3\n",
      "3 * 2 = 6\n",
      "3 * 3 = 9\n",
      "3 * 4 = 12\n",
      "3 * 5 = 15\n",
      "3 * 6 = 18\n",
      "3 * 7 = 21\n",
      "3 * 8 = 24\n",
      "3 * 9 = 27\n",
      "3 * 10 = 30\n"
     ]
    }
   ],
   "source": [
    "# Print the Multiplication Table\n",
    "\n",
    "the_num = 3\n",
    "\n",
    "print(f'*** Multiplication Table up to 10 for the number {the_num} ***')\n",
    "\n",
    "the_table = [print(f'{the_num} * {i} = {the_num * i}') for i in range(1, 11)]\n",
    "\n"
   ]
  },
  {
   "cell_type": "code",
   "execution_count": 9,
   "metadata": {},
   "outputs": [
    {
     "name": "stdout",
     "output_type": "stream",
     "text": [
      "Enter a a number to mulitply: 5\n",
      "*** Multiplication Table up to 10 for the number 5 ***\n",
      "5 * 1 = 5\n",
      "5 * 2 = 10\n",
      "5 * 3 = 15\n",
      "5 * 4 = 20\n",
      "5 * 5 = 25\n",
      "5 * 6 = 30\n",
      "5 * 7 = 35\n",
      "5 * 8 = 40\n",
      "5 * 9 = 45\n",
      "5 * 10 = 50\n"
     ]
    }
   ],
   "source": [
    "the_num = int(input('Enter a a number to mulitply: '))\n",
    "\n",
    "print(f'*** Multiplication Table up to 10 for the number {the_num} ***')\n",
    "\n",
    "for i in range(1, 11):\n",
    "    print(f'{the_num} * {i} = {the_num * i}')"
   ]
  },
  {
   "cell_type": "code",
   "execution_count": 10,
   "metadata": {},
   "outputs": [
    {
     "name": "stdout",
     "output_type": "stream",
     "text": [
      "A\n",
      "B\n",
      "C\n",
      "D\n",
      "E\n",
      "F\n",
      "G\n",
      "H\n",
      "I\n",
      "J\n",
      "K\n",
      "L\n",
      "M\n",
      "N\n",
      "O\n",
      "P\n",
      "Q\n",
      "R\n",
      "S\n",
      "T\n",
      "U\n",
      "V\n",
      "W\n",
      "X\n",
      "Y\n",
      "Z\n"
     ]
    }
   ],
   "source": [
    "# Print the Alphabet using a Loop\n",
    "\n",
    "for i in range(65, 91):\n",
    "    print(chr(i))"
   ]
  },
  {
   "cell_type": "code",
   "execution_count": 11,
   "metadata": {},
   "outputs": [
    {
     "name": "stdout",
     "output_type": "stream",
     "text": [
      "A\n",
      "B\n",
      "C\n",
      "D\n",
      "E\n",
      "F\n",
      "G\n",
      "H\n",
      "I\n",
      "J\n",
      "K\n",
      "L\n",
      "M\n",
      "N\n",
      "O\n",
      "P\n",
      "Q\n",
      "R\n",
      "S\n",
      "T\n",
      "U\n",
      "V\n",
      "W\n",
      "X\n",
      "Y\n",
      "Z\n"
     ]
    }
   ],
   "source": [
    "import string\n",
    "\n",
    "the_alphabet = string.ascii_uppercase\n",
    "\n",
    "for letter in the_alphabet:\n",
    "    print(letter)"
   ]
  },
  {
   "cell_type": "code",
   "execution_count": 12,
   "metadata": {},
   "outputs": [
    {
     "name": "stdout",
     "output_type": "stream",
     "text": [
      "2\n",
      "4\n",
      "6\n",
      "8\n",
      "10\n",
      "12\n",
      "14\n",
      "16\n",
      "18\n",
      "20\n",
      "22\n",
      "24\n",
      "26\n",
      "28\n",
      "30\n",
      "32\n",
      "34\n",
      "36\n",
      "38\n",
      "40\n",
      "42\n",
      "44\n",
      "46\n",
      "48\n",
      "50\n",
      "52\n",
      "54\n",
      "56\n",
      "58\n",
      "60\n",
      "62\n",
      "64\n",
      "66\n",
      "68\n",
      "70\n",
      "72\n",
      "74\n",
      "76\n",
      "78\n",
      "80\n",
      "82\n",
      "84\n",
      "86\n",
      "88\n",
      "90\n",
      "92\n",
      "94\n",
      "96\n",
      "98\n",
      "100\n",
      "102\n",
      "104\n",
      "106\n",
      "108\n",
      "110\n",
      "112\n",
      "114\n",
      "116\n",
      "118\n",
      "120\n",
      "122\n",
      "124\n",
      "126\n",
      "128\n",
      "130\n",
      "132\n",
      "134\n",
      "136\n",
      "138\n",
      "140\n",
      "142\n",
      "144\n",
      "146\n",
      "148\n",
      "150\n",
      "152\n",
      "154\n",
      "156\n",
      "158\n",
      "160\n",
      "162\n",
      "164\n",
      "166\n",
      "168\n",
      "170\n",
      "172\n",
      "174\n",
      "176\n",
      "178\n",
      "180\n",
      "182\n",
      "184\n",
      "186\n",
      "188\n",
      "190\n",
      "192\n",
      "194\n",
      "196\n",
      "198\n",
      "200\n"
     ]
    }
   ],
   "source": [
    "# First 100 Even Numbers\n",
    "\n",
    "for num in range(2, 201):\n",
    "    if num % 2 == 0:\n",
    "        print(num)"
   ]
  },
  {
   "cell_type": "code",
   "execution_count": 13,
   "metadata": {},
   "outputs": [
    {
     "name": "stdout",
     "output_type": "stream",
     "text": [
      "2\n",
      "4\n",
      "6\n",
      "8\n",
      "10\n",
      "12\n",
      "14\n",
      "16\n",
      "18\n",
      "20\n",
      "22\n",
      "24\n",
      "26\n",
      "28\n",
      "30\n",
      "32\n",
      "34\n",
      "36\n",
      "38\n",
      "40\n",
      "42\n",
      "44\n",
      "46\n",
      "48\n",
      "50\n",
      "52\n",
      "54\n",
      "56\n",
      "58\n",
      "60\n",
      "62\n",
      "64\n",
      "66\n",
      "68\n",
      "70\n",
      "72\n",
      "74\n",
      "76\n",
      "78\n",
      "80\n",
      "82\n",
      "84\n",
      "86\n",
      "88\n",
      "90\n",
      "92\n",
      "94\n",
      "96\n",
      "98\n",
      "100\n",
      "102\n",
      "104\n",
      "106\n",
      "108\n",
      "110\n",
      "112\n",
      "114\n",
      "116\n",
      "118\n",
      "120\n",
      "122\n",
      "124\n",
      "126\n",
      "128\n",
      "130\n",
      "132\n",
      "134\n",
      "136\n",
      "138\n",
      "140\n",
      "142\n",
      "144\n",
      "146\n",
      "148\n",
      "150\n",
      "152\n",
      "154\n",
      "156\n",
      "158\n",
      "160\n",
      "162\n",
      "164\n",
      "166\n",
      "168\n",
      "170\n",
      "172\n",
      "174\n",
      "176\n",
      "178\n",
      "180\n",
      "182\n",
      "184\n",
      "186\n",
      "188\n",
      "190\n",
      "192\n",
      "194\n",
      "196\n",
      "198\n",
      "200\n"
     ]
    }
   ],
   "source": [
    "for num in range(2, 201, 2):\n",
    "    print(num)"
   ]
  },
  {
   "cell_type": "code",
   "execution_count": 14,
   "metadata": {},
   "outputs": [
    {
     "name": "stdout",
     "output_type": "stream",
     "text": [
      "Please enter a number to view its factorial: 5\n",
      "120\n"
     ]
    }
   ],
   "source": [
    "# Calculate Factorial\n",
    "user_input = int(input('Please enter a number to view its factorial: '))\n",
    "\n",
    "the_factorial = 1\n",
    "for i in range(2, user_input + 1):\n",
    "    the_factorial *= i\n",
    "\n",
    "print(the_factorial)"
   ]
  },
  {
   "cell_type": "code",
   "execution_count": 15,
   "metadata": {},
   "outputs": [
    {
     "name": "stdout",
     "output_type": "stream",
     "text": [
      "Please enter a number to view its factorial: 5\n",
      "120\n"
     ]
    }
   ],
   "source": [
    "# Use While Loops\n",
    "user_input = int(input('Please enter a number to view its factorial: '))\n",
    "\n",
    "the_factorial = 1\n",
    "\n",
    "i = 1\n",
    "\n",
    "while i <= user_input:\n",
    "    the_factorial *= i\n",
    "    i += 1\n",
    "print(the_factorial)"
   ]
  },
  {
   "cell_type": "code",
   "execution_count": 16,
   "metadata": {},
   "outputs": [
    {
     "name": "stdout",
     "output_type": "stream",
     "text": [
      "59 / 1 is 59.0\n",
      "Prime\n",
      "59 / 3 is 19.666666666666668\n",
      "19.666666666666668 --- 6\n",
      "Not Prime\n"
     ]
    }
   ],
   "source": [
    "# Check if a Number is Prime\n",
    "\n",
    "the_prime = 59\n",
    "\n",
    "\n",
    "the_list = []\n",
    "\n",
    "for i in range(1, the_prime + 1, 2):\n",
    "    #print(the_prime % i)\n",
    "    check_5 = str(the_prime)\n",
    "    if the_prime <= 1:\n",
    "        print('Not Prime')\n",
    "        break\n",
    "    elif the_prime == 2 or the_prime == 3:\n",
    "            print('Prime')\n",
    "            break\n",
    "    elif the_prime >= 5:\n",
    "        if the_prime % 2 == 0:\n",
    "            print('Not Prime')\n",
    "            break\n",
    "        elif len(check_5) == 1:\n",
    "            print('Prime')\n",
    "            break\n",
    "        elif check_5[1] == '5':\n",
    "            print('Not Prime')\n",
    "            break\n",
    "        else:\n",
    "            print(f'{the_prime} / {i} is', the_prime / i)\n",
    "            if i != 1 or i != 59:\n",
    "                check_num = str(the_prime / i)\n",
    "                if check_num[3] != str(0):\n",
    "                    print(f'{check_num} ---', check_num[3])\n",
    "                    print('Not Prime')\n",
    "                    break\n",
    "                else:\n",
    "                    print('Prime')\n",
    "\n",
    "                \n",
    "\n",
    "\n"
   ]
  },
  {
   "cell_type": "code",
   "execution_count": 17,
   "metadata": {},
   "outputs": [
    {
     "name": "stdout",
     "output_type": "stream",
     "text": [
      "Enter a number: 5\n",
      "Prime\n"
     ]
    }
   ],
   "source": [
    "is_prime = True # often called a flag variable\n",
    "\n",
    "check_num = int(input('Enter a number: '))\n",
    "\n",
    "if check_num == 1:\n",
    "    is_prime = False\n",
    "else:\n",
    "    for i in range(2, check_num):\n",
    "        if check_num % i == 0:\n",
    "            is_prime = False\n",
    "            break\n",
    "if is_prime:\n",
    "    print('Prime')\n",
    "else:\n",
    "    print('Not Prime')"
   ]
  },
  {
   "cell_type": "code",
   "execution_count": 18,
   "metadata": {},
   "outputs": [
    {
     "name": "stdout",
     "output_type": "stream",
     "text": [
      "Enter a number: 5\n",
      "Prime\n"
     ]
    }
   ],
   "source": [
    "check_num = int(input('Enter a number: '))\n",
    "\n",
    "if check_num == 1:\n",
    "    print('Not Prime')\n",
    "else:\n",
    "    for i in range(2, check_num):\n",
    "        if check_num % i == 0:\n",
    "            print('Not Prime')\n",
    "            break\n",
    "    else:\n",
    "        print('Prime')"
   ]
  },
  {
   "cell_type": "code",
   "execution_count": 19,
   "metadata": {},
   "outputs": [
    {
     "name": "stdout",
     "output_type": "stream",
     "text": [
      "Enter the numbers of rows in the Pyramid: 5\n",
      "        * \n",
      "      * * \n",
      "    * * * \n",
      "  * * * * \n",
      "* * * * * \n"
     ]
    }
   ],
   "source": [
    "rows_in_pattern = int(input(\"Enter the numbers of rows in the Pyramid: \"))\n",
    "\n",
    "num_leading_spaces = (2 * rows_in_pattern) - 2\n",
    "\n",
    "for row in range(rows_in_pattern):\n",
    "    \n",
    "    # Generate the # of leading spaces\n",
    "    for j in range(num_leading_spaces):\n",
    "        print(\"\", end=\" \")\n",
    "        \n",
    "        \n",
    "    # Generate the # of asterisks in each row\n",
    "    for j in range(row + 1):\n",
    "        print(\"*\", end=\" \")\n",
    "        \n",
    "    # reduce the # of spaces in the next row\n",
    "    num_leading_spaces = num_leading_spaces - 2\n",
    "    \n",
    "    #introduce a new line\n",
    "    print(\"\")\n",
    "        "
   ]
  },
  {
   "cell_type": "code",
   "execution_count": 20,
   "metadata": {},
   "outputs": [
    {
     "name": "stdout",
     "output_type": "stream",
     "text": [
      "Enter the number of rows: 5\n",
      "        * \n",
      "      * * \n",
      "    * * * \n",
      "  * * * * \n",
      "* * * * * \n"
     ]
    }
   ],
   "source": [
    "n = int(input(\"Enter the number of rows: \"))\n",
    "\n",
    "k = (2 * n) - 2\n",
    "\n",
    "for i in range(n):\n",
    "\n",
    "    for j in range(k):\n",
    "        print(\"\", end=\" \")\n",
    "\n",
    "    for j in range(i + 1):\n",
    "        print(\"*\", end=\" \")\n",
    "\n",
    "    print(\"\")\n",
    "\n",
    "    k = k - 2"
   ]
  },
  {
   "cell_type": "code",
   "execution_count": 21,
   "metadata": {},
   "outputs": [
    {
     "name": "stdout",
     "output_type": "stream",
     "text": [
      "485"
     ]
    }
   ],
   "source": [
    "# Print Digits in Reverse Order\n",
    "\n",
    "the_num = 584\n",
    "\n",
    "if len(str(the_num)) == 1:\n",
    "    print(the_num)\n",
    "else:\n",
    "    the_num = str(the_num)\n",
    "    for char in the_num[::-1]:\n",
    "        print(char, end ='')"
   ]
  },
  {
   "cell_type": "code",
   "execution_count": 22,
   "metadata": {},
   "outputs": [
    {
     "name": "stdout",
     "output_type": "stream",
     "text": [
      "485\n"
     ]
    }
   ],
   "source": [
    "the_num = 584\n",
    "\n",
    "the_reverse = int(str(the_num)[::-1])\n",
    "\n",
    "print(the_reverse)"
   ]
  },
  {
   "cell_type": "code",
   "execution_count": 23,
   "metadata": {},
   "outputs": [
    {
     "name": "stdout",
     "output_type": "stream",
     "text": [
      "485\n"
     ]
    }
   ],
   "source": [
    "num = 584\n",
    "\n",
    "reversed_num = 0\n",
    "while num > 0:\n",
    "  remainder = num % 10\n",
    "  reversed_num = (reversed_num * 10) + remainder\n",
    "  num = num // 10\n",
    " \n",
    "print(reversed_num)"
   ]
  },
  {
   "cell_type": "code",
   "execution_count": 24,
   "metadata": {},
   "outputs": [
    {
     "name": "stdout",
     "output_type": "stream",
     "text": [
      "nohtyP"
     ]
    }
   ],
   "source": [
    "# Reverse a String using a Loop\n",
    "\n",
    "the_string = 'Python'\n",
    "\n",
    "for char in the_string[:: -1]:\n",
    "    print(char, end='')"
   ]
  },
  {
   "cell_type": "code",
   "execution_count": 25,
   "metadata": {},
   "outputs": [
    {
     "name": "stdout",
     "output_type": "stream",
     "text": [
      "nohtyP"
     ]
    }
   ],
   "source": [
    "the_string = 'Python'\n",
    "\n",
    "for char in reversed(the_string):\n",
    "    print(char, end='')"
   ]
  },
  {
   "cell_type": "code",
   "execution_count": 26,
   "metadata": {},
   "outputs": [
    {
     "name": "stdout",
     "output_type": "stream",
     "text": [
      "nohtyP"
     ]
    }
   ],
   "source": [
    "the_string = 'Python'\n",
    "\n",
    "# using indices\n",
    "for i in range(len(the_string)-1, -1, -1):\n",
    "    print(the_string[i], end='')"
   ]
  },
  {
   "cell_type": "code",
   "execution_count": 27,
   "metadata": {},
   "outputs": [
    {
     "name": "stdout",
     "output_type": "stream",
     "text": [
      "nohtyP"
     ]
    }
   ],
   "source": [
    "the_string = 'Python'\n",
    "\n",
    "# using indices\n",
    "for i in reversed(range(len(the_string))):\n",
    "    print(the_string[i], end='')"
   ]
  },
  {
   "cell_type": "code",
   "execution_count": 29,
   "metadata": {},
   "outputs": [
    {
     "ename": "NameError",
     "evalue": "name 'the_space' is not defined",
     "output_type": "error",
     "traceback": [
      "\u001b[1;31m---------------------------------------------------------------------------\u001b[0m",
      "\u001b[1;31mNameError\u001b[0m                                 Traceback (most recent call last)",
      "\u001b[1;32m<ipython-input-29-ee37a7a353fd>\u001b[0m in \u001b[0;36m<module>\u001b[1;34m\u001b[0m\n\u001b[0;32m      7\u001b[0m     \u001b[1;32mfor\u001b[0m \u001b[0mj\u001b[0m \u001b[1;32min\u001b[0m \u001b[0mthe_pattern\u001b[0m\u001b[1;33m:\u001b[0m\u001b[1;33m\u001b[0m\u001b[1;33m\u001b[0m\u001b[0m\n\u001b[0;32m      8\u001b[0m         \u001b[0mthe_space\u001b[0m \u001b[1;33m=\u001b[0m \u001b[1;34m' '\u001b[0m \u001b[1;33m*\u001b[0m \u001b[1;33m(\u001b[0m\u001b[0mthe_num\u001b[0m \u001b[1;33m-\u001b[0m \u001b[0mi\u001b[0m\u001b[1;33m)\u001b[0m\u001b[1;33m\u001b[0m\u001b[1;33m\u001b[0m\u001b[0m\n\u001b[1;32m----> 9\u001b[1;33m     \u001b[0mprint\u001b[0m\u001b[1;33m(\u001b[0m\u001b[0mthe_space\u001b[0m \u001b[1;33m+\u001b[0m \u001b[0mthe_pattern\u001b[0m\u001b[1;33m)\u001b[0m\u001b[1;33m\u001b[0m\u001b[1;33m\u001b[0m\u001b[0m\n\u001b[0m",
      "\u001b[1;31mNameError\u001b[0m: name 'the_space' is not defined"
     ]
    }
   ],
   "source": [
    "# Print Half Pyramid using Loops (*)\n",
    "\n",
    "the_num = 5\n",
    "\n",
    "for i in range(the_num + 1):\n",
    "    the_pattern = '*' * i\n",
    "    for j in the_pattern:\n",
    "        the_space = ' ' * (the_num - i)\n",
    "    print(the_space + the_pattern)"
   ]
  },
  {
   "cell_type": "code",
   "execution_count": null,
   "metadata": {},
   "outputs": [],
   "source": [
    "n = int(input(\"Enter the number of rows: \"))\n",
    "\n",
    "k = (2 * n) - 2\n",
    "\n",
    "for i in range(n):\n",
    "\n",
    "    for j in range(k):\n",
    "        print(\"\", end=\" \")\n",
    "\n",
    "    for j in range(i + 1):\n",
    "        print(\"^\", end=\" \")\n",
    "\n",
    "    print(\"\")\n",
    "\n",
    "    k = k - 2"
   ]
  },
  {
   "cell_type": "code",
   "execution_count": 3,
   "metadata": {},
   "outputs": [
    {
     "name": "stdout",
     "output_type": "stream",
     "text": [
      "Enter the number of rows for this triangle: 5\n",
      "1 \n",
      "2 3 \n",
      "4 5 6 \n",
      "7 8 9 10 \n",
      "11 12 13 14 15 \n"
     ]
    }
   ],
   "source": [
    "# Floyd's Triangle (*)\n",
    "\n",
    "num_rows = int(input('Enter the number of rows for this triangle: '))\n",
    "\n",
    "the_num = 1\n",
    "\n",
    "for row in range(1, num_rows + 1):\n",
    "    for col in range(1, row+1):\n",
    "        print(the_num, end = ' ')\n",
    "        the_num += 1\n",
    "    print('')\n",
    "    \n",
    "\n",
    "\n",
    "    "
   ]
  },
  {
   "cell_type": "code",
   "execution_count": 4,
   "metadata": {},
   "outputs": [
    {
     "name": "stdout",
     "output_type": "stream",
     "text": [
      "Enter the number of rows for this triangle: 5\n",
      "1 \n",
      "2 3 \n",
      "4 5 6 \n",
      "7 8 9 10 \n",
      "11 12 13 14 15 \n"
     ]
    }
   ],
   "source": [
    "num_rows = int(input('Enter the number of rows for this triangle: '))\n",
    "\n",
    "the_num = 1\n",
    "\n",
    "for row in range(1, num_rows + 1):\n",
    "    for col in range(row):\n",
    "        print(the_num, end = ' ')\n",
    "        the_num += 1\n",
    "    print('')"
   ]
  },
  {
   "cell_type": "code",
   "execution_count": 16,
   "metadata": {},
   "outputs": [
    {
     "name": "stdout",
     "output_type": "stream",
     "text": [
      "Enter the number of rows for this triangle: 6\n",
      "A  \n",
      "B B  \n",
      "C C C  \n",
      "D D D D  \n",
      "E E E E E  \n",
      "F F F F F F  \n"
     ]
    }
   ],
   "source": [
    "# Triangular Letters Pattern (*)\n",
    "import string\n",
    "\n",
    "num_rows = int(input('Enter the number of rows for this triangle: '))\n",
    "\n",
    "the_alpha = string.ascii_uppercase\n",
    "\n",
    "for row in range(1, num_rows + 1):\n",
    "    for col in range(row):\n",
    "        repeat_letter = the_alpha[row-1] * row \n",
    "    for char in repeat_letter:\n",
    "        char = char + ' '\n",
    "        print(char, end = '')\n",
    "    print(' ')\n",
    "\n"
   ]
  },
  {
   "cell_type": "code",
   "execution_count": 19,
   "metadata": {},
   "outputs": [
    {
     "name": "stdout",
     "output_type": "stream",
     "text": [
      "Enter the number of rows for this triangle: 5\n",
      "A  \n",
      "B  B  \n",
      "C  C  C  \n",
      "D  D  D  D  \n",
      "E  E  E  E  E  \n"
     ]
    }
   ],
   "source": [
    "num_rows = int(input('Enter the number of rows for this triangle: '))\n",
    "\n",
    "for row in range(num_rows):\n",
    "    repeat_letter = (chr(65 + row) * (row + 1) )\n",
    "    for char in repeat_letter:\n",
    "        char = char + ' '\n",
    "        print(char, end=' ')\n",
    "    print()"
   ]
  },
  {
   "cell_type": "code",
   "execution_count": 150,
   "metadata": {},
   "outputs": [
    {
     "name": "stdout",
     "output_type": "stream",
     "text": [
      "The middle row in this diamond is 5.\n",
      "*\n",
      "***\n",
      "*****\n",
      "*******\n",
      "********* Middle of triangle! Row is 5. Number of * is 7\n",
      "********* Row is 6. Number of * is 9\n",
      "********* Row is 7. Number of * is 9\n",
      "********* Row is 8. Number of * is 9\n",
      "* Row is 9. Number of * is 1\n"
     ]
    }
   ],
   "source": [
    "# Diamond Made with Asterisks (*)\n",
    "\n",
    "diamond_height = 9\n",
    "\n",
    "#locate the middle row in the diamond\n",
    "mid_of_diamond = (diamond_height // 2) + 1\n",
    "print(f'The middle row in this diamond is {mid_of_diamond}.')\n",
    "\n",
    "\n",
    "if diamond_height % 2 == 0:\n",
    "    print('The number must be odd!')\n",
    "\n",
    "for row in range(1, diamond_height + 1):\n",
    "    if row < mid_of_diamond:\n",
    "        num_of_asterisks = (row + (row + 1)) - 2\n",
    "        print('*' * num_of_asterisks)\n",
    "    elif row == mid_of_diamond:\n",
    "        print('*' * diamond_height,  f'Middle of triangle!'  ,f'Row is {row}. ' f'Number of * is {num_of_asterisks}')\n",
    "\n",
    "    elif row > mid_of_diamond and row < diamond_height:\n",
    "        num_of_asterisks = diamond_height\n",
    "        print('*' * num_of_asterisks,  f'Row is {row}.' , f'Number of * is {num_of_asterisks}')\n",
    "        \n",
    "    else:\n",
    "        num_of_asterisks = 1\n",
    "        print('*' * num_of_asterisks,  f'Row is {row}.' , f'Number of * is {num_of_asterisks}')\n",
    "        \n"
   ]
  },
  {
   "cell_type": "code",
   "execution_count": 154,
   "metadata": {},
   "outputs": [
    {
     "name": "stdout",
     "output_type": "stream",
     "text": [
      "Enter a odd nuber to represent the diamond height: 5\n",
      "    *\n",
      "   ***\n",
      "  *****\n",
      "   ***\n",
      "    *\n"
     ]
    }
   ],
   "source": [
    "diamond_height = int(input('Enter a odd nuber to represent the diamond height: ' ))\n",
    "\n",
    "if diamond_height % 2 == 0:\n",
    "    print('The height must be an odd number.')\n",
    "else:\n",
    "    mid_of_diamond = (diamond_height + 2) // 2\n",
    "    \n",
    "    #upper half of diamond\n",
    "    for row in range(mid_of_diamond):\n",
    "        print(\" \" * (mid_of_diamond - row), \"*\" * (row * 2 + 1))\n",
    "    \n",
    "    #lower half of diamond\n",
    "    for row in range(mid_of_diamond-2, -1, -1):\n",
    "        print(\" \" * (mid_of_diamond - row), \"*\" * (row*2 + 1))"
   ]
  },
  {
   "cell_type": "code",
   "execution_count": null,
   "metadata": {},
   "outputs": [],
   "source": []
  }
 ],
 "metadata": {
  "kernelspec": {
   "display_name": "Python 3",
   "language": "python",
   "name": "python3"
  },
  "language_info": {
   "codemirror_mode": {
    "name": "ipython",
    "version": 3
   },
   "file_extension": ".py",
   "mimetype": "text/x-python",
   "name": "python",
   "nbconvert_exporter": "python",
   "pygments_lexer": "ipython3",
   "version": "3.8.3"
  }
 },
 "nbformat": 4,
 "nbformat_minor": 4
}
