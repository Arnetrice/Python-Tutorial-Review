{
 "cells": [
  {
   "cell_type": "markdown",
   "id": "de666638",
   "metadata": {},
   "source": [
    " # **Calculating Factorials**"
   ]
  },
  {
   "cell_type": "markdown",
   "id": "b1b377e4",
   "metadata": {},
   "source": [
    "### Standard Approach:"
   ]
  },
  {
   "cell_type": "code",
   "execution_count": null,
   "id": "24184929",
   "metadata": {},
   "outputs": [],
   "source": [
    "the_num = 5  \n",
    "the_factorial = 1\n",
    "\n",
    "# Calculate factorial using a loop\n",
    "for i in range(1, the_num + 1):\n",
    "    the_factorial *= i\n",
    "    print(f\"Step {i}: {the_factorial}\")\n",
    "\n",
    "# Print the result\n",
    "print(f\"Factorial of {the_num} is {the_factorial}\")"
   ]
  },
  {
   "cell_type": "markdown",
   "id": "a9865f88",
   "metadata": {},
   "source": [
    "Note: This approach  manually calculates the factorial of a number by iterating through a range and multiplying each value, step by step."
   ]
  },
  {
   "cell_type": "markdown",
   "id": "017aff0b",
   "metadata": {},
   "source": [
    "### Optimized Solution:"
   ]
  },
  {
   "cell_type": "code",
   "execution_count": null,
   "id": "496e1d1c",
   "metadata": {},
   "outputs": [],
   "source": [
    "import math\n",
    "\n",
    "the_num = 5\n",
    "\n",
    "# Use math.factorial to calculate factorial\n",
    "the_factorial = math.factorial(the_num)\n",
    "\n",
    "# Print the result\n",
    "print(f\"Factorial of {the_num} is {the_factorial}\")"
   ]
  },
  {
   "cell_type": "markdown",
   "id": "f2901c30",
   "metadata": {},
   "source": [
    "Note: This solution leverages Python's built-in math.factorial() function for a concise and efficient technique."
   ]
  },
  {
   "cell_type": "markdown",
   "id": "46c2e449",
   "metadata": {},
   "source": [
    "### Additional Practice:\n",
    "See For Loops - Practice Exercises & Challenges: Calculating Factorials"
   ]
  }
 ],
 "metadata": {
  "kernelspec": {
   "display_name": "Python 3 (ipykernel)",
   "language": "python",
   "name": "python3"
  },
  "language_info": {
   "codemirror_mode": {
    "name": "ipython",
    "version": 3
   },
   "file_extension": ".py",
   "mimetype": "text/x-python",
   "name": "python",
   "nbconvert_exporter": "python",
   "pygments_lexer": "ipython3",
   "version": "3.11.4"
  }
 },
 "nbformat": 4,
 "nbformat_minor": 5
}
