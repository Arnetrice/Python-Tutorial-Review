{
 "cells": [
  {
   "cell_type": "markdown",
   "id": "de666638",
   "metadata": {},
   "source": [
    " # **Floyd's Triangle**"
   ]
  },
  {
   "cell_type": "markdown",
   "id": "b1b377e4",
   "metadata": {},
   "source": [
    "### Standard Approach:"
   ]
  },
  {
   "cell_type": "code",
   "execution_count": null,
   "id": "24184929",
   "metadata": {},
   "outputs": [],
   "source": [
    "# Input number of rows\n",
    "num_rows = int(input('Enter the number of rows for this triangle: '))\n",
    "\n",
    "the_num = 1  # Starting number\n",
    "\n",
    "# Generate Floyd's Triangle\n",
    "for row in range(1, num_rows + 1):  # Outer loop for rows\n",
    "    for col in range(1, row + 1):   # Inner loop for columns\n",
    "        print(the_num, end=' ')     # Print the current number\n",
    "        the_num += 1                # Increment the number\n",
    "    print('')  # Move to the next line\n"
   ]
  },
  {
   "cell_type": "markdown",
   "id": "a9865f88",
   "metadata": {},
   "source": [
    "Note: This approach uses two nested for loops. The outer loop determines the rows, and the inner loop prints the values for each row. The variable the_num is incremented for every printed value."
   ]
  },
  {
   "cell_type": "markdown",
   "id": "017aff0b",
   "metadata": {},
   "source": [
    "### Optimized Solution:"
   ]
  },
  {
   "cell_type": "code",
   "execution_count": null,
   "id": "496e1d1c",
   "metadata": {},
   "outputs": [],
   "source": [
    "# Input number of rows\n",
    "num_rows = int(input('Enter the number of rows for this triangle: '))\n",
    "\n",
    "the_num = 1  # Starting number\n",
    "\n",
    "# Generate Floyd's Triangle\n",
    "for row in range(1, num_rows + 1):  # Outer loop for rows\n",
    "    for col in range(row):          # Inner loop iterates `row` times\n",
    "        print(the_num, end=' ')     # Print the current number\n",
    "        the_num += 1                # Increment the number\n",
    "    print('')  # Move to the next line"
   ]
  },
  {
   "cell_type": "markdown",
   "id": "f2901c30",
   "metadata": {},
   "source": [
    "Note: This solution removes the explicit starting value of the inner loop (1) in range, as it is redundant. The inner loop simply iterates row times instead."
   ]
  },
  {
   "cell_type": "markdown",
   "id": "46c2e449",
   "metadata": {},
   "source": [
    "### Additional Practice:\n",
    "See For Loops - Practice Exercises & Challenges: Floyd's Triangle"
   ]
  }
 ],
 "metadata": {
  "kernelspec": {
   "display_name": "Python 3 (ipykernel)",
   "language": "python",
   "name": "python3"
  },
  "language_info": {
   "codemirror_mode": {
    "name": "ipython",
    "version": 3
   },
   "file_extension": ".py",
   "mimetype": "text/x-python",
   "name": "python",
   "nbconvert_exporter": "python",
   "pygments_lexer": "ipython3",
   "version": "3.11.4"
  }
 },
 "nbformat": 4,
 "nbformat_minor": 5
}
