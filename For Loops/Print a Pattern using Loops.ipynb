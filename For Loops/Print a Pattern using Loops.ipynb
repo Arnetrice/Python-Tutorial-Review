{
 "cells": [
  {
   "attachments": {},
   "cell_type": "markdown",
   "id": "de666638",
   "metadata": {},
   "source": [
    " # **Print a Pattern using Loops**"
   ]
  },
  {
   "cell_type": "markdown",
   "id": "b1b377e4",
   "metadata": {},
   "source": [
    "### Standard Approach:"
   ]
  },
  {
   "cell_type": "code",
   "execution_count": null,
   "id": "24184929",
   "metadata": {},
   "outputs": [],
   "source": [
    "# Input the number of rows\n",
    "rows_in_pattern = int(input(\"Enter the number of rows in the Pyramid: \"))\n",
    "\n",
    "# Calculate initial leading spaces\n",
    "num_leading_spaces = (2 * rows_in_pattern) - 2\n",
    "\n",
    "# Generate the pyramid pattern\n",
    "for row in range(0, rows_in_pattern):\n",
    "    \n",
    "    # Print leading spaces\n",
    "    for j in range(num_leading_spaces):\n",
    "        print(\"\", end=\" \")\n",
    "    \n",
    "    # Print asterisks for the current row\n",
    "    for j in range(0, row + 1):\n",
    "        print(\"*\", end=\" \")\n",
    "    \n",
    "    # Reduce the leading spaces for the next row\n",
    "    num_leading_spaces -= 2\n",
    "    \n",
    "    print(\"\")  # Move to the next line"
   ]
  },
  {
   "cell_type": "markdown",
   "id": "a9865f88",
   "metadata": {},
   "source": [
    "Note: This approach uses nested loops to explicitly calculate and print the required spaces and asterisks for each row of a pyramid."
   ]
  },
  {
   "cell_type": "markdown",
   "id": "017aff0b",
   "metadata": {},
   "source": [
    "### Optimized Solution:"
   ]
  },
  {
   "cell_type": "code",
   "execution_count": null,
   "id": "496e1d1c",
   "metadata": {},
   "outputs": [],
   "source": [
    "# Input the number of rows\n",
    "rows_in_pattern = int(input(\"Enter the number of rows in the Pyramid: \"))\n",
    "\n",
    "# Calculate the maximum width of the pyramid\n",
    "max_width = (2 * rows_in_pattern) - 1  # Maximum width of the pyramid\n",
    "\n",
    "# Generate the pyramid pattern\n",
    "for row in range(1, rows_in_pattern + 1):\n",
    "    stars = \"*\" * (2 * row - 1)  # Generate the correct number of asterisks for the row\n",
    "    print(stars.center(max_width))  # Center the stars within the maximum width"
   ]
  },
  {
   "cell_type": "markdown",
   "id": "f2901c30",
   "metadata": {},
   "source": [
    "Note: This solution simplifies the logic by using the center() method to handle alignment, removing the need for nested loops to calculate spaces."
   ]
  },
  {
   "cell_type": "markdown",
   "id": "46c2e449",
   "metadata": {},
   "source": [
    "### Additional Practice:\n",
    "See For Loops - Practice Exercises & Challenges: Print a Pattern using Loops"
   ]
  }
 ],
 "metadata": {
  "kernelspec": {
   "display_name": "Python 3 (ipykernel)",
   "language": "python",
   "name": "python3"
  },
  "language_info": {
   "codemirror_mode": {
    "name": "ipython",
    "version": 3
   },
   "file_extension": ".py",
   "mimetype": "text/x-python",
   "name": "python",
   "nbconvert_exporter": "python",
   "pygments_lexer": "ipython3",
   "version": "3.11.4"
  }
 },
 "nbformat": 4,
 "nbformat_minor": 5
}
