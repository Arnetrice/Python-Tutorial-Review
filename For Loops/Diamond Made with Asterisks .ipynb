{
 "cells": [
  {
   "attachments": {},
   "cell_type": "markdown",
   "id": "de666638",
   "metadata": {},
   "source": [
    " # **Diamond Made with Asterisks**"
   ]
  },
  {
   "cell_type": "markdown",
   "id": "b1b377e4",
   "metadata": {},
   "source": [
    "### Standard Approach:"
   ]
  },
  {
   "cell_type": "code",
   "execution_count": null,
   "id": "24184929",
   "metadata": {},
   "outputs": [],
   "source": [
    "# Input number of rows\n",
    "num_rows = int(input('Enter an odd number for the diamond height: '))\n",
    "\n",
    "if num_rows % 2 == 0:\n",
    "    print('The number of rows must be odd.')\n",
    "else:\n",
    "    mid_of_diamond = (num_rows + 1) // 2\n",
    "\n",
    "    # Upper half of the diamond\n",
    "    for row in range(1, mid_of_diamond + 1):\n",
    "        print(\" \" * (mid_of_diamond - row) + \"*\" * (2 * row - 1))\n",
    "\n",
    "    # Lower half of the diamond\n",
    "    for row in range(mid_of_diamond - 1, 0, -1):\n",
    "        print(\" \" * (mid_of_diamond - row) + \"*\" * (2 * row - 1))"
   ]
  },
  {
   "cell_type": "markdown",
   "id": "a9865f88",
   "metadata": {},
   "source": [
    "Note: This approach uses nested loops to construct a symmetrical diamond pattern based on user input. It dynamically calculates spaces and asterisks for alignment, ensuring proper symmetry."
   ]
  },
  {
   "cell_type": "markdown",
   "id": "017aff0b",
   "metadata": {},
   "source": [
    "### Optimized Solution:"
   ]
  },
  {
   "cell_type": "code",
   "execution_count": null,
   "id": "496e1d1c",
   "metadata": {},
   "outputs": [],
   "source": [
    "# Input the diamond height\n",
    "diamond_height = int(input('Enter an odd number to represent the diamond height: '))\n",
    "\n",
    "# Ensure the height is odd\n",
    "if diamond_height % 2 == 0:\n",
    "    print('The height must be an odd number.')\n",
    "else:\n",
    "    mid_of_diamond = (diamond_height + 1) // 2\n",
    "    \n",
    "    # Upper half of the diamond\n",
    "    for row in range(mid_of_diamond):\n",
    "        print(\" \" * (mid_of_diamond - row - 1) + \"*\" * (row * 2 + 1))\n",
    "    \n",
    "    # Lower half of the diamond\n",
    "    for row in range(mid_of_diamond - 2, -1, -1):\n",
    "        print(\" \" * (mid_of_diamond - row - 1) + \"*\" * (row * 2 + 1))"
   ]
  },
  {
   "cell_type": "markdown",
   "id": "f2901c30",
   "metadata": {},
   "source": [
    "Note: This solution directly generates uppercase letters using their ASCII values and the chr() function."
   ]
  },
  {
   "attachments": {},
   "cell_type": "markdown",
   "id": "46c2e449",
   "metadata": {},
   "source": [
    "### Additional Practice:\n",
    "See For Loops - Practice Exercises & Challenges: Diamond Made with Asterisks"
   ]
  }
 ],
 "metadata": {
  "kernelspec": {
   "display_name": "Python 3 (ipykernel)",
   "language": "python",
   "name": "python3"
  },
  "language_info": {
   "codemirror_mode": {
    "name": "ipython",
    "version": 3
   },
   "file_extension": ".py",
   "mimetype": "text/x-python",
   "name": "python",
   "nbconvert_exporter": "python",
   "pygments_lexer": "ipython3",
   "version": "3.11.4"
  }
 },
 "nbformat": 4,
 "nbformat_minor": 5
}
