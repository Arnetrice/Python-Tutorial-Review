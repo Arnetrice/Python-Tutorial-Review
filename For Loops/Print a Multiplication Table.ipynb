{
 "cells": [
  {
   "cell_type": "markdown",
   "id": "de666638",
   "metadata": {},
   "source": [
    " # **Print a Multiplication Table**"
   ]
  },
  {
   "cell_type": "markdown",
   "id": "b1b377e4",
   "metadata": {},
   "source": [
    "### Standard Approach:"
   ]
  },
  {
   "cell_type": "code",
   "execution_count": null,
   "id": "24184929",
   "metadata": {},
   "outputs": [],
   "source": [
    "# Define the number\n",
    "the_num = 3\n",
    "\n",
    "# Print table header\n",
    "print(f'*** Multiplication Table up to 10 for the number {the_num} ***')\n",
    "\n",
    "# Use list comprehension to generate and print the table\n",
    "the_table = [print(f'{the_num} * {i} = {the_num * i}') for i in range(1, 11)]"
   ]
  },
  {
   "cell_type": "markdown",
   "id": "a9865f88",
   "metadata": {},
   "source": [
    "Note: This approach uses a list comprehension to iterate through the numbers from 1 to 10, printing each row of the multiplication table as a formatted string."
   ]
  },
  {
   "cell_type": "markdown",
   "id": "017aff0b",
   "metadata": {},
   "source": [
    "### Optimized Solution:"
   ]
  },
  {
   "cell_type": "code",
   "execution_count": null,
   "id": "496e1d1c",
   "metadata": {},
   "outputs": [],
   "source": [
    "# Input the number\n",
    "the_num = int(input('Enter a number to multiply: '))\n",
    "\n",
    "# Print table header\n",
    "print(f'*** Multiplication Table up to 10 for the number {the_num} ***')\n",
    "\n",
    "# Generate and print the table\n",
    "for i in range(1, 11):  # Loop from 1 to 10\n",
    "    print(f'{the_num} * {i} = {the_num * i}')"
   ]
  },
  {
   "cell_type": "markdown",
   "id": "f2901c30",
   "metadata": {},
   "source": [
    "Note: This solution replaces the list comprehension with a simple for loop, making the code more intuitive and concise for printing tasks."
   ]
  },
  {
   "cell_type": "markdown",
   "id": "46c2e449",
   "metadata": {},
   "source": [
    "### Additional Practice:\n",
    "See For Loops - Practice Exercises & Challenges: Print a Multiplication Table"
   ]
  }
 ],
 "metadata": {
  "kernelspec": {
   "display_name": "Python 3 (ipykernel)",
   "language": "python",
   "name": "python3"
  },
  "language_info": {
   "codemirror_mode": {
    "name": "ipython",
    "version": 3
   },
   "file_extension": ".py",
   "mimetype": "text/x-python",
   "name": "python",
   "nbconvert_exporter": "python",
   "pygments_lexer": "ipython3",
   "version": "3.11.4"
  }
 },
 "nbformat": 4,
 "nbformat_minor": 5
}
