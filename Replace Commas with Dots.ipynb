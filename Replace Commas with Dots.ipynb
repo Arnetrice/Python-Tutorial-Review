{
 "cells": [
  {
   "cell_type": "markdown",
   "id": "de666638",
   "metadata": {},
   "source": [
    " # **Replace Commas with Dots**"
   ]
  },
  {
   "cell_type": "markdown",
   "id": "b1b377e4",
   "metadata": {},
   "source": [
    "### Standard Approach:"
   ]
  },
  {
   "cell_type": "code",
   "execution_count": null,
   "id": "24184929",
   "metadata": {},
   "outputs": [],
   "source": [
    "word = 'Hello, World!'\n",
    "\n",
    "new_word = ''\n",
    "\n",
    "COMMA = ','\n",
    "DOT = '.'\n",
    "\n",
    "# Iterate through each character in the string\n",
    "for char in word:\n",
    "    # Replace comma with dot\n",
    "    if char == COMMA:\n",
    "        new_word += DOT\n",
    "    else:\n",
    "        new_word += char\n",
    "\n",
    "print(new_word)\n"
   ]
  },
  {
   "cell_type": "markdown",
   "id": "a9865f88",
   "metadata": {},
   "source": [
    "Note: This approach manually iterates through each character in the string, replacing commas with dots and appending all other characters unchanged."
   ]
  },
  {
   "cell_type": "markdown",
   "id": "017aff0b",
   "metadata": {},
   "source": [
    "### Optimized Solution:"
   ]
  },
  {
   "cell_type": "code",
   "execution_count": null,
   "id": "496e1d1c",
   "metadata": {},
   "outputs": [],
   "source": [
    "word = 'Hello, World!'\n",
    "\n",
    "COMMA = ','\n",
    "DOT = '.'\n",
    "\n",
    "# Use the replace method to replace commas with dots\n",
    "print(word.replace(COMMA, DOT))\n"
   ]
  },
  {
   "cell_type": "markdown",
   "id": "f2901c30",
   "metadata": {},
   "source": [
    "Note: This solution leverages Python's `str.replace()` method, which efficiently replaces all occurrences of one substring with another."
   ]
  },
  {
   "cell_type": "markdown",
   "id": "46c2e449",
   "metadata": {},
   "source": [
    "### Additional Practice:\n",
    "See Practice Exercise: Replace Commas with Dots\n"
   ]
  }
 ],
 "metadata": {
  "kernelspec": {
   "display_name": "Python 3 (ipykernel)",
   "language": "python",
   "name": "python3"
  },
  "language_info": {
   "codemirror_mode": {
    "name": "ipython",
    "version": 3
   },
   "file_extension": ".py",
   "mimetype": "text/x-python",
   "name": "python",
   "nbconvert_exporter": "python",
   "pygments_lexer": "ipython3",
   "version": "3.11.4"
  }
 },
 "nbformat": 4,
 "nbformat_minor": 5
}
