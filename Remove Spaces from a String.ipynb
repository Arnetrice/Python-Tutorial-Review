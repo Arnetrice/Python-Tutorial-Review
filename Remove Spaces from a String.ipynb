{
 "cells": [
  {
   "attachments": {},
   "cell_type": "markdown",
   "id": "de666638",
   "metadata": {},
   "source": [
    " # **Remove Spaces from a String**"
   ]
  },
  {
   "cell_type": "markdown",
   "id": "b1b377e4",
   "metadata": {},
   "source": [
    "### Standard Approach:"
   ]
  },
  {
   "cell_type": "code",
   "execution_count": null,
   "id": "24184929",
   "metadata": {},
   "outputs": [],
   "source": [
    "# Original string with spaces\n",
    "word = 'Today is a good day to have a good day!'\n",
    "\n",
    "# Initialize an empty string\n",
    "new_word = \"\"\n",
    "\n",
    "# Iterate through each character in the string\n",
    "for char in word:\n",
    "    # Add the character to the new string if it is not a space\n",
    "    if char != \" \":\n",
    "        new_word += char\n",
    "\n",
    "# Print the resulting string without spaces\n",
    "print(new_word)"
   ]
  },
  {
   "cell_type": "markdown",
   "id": "a9865f88",
   "metadata": {},
   "source": [
    "Note: This approach demonstrates how to remove spaces manually by iterating through each character in the string and building a new string without spaces. It is less efficient because string concatenation (new_word += char) creates a new string in memory for every iteration, which can be slow for large strings."
   ]
  },
  {
   "cell_type": "markdown",
   "id": "017aff0b",
   "metadata": {},
   "source": [
    "### Optimized Solution:"
   ]
  },
  {
   "cell_type": "code",
   "execution_count": null,
   "id": "496e1d1c",
   "metadata": {},
   "outputs": [],
   "source": [
    "# Use the built-in `endswith` method to check the suffix\n",
    "word = 'Arnetrice'       # The string we want to check\n",
    "suffix_word = 'ice'      # The suffix we are checking for\n",
    "\n",
    "# Use the built-in `endswith` method to check if the string ends with the given suffix\n",
    "print(word.endswith(suffix_word))  "
   ]
  },
  {
   "cell_type": "markdown",
   "id": "f2901c30",
   "metadata": {},
   "source": [
    "Note: This solution uses the built-in `str.replace()` method to replace all spaces in the string with an empty string. str.replace() is the most Pythonic and efficient method to achieve the task. It highlights how built-in methods simplify repetitive operations."
   ]
  },
  {
   "cell_type": "markdown",
   "id": "46c2e449",
   "metadata": {},
   "source": [
    "### Additional Practice:\n",
    "See Practice Exercise: Remove Spaces from a String\n"
   ]
  },
  {
   "cell_type": "code",
   "execution_count": null,
   "id": "a1dce7d9",
   "metadata": {},
   "outputs": [],
   "source": []
  }
 ],
 "metadata": {
  "kernelspec": {
   "display_name": "Python 3 (ipykernel)",
   "language": "python",
   "name": "python3"
  },
  "language_info": {
   "codemirror_mode": {
    "name": "ipython",
    "version": 3
   },
   "file_extension": ".py",
   "mimetype": "text/x-python",
   "name": "python",
   "nbconvert_exporter": "python",
   "pygments_lexer": "ipython3",
   "version": "3.11.4"
  }
 },
 "nbformat": 4,
 "nbformat_minor": 5
}
