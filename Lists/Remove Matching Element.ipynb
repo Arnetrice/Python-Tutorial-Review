{
 "cells": [
  {
   "cell_type": "markdown",
   "id": "de666638",
   "metadata": {},
   "source": [
    " # **Remove Matching Element**"
   ]
  },
  {
   "cell_type": "markdown",
   "id": "b1b377e4",
   "metadata": {},
   "source": [
    "### Standard Approach:"
   ]
  },
  {
   "cell_type": "code",
   "execution_count": null,
   "id": "24184929",
   "metadata": {},
   "outputs": [],
   "source": [
    "# Initialize the list\n",
    "the_list = [3, 3, 2, 1]\n",
    "\n",
    "# Element to remove\n",
    "remove_this = 3\n",
    "\n",
    "# Check if the list is empty\n",
    "if not the_list:\n",
    "    print(\"Empty List\")\n",
    "\n",
    "# Check if the element is not found in the list\n",
    "elif the_list.count(remove_this) == 0:\n",
    "    print(\"Not Found\")\n",
    "\n",
    "# Remove all occurrences of the element\n",
    "else:\n",
    "    for _ in range(the_list.count(remove_this)):\n",
    "        the_list.remove(remove_this)\n",
    "\n",
    "# Print the modified list\n",
    "print(the_list)"
   ]
  },
  {
   "cell_type": "markdown",
   "id": "a9865f88",
   "metadata": {},
   "source": [
    "Note: This approach iterates through the list and removes all occurrences of the specified element using the remove() method."
   ]
  },
  {
   "cell_type": "markdown",
   "id": "017aff0b",
   "metadata": {},
   "source": [
    "### Optimized Solution:"
   ]
  },
  {
   "cell_type": "code",
   "execution_count": null,
   "id": "496e1d1c",
   "metadata": {},
   "outputs": [],
   "source": [
    "# Initialize the list\n",
    "the_list = [\"a\", \"b\", \"c\", \"b\"]\n",
    "\n",
    "# Element to remove\n",
    "remove_this = \"b\"\n",
    "\n",
    "# Check if the list is empty\n",
    "if not the_list:\n",
    "    print(\"Empty List\")\n",
    "\n",
    "# Remove the element if found\n",
    "elif remove_this in the_list:\n",
    "    the_list = list(filter((remove_this).__ne__, the_list))\n",
    "    print(the_list)\n",
    "\n",
    "# Element not found\n",
    "else:\n",
    "    print(\"Not Found\")"
   ]
  },
  {
   "cell_type": "markdown",
   "id": "f2901c30",
   "metadata": {},
   "source": [
    "Note: This solution uses the filter() function to create a new list excluding the specified element. It is more concise and avoids in-place modifications."
   ]
  },
  {
   "cell_type": "markdown",
   "id": "46c2e449",
   "metadata": {},
   "source": [
    "### Additional Practice:\n",
    "See For Loops - Practice Exercises & Challenges: Remove Matching Element"
   ]
  }
 ],
 "metadata": {
  "kernelspec": {
   "display_name": "Python 3 (ipykernel)",
   "language": "python",
   "name": "python3"
  },
  "language_info": {
   "codemirror_mode": {
    "name": "ipython",
    "version": 3
   },
   "file_extension": ".py",
   "mimetype": "text/x-python",
   "name": "python",
   "nbconvert_exporter": "python",
   "pygments_lexer": "ipython3",
   "version": "3.11.4"
  }
 },
 "nbformat": 4,
 "nbformat_minor": 5
}
