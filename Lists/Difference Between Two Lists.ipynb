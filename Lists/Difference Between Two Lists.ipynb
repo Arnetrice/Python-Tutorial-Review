{
 "cells": [
  {
   "cell_type": "markdown",
   "id": "de666638",
   "metadata": {},
   "source": [
    " # **Difference Between Two Lists**"
   ]
  },
  {
   "cell_type": "markdown",
   "id": "b1b377e4",
   "metadata": {},
   "source": [
    "### Standard Approach:"
   ]
  },
  {
   "cell_type": "code",
   "execution_count": null,
   "id": "24184929",
   "metadata": {},
   "outputs": [],
   "source": [
    "# Initialize the lists\n",
    "the_first_list = [1, 2, 3, 4]\n",
    "the_list_2compare = [1, 2, 3, 4]\n",
    "\n",
    "# Initialize an empty list to store the difference\n",
    "the_difference_list = []\n",
    "\n",
    "# Check if the first list is empty\n",
    "if not the_first_list:\n",
    "    print(the_difference_list)\n",
    "else:\n",
    "    # Iterate through elements of the first list\n",
    "    for elem in the_first_list:\n",
    "        # Check if the element is not in the second list\n",
    "        if elem not in the_list_2compare:\n",
    "            # Avoid duplicates in the result\n",
    "            if elem not in the_difference_list:\n",
    "                the_difference_list.append(elem)\n",
    "\n",
    "    # Print the difference list\n",
    "    print(the_difference_list)"
   ]
  },
  {
   "cell_type": "markdown",
   "id": "a9865f88",
   "metadata": {},
   "source": [
    "Note: This approach uses a nested loop to iterate through both lists and identifies elements that are in the first list but not in the second."
   ]
  },
  {
   "cell_type": "markdown",
   "id": "017aff0b",
   "metadata": {},
   "source": [
    "### Optimized Solution:"
   ]
  },
  {
   "cell_type": "code",
   "execution_count": null,
   "id": "496e1d1c",
   "metadata": {},
   "outputs": [],
   "source": [
    "# Initialize the lists\n",
    "the_first_list = [1, 2, 3, 4]\n",
    "the_list_2compare = [1, 2, 3, 4]\n",
    "\n",
    "# Use a single loop to find the difference\n",
    "the_difference_list = [elem for elem in the_first_list if elem not in the_list_2compare]\n",
    "\n",
    "# Print the difference list\n",
    "print(the_difference_list)"
   ]
  },
  {
   "cell_type": "markdown",
   "id": "f2901c30",
   "metadata": {},
   "source": [
    "Note: This solution eliminates unnecessary nested loops, directly checking for elements in the first list that are not in the second."
   ]
  },
  {
   "cell_type": "markdown",
   "id": "46c2e449",
   "metadata": {},
   "source": [
    "### Additional Practice:\n",
    "See For Loops - Practice Exercises & Challenges: Difference Between Two Lists"
   ]
  }
 ],
 "metadata": {
  "kernelspec": {
   "display_name": "Python 3 (ipykernel)",
   "language": "python",
   "name": "python3"
  },
  "language_info": {
   "codemirror_mode": {
    "name": "ipython",
    "version": 3
   },
   "file_extension": ".py",
   "mimetype": "text/x-python",
   "name": "python",
   "nbconvert_exporter": "python",
   "pygments_lexer": "ipython3",
   "version": "3.11.4"
  }
 },
 "nbformat": 4,
 "nbformat_minor": 5
}
