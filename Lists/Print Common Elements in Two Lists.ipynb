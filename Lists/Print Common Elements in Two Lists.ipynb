{
 "cells": [
  {
   "cell_type": "markdown",
   "id": "de666638",
   "metadata": {},
   "source": [
    " # **Print Common Elements in Two Lists**"
   ]
  },
  {
   "cell_type": "markdown",
   "id": "b1b377e4",
   "metadata": {},
   "source": [
    "### Standard Approach:"
   ]
  },
  {
   "cell_type": "code",
   "execution_count": null,
   "id": "24184929",
   "metadata": {},
   "outputs": [],
   "source": [
    "# Initialize the lists\n",
    "first_list = [1, 4, 5, 6, 8, 'M']\n",
    "second_list = [4, 5, 6, 4]\n",
    "\n",
    "# Initialize an empty list for common elements\n",
    "common_list = []\n",
    "\n",
    "# Iterate through the first list and check for common elements\n",
    "for i in first_list:\n",
    "    if i in second_list:\n",
    "        if i not in common_list:  # Avoid duplicates\n",
    "            common_list.append(i)\n",
    "\n",
    "# Print the list of common elements\n",
    "print(common_list)"
   ]
  },
  {
   "cell_type": "markdown",
   "id": "a9865f88",
   "metadata": {},
   "source": [
    "Note: This approach iterates through the elements of the first list, checks if they are in the second list, and appends them to the result list only if they are not already present."
   ]
  },
  {
   "cell_type": "markdown",
   "id": "017aff0b",
   "metadata": {},
   "source": [
    "### Optimized Solution:"
   ]
  },
  {
   "cell_type": "code",
   "execution_count": null,
   "id": "496e1d1c",
   "metadata": {},
   "outputs": [],
   "source": [
    "# Initialize the lists\n",
    "first_list = [1, 4, 5, 6, 8, 'M']\n",
    "second_list = [4, 5, 6, 4]\n",
    "\n",
    "# Find common elements using set intersection\n",
    "common_list = list(set(first_list) & set(second_list))\n",
    "\n",
    "# Print the list of common elements\n",
    "print(common_list)"
   ]
  },
  {
   "cell_type": "markdown",
   "id": "f2901c30",
   "metadata": {},
   "source": [
    "Note: This solution leverages Python sets to efficiently find the intersection of two lists, which directly provides the common elements."
   ]
  },
  {
   "cell_type": "markdown",
   "id": "46c2e449",
   "metadata": {},
   "source": [
    "### Additional Practice:\n",
    "See For Loops - Practice Exercises & Challenges: Print Common Elements in Two Lists"
   ]
  }
 ],
 "metadata": {
  "kernelspec": {
   "display_name": "Python 3 (ipykernel)",
   "language": "python",
   "name": "python3"
  },
  "language_info": {
   "codemirror_mode": {
    "name": "ipython",
    "version": 3
   },
   "file_extension": ".py",
   "mimetype": "text/x-python",
   "name": "python",
   "nbconvert_exporter": "python",
   "pygments_lexer": "ipython3",
   "version": "3.11.4"
  }
 },
 "nbformat": 4,
 "nbformat_minor": 5
}
