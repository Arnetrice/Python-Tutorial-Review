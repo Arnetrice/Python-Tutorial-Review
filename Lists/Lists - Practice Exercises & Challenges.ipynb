{
 "cells": [
  {
   "cell_type": "markdown",
   "id": "1a54ccbf",
   "metadata": {},
   "source": [
    "# Practice Exercises & Challenges - Lists"
   ]
  },
  {
   "cell_type": "markdown",
   "id": "356d2478",
   "metadata": {},
   "source": [
    "### 1. Practice Exercise: Check if List is Empty or Not"
   ]
  },
  {
   "cell_type": "markdown",
   "id": "4778e73c",
   "metadata": {},
   "source": [
    "1.1. Check if the list [10, 20, 30] is empty or not."
   ]
  },
  {
   "cell_type": "code",
   "execution_count": null,
   "id": "b8face61",
   "metadata": {},
   "outputs": [],
   "source": [
    "the_list = # replace this with your code\n",
    "# replace this with your code:\n",
    "    print(\"Not Empty\")\n",
    "# replace this with your code:\n",
    "    print(\"Empty\")"
   ]
  },
  {
   "cell_type": "markdown",
   "id": "81c2a243",
   "metadata": {},
   "source": [
    "1.2. Write code to check if a nested list like [[]] is considered empty."
   ]
  },
  {
   "cell_type": "code",
   "execution_count": null,
   "id": "2d89c8db",
   "metadata": {},
   "outputs": [],
   "source": [
    "# replace this with your code\n",
    "if # replace this with your code:\n",
    "    print(\"Not Empty\")\n",
    "# replace this with your code:\n",
    "    print(\"Empty\")"
   ]
  },
  {
   "cell_type": "markdown",
   "id": "ae2348ed",
   "metadata": {},
   "source": [
    "1.3. Modify the standard approach to return \"Empty\" for a list containing only None."
   ]
  },
  {
   "cell_type": "code",
   "execution_count": null,
   "id": "243bfd88",
   "metadata": {},
   "outputs": [],
   "source": [
    "the_list = # replace this with your code\n",
    "if len(# replace this with your code) == 0 or all(item is None for item in the_list):\n",
    "    # replace this with your code\n",
    "else:\n",
    "    print(\"Not Empty\")"
   ]
  },
  {
   "cell_type": "markdown",
   "id": "0b5a4c36",
   "metadata": {},
   "source": [
    "1.4. Create a function is_empty(the_list) that returns True if the list is empty and False otherwise."
   ]
  },
  {
   "cell_type": "code",
   "execution_count": null,
   "id": "990f0c97",
   "metadata": {},
   "outputs": [],
   "source": [
    "def is_empty(# replace this with your code)\n",
    "    return not the_list"
   ]
  },
  {
   "cell_type": "markdown",
   "id": "2cb8dc3d",
   "metadata": {},
   "source": [
    "1.5. Write a program to check if each list in a dictionary of lists is empty or not. Print the result for each list."
   ]
  },
  {
   "cell_type": "code",
   "execution_count": null,
   "id": "8de5b3c0",
   "metadata": {},
   "outputs": [],
   "source": [
    "# Initialize the dictionary of lists\n",
    "the_dict = {\n",
    "    'list1': [],\n",
    "    'list2': [1, 2, 3],\n",
    "    'list3': ['a', 'b'],\n",
    "    'list4': []\n",
    "}\n",
    "\n",
    "# Iterate over each key-value pair\n",
    "for key, the_list in # replace this with your code:\n",
    "    if # replace this with your code:\n",
    "        print(f\"{key}: Empty\")\n",
    "    else:\n",
    "        print(f\"{key}: Not Empty\")"
   ]
  },
  {
   "cell_type": "markdown",
   "id": "4a7d2670",
   "metadata": {},
   "source": [
    "### 2. Practice Exercise: Remove Duplicates from a List"
   ]
  },
  {
   "cell_type": "markdown",
   "id": "117d787b",
   "metadata": {},
   "source": [
    "2.1. Remove duplicates from the list [\"apple\", \"apple\", \"orange\", \"banana\", \"apple\"] and preserve order."
   ]
  },
  {
   "cell_type": "code",
   "execution_count": null,
   "id": "bddbbea7",
   "metadata": {},
   "outputs": [],
   "source": [
    "the_list = [\"apple\", \"apple\", \"orange\", \"banana\", \"apple\"]\n",
    "result = # replace this with your code\n",
    "print(result)"
   ]
  },
  {
   "cell_type": "markdown",
   "id": "4f4ec830",
   "metadata": {},
   "source": [
    "2.2. Write code to handle a list with no duplicates and ensure the result remains the same."
   ]
  },
  {
   "cell_type": "code",
   "execution_count": null,
   "id": "8bbded0c",
   "metadata": {},
   "outputs": [],
   "source": [
    "the_list = [1, 2, 3]\n",
    "# replace this with your code\n",
    "print(result)"
   ]
  },
  {
   "cell_type": "markdown",
   "id": "c3a0b0c3",
   "metadata": {},
   "source": [
    "2.3. Use set to remove duplicates from the list [4, 4, 4, 5] and explain why the order changes."
   ]
  },
  {
   "cell_type": "code",
   "execution_count": null,
   "id": "960706bf",
   "metadata": {},
   "outputs": [],
   "source": [
    "the_list = [4, 4, 4, 5]\n",
    "result = # replace this with your code\n",
    "print(result)"
   ]
  },
  {
   "cell_type": "markdown",
   "id": "965041bc",
   "metadata": {},
   "source": [
    "2.4. Write a function remove_duplicates_preserve_order(lst) to return a new list with duplicates removed while preserving the order."
   ]
  },
  {
   "cell_type": "code",
   "execution_count": null,
   "id": "0d1d8d65",
   "metadata": {},
   "outputs": [],
   "source": [
    "def remove_duplicates_preserve_order(lst):\n",
    "    return # replace this with your code\n",
    "\n",
    "print(remove_duplicates_preserve_order([\"a\", \"b\", \"a\", \"c\"]))"
   ]
  },
  {
   "cell_type": "markdown",
   "id": "698fbad2",
   "metadata": {},
   "source": [
    "2.5. Handle a list with nested mutable elements, like [[1], [1], [2]], to remove duplicates manually."
   ]
  },
  {
   "cell_type": "code",
   "execution_count": null,
   "id": "b616d53e",
   "metadata": {},
   "outputs": [],
   "source": [
    "# replace this with your code\n",
    "unique = []\n",
    "for # replace this with your code:\n",
    "    if item not in unique:\n",
    "        unique.append(item)\n",
    "print(unique"
   ]
  },
  {
   "cell_type": "markdown",
   "id": "76d70660",
   "metadata": {},
   "source": [
    "### 3. Practice Exercise: Remove Matching Element"
   ]
  },
  {
   "cell_type": "markdown",
   "id": "613651f2",
   "metadata": {},
   "source": [
    "3.1. Remove the element 5 from the list [1, 2, 5, 3, 5, 4] and print the result."
   ]
  },
  {
   "cell_type": "code",
   "execution_count": null,
   "id": "6df488ae",
   "metadata": {},
   "outputs": [],
   "source": [
    "the_list = [1, 2, 5, 3, 5, 4]\n",
    "remove_this = 5\n",
    "# replace this with your code = list(filter((# replace this with your code).__ne__, the_list))\n",
    "print(the_list)"
   ]
  },
  {
   "cell_type": "markdown",
   "id": "c5fb03d5",
   "metadata": {},
   "source": [
    "3.2. Modify the standard approach to handle lists with elements of varying types, such as [1, \"1\", 2, \"2\"]."
   ]
  },
  {
   "cell_type": "code",
   "execution_count": null,
   "id": "adb6d53e",
   "metadata": {},
   "outputs": [],
   "source": [
    "the_list = # replace this with your code\n",
    "remove_this = 1\n",
    "the_list = [x for x in # replace this with your code if x != remove_this]\n",
    "print(the_list)"
   ]
  },
  {
   "cell_type": "markdown",
   "id": "2016803c",
   "metadata": {},
   "source": [
    "3.3. Use the optimized approach to remove all occurrences of \"apple\" from the list [\"apple\", \"banana\", \"apple\", \"cherry\"]."
   ]
  },
  {
   "cell_type": "code",
   "execution_count": null,
   "id": "d1f31c7f",
   "metadata": {},
   "outputs": [],
   "source": [
    "the_list = [\"apple\", \"banana\", \"apple\", \"cherry\"]\n",
    "remove_this = # replace this with your code\n",
    "# replace this with your code\n",
    "print(the_list)"
   ]
  },
  {
   "cell_type": "markdown",
   "id": "18d40240",
   "metadata": {},
   "source": [
    "3.4. Write a function remove_element(lst, elem) that removes all occurrences of elem and returns the new list."
   ]
  },
  {
   "cell_type": "code",
   "execution_count": null,
   "id": "c868fb2b",
   "metadata": {},
   "outputs": [],
   "source": [
    "def remove_element(lst, elem):\n",
    "    return list(filter(# replace this with your code))\n",
    "\n",
    "print(remove_element([\"a\", \"b\", \"a\", \"c\"], \"a\"))"
   ]
  },
  {
   "cell_type": "markdown",
   "id": "5f7434e7",
   "metadata": {},
   "source": [
    "3.5. Handle the edge case of removing elements from a nested list like [[\"a\"], \"a\", [\"a\"]]."
   ]
  },
  {
   "cell_type": "code",
   "execution_count": null,
   "id": "feba4038",
   "metadata": {},
   "outputs": [],
   "source": [
    "the_list = [[\"a\"], \"a\", [\"a\"]]\n",
    "remove_this = [\"a\"]\n",
    "the_list = [# replace this with your code]\n",
    "print(the_list)"
   ]
  },
  {
   "cell_type": "markdown",
   "id": "a4c1e9e4",
   "metadata": {},
   "source": [
    "### 4. Practice Exercise: Print Elements on the Same Line Without Commas"
   ]
  },
  {
   "cell_type": "markdown",
   "id": "22f7077c",
   "metadata": {},
   "source": [
    "4.1. Print the elements of the list [10, 20, 30] on the same line separated by spaces."
   ]
  },
  {
   "cell_type": "code",
   "execution_count": null,
   "id": "5c4baf51",
   "metadata": {},
   "outputs": [],
   "source": [
    "the_list = [10, 20, 30]\n",
    "print(*the_list, # replace this with your code)"
   ]
  },
  {
   "cell_type": "markdown",
   "id": "e923f237",
   "metadata": {},
   "source": [
    "4.2. Modify the standard approach to print elements on the same line but separated by dashes (-)."
   ]
  },
  {
   "cell_type": "code",
   "execution_count": null,
   "id": "cb51268a",
   "metadata": {},
   "outputs": [],
   "source": [
    "the_list = [10, 20, 30]\n",
    "for # replace this with your code:\n",
    "    print(i, # replace this with your code)\n",
    "print(\"\\b\")  # Remove the trailing dash"
   ]
  },
  {
   "cell_type": "markdown",
   "id": "07ec3522",
   "metadata": {},
   "source": [
    "4.3. Use the optimized approach to print elements of [\"apple\", \"banana\", \"cherry\"] with no separator (elements printed directly next to each other)."
   ]
  },
  {
   "cell_type": "code",
   "execution_count": null,
   "id": "08091933",
   "metadata": {},
   "outputs": [],
   "source": [
    "the_list = [\"apple\", \"banana\", \"cherry\"]\n",
    "print(# replace this with your code)"
   ]
  },
  {
   "cell_type": "markdown",
   "id": "7099e7e7",
   "metadata": {},
   "source": [
    "4.4. Write a function print_list(lst) that prints elements on the same line without commas or extra spaces."
   ]
  },
  {
   "cell_type": "code",
   "execution_count": null,
   "id": "3247cbf7",
   "metadata": {},
   "outputs": [],
   "source": [
    "def print_list(lst):\n",
    "    print(# replace this with your code)\n",
    "\n",
    "print_list([\"x\", \"y\", \"z\"])"
   ]
  },
  {
   "cell_type": "markdown",
   "id": "78c8a8e3",
   "metadata": {},
   "source": [
    "4.5. Handle nested lists like [[\"a\", \"b\"], [\"c\", \"d\"]] and flatten them before printing."
   ]
  },
  {
   "cell_type": "code",
   "execution_count": null,
   "id": "9367f5fc",
   "metadata": {},
   "outputs": [],
   "source": [
    "from itertools import chain\n",
    "\n",
    "the_list = # replace this with your code\n",
    "flat_list = list(chain.from_iterable(# replace this with your code))\n",
    "print(*flat_list, sep=\" \")"
   ]
  },
  {
   "cell_type": "markdown",
   "id": "13ea6d4a",
   "metadata": {},
   "source": [
    "### 5. Practice Exercise:  Print the Elements and Their Indices"
   ]
  },
  {
   "cell_type": "markdown",
   "id": "21533a29",
   "metadata": {},
   "source": [
    "5.1. Print the elements and their indices for the list [10, 20, 30]."
   ]
  },
  {
   "cell_type": "code",
   "execution_count": null,
   "id": "57c2649f",
   "metadata": {},
   "outputs": [],
   "source": [
    "# replace this with your code\n",
    "for i, elem in # replace this with your code(the_list):\n",
    "    print(elem, i)"
   ]
  },
  {
   "cell_type": "markdown",
   "id": "0a85a746",
   "metadata": {},
   "source": [
    "5.2. Modify the optimized approach to start the index from 1 instead of 0."
   ]
  },
  {
   "cell_type": "code",
   "execution_count": null,
   "id": "820bc26b",
   "metadata": {},
   "outputs": [],
   "source": [
    "the_list = [\"a\", \"b\", \"c\"]\n",
    "for i, elem in enumerate(the_list, # replace this with your code):\n",
    "    print(elem, i)"
   ]
  },
  {
   "cell_type": "markdown",
   "id": "d75f0d0e",
   "metadata": {},
   "source": [
    "5.3. Write a function print_elements_with_indices(lst) to handle empty lists and print elements with their indices."
   ]
  },
  {
   "cell_type": "code",
   "execution_count": null,
   "id": "75425793",
   "metadata": {},
   "outputs": [],
   "source": [
    "def print_elements_with_indices(lst):\n",
    "    # replace this with your code:\n",
    "        print(\"Empty List\")\n",
    "    # replace this with your code:\n",
    "        for i, elem # replace this with your code:\n",
    "            print(elem, i)\n",
    "\n",
    "print_elements_with_indices([\"x\", \"y\", \"z\"])"
   ]
  },
  {
   "cell_type": "markdown",
   "id": "4ef2634f",
   "metadata": {},
   "source": [
    "5.4. Handle a list with nested lists, such as [[\"x\", \"y\"], [\"a\"]], and print the indices of the top-level elements."
   ]
  },
  {
   "cell_type": "code",
   "execution_count": null,
   "id": "81957606",
   "metadata": {},
   "outputs": [],
   "source": [
    "the_list = # replace this with your code\n",
    "for # replace this with your code:\n",
    "    print(elem, i)"
   ]
  },
  {
   "cell_type": "markdown",
   "id": "0dd5b67c",
   "metadata": {},
   "source": [
    "5.5. Use a while loop instead of a for loop to achieve the same result."
   ]
  },
  {
   "cell_type": "code",
   "execution_count": null,
   "id": "a71a1fe1",
   "metadata": {},
   "outputs": [],
   "source": [
    "the_list = [\"a\", \"b\", \"c\"]\n",
    "i = 0\n",
    "while i < # replace this with your code:\n",
    "    print(the_list[i], i)\n",
    "    # replace this with your code"
   ]
  },
  {
   "cell_type": "markdown",
   "id": "ba4cf44a",
   "metadata": {},
   "source": [
    "### 6. Practice Exercise: Multiply All Elements in a List"
   ]
  },
  {
   "cell_type": "markdown",
   "id": "bce06cd4",
   "metadata": {},
   "source": [
    "6.1. Multiply each element in the list [2, 4, 6, 8] by 3."
   ]
  },
  {
   "cell_type": "code",
   "execution_count": null,
   "id": "e7ae2257",
   "metadata": {},
   "outputs": [],
   "source": [
    "the_list = [2, 4, 6, 8]\n",
    "the_factor =  # replace this with your code\n",
    " # replace this with your code:\n",
    "    the_list[i] = elem * the_factor\n",
    "print(the_list)"
   ]
  },
  {
   "cell_type": "markdown",
   "id": "1dce4fe9",
   "metadata": {},
   "source": [
    "6.2. Write a function multiply_list(lst, factor) to multiply all elements in a list by a factor and return the new list."
   ]
  },
  {
   "cell_type": "code",
   "execution_count": null,
   "id": "3bea87b8",
   "metadata": {},
   "outputs": [],
   "source": [
    "def multiply_list(lst, factor):\n",
    "    for i, elem in enumerate(lst):\n",
    "        # replace this with your code\n",
    "    # replace this with your code\n",
    "\n",
    "print(multiply_list([1, 2, 3], 4))"
   ]
  },
  {
   "cell_type": "markdown",
   "id": "6b99e120",
   "metadata": {},
   "source": [
    "6.3. Modify the optimized approach to handle non-integer factors, such as multiplying [1, 2, 3] by 0.5."
   ]
  },
  {
   "cell_type": "code",
   "execution_count": null,
   "id": "6eaa36f2",
   "metadata": {},
   "outputs": [],
   "source": [
    "# replace this with your code\n",
    "the_factor = 0.5\n",
    "for i, elem in enumerate(the_list):\n",
    "    # replace this with your code\n",
    "print(the_list)"
   ]
  },
  {
   "cell_type": "markdown",
   "id": "4f8b76ca",
   "metadata": {},
   "source": [
    "6.4. Multiply all elements in a nested list, such as [[1, 2], [3, 4]], by 2."
   ]
  },
  {
   "cell_type": "code",
   "execution_count": null,
   "id": "ba345091",
   "metadata": {},
   "outputs": [],
   "source": [
    "# replace this with your code\n",
    "the_factor = 2\n",
    "for sublist in the_list:\n",
    "    # replace this with your code:\n",
    "        sublist[i] = elem * # replace this with your code\n",
    "print(the_list)"
   ]
  },
  {
   "cell_type": "markdown",
   "id": "3c57be74",
   "metadata": {},
   "source": [
    "6.5. Rewrite the solution using a list comprehension for a more compact approach."
   ]
  },
  {
   "cell_type": "code",
   "execution_count": null,
   "id": "10a76c1e",
   "metadata": {},
   "outputs": [],
   "source": [
    "the_list = [3, 4, 5, 6]\n",
    "the_factor = 2\n",
    "the_list = [# replace this with your code]\n",
    "print(the_list)"
   ]
  },
  {
   "cell_type": "markdown",
   "id": "562f852a",
   "metadata": {},
   "source": [
    "### 7. Practice Exercise: Flatten a List that Contains Lists"
   ]
  },
  {
   "cell_type": "markdown",
   "id": "7680f83f",
   "metadata": {},
   "source": [
    "7.1. Flatten the list [[1, 2, 3], 4, [5, 6], 7] using both the standard and optimized approaches."
   ]
  },
  {
   "cell_type": "code",
   "execution_count": null,
   "id": "1a4f5b8e",
   "metadata": {},
   "outputs": [],
   "source": [
    "the_nested_list = [[1, 2, 3], 4, [5, 6], 7]\n",
    "\n",
    "# Standard Approach\n",
    "the_flatten_list = # replace this with your code\n",
    "for i in # replace this with your code:\n",
    "    if not isinstance(i, list):\n",
    "        the_flatten_list.# replace this with your code\n",
    "    else:\n",
    "        for j in i:\n",
    "            the_flatten_list.append(j)\n",
    "print(the_flatten_list)\n",
    "\n",
    "\n",
    "# Optimized Solution\n",
    "the_flatten_list = [\n",
    "    item for sublist in # replace this with your code\n",
    "    # replace this with your code (sublist if isinstance(sublist, list) else [sublist])\n",
    "]\n",
    "print(the_flatten_list)"
   ]
  },
  {
   "cell_type": "markdown",
   "id": "cd046106",
   "metadata": {},
   "source": [
    "7.2. Write a function flatten_list(lst) that flattens a list containing lists and handles mixed data types."
   ]
  },
  {
   "cell_type": "code",
   "execution_count": null,
   "id": "540a8467",
   "metadata": {},
   "outputs": [],
   "source": [
    "def flatten_list(lst):\n",
    "    return [\n",
    "        item for sublist in lst\n",
    "        for item in # replace this with your code\n",
    "    ]\n",
    "\n",
    "print(flatten_list([['a', 'b'], 4, [5, 6]]))"
   ]
  },
  {
   "cell_type": "markdown",
   "id": "b898a48a",
   "metadata": {},
   "source": [
    "7.3. Modify the optimized approach to skip None values in the nested list [[1, 2, None], [3, None], 4]."
   ]
  },
  {
   "cell_type": "code",
   "execution_count": null,
   "id": "c7793b74",
   "metadata": {},
   "outputs": [],
   "source": [
    "# replace this with your code\n",
    "the_flatten_list = [\n",
    "    item for sublist in the_nested_list\n",
    "    # replace this with your code\n",
    "    if item is not None\n",
    "]\n",
    "print(the_flatten_list)"
   ]
  },
  {
   "cell_type": "markdown",
   "id": "d572f83c",
   "metadata": {},
   "source": [
    "7.4. Handle a nested list with multiple empty sublists like [[], [1, 2], [], 3] and remove the empty sublists while flattening."
   ]
  },
  {
   "cell_type": "code",
   "execution_count": null,
   "id": "35ab3d6a",
   "metadata": {},
   "outputs": [],
   "source": [
    "the_nested_list = [[], [1, 2], [], 3]\n",
    "the_flatten_list = [\n",
    "    # replace this with your code\n",
    "    if sublist != [] for item in (sublist if isinstance(sublist, list) else [sublist])\n",
    "]\n",
    "# replace this with your code"
   ]
  },
  {
   "cell_type": "markdown",
   "id": "d33dca9d",
   "metadata": {},
   "source": [
    "7.5. Use a recursive function to flatten a deeply nested list such as [[1, [2, [3]]]]."
   ]
  },
  {
   "cell_type": "code",
   "execution_count": null,
   "id": "301f2584",
   "metadata": {},
   "outputs": [],
   "source": [
    "def recursive_flatten(lst):\n",
    "    flat_list = []\n",
    "    # replace this with your code:\n",
    "        if isinstance(i, list):\n",
    "            flat_list.extend(recursive_flatten(i))\n",
    "        else:\n",
    "            flat_list.# replace this with your code\n",
    "    return # replace this with your code\n",
    "\n",
    "print(recursive_flatten([[1, [2, [3]]]]))"
   ]
  },
  {
   "cell_type": "markdown",
   "id": "880b14e6",
   "metadata": {},
   "source": [
    "### 8. Practice Exercise: Find the nth Largest Value in a List"
   ]
  },
  {
   "cell_type": "markdown",
   "id": "014c9ecb",
   "metadata": {},
   "source": [
    "8.1. Find the 3rd largest value in the list [4, 8, 2, 7, 9, 1]."
   ]
  },
  {
   "cell_type": "code",
   "execution_count": null,
   "id": "77538830",
   "metadata": {},
   "outputs": [],
   "source": [
    "the_list = [4, 8, 2, 7, 9, 1]\n",
    "nth_largest_value = 3\n",
    "the_list.sort(reverse=# replace this with your code)\n",
    "print(# replace this with your code)"
   ]
  },
  {
   "cell_type": "markdown",
   "id": "6458426f",
   "metadata": {},
   "source": [
    "8.2. Modify the optimized approach to handle a list with only duplicate values like [3, 3, 3]."
   ]
  },
  {
   "cell_type": "code",
   "execution_count": null,
   "id": "a7cf85d6",
   "metadata": {},
   "outputs": [],
   "source": [
    "the_list = [3, 3, 3]\n",
    "nth_largest_value = 2\n",
    "if len(set(the_list)) >= # replace this with your code:\n",
    "    sorted_list = sorted(set(the_list), # replace this with your code)\n",
    "    print(sorted_list[nth_largest_value - 1])\n",
    "else:\n",
    "    print(None)"
   ]
  },
  {
   "cell_type": "markdown",
   "id": "b995f04f",
   "metadata": {},
   "source": [
    "8.3. Write a function find_nth_largest(lst, n) that implements the optimized approach."
   ]
  },
  {
   "cell_type": "code",
   "execution_count": null,
   "id": "86eac684",
   "metadata": {},
   "outputs": [],
   "source": [
    "def find_nth_largest(lst, n):\n",
    "    unique_elements = sorted(set(lst), reverse=True)\n",
    "    return unique_elements[n - 1] if # replace this with your code:\n",
    "\n",
    "print(find_nth_largest([4, 8, 6, 2, 8], 2))"
   ]
  },
  {
   "cell_type": "markdown",
   "id": "066f6ef0",
   "metadata": {},
   "source": [
    "8.4. Handle a list with mixed data types like [4, 8, \"9\", 2] by skipping non-numeric values."
   ]
  },
  {
   "cell_type": "code",
   "execution_count": null,
   "id": "8e76124d",
   "metadata": {},
   "outputs": [],
   "source": [
    "the_list = [4, 8, \"9\", 2]\n",
    "nth_largest_value = 2\n",
    "numeric_list = [x for x in the_list if isinstance(x, (int, float))]\n",
    "if len(set(numeric_list)) >= nth_largest_value:\n",
    "    # replace this with your code\n",
    "    print(# replace this with your code)\n",
    "else:\n",
    "    print(# replace this with your code)"
   ]
  },
  {
   "cell_type": "markdown",
   "id": "941e811f",
   "metadata": {},
   "source": [
    "8.5. Use heapq.nlargest() to find the nth largest value more efficiently."
   ]
  },
  {
   "cell_type": "code",
   "execution_count": null,
   "id": "6549ae69",
   "metadata": {},
   "outputs": [],
   "source": [
    "import heapq\n",
    "\n",
    "the_list = [4, 8, 2, 7, 9, 1]\n",
    "nth_largest_value = 3\n",
    "print(heapq.nlargest(# replace this with your code)[-1])"
   ]
  },
  {
   "cell_type": "markdown",
   "id": "d9838a60",
   "metadata": {},
   "source": [
    "### 9. Practice Exercise: Find the nth Smallest Value in a List"
   ]
  },
  {
   "cell_type": "markdown",
   "id": "2d4546ff",
   "metadata": {},
   "source": [
    "9.1. Find the 3rd smallest value in the list [9, 2, 8, 3, 7, 1]."
   ]
  },
  {
   "cell_type": "code",
   "execution_count": null,
   "id": "084e03ff",
   "metadata": {},
   "outputs": [],
   "source": [
    "the_list = [9, 2, 8, 3, 7, 1]\n",
    "nth_smallest_value = # replace this with your code\n",
    "# replace this with your code\n",
    "print(the_list[nth_smallest_value - 1])"
   ]
  },
  {
   "cell_type": "markdown",
   "id": "6d916a0c",
   "metadata": {},
   "source": [
    "9.2. Modify the optimized approach to handle a list with only duplicate values like [4, 4, 4]."
   ]
  },
  {
   "cell_type": "code",
   "execution_count": null,
   "id": "1e81493a",
   "metadata": {},
   "outputs": [],
   "source": [
    "# replace this with your code\n",
    "nth_smallest_value = 2\n",
    "if len(set(the_list)) >= nth_smallest_value:\n",
    "    unique_list = sorted(set(the_list))\n",
    "    print(# replace this with your code)\n",
    "else:\n",
    "    print(# replace this with your code)"
   ]
  },
  {
   "cell_type": "markdown",
   "id": "65b9089b",
   "metadata": {},
   "source": [
    "9.3. Write a function find_nth_smallest(lst, n) that implements the optimized approach."
   ]
  },
  {
   "cell_type": "code",
   "execution_count": null,
   "id": "844ac3c9",
   "metadata": {},
   "outputs": [],
   "source": [
    "def (# replace this with your code(lst, n):\n",
    "    unique_elements = sorted(set(lst))\n",
    "    return (# replace this with your code\n",
    "\n",
    "print(find_nth_smallest([4, 8, 6, 2, 8], 2))"
   ]
  },
  {
   "cell_type": "markdown",
   "id": "45727aa6",
   "metadata": {},
   "source": [
    "9.4. Handle a list with mixed data types like [4, 8, \"3\", 2] by skipping non-numeric values."
   ]
  },
  {
   "cell_type": "code",
   "execution_count": null,
   "id": "e2a804be",
   "metadata": {},
   "outputs": [],
   "source": [
    "the_list = [4, 8, \"3\", 2]\n",
    "nth_smallest_value = 2\n",
    "numeric_list = [x for x in the_list if isinstance(x, (int, float))]\n",
    "# replace this with your code:\n",
    "    # replace this with your code\n",
    "    print(unique_list[nth_smallest_value - 1])\n",
    "else:\n",
    "    print(None)"
   ]
  },
  {
   "cell_type": "markdown",
   "id": "8945fd71",
   "metadata": {},
   "source": [
    "9.5. Use heapq.nsmallest() to find the nth smallest value more efficiently."
   ]
  },
  {
   "cell_type": "code",
   "execution_count": null,
   "id": "e7f3550d",
   "metadata": {},
   "outputs": [],
   "source": [
    "import heapq\n",
    "\n",
    "the_list = [9, 2, 8, 3, 7, 1]\n",
    "nth_smallest_value = 3\n",
    "print(# replace this with your code)"
   ]
  },
  {
   "cell_type": "markdown",
   "id": "4b80e87a",
   "metadata": {},
   "source": [
    "### 10. Practice Exercise: Get Max and Min Values"
   ]
  },
  {
   "cell_type": "markdown",
   "id": "c54d5089",
   "metadata": {},
   "source": [
    "10.1. Find the max and min values in the list [7, 5, 9, 3, 11]."
   ]
  },
  {
   "cell_type": "code",
   "execution_count": null,
   "id": "9c391c9f",
   "metadata": {},
   "outputs": [],
   "source": [
    "the_list = [7, 5, 9, 3, 11]\n",
    "print(# replace this with your code)"
   ]
  },
  {
   "cell_type": "markdown",
   "id": "61b53e67",
   "metadata": {},
   "source": [
    "10.2. Handle an empty list [ ] using both the standard and optimized approaches."
   ]
  },
  {
   "cell_type": "code",
   "execution_count": null,
   "id": "e5fea837",
   "metadata": {},
   "outputs": [],
   "source": [
    "the_list = []\n",
    "if # replace this with your code:\n",
    "    print(# replace this with your code)\n",
    "else:\n",
    "    print(None)"
   ]
  },
  {
   "cell_type": "markdown",
   "id": "cfd7b312",
   "metadata": {},
   "source": [
    "10.3. Write a function get_max_min(lst) that returns the max and min values as a tuple (max, min) or None if the list is empty."
   ]
  },
  {
   "cell_type": "code",
   "execution_count": null,
   "id": "e6ba8a80",
   "metadata": {},
   "outputs": [],
   "source": [
    "def get_max_min(lst):\n",
    "    if lst:\n",
    "        return # replace this with your code\n",
    "    else:\n",
    "        return # replace this with your code\n",
    "\n",
    "print(# replace this with your code([4, 8, 6, 2]))\n",
    "print(get_max_min([]))"
   ]
  },
  {
   "cell_type": "markdown",
   "id": "0984cb24",
   "metadata": {},
   "source": [
    "10.4. Handle a list with mixed types like [5, 10, \"15\", 20] and safely extract the max and min values for numeric elements only."
   ]
  },
  {
   "cell_type": "code",
   "execution_count": null,
   "id": "f0b47bfc",
   "metadata": {},
   "outputs": [],
   "source": [
    "the_list = [5, 10, \"15\", 20]\n",
    "numeric_list = [x for x in the_list if isinstance(x, (int, float))]\n",
    "if # replace this with your code:\n",
    "    print# replace this with your code\n",
    "else:\n",
    "    print(None)"
   ]
  },
  {
   "cell_type": "markdown",
   "id": "016fa8e7",
   "metadata": {},
   "source": [
    "10.5. Modify the code to print the difference between the max and min values for the list [10, 15, 5, 25]."
   ]
  },
  {
   "cell_type": "code",
   "execution_count": null,
   "id": "c8cd27c0",
   "metadata": {},
   "outputs": [],
   "source": [
    "the_list = [10, 15, 5, 25]\n",
    "if the_list:\n",
    "    max_val = # replace this with your code\n",
    "    min_val = # replace this with your code\n",
    "    print(f\"Difference: {max_val - min_val}\")\n",
    "else:\n",
    "    print(# replace this with your code)"
   ]
  },
  {
   "cell_type": "markdown",
   "id": "6ae4fe38",
   "metadata": {},
   "source": [
    "### 11. Print Common Elements in Two Lists"
   ]
  },
  {
   "cell_type": "markdown",
   "id": "bd734e95",
   "metadata": {},
   "source": [
    "11.1. Find the common elements between the lists [10, 20, 30] and [30, 40, 50] using both approaches."
   ]
  },
  {
   "cell_type": "code",
   "execution_count": null,
   "id": "a1f84ffd",
   "metadata": {},
   "outputs": [],
   "source": [
    "# Standard Approach\n",
    "common_list = []\n",
    "for i in first_list:\n",
    "    if i in second_list:\n",
    "        # replace this with your code:\n",
    "            # replace this with your code\n",
    "print(common_list)\n",
    "\n",
    "# Optimized Solution\n",
    "common_list = # replace this with your code\n",
    "print(common_list)"
   ]
  },
  {
   "cell_type": "markdown",
   "id": "8a2e4af0",
   "metadata": {},
   "source": [
    "11.2. Write a function find_common_elements(lst1, lst2) that returns the common elements of two lists."
   ]
  },
  {
   "cell_type": "code",
   "execution_count": null,
   "id": "0397d0c8",
   "metadata": {},
   "outputs": [],
   "source": [
    "def find_common_elements(lst1, lst2):\n",
    "    # replace this with your code\n",
    "\n",
    "print(find_common_elements([1, 2, 3], [3, 4, 5]))"
   ]
  },
  {
   "cell_type": "markdown",
   "id": "acfbc003",
   "metadata": {},
   "source": [
    "11.3. Modify the optimized solution to count the occurrences of each common element in both lists."
   ]
  },
  {
   "cell_type": "code",
   "execution_count": null,
   "id": "c11eaaa4",
   "metadata": {},
   "outputs": [],
   "source": [
    "from collections import Counter\n",
    "\n",
    "first_list = [1, 2, 2, 3]\n",
    "second_list = [2, 3, 3, 4]\n",
    "\n",
    "common_elements = # replace this with your code\n",
    "counts = {elem: (Counter(first_list)[elem], Counter(second_list)[elem]) for elem in # replace this with your code}\n",
    "print(counts)"
   ]
  },
  {
   "cell_type": "markdown",
   "id": "49af8751",
   "metadata": {},
   "source": [
    "11.4. Handle lists with case-insensitive string matching, such as ['a', 'b', 'A'] and ['A', 'B', 'b']."
   ]
  },
  {
   "cell_type": "code",
   "execution_count": null,
   "id": "c039df70",
   "metadata": {},
   "outputs": [],
   "source": [
    "# replace this with your code\n",
    "second_list = ['A', 'B', 'b']\n",
    "\n",
    "common_list = list(set(elem.lower() for elem in first_list) & set(elem.lower() for elem in # replace this with your code)\n",
    "print(# replace this with your code)"
   ]
  },
  {
   "cell_type": "markdown",
   "id": "65889631",
   "metadata": {},
   "source": [
    "11.5. Use list comprehensions to achieve the same result as the standard approach."
   ]
  },
  {
   "cell_type": "code",
   "execution_count": null,
   "id": "df4bf28d",
   "metadata": {},
   "outputs": [],
   "source": [
    "first_list = [1, 2, 3, 4]\n",
    "second_list = [3, 4, 5, 6]\n",
    "\n",
    "common_list = [# replace this with your code]\n",
    "print(common_list)"
   ]
  },
  {
   "cell_type": "markdown",
   "id": "da745650",
   "metadata": {},
   "source": [
    "### 12. Make a Frequency Dictionary from the Elements of a List"
   ]
  },
  {
   "cell_type": "markdown",
   "id": "5e84b1c6",
   "metadata": {},
   "source": [
    "12.1. Create a frequency dictionary for the list [1, 2, 2, 3, 3, 3, 4, 4, 4, 4] using both approaches."
   ]
  },
  {
   "cell_type": "code",
   "execution_count": null,
   "id": "0c54329b",
   "metadata": {},
   "outputs": [],
   "source": [
    "the_list = [1, 2, 2, 3, 3, 3, 4, 4, 4, 4]\n",
    "\n",
    "# Standard Approach\n",
    "the_dict = {}\n",
    "for elem in the_list:\n",
    "    if # replace this with your code:\n",
    "        the_dict[elem] = # replace this with your code\n",
    "    else:\n",
    "        # replace this with your code\n",
    "print(the_dict)\n",
    "\n",
    "# Optimized Approach\n",
    "from collections import # replace this with your code\n",
    "the_dict = # replace this with your code\n",
    "print(the_dict) "
   ]
  },
  {
   "cell_type": "markdown",
   "id": "8b373888",
   "metadata": {},
   "source": [
    "12.2. Write a function frequency_dict(lst) that returns a frequency dictionary for any input list."
   ]
  },
  {
   "cell_type": "code",
   "execution_count": null,
   "id": "4f667e1c",
   "metadata": {},
   "outputs": [],
   "source": [
    "from collections import Counter\n",
    "# replace this with your code:\n",
    "    return Counter(lst)\n",
    "\n",
    "print(frequency_dict(['a', 'b', 'a', 'c']))"
   ]
  },
  {
   "cell_type": "markdown",
   "id": "cc7074d6",
   "metadata": {},
   "source": [
    "12.3. Handle a list with case-insensitive counting, such as ['A', 'a', 'A', 'a']."
   ]
  },
  {
   "cell_type": "code",
   "execution_count": null,
   "id": "b698ac43",
   "metadata": {},
   "outputs": [],
   "source": [
    "# replace this with your code\n",
    "# replace this with your code = # replace this with your code\n",
    "the_dict = Counter(elem.lower() for elem in the_list)\n",
    "print(the_dict)"
   ]
  },
  {
   "cell_type": "markdown",
   "id": "70efa321",
   "metadata": {},
   "source": [
    "12.4. Modify the standard approach to skip elements that are None in the list [1, None, 2, None, 3, None]."
   ]
  },
  {
   "cell_type": "code",
   "execution_count": null,
   "id": "0bab76d4",
   "metadata": {},
   "outputs": [],
   "source": [
    "the_list = [1, None, 2, None, 3, None]\n",
    "the_dict = {}\n",
    "# replace this with your code:\n",
    "    if elem is # replace this with your code:\n",
    "        if elem not # replace this with your code:\n",
    "            the_dict[elem] # replace this with your code\n",
    "        else:\n",
    "            the_dict[elem] # replace this with your code\n",
    "print(the_dict)"
   ]
  },
  {
   "cell_type": "markdown",
   "id": "661a668f",
   "metadata": {},
   "source": [
    "12.5. Use the optimized approach to count word frequencies in a sentence split into words, e.g., sentence = \"this is a test this is only a test\".split()."
   ]
  },
  {
   "cell_type": "code",
   "execution_count": null,
   "id": "4aacc089",
   "metadata": {},
   "outputs": [],
   "source": [
    "# replace this with your code\n",
    "sentence = \"this is a test this is only a test\".split()\n",
    "word_count = # replace this with your code\n",
    "print(word_count)"
   ]
  },
  {
   "cell_type": "markdown",
   "id": "e1664c7c",
   "metadata": {},
   "source": [
    "### 13. Generate All Permutations of a List"
   ]
  },
  {
   "cell_type": "markdown",
   "id": "d4bcd858",
   "metadata": {},
   "source": [
    "13.1 Generate all permutations of [4, 5, 6] with a length of 3."
   ]
  },
  {
   "cell_type": "code",
   "execution_count": null,
   "id": "56ea5884",
   "metadata": {},
   "outputs": [],
   "source": [
    "from itertools import permutations\n",
    "\n",
    "the_list = [4, 5, 6]\n",
    "perm_length = 3\n",
    "print(# replace this with your code)"
   ]
  },
  {
   "cell_type": "markdown",
   "id": "93b2b0ba",
   "metadata": {},
   "source": [
    "13.2. Write a function generate_permutations(lst, n) that returns all permutations of length n."
   ]
  },
  {
   "cell_type": "code",
   "execution_count": null,
   "id": "7fa3c5ed",
   "metadata": {},
   "outputs": [],
   "source": [
    "from itertools import permutations\n",
    "\n",
    "def generate_permutations(lst, n):\n",
    "    # replace this with your code\n",
    "\n",
    "print(generate_permutations([1, 2, 3], 2))"
   ]
  },
  {
   "cell_type": "markdown",
   "id": "13b034d2",
   "metadata": {},
   "source": [
    "13.3. Handle a list with duplicate elements like [2, 2, 3] and explain the output."
   ]
  },
  {
   "cell_type": "code",
   "execution_count": null,
   "id": "94dd64dc",
   "metadata": {},
   "outputs": [],
   "source": [
    "from itertools import permutations\n",
    "\n",
    "the_list = # replace this with your code\n",
    "perm_length = # replace this with your code\n",
    "print(# replace this with your code)"
   ]
  },
  {
   "cell_type": "markdown",
   "id": "55526dc0",
   "metadata": {},
   "source": [
    "13.4. Use list comprehension to create a flattened list of all permutations of [1, 2, 3] with a length of 2."
   ]
  },
  {
   "cell_type": "code",
   "execution_count": null,
   "id": "268ce972",
   "metadata": {},
   "outputs": [],
   "source": [
    "from itertools import permutations\n",
    "\n",
    "the_list = [1, 2, 3]\n",
    "perm_length = 2\n",
    "flattened_perms = [\"\".join(map(str, perm)) for perm in # replace this with your code]\n",
    "print(flattened_perms)"
   ]
  },
  {
   "cell_type": "markdown",
   "id": "b33e611f",
   "metadata": {},
   "source": [
    "13.5. Generate permutations of a list of strings, e.g., [\"apple\", \"banana\", \"cherry\"], and find how many permutations exist for a length of 2."
   ]
  },
  {
   "cell_type": "code",
   "execution_count": null,
   "id": "e63a12ee",
   "metadata": {},
   "outputs": [],
   "source": [
    "from itertools import permutations\n",
    "\n",
    "the_list = [\"apple\", \"banana\", \"cherry\"]\n",
    "perm_length = 2\n",
    "perms = # replace this with your code\n",
    "print(perms)\n",
    "print(# replace this with your code)  # Count of permutations"
   ]
  },
  {
   "cell_type": "markdown",
   "id": "5eb115d0",
   "metadata": {},
   "source": [
    "### 14. Count Elements Greater Than"
   ]
  },
  {
   "cell_type": "markdown",
   "id": "21ecbbb6",
   "metadata": {},
   "source": [
    "14.1. Count how many elements in the list [10, 20, 30, 40] are greater than 15 using both approaches."
   ]
  },
  {
   "cell_type": "code",
   "execution_count": null,
   "id": "4a41394e",
   "metadata": {},
   "outputs": [],
   "source": [
    "the_list = [10, 20, 30, 40]\n",
    "\n",
    "# Standard Approach\n",
    "the_count = 0\n",
    "# replace this with your code:\n",
    "    # replace this with your code:\n",
    "        the_count += 1\n",
    "print(the_count)\n",
    "\n",
    "\n",
    "# Optimized Solution\n",
    "the_count = # replace this with your code\n",
    "print(the_count)"
   ]
  },
  {
   "cell_type": "markdown",
   "id": "deaacb2f",
   "metadata": {},
   "source": [
    "14.2. Write a function count_greater(lst, value) that returns the count of elements greater than value."
   ]
  },
  {
   "cell_type": "code",
   "execution_count": null,
   "id": "39cff51c",
   "metadata": {},
   "outputs": [],
   "source": [
    "def count_greater(lst, value):\n",
    "    # replace this with your code:\n",
    "\n",
    "print(count_greater([1, 2, 3, 4], 2))"
   ]
  },
  {
   "cell_type": "markdown",
   "id": "ab21480b",
   "metadata": {},
   "source": [
    "14.3. Modify the optimized approach to count elements greater than 3 but less than 10."
   ]
  },
  {
   "cell_type": "code",
   "execution_count": null,
   "id": "4d2eb8da",
   "metadata": {},
   "outputs": [],
   "source": [
    "the_list = [1, 4, 5, 6, 10, 12]\n",
    "# replace this with your code\n",
    "print(the_count)"
   ]
  },
  {
   "cell_type": "markdown",
   "id": "456d7edb",
   "metadata": {},
   "source": [
    "14.4. Handle a list with mixed data types like [5, \"10\", 15] by skipping non-numeric elements."
   ]
  },
  {
   "cell_type": "code",
   "execution_count": null,
   "id": "54206775",
   "metadata": {},
   "outputs": [],
   "source": [
    "the_list = [1, \"10\", 5, 15]\n",
    "the_count = # replace this with your code\n",
    "print(the_count)"
   ]
  },
  {
   "cell_type": "markdown",
   "id": "8f35fc16",
   "metadata": {},
   "source": [
    "14.5. Use list comprehension to create a list of elements greater than 3, then print its length to get the count."
   ]
  },
  {
   "cell_type": "code",
   "execution_count": null,
   "id": "0b54ac84",
   "metadata": {},
   "outputs": [],
   "source": [
    "the_list = [1, 2, 3, 4, 5]\n",
    "greater_list = # replace this with your code\n",
    "print(len(greater_list))"
   ]
  },
  {
   "cell_type": "markdown",
   "id": "7ce6c59e",
   "metadata": {},
   "source": [
    "### 15. Difference Between Two Lists"
   ]
  },
  {
   "cell_type": "markdown",
   "id": "5436ba42",
   "metadata": {},
   "source": [
    "15.1. Find the difference between the lists [1, 2, 3, 4, 5] and [4, 5, 6] using both approaches."
   ]
  },
  {
   "cell_type": "code",
   "execution_count": null,
   "id": "e29eca6c",
   "metadata": {},
   "outputs": [],
   "source": [
    "the_first_list = [1, 2, 3, 4, 5]\n",
    "the_list_2compare = [4, 5, 6]\n",
    "\n",
    "# Standard Approach\n",
    "the_difference_list = []\n",
    "# replace this with your code:\n",
    "    # replace this with your code:\n",
    "        the_difference_list.append(elem)\n",
    "print(the_difference_list)\n",
    "\n",
    "# Optimized Solution\n",
    "the_difference_list = [# replace this with your code]\n",
    "print(the_difference_list)"
   ]
  },
  {
   "cell_type": "markdown",
   "id": "99a068a4",
   "metadata": {},
   "source": [
    "15.2. Write a function list_difference(lst1, lst2) that returns the difference between two lists."
   ]
  },
  {
   "cell_type": "code",
   "execution_count": null,
   "id": "3ff73b35",
   "metadata": {},
   "outputs": [],
   "source": [
    "def # replace this with your code:\n",
    "    # replace this with your code\n",
    "\n",
    "print(list_difference([1, 2, 3, 4], [3, 4, 5]))"
   ]
  },
  {
   "cell_type": "markdown",
   "id": "ea22eca8",
   "metadata": {},
   "source": [
    "15.3. Modify the optimized approach to handle lists with duplicate elements, such as [1, 2, 2, 3] and [2, 3]."
   ]
  },
  {
   "cell_type": "code",
   "execution_count": null,
   "id": "3c551e5d",
   "metadata": {},
   "outputs": [],
   "source": [
    "the_first_list = [1, 2, 2, 3]\n",
    "the_list_2compare = # replace this with your code\n",
    "the_difference_list = [# replace this with your code]\n",
    "print(the_difference_list)"
   ]
  },
  {
   "cell_type": "markdown",
   "id": "4026d5d3",
   "metadata": {},
   "source": [
    "15.4. Handle a case where both lists have nested lists, e.g., [[1, 2], 3] and [3, [1, 2]]."
   ]
  },
  {
   "cell_type": "code",
   "execution_count": null,
   "id": "036967fb",
   "metadata": {},
   "outputs": [],
   "source": [
    "the_first_list = # replace this with your code\n",
    "the_list_2compare = [3, [1, 2]]\n",
    "the_difference_list = [# replace this with your code]\n",
    "print(the_difference_list)"
   ]
  },
  {
   "cell_type": "markdown",
   "id": "39b00e48",
   "metadata": {},
   "source": [
    "15.5. Use set operations to achieve the same result as the optimized approach and compare their efficiency."
   ]
  },
  {
   "cell_type": "code",
   "execution_count": null,
   "id": "a45a73a4",
   "metadata": {},
   "outputs": [],
   "source": [
    "the_first_list = [1, 2, 3, 4]\n",
    "the_list_2compare = [3, 4, 5]\n",
    "\n",
    "the_difference_list = list(set(the_first_list) - # replace this with your code)\n",
    "print(# replace this with your code)"
   ]
  },
  {
   "cell_type": "markdown",
   "id": "aa67c46c",
   "metadata": {},
   "source": [
    "### 16. Calculate Distance Between Two Points in 3D Space"
   ]
  },
  {
   "cell_type": "markdown",
   "id": "d23e38d7",
   "metadata": {},
   "source": [
    "16.1. Use the standard approach to calculate the distance between the two points [0, 0, 0] and [1, 1, 1]."
   ]
  },
  {
   "cell_type": "code",
   "execution_count": null,
   "id": "97756aca",
   "metadata": {},
   "outputs": [],
   "source": [
    "import math\n",
    "\n",
    "pointA = [0, 0, 0]\n",
    "pointB = [1, 1, 1]\n",
    "\n",
    "# Calculate the sum of squared differences\n",
    "addition = # replace this with your code\n",
    "\n",
    "# Calculate the distance\n",
    "distance = # replace this with your code\n",
    "\n",
    "# Print the result\n",
    "print(distance)"
   ]
  },
  {
   "cell_type": "markdown",
   "id": "37d87edd",
   "metadata": {},
   "source": [
    "16.2. Write a function calculate_distance_3d(point1, point2) that returns the distance between two points in 3D space."
   ]
  },
  {
   "cell_type": "code",
   "execution_count": null,
   "id": "5369b1f3",
   "metadata": {},
   "outputs": [],
   "source": [
    "import math\n",
    "\n",
    "def calculate_distance_3d(point1, point2):\n",
    "    return math.sqrt(\n",
    "        # replace this with your code\n",
    "    )\n",
    "\n",
    "print(calculate_distance_3d([1, 2, 3], [4, 5, 6]))"
   ]
  },
  {
   "cell_type": "markdown",
   "id": "6e16a1e1",
   "metadata": {},
   "source": [
    "16.3. Modify the optimized solution to handle N-dimensional points (generalize the formula)."
   ]
  },
  {
   "cell_type": "code",
   "execution_count": null,
   "id": "eeb89273",
   "metadata": {},
   "outputs": [],
   "source": [
    "def # replace this with your code:\n",
    "    return math.sqrt(sum((a - b) ** 2 for a, b in zip(point1, point2)))\n",
    "\n",
    "print(calculate_distance_nd([1, 2, 3], [4, 5, 6]))"
   ]
  },
  {
   "cell_type": "markdown",
   "id": "c87902fd",
   "metadata": {},
   "source": [
    "16.4. Using the function from 16.3, handle cases where the input points are given as tuples instead of lists."
   ]
  },
  {
   "cell_type": "code",
   "execution_count": null,
   "id": "211f86b4",
   "metadata": {},
   "outputs": [],
   "source": [
    "pointA = (1, 2, 3)\n",
    "pointB = (4, 5, 6)\n",
    "print(# replace this with your code)"
   ]
  },
  {
   "cell_type": "markdown",
   "id": "878e28ca",
   "metadata": {},
   "source": [
    "16.5. Use numpy to compute the distance in a more concise way."
   ]
  },
  {
   "cell_type": "code",
   "execution_count": null,
   "id": "ee4a0f73",
   "metadata": {},
   "outputs": [],
   "source": [
    "import numpy as np\n",
    "\n",
    "pointA = np.array([1, 2, 3])\n",
    "pointB = np.array([4, 5, 6])\n",
    "print(np.linalg.norm(# replace this with your code - # replace this with your code))"
   ]
  },
  {
   "cell_type": "markdown",
   "id": "ad5bfd03",
   "metadata": {},
   "source": [
    "### Solution Available at: Lists Solutions: Practice Exercises & Challenges"
   ]
  }
 ],
 "metadata": {
  "kernelspec": {
   "display_name": "Python 3 (ipykernel)",
   "language": "python",
   "name": "python3"
  },
  "language_info": {
   "codemirror_mode": {
    "name": "ipython",
    "version": 3
   },
   "file_extension": ".py",
   "mimetype": "text/x-python",
   "name": "python",
   "nbconvert_exporter": "python",
   "pygments_lexer": "ipython3",
   "version": "3.11.4"
  }
 },
 "nbformat": 4,
 "nbformat_minor": 5
}
