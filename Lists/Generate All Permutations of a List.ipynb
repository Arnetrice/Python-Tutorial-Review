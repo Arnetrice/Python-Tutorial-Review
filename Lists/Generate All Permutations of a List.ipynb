{
 "cells": [
  {
   "cell_type": "markdown",
   "id": "de666638",
   "metadata": {},
   "source": [
    " # **Generate All Permutations of a List**"
   ]
  },
  {
   "cell_type": "markdown",
   "id": "b1b377e4",
   "metadata": {},
   "source": [
    "### Standard Approach:"
   ]
  },
  {
   "cell_type": "code",
   "execution_count": null,
   "id": "24184929",
   "metadata": {},
   "outputs": [],
   "source": [
    "# Import permutations from itertools\n",
    "from itertools import permutations\n",
    "\n",
    "# Initialize the list\n",
    "the_list = [1, 2, 3]\n",
    "\n",
    "# Generate all permutations of the list\n",
    "the_list = list(permutations(the_list))\n",
    "\n",
    "# Print the list of permutations\n",
    "print(the_list)"
   ]
  },
  {
   "cell_type": "markdown",
   "id": "a9865f88",
   "metadata": {},
   "source": [
    "Note: This approach uses itertools.permutations to generate all possible permutations of the input list."
   ]
  },
  {
   "cell_type": "markdown",
   "id": "017aff0b",
   "metadata": {},
   "source": [
    "### Optimized Solution:"
   ]
  },
  {
   "cell_type": "code",
   "execution_count": null,
   "id": "496e1d1c",
   "metadata": {},
   "outputs": [],
   "source": [
    "# Import permutations from itertools\n",
    "from itertools import permutations\n",
    "\n",
    "# Initialize the list\n",
    "the_list = [1, 2, 3]\n",
    "perm_length = 2  # Length of each permutation\n",
    "\n",
    "# Generate permutations of the specified length\n",
    "the_permutations = list(permutations(the_list, perm_length))\n",
    "\n",
    "# Print the list of permutations\n",
    "print(the_permutations)"
   ]
  },
  {
   "cell_type": "markdown",
   "id": "f2901c30",
   "metadata": {},
   "source": [
    "Note: This solution generates permutations of a specific length using the second argument of permutations."
   ]
  },
  {
   "cell_type": "markdown",
   "id": "46c2e449",
   "metadata": {},
   "source": [
    "### Additional Practice:\n",
    "See For Loops - Practice Exercises & Challenges: Generate All Permutations of a List"
   ]
  }
 ],
 "metadata": {
  "kernelspec": {
   "display_name": "Python 3 (ipykernel)",
   "language": "python",
   "name": "python3"
  },
  "language_info": {
   "codemirror_mode": {
    "name": "ipython",
    "version": 3
   },
   "file_extension": ".py",
   "mimetype": "text/x-python",
   "name": "python",
   "nbconvert_exporter": "python",
   "pygments_lexer": "ipython3",
   "version": "3.11.4"
  }
 },
 "nbformat": 4,
 "nbformat_minor": 5
}
