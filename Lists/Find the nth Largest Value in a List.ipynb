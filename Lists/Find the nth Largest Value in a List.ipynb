{
 "cells": [
  {
   "attachments": {},
   "cell_type": "markdown",
   "id": "de666638",
   "metadata": {},
   "source": [
    " # **Find the nth Largest Value in a List**"
   ]
  },
  {
   "cell_type": "markdown",
   "id": "b1b377e4",
   "metadata": {},
   "source": [
    "### Standard Approach:"
   ]
  },
  {
   "cell_type": "code",
   "execution_count": null,
   "id": "24184929",
   "metadata": {},
   "outputs": [],
   "source": [
    "# Initialize the list and the desired nth largest value\n",
    "the_list = [2, 8, 5, 3]\n",
    "nth_largest_value = 2\n",
    "\n",
    "# Check if the list has enough elements\n",
    "if len(the_list) >= nth_largest_value:\n",
    "    # Sort the list in descending order\n",
    "    the_list.sort(reverse=True)\n",
    "    # Print the nth largest value\n",
    "    print(the_list[nth_largest_value - 1])\n",
    "else:\n",
    "    # Return None if the list has fewer elements than required\n",
    "    print(None)"
   ]
  },
  {
   "cell_type": "markdown",
   "id": "a9865f88",
   "metadata": {},
   "source": [
    "Note: This approach sorts the list in descending order and selects the nth largest value based on its index."
   ]
  },
  {
   "cell_type": "markdown",
   "id": "017aff0b",
   "metadata": {},
   "source": [
    "### Optimized Solution:"
   ]
  },
  {
   "cell_type": "code",
   "execution_count": null,
   "id": "496e1d1c",
   "metadata": {},
   "outputs": [],
   "source": [
    "# Initialize the list and the desired nth largest value\n",
    "the_list = [8, 2, 8, 3, 5]\n",
    "nth_largest_value = 2\n",
    "\n",
    "# Check if there are enough unique elements\n",
    "if len(set(the_list)) >= nth_largest_value:\n",
    "    # Convert the list to a set to remove duplicates\n",
    "    set_the_list = set(the_list)\n",
    "    # Sort the unique values in descending order\n",
    "    sorted_list = sorted(set_the_list, reverse=True)\n",
    "    # Print the nth largest value\n",
    "    print(sorted_list[nth_largest_value - 1])\n",
    "else:\n",
    "    # Return None if there are fewer unique elements than required\n",
    "    print(None)"
   ]
  },
  {
   "cell_type": "markdown",
   "id": "f2901c30",
   "metadata": {},
   "source": [
    "Note: This solution eliminates duplicates by converting the list into a set, then sorts the unique values in descending order."
   ]
  },
  {
   "cell_type": "markdown",
   "id": "46c2e449",
   "metadata": {},
   "source": [
    "### Additional Practice:\n",
    "See For Loops - Practice Exercises & Challenges: Find the nth Largest Value in a List"
   ]
  }
 ],
 "metadata": {
  "kernelspec": {
   "display_name": "Python 3 (ipykernel)",
   "language": "python",
   "name": "python3"
  },
  "language_info": {
   "codemirror_mode": {
    "name": "ipython",
    "version": 3
   },
   "file_extension": ".py",
   "mimetype": "text/x-python",
   "name": "python",
   "nbconvert_exporter": "python",
   "pygments_lexer": "ipython3",
   "version": "3.11.4"
  }
 },
 "nbformat": 4,
 "nbformat_minor": 5
}
