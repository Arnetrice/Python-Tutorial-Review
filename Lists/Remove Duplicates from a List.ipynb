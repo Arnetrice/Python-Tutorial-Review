{
 "cells": [
  {
   "cell_type": "markdown",
   "id": "de666638",
   "metadata": {},
   "source": [
    " # **Remove Duplicates from a List**"
   ]
  },
  {
   "cell_type": "markdown",
   "id": "b1b377e4",
   "metadata": {},
   "source": [
    "### Standard Approach:"
   ]
  },
  {
   "cell_type": "code",
   "execution_count": null,
   "id": "24184929",
   "metadata": {},
   "outputs": [],
   "source": [
    "# Initialize the list\n",
    "the_list = [\"a\", \"a\", \"b\", \"a\"]\n",
    "\n",
    "# Remove duplicates by converting to a set\n",
    "remove_dups = {*the_list}\n",
    "\n",
    "# Convert back to a list\n",
    "the_list = list(remove_dups)\n",
    "\n",
    "# Print the list with duplicates removed\n",
    "print(the_list)"
   ]
  },
  {
   "cell_type": "markdown",
   "id": "a9865f88",
   "metadata": {},
   "source": [
    "Note: This approach utilizes a set, which inherently stores only unique elements, to remove duplicates from the list."
   ]
  },
  {
   "cell_type": "markdown",
   "id": "017aff0b",
   "metadata": {},
   "source": [
    "### Optimized Solution:"
   ]
  },
  {
   "cell_type": "code",
   "execution_count": null,
   "id": "496e1d1c",
   "metadata": {},
   "outputs": [],
   "source": [
    "# Initialize the list\n",
    "the_list = [\"a\", \"a\", \"b\", \"a\"]\n",
    "\n",
    "# Remove duplicates while preserving order\n",
    "remove_dups = list(dict.fromkeys(the_list))\n",
    "\n",
    "# Print the list with duplicates removed\n",
    "print(remove_dups)"
   ]
  },
  {
   "cell_type": "markdown",
   "id": "f2901c30",
   "metadata": {},
   "source": [
    "Note: This solution uses dict.fromkeys(), which creates a dictionary with keys from the list. Since dictionaries maintain insertion order (from Python 3.7+), this method preserves the original order of elements."
   ]
  },
  {
   "cell_type": "markdown",
   "id": "46c2e449",
   "metadata": {},
   "source": [
    "### Additional Practice:\n",
    "See For Loops - Practice Exercises & Challenges: Remove Duplicates from a List"
   ]
  }
 ],
 "metadata": {
  "kernelspec": {
   "display_name": "Python 3 (ipykernel)",
   "language": "python",
   "name": "python3"
  },
  "language_info": {
   "codemirror_mode": {
    "name": "ipython",
    "version": 3
   },
   "file_extension": ".py",
   "mimetype": "text/x-python",
   "name": "python",
   "nbconvert_exporter": "python",
   "pygments_lexer": "ipython3",
   "version": "3.11.4"
  }
 },
 "nbformat": 4,
 "nbformat_minor": 5
}
