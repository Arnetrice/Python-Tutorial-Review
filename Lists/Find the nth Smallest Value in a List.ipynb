{
 "cells": [
  {
   "cell_type": "markdown",
   "id": "de666638",
   "metadata": {},
   "source": [
    " # **Find the nth Smallest Value in a List**"
   ]
  },
  {
   "cell_type": "markdown",
   "id": "b1b377e4",
   "metadata": {},
   "source": [
    "### Standard Approach:"
   ]
  },
  {
   "cell_type": "code",
   "execution_count": null,
   "id": "24184929",
   "metadata": {},
   "outputs": [],
   "source": [
    "# Initialize the list and the desired nth smallest value\n",
    "the_list = [2]\n",
    "nth_smallest_value = 2\n",
    "\n",
    "# Check if the list has enough elements\n",
    "if len(the_list) >= nth_smallest_value:\n",
    "    # Sort the list in ascending order\n",
    "    the_list.sort()\n",
    "    # Print the nth smallest value\n",
    "    print(the_list[nth_smallest_value - 1])\n",
    "else:\n",
    "    # Return None if the list has fewer elements than required\n",
    "    print(None)"
   ]
  },
  {
   "cell_type": "markdown",
   "id": "a9865f88",
   "metadata": {},
   "source": [
    "Note: This approach sorts the list in ascending order and selects the nth smallest value based on its index."
   ]
  },
  {
   "cell_type": "markdown",
   "id": "017aff0b",
   "metadata": {},
   "source": [
    "### Optimized Solution:"
   ]
  },
  {
   "cell_type": "code",
   "execution_count": null,
   "id": "496e1d1c",
   "metadata": {},
   "outputs": [],
   "source": [
    "# Initialize the list and the desired nth smallest value\n",
    "the_list = [4, 3, 1, 2]\n",
    "nth_smallest_value = 2\n",
    "\n",
    "# Check if there are enough unique elements\n",
    "if len(set(the_list)) >= nth_smallest_value:\n",
    "    # Convert the list to a set to remove duplicates\n",
    "    unique_list = sorted(set(the_list))\n",
    "    # Print the nth smallest value\n",
    "    print(unique_list[nth_smallest_value - 1])\n",
    "else:\n",
    "    # Return None if there are fewer unique elements than required\n",
    "    print(None)"
   ]
  },
  {
   "cell_type": "markdown",
   "id": "f2901c30",
   "metadata": {},
   "source": [
    "Note: This solution eliminates duplicates by converting the list into a set, then sorts the unique values in ascending order."
   ]
  },
  {
   "cell_type": "markdown",
   "id": "46c2e449",
   "metadata": {},
   "source": [
    "### Additional Practice:\n",
    "See For Loops - Practice Exercises & Challenges: Find the nth Smallest Value in a List"
   ]
  }
 ],
 "metadata": {
  "kernelspec": {
   "display_name": "Python 3 (ipykernel)",
   "language": "python",
   "name": "python3"
  },
  "language_info": {
   "codemirror_mode": {
    "name": "ipython",
    "version": 3
   },
   "file_extension": ".py",
   "mimetype": "text/x-python",
   "name": "python",
   "nbconvert_exporter": "python",
   "pygments_lexer": "ipython3",
   "version": "3.11.4"
  }
 },
 "nbformat": 4,
 "nbformat_minor": 5
}
