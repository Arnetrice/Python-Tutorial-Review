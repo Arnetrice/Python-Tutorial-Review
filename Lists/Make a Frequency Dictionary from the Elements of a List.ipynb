{
 "cells": [
  {
   "cell_type": "markdown",
   "id": "de666638",
   "metadata": {},
   "source": [
    " # **Make a Frequency Dictionary from the Elements of a List**"
   ]
  },
  {
   "cell_type": "markdown",
   "id": "b1b377e4",
   "metadata": {},
   "source": [
    "### Standard Approach:"
   ]
  },
  {
   "cell_type": "code",
   "execution_count": null,
   "id": "24184929",
   "metadata": {},
   "outputs": [],
   "source": [
    "# Initialize the list\n",
    "the_list = ['a', 'a', 'A', 'b']\n",
    "\n",
    "# Initialize an empty dictionary\n",
    "the_dict = {}\n",
    "\n",
    "# Iterate through the list and count occurrences\n",
    "for elem in the_list:\n",
    "    if elem not in the_dict:\n",
    "        the_dict[elem] = 1\n",
    "    else:\n",
    "        the_dict[elem] += 1\n",
    "\n",
    "# Print the frequency dictionary\n",
    "print(the_dict)"
   ]
  },
  {
   "cell_type": "markdown",
   "id": "a9865f88",
   "metadata": {},
   "source": [
    "Note: This approach iterates through the list, checks if an element exists in the dictionary, and updates the frequency count accordingly."
   ]
  },
  {
   "cell_type": "markdown",
   "id": "017aff0b",
   "metadata": {},
   "source": [
    "### Optimized Solution:"
   ]
  },
  {
   "cell_type": "code",
   "execution_count": null,
   "id": "496e1d1c",
   "metadata": {},
   "outputs": [],
   "source": [
    "# Import Counter from collections\n",
    "from collections import Counter\n",
    "\n",
    "# Initialize the list\n",
    "the_list = [1, 2, 3, 4, 3, 2, 1, 2]\n",
    "\n",
    "# Use Counter to generate the frequency dictionary\n",
    "the_dict = Counter(the_list)\n",
    "\n",
    "# Print the frequency dictionary\n",
    "print(the_dict)"
   ]
  },
  {
   "cell_type": "markdown",
   "id": "f2901c30",
   "metadata": {},
   "source": [
    "Note: This solution leverages Python’s collections.Counter to directly generate a frequency dictionary."
   ]
  },
  {
   "cell_type": "markdown",
   "id": "46c2e449",
   "metadata": {},
   "source": [
    "### Additional Practice:\n",
    "See For Loops - Practice Exercises & Challenges: Make a Frequency Dictionary from the Elements of a List"
   ]
  }
 ],
 "metadata": {
  "kernelspec": {
   "display_name": "Python 3 (ipykernel)",
   "language": "python",
   "name": "python3"
  },
  "language_info": {
   "codemirror_mode": {
    "name": "ipython",
    "version": 3
   },
   "file_extension": ".py",
   "mimetype": "text/x-python",
   "name": "python",
   "nbconvert_exporter": "python",
   "pygments_lexer": "ipython3",
   "version": "3.11.4"
  }
 },
 "nbformat": 4,
 "nbformat_minor": 5
}
