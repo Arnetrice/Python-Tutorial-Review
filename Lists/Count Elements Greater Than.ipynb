{
 "cells": [
  {
   "cell_type": "markdown",
   "id": "de666638",
   "metadata": {},
   "source": [
    " # **Count Elements Greater Than**"
   ]
  },
  {
   "cell_type": "markdown",
   "id": "b1b377e4",
   "metadata": {},
   "source": [
    "### Standard Approach:"
   ]
  },
  {
   "cell_type": "code",
   "execution_count": null,
   "id": "24184929",
   "metadata": {},
   "outputs": [],
   "source": [
    "# Initialize the list\n",
    "the_list = [7, 8, 9, 10]\n",
    "\n",
    "# Initialize a counter\n",
    "the_count = 0\n",
    "\n",
    "# Iterate through the list and count elements greater than 3\n",
    "for elem in the_list:\n",
    "    if elem > 3:\n",
    "        the_count += 1\n",
    "\n",
    "# Print the count\n",
    "print(the_count)"
   ]
  },
  {
   "cell_type": "markdown",
   "id": "a9865f88",
   "metadata": {},
   "source": [
    "Note: This approach iterates through the list, checks each element against the specified value, and increments a counter if the condition is met."
   ]
  },
  {
   "cell_type": "markdown",
   "id": "017aff0b",
   "metadata": {},
   "source": [
    "### Optimized Solution:"
   ]
  },
  {
   "cell_type": "code",
   "execution_count": null,
   "id": "496e1d1c",
   "metadata": {},
   "outputs": [],
   "source": [
    "# Initialize the list\n",
    "the_list = [7, 8, 9, 10]\n",
    "\n",
    "# Use sum with a generator expression to count elements greater than 3\n",
    "the_count = sum(1 for elem in the_list if elem > 3)\n",
    "\n",
    "# Print the count\n",
    "print(the_count)"
   ]
  },
  {
   "cell_type": "markdown",
   "id": "f2901c30",
   "metadata": {},
   "source": [
    "Note: This solution uses a generator expression to count elements that meet the condition in a concise and efficient way."
   ]
  },
  {
   "cell_type": "markdown",
   "id": "46c2e449",
   "metadata": {},
   "source": [
    "### Additional Practice:\n",
    "See For Loops - Practice Exercises & Challenges: Count Elements Greater Than"
   ]
  }
 ],
 "metadata": {
  "kernelspec": {
   "display_name": "Python 3 (ipykernel)",
   "language": "python",
   "name": "python3"
  },
  "language_info": {
   "codemirror_mode": {
    "name": "ipython",
    "version": 3
   },
   "file_extension": ".py",
   "mimetype": "text/x-python",
   "name": "python",
   "nbconvert_exporter": "python",
   "pygments_lexer": "ipython3",
   "version": "3.11.4"
  }
 },
 "nbformat": 4,
 "nbformat_minor": 5
}
