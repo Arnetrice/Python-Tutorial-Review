{
 "cells": [
  {
   "cell_type": "markdown",
   "id": "de666638",
   "metadata": {},
   "source": [
    " # **Calculate Distance Between Two Points in 3D Space**"
   ]
  },
  {
   "cell_type": "markdown",
   "id": "b1b377e4",
   "metadata": {},
   "source": [
    "### Standard Approach:"
   ]
  },
  {
   "cell_type": "code",
   "execution_count": null,
   "id": "24184929",
   "metadata": {},
   "outputs": [],
   "source": [
    "import math\n",
    "\n",
    "# Define the points\n",
    "pointA = [3, 4, 5]\n",
    "pointB = [1, 3, 5]\n",
    "\n",
    "# Calculate the sum of squared differences\n",
    "addition = ((pointA[0] - pointB[0]) ** 2\n",
    "            + (pointA[1] - pointB[1]) ** 2\n",
    "            + (pointA[2] - pointB[2]) ** 2)\n",
    "\n",
    "# Take the square root to find the distance\n",
    "print(math.sqrt(addition))"
   ]
  },
  {
   "cell_type": "markdown",
   "id": "a9865f88",
   "metadata": {},
   "source": [
    "Note: This approach directly applies the 3D distance formula to calculate the Euclidean distance between two points."
   ]
  },
  {
   "cell_type": "markdown",
   "id": "017aff0b",
   "metadata": {},
   "source": [
    "### Optimized Solution:"
   ]
  },
  {
   "cell_type": "code",
   "execution_count": null,
   "id": "496e1d1c",
   "metadata": {},
   "outputs": [],
   "source": [
    "import math\n",
    "\n",
    "# Define the points\n",
    "point_1 = [-3, 4, -5]\n",
    "point_2 = [2, 0, -4]\n",
    "\n",
    "# Calculate squared differences for each coordinate\n",
    "x = abs(point_2[0] - point_1[0]) ** 2\n",
    "y = abs(point_2[1] - point_1[1]) ** 2\n",
    "z = abs(point_2[2] - point_1[2]) ** 2\n",
    "\n",
    "# Calculate the distance\n",
    "distance = math.sqrt(x + y + z)\n",
    "\n",
    "# Print the distance\n",
    "print(distance)"
   ]
  },
  {
   "cell_type": "markdown",
   "id": "f2901c30",
   "metadata": {},
   "source": [
    "Note: This solution simplifies the calculation by computing the absolute difference and squaring directly for each coordinate."
   ]
  },
  {
   "cell_type": "markdown",
   "id": "46c2e449",
   "metadata": {},
   "source": [
    "### Additional Practice:\n",
    "See For Loops - Practice Exercises & Challenges: Calculate Distance Between Two Points in 3D Space"
   ]
  }
 ],
 "metadata": {
  "kernelspec": {
   "display_name": "Python 3 (ipykernel)",
   "language": "python",
   "name": "python3"
  },
  "language_info": {
   "codemirror_mode": {
    "name": "ipython",
    "version": 3
   },
   "file_extension": ".py",
   "mimetype": "text/x-python",
   "name": "python",
   "nbconvert_exporter": "python",
   "pygments_lexer": "ipython3",
   "version": "3.11.4"
  }
 },
 "nbformat": 4,
 "nbformat_minor": 5
}
