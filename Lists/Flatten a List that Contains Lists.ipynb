{
 "cells": [
  {
   "cell_type": "markdown",
   "id": "de666638",
   "metadata": {},
   "source": [
    " # **Flatten a List that Contains Lists**"
   ]
  },
  {
   "cell_type": "markdown",
   "id": "b1b377e4",
   "metadata": {},
   "source": [
    "### Standard Approach:"
   ]
  },
  {
   "cell_type": "code",
   "execution_count": null,
   "id": "24184929",
   "metadata": {},
   "outputs": [],
   "source": [
    "# Initialize the nested list\n",
    "the_nested_list = [['a', 'b', 'c'], 4, 5, 6, [7, 8, 9]]\n",
    "\n",
    "# Initialize an empty list to store flattened elements\n",
    "the_flatten_list = []\n",
    "\n",
    "# Iterate through each element in the nested list\n",
    "for i in the_nested_list:\n",
    "    # Check if the element is not a list\n",
    "    if not isinstance(i, list):\n",
    "        the_flatten_list.append(i)\n",
    "    else:\n",
    "        # Iterate through the inner list and add elements to the flattened list\n",
    "        for j in i:\n",
    "            the_flatten_list.append(j)\n",
    "\n",
    "# Print the flattened list\n",
    "print(the_flatten_list)"
   ]
  },
  {
   "cell_type": "markdown",
   "id": "a9865f88",
   "metadata": {},
   "source": [
    "Note: This approach uses a nested loop to iterate through the outer list and the inner lists (if present) to flatten all elements into a single list."
   ]
  },
  {
   "cell_type": "markdown",
   "id": "017aff0b",
   "metadata": {},
   "source": [
    "### Optimized Solution:"
   ]
  },
  {
   "cell_type": "code",
   "execution_count": null,
   "id": "496e1d1c",
   "metadata": {},
   "outputs": [],
   "source": [
    "# Initialize the nested list\n",
    "the_nested_list = [['a', 'b', 'c'], 4, 5, 6, [7, 8, 9]]\n",
    "\n",
    "# Flatten the nested list using list comprehension\n",
    "the_flatten_list = [\n",
    "    item for sublist in the_nested_list\n",
    "    for item in (sublist if isinstance(sublist, list) else [sublist])\n",
    "]\n",
    "\n",
    "# Print the flattened list\n",
    "print(the_flatten_list)"
   ]
  },
  {
   "cell_type": "markdown",
   "id": "f2901c30",
   "metadata": {},
   "source": [
    "Note: This solution leverages list comprehension to flatten the list in a more concise and Pythonic way."
   ]
  },
  {
   "cell_type": "markdown",
   "id": "46c2e449",
   "metadata": {},
   "source": [
    "### Additional Practice:\n",
    "See For Loops - Practice Exercises & Challenges: Flatten a List that Contains Lists"
   ]
  }
 ],
 "metadata": {
  "kernelspec": {
   "display_name": "Python 3 (ipykernel)",
   "language": "python",
   "name": "python3"
  },
  "language_info": {
   "codemirror_mode": {
    "name": "ipython",
    "version": 3
   },
   "file_extension": ".py",
   "mimetype": "text/x-python",
   "name": "python",
   "nbconvert_exporter": "python",
   "pygments_lexer": "ipython3",
   "version": "3.11.4"
  }
 },
 "nbformat": 4,
 "nbformat_minor": 5
}
