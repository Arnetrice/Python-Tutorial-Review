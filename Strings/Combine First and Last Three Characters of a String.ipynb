{
 "cells": [
  {
   "cell_type": "markdown",
   "id": "de666638",
   "metadata": {},
   "source": [
    " # **Combine First and Last Three Characters of a String**"
   ]
  },
  {
   "cell_type": "markdown",
   "id": "b1b377e4",
   "metadata": {},
   "source": [
    "### Standard Approach:"
   ]
  },
  {
   "cell_type": "code",
   "execution_count": null,
   "id": "24184929",
   "metadata": {},
   "outputs": [],
   "source": [
    "word = 'Wonderful'\n",
    "\n",
    "# Check if the string is shorter than 6 characters\n",
    "if len(word) < 6:\n",
    "    print(\"\")  # Return an empty string if the condition is met\n",
    "else:\n",
    "    # Combine the first three and last three characters\n",
    "    new_word = word[:3] + word[-3:]\n",
    "    print(new_word)\n"
   ]
  },
  {
   "cell_type": "markdown",
   "id": "a9865f88",
   "metadata": {},
   "source": [
    "Note: This approach checks the string length and combines the first and last three characters if the string is long enough. If the string has fewer than 6 characters, it’s not possible to extract both the first and last three characters."
   ]
  },
  {
   "cell_type": "markdown",
   "id": "017aff0b",
   "metadata": {},
   "source": [
    "### Optimized Solution:"
   ]
  },
  {
   "cell_type": "code",
   "execution_count": null,
   "id": "496e1d1c",
   "metadata": {},
   "outputs": [],
   "source": [
    "word = \"Wonderful\"\n",
    "\n",
    "slice_size = 3  # Number of characters to extract\n",
    "min_char_length = 6  # Minimum string length required\n",
    "\n",
    "# Check if the string is shorter than the minimum length\n",
    "if len(word) < min_char_length:\n",
    "    print(\"\")  # Return an empty string\n",
    "else:\n",
    "    # Combine the slices dynamically\n",
    "    new_word = word[:slice_size] + word[-slice_size:]\n",
    "    print(new_word)\n"
   ]
  },
  {
   "cell_type": "markdown",
   "id": "f2901c30",
   "metadata": {},
   "source": [
    "Note: This solution introduces variables for the slice size and minimum length, making it more flexible and easier to adjust. It dynamically adjust the slicing based on slice_size for added flexibility."
   ]
  },
  {
   "cell_type": "markdown",
   "id": "46c2e449",
   "metadata": {},
   "source": [
    "### Additional Practice:\n",
    "See Practice Exercise: Combine First and Last Three Characters of a String"
   ]
  }
 ],
 "metadata": {
  "kernelspec": {
   "display_name": "Python 3 (ipykernel)",
   "language": "python",
   "name": "python3"
  },
  "language_info": {
   "codemirror_mode": {
    "name": "ipython",
    "version": 3
   },
   "file_extension": ".py",
   "mimetype": "text/x-python",
   "name": "python",
   "nbconvert_exporter": "python",
   "pygments_lexer": "ipython3",
   "version": "3.11.4"
  }
 },
 "nbformat": 4,
 "nbformat_minor": 5
}
