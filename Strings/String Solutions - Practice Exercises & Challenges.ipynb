{
 "cells": [
  {
   "cell_type": "markdown",
   "id": "b593db0a",
   "metadata": {},
   "source": [
    "# String Solutions: Practice Exercises & Challenges"
   ]
  },
  {
   "cell_type": "markdown",
   "id": "2fd194e1",
   "metadata": {},
   "source": [
    "### 1. Solution(s): Remove Spaces from a String"
   ]
  },
  {
   "cell_type": "code",
   "execution_count": null,
   "id": "2e3da834",
   "metadata": {},
   "outputs": [],
   "source": [
    "# 1.1. The replace method searches for spaces (\" \") but finds none, so it simply returns the original string.\n",
    "print('HelloWorld'.replace(\" \", \"\"))\n",
    "\n",
    "# 1.2. The replace method removes all occurrences of spaces by replacing them with an empty string (\"\"). \n",
    "    # As a result, the string becomes empty, and the output is ''\n",
    "print(' '.replace(\" \", \"\"))\n",
    "\n",
    "# 1.3. It simply returns the same empty string since the string is already empty\n",
    "print(''.replace(\" \", \"\"))\n",
    "\n",
    "# 1.4. The replace method removes all spaces from the string, including those at the start and end.\n",
    "    # The remaining characters, 'Hello', form the output.\n",
    "print(' Hello '.replace(\" \", \"\"))"
   ]
  },
  {
   "cell_type": "markdown",
   "id": "a0fba2f4",
   "metadata": {},
   "source": [
    "### 2. Solution(s): Check if a String Only Contains Numbers"
   ]
  },
  {
   "cell_type": "code",
   "execution_count": null,
   "id": "5d52974e",
   "metadata": {},
   "outputs": [],
   "source": [
    "# 2.1.The isdecimal() method returns True only if the string contains one or more decimal digits. \n",
    "    # An empty string has no characters, so the method returns False.\n",
    "print(''.isdecimal())\n",
    "\n",
    "# 2.2. The string '12345' contains only decimal digits (0–9). \n",
    "    # The isdecimal() method validates that all characters meet the criteria, so it returns True.\n",
    "print('12345'.isdecimal())\n",
    "\n",
    "# 2.3. Since 'Hello123' contains alphabetic characters ('Hello'), the method returns False.\n",
    "print('Hello123'.isdecimal())\n",
    "\n",
    "# 2.4. The superscript \"²\" is a numeric Unicode character but not a decimal digit. \n",
    "    # The isdecimal() method is stricter than isdigit() and excludes such characters, so it returns False.\n",
    "print('123²'.isdecimal())"
   ]
  },
  {
   "cell_type": "markdown",
   "id": "e98cea17",
   "metadata": {},
   "source": [
    "### 3. Solution(s): Replace a Character in a String"
   ]
  },
  {
   "cell_type": "code",
   "execution_count": null,
   "id": "1b5d6c31",
   "metadata": {},
   "outputs": [],
   "source": [
    "# 3.1. The string remains unchanged because the replace() method only replaces characters that exist in the string. \n",
    "    # If current_char is not found, the original string is returned.\n",
    "word = 'Python'\n",
    "current_char = 'z'\n",
    "new_char = 'a'\n",
    "print(word.replace(current_char, new_char))\n",
    "\n",
    "# 3.2. The replace() method replaces all occurrences of the target character in the string with the new character.\n",
    "word = 'Python Programming'\n",
    "current_char = 'P'\n",
    "new_char = 'a'\n",
    "print(word.replace(current_char, new_char))\n",
    "\n",
    "# 3.3. The string remains unchanged because the target character is replaced with itself, effectively making no changes.\n",
    "word = 'Python'\n",
    "current_char = 'P'\n",
    "new_char = 'P'\n",
    "print(word.replace(current_char, new_char))\n",
    "\n",
    "# 3.4. The output is an empty string because there is nothing to replace.\n",
    "word = ''\n",
    "current_char = 'P'\n",
    "new_char = 'a'\n",
    "print(word.replace(current_char, new_char))"
   ]
  },
  {
   "cell_type": "markdown",
   "id": "2db023d2",
   "metadata": {},
   "source": [
    "### 4. Solution(s): Remove nth Character from a String"
   ]
  },
  {
   "cell_type": "code",
   "execution_count": null,
   "id": "ddf997ff",
   "metadata": {},
   "outputs": [],
   "source": [
    "# 4.1. Since the string is empty, there are no characters to remove. \n",
    "    # The slicing operation on an empty string returns another empty string, as there is nothing to slice.\n",
    "word = ''\n",
    "nth_digit = 1\n",
    "print(word[:nth_digit] + word[nth_digit + 1:])\n",
    "\n",
    "# 4.2. When nth_digit is greater than the length of the string, the slicing operation simply returns the original string.\n",
    "    # This is because slicing beyond the bounds of a string does not raise an error—it just returns what is available.\n",
    "word = 'Hello'\n",
    "nth_digit = 10\n",
    "print(word[:nth_digit] + word[nth_digit + 1:])\n",
    "\n",
    "# 4.3. The slice word[:0] is an empty string, and word[1:] captures all characters starting from the second character. \n",
    "    # Concatenating these slices effectively removes the first character.\n",
    "word = 'Hello'\n",
    "nth_digit = 0\n",
    "print(word[:nth_digit] + word[nth_digit + 1:])\n",
    "\n",
    "# 4.4. The slice word[:4] captures all characters up to but not including the fifth character, \n",
    "    # and word[5:] captures nothing since there are no characters after the last one. \n",
    "    # Concatenating these slices removes the last character.\n",
    "word = 'Hello'\n",
    "nth_digit = 4\n",
    "print(word[:nth_digit] + word[nth_digit + 1:])"
   ]
  },
  {
   "cell_type": "markdown",
   "id": "511ded8e",
   "metadata": {},
   "source": [
    "### 5.  Solution(s): Replace Commas with Dots"
   ]
  },
  {
   "cell_type": "code",
   "execution_count": null,
   "id": "c406a530",
   "metadata": {},
   "outputs": [],
   "source": [
    "# 5.1. The string remains unchanged because there are no commas to replace.\n",
    "word = 'Hello World'\n",
    "print(word.replace(',', '.'))\n",
    "\n",
    "# 5.2. All commas are replaced with dots, regardless of how many there are.\n",
    "word = 'Hello, World, Python!'\n",
    "print(word.replace(',', '.'))\n",
    "\n",
    "# 5.3. Each comma is replaced by a dot, resulting in a string of only dots.\n",
    "word = ',,,'\n",
    "print(word.replace(',', '.'))\n",
    "\n",
    "# 5.4. The result is an empty string since there is nothing to replace.\n",
    "word = ''\n",
    "print(word.replace(',', '.'))"
   ]
  },
  {
   "cell_type": "markdown",
   "id": "8f765509",
   "metadata": {},
   "source": [
    "### 6. Solution(s): Remove Characters at Even Indices"
   ]
  },
  {
   "cell_type": "code",
   "execution_count": null,
   "id": "9cf9ac31",
   "metadata": {},
   "outputs": [],
   "source": [
    "# 6.1. The slicing starts at index 1, but the string has no characters beyond index 0, so the output is an empty string.\n",
    "word = 'A'\n",
    "print(word[1::2]) \n",
    "\n",
    "# 6.2. Slicing an empty string always returns an empty string, as there is nothing to slice.\n",
    "word = ''\n",
    "print(word[1::2])\n",
    "\n",
    "# 6.3. Every second character starting from index 1 is captured, resulting in 'yhn'.\n",
    "word = 'Python'\n",
    "print(word[1::2])\n",
    "\n",
    "# 6.4. The slicing captures every second character starting from index 1.\n",
    "    # The odd length does not affect the slicing process.\n",
    "word = 'Python!'\n",
    "print(word[1::2])"
   ]
  },
  {
   "cell_type": "markdown",
   "id": "13564cba",
   "metadata": {},
   "source": [
    "### 7. Solution(s): Print Character at a Given Index"
   ]
  },
  {
   "cell_type": "code",
   "execution_count": null,
   "id": "19a7b43a",
   "metadata": {},
   "outputs": [],
   "source": [
    "# 7.1. When the string is empty, the program immediately prints an empty string because no characters exist to access.\n",
    "word = \"\"\n",
    "index_given = 2\n",
    "\n",
    "\n",
    "# 7.2. The program prints the character at index 3, which is \"h\", since the index is within range.\n",
    "word = \"Python\"\n",
    "index_given = 3\n",
    "print(word[index_given])\n",
    "\n",
    "# 7.3. The program checks the index against the string length and prints an error message if it exceeds the valid range.\n",
    "word = \"Python\"\n",
    "index_given = 10\n",
    "\n",
    "# 7.4. Python allows negative indexing, where -1 refers to the last character of the string. \n",
    "    # The program handles this without additional logic.\n",
    "word = \"Python\"\n",
    "index_given = -1\n",
    "print(word[index_given])"
   ]
  },
  {
   "cell_type": "markdown",
   "id": "53914e17",
   "metadata": {},
   "source": [
    "### 8. Solution(s): Combine First and Last Three Characters of a String"
   ]
  },
  {
   "cell_type": "code",
   "execution_count": null,
   "id": "e7464807",
   "metadata": {},
   "outputs": [],
   "source": [
    "# 8.1. The output is an empty string because the string is too short to extract both the first and last three characters.\n",
    "word = \"Wow\"\n",
    "slice_size = 3\n",
    "min_char_length = 6\n",
    "\n",
    "# 8.2. The first three and last three characters are extracted and combined, resulting in the entire string \"Python\".\n",
    "word = \"Python\"\n",
    "slice_size = 3\n",
    "min_char_length = 6\n",
    "new_word = word[:slice_size] + word[-slice_size:]\n",
    "print(new_word)\n",
    "\n",
    "# 8.3. The program extracts the first three (\"Pro\") and last three (\"ing\") characters and combines them.\n",
    "word = \"Programming\"\n",
    "slice_size = 3\n",
    "min_char_length = 6\n",
    "new_word = word[:slice_size] + word[-slice_size:]\n",
    "print(new_word)\n",
    "\n",
    "# 8.4. The output is an empty string because there are no characters to extract.\n",
    "word = \"\"\n",
    "slice_size = 3\n",
    "min_char_length = 6\n",
    "print(\"\")"
   ]
  },
  {
   "cell_type": "markdown",
   "id": "8ee888ae",
   "metadata": {},
   "source": [
    "### 9. Solution(s): Check if a String Starts with a Prefix"
   ]
  },
  {
   "cell_type": "code",
   "execution_count": null,
   "id": "31805e4a",
   "metadata": {},
   "outputs": [],
   "source": [
    "# 9.1. True: Both strings are empty, so an empty string is a prefix of another empty string.\n",
    "print(''.startswith(''))\n",
    "\n",
    "# 9.2. False: The startswith method returns False if the prefix is longer than the string because it’s logically impossible for a shorter string to contain a longer prefix.\n",
    "print('abc'.startswith('abcd'))\n",
    "\n",
    "# 9.3. True: Can the string \"abc\" start with the suffix \"ab\", which is shorter than the string itself?\n",
    "print('abc'.startswith('ab'))"
   ]
  },
  {
   "cell_type": "markdown",
   "id": "f184d946",
   "metadata": {},
   "source": [
    "### 10. Solution(s): Check if a String Ends with a Suffix"
   ]
  },
  {
   "cell_type": "code",
   "execution_count": null,
   "id": "90b71d29",
   "metadata": {},
   "outputs": [],
   "source": [
    "# Solutions to the edge cases\n",
    "\n",
    "# 10.1. True: Both strings are empty, so an empty string is a suffix of another empty string.\n",
    "print(''.endswith(''))  # True\n",
    "\n",
    "# 10.2. False: A suffix cannot be longer than the string itself.\n",
    "print('abc'.endswith('abcd'))  # False\n",
    "\n",
    "# 10.3. True: An empty string is always considered a suffix of any string.\n",
    "print('abc'.endswith(''))  # True\n"
   ]
  },
  {
   "cell_type": "markdown",
   "id": "f957a530",
   "metadata": {},
   "source": [
    "### 11. Solution(s): Count Repeated Characters"
   ]
  },
  {
   "cell_type": "code",
   "execution_count": 3,
   "id": "3cbbeedc",
   "metadata": {},
   "outputs": [],
   "source": [
    "# Use the standard or optimized approach in the code lecture for these practice exercises\n",
    "\n",
    "# 11.1. Since no characters are repeated, the program outputs 0 for the count and None for the repeated characters.\n",
    "word = \"Python\"\n",
    "\n",
    "# 11.2. The program counts all unique repeated characters and prints them in sorted order.\n",
    "word = \"aabbcc\"\n",
    "\n",
    "# 11.3. With only one character, there are no repeats, so the program outputs 0 and None.\n",
    "word = \"a\"\n",
    "\n",
    "# 11.4. An empty string has no characters to count, so the program outputs 0 and None.\n",
    "word = \"\""
   ]
  },
  {
   "cell_type": "markdown",
   "id": "535ddfa4",
   "metadata": {},
   "source": [
    "### 12. Solution(s): Sort Words in Alphabetical Order"
   ]
  },
  {
   "cell_type": "code",
   "execution_count": null,
   "id": "22c53e96",
   "metadata": {},
   "outputs": [],
   "source": [
    "# Use the standard or optimized approach in the code lecture for these practice exercises\n",
    "\n",
    "# 12.1. The program sorts the characters of the single word alphabetically and prints the result.\n",
    "word = \"Python\"\n",
    "\n",
    "# 12.2. Each word is sorted individually, and the sorted words are combined into a single string separated by spaces.\n",
    "word = \"Hello Python\"\n",
    "\n",
    "# 12.3. The lower() method ensures consistent alphabetical sorting by converting all characters \n",
    "    # to lowercase before sorting.\n",
    "word = \"HELLO WORLD\"\n",
    "\n",
    "# 12.4. The program outputs an empty string since there are no characters to process.\n",
    "word = \"\"\n",
    "\n",
    "# 12.5. Punctuation marks are treated as characters and sorted along with the letters.\n",
    "word = \"Hello, World!\""
   ]
  },
  {
   "cell_type": "markdown",
   "id": "9c396554",
   "metadata": {},
   "source": [
    "### 13. Solution(s): Reverse Words in a String"
   ]
  },
  {
   "cell_type": "code",
   "execution_count": null,
   "id": "3aeb789e",
   "metadata": {},
   "outputs": [],
   "source": [
    "# Use the standard or optimized approach in the code lecture for these practice exercises\n",
    "\n",
    "# 13.1. The program reverses the characters and swaps their cases, resulting in \"NOHTYP\".\n",
    "word = \"Python\"\n",
    "\n",
    "# 13.2. Each word is reversed and swapped case individually, but the word order remains the same.\n",
    "word = \"Hello World\"\n",
    "\n",
    "# 13.3. Each word is reversed, and the cases of all letters are swapped.\n",
    "word = \"Good Morning\"\n",
    "\n",
    "# 13.4. The output is an empty string since there are no characters to process.\n",
    "word = \"\"\n",
    "\n",
    "# 13.5. Punctuation marks remain in place relative to their words but swap position due to the reversal of the characters. \n",
    "    # They do not change case.\n",
    "word = \"Hello, World!\""
   ]
  },
  {
   "cell_type": "markdown",
   "id": "f2a822e2",
   "metadata": {},
   "source": [
    "### 14. Solution(s): Check if String Contains All Letters in the Alphabet"
   ]
  },
  {
   "cell_type": "code",
   "execution_count": null,
   "id": "f3167ca1",
   "metadata": {},
   "outputs": [],
   "source": [
    "# Use the standard or optimized approach in the code lecture for these practice exercises\n",
    "\n",
    "# 14.1. The word_set matches the alphabet set because all 26 letters are present.\n",
    "word = \"abcdefghijklmnopqrstuvwxyz\"\n",
    "\n",
    "# 14.2. The program subtracts the word_set from the alphabet set to identify missing letters.\n",
    "word = \"The quick brown fox jumps over the lazy dg\"\n",
    "\n",
    "# 14.3. An empty string has no letters, so all alphabet letters are missing.\n",
    "An empty string has no letters, so all alphabet letters are missing.\n",
    "\n",
    "# 14.4. The program ignores punctuation and handles mixed case by converting the string to lowercase.\n",
    "word = \"The Quick Brown Fox Jumps Over The Lazy Dog!\n",
    "\n",
    "#14.5. Non-alphabetic characters are excluded from the set, resulting in no matches with the alphabet.\n",
    "word = \"     !!!@@@###\""
   ]
  }
 ],
 "metadata": {
  "kernelspec": {
   "display_name": "Python 3 (ipykernel)",
   "language": "python",
   "name": "python3"
  },
  "language_info": {
   "codemirror_mode": {
    "name": "ipython",
    "version": 3
   },
   "file_extension": ".py",
   "mimetype": "text/x-python",
   "name": "python",
   "nbconvert_exporter": "python",
   "pygments_lexer": "ipython3",
   "version": "3.11.4"
  }
 },
 "nbformat": 4,
 "nbformat_minor": 5
}
