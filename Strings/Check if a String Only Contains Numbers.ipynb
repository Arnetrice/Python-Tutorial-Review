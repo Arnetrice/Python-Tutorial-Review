{
 "cells": [
  {
   "cell_type": "markdown",
   "id": "de666638",
   "metadata": {},
   "source": [
    " # **Check if a String Only Contains Numbers**"
   ]
  },
  {
   "cell_type": "markdown",
   "id": "b1b377e4",
   "metadata": {},
   "source": [
    "### Standard Approach:"
   ]
  },
  {
   "cell_type": "code",
   "execution_count": null,
   "id": "24184929",
   "metadata": {},
   "outputs": [],
   "source": [
    "word = 'Hello59'\n",
    "\n",
    "# Assume the string contains only numbers\n",
    "is_numeric = True\n",
    "\n",
    "# Check each character in the string\n",
    "for char in word:\n",
    "    if not char.isdigit():\n",
    "        is_numeric = False\n",
    "        break\n",
    "\n",
    "print(is_numeric)"
   ]
  },
  {
   "cell_type": "markdown",
   "id": "a9865f88",
   "metadata": {},
   "source": [
    "Note: This approach manually iterates through each character in the string to check if it is numeric using the `isdigit()` method. it is also worth mentioning cases like \"-123\" or \"123.45\" are not considered as numeric."
   ]
  },
  {
   "cell_type": "markdown",
   "id": "017aff0b",
   "metadata": {},
   "source": [
    "### Optimized Solution:"
   ]
  },
  {
   "cell_type": "code",
   "execution_count": null,
   "id": "496e1d1c",
   "metadata": {},
   "outputs": [],
   "source": [
    "word = 'Hello59'\n",
    "\n",
    "# Optimized solution using the isdigit() method\n",
    "print(word.isdecimal())"
   ]
  },
  {
   "cell_type": "markdown",
   "id": "f2901c30",
   "metadata": {},
   "source": [
    "Note: The isdecimal method returns True only if all characters in the string are decimal numbers (0–9). It has better precision because it excludes numeric Unicode characters, such as superscripts or fractions, ensuring stricter validation."
   ]
  },
  {
   "cell_type": "markdown",
   "id": "46c2e449",
   "metadata": {},
   "source": [
    "### Additional Practice:\n",
    "See Practice Exercise: Check if a String Only Contains Numbers\n"
   ]
  }
 ],
 "metadata": {
  "kernelspec": {
   "display_name": "Python 3 (ipykernel)",
   "language": "python",
   "name": "python3"
  },
  "language_info": {
   "codemirror_mode": {
    "name": "ipython",
    "version": 3
   },
   "file_extension": ".py",
   "mimetype": "text/x-python",
   "name": "python",
   "nbconvert_exporter": "python",
   "pygments_lexer": "ipython3",
   "version": "3.11.4"
  }
 },
 "nbformat": 4,
 "nbformat_minor": 5
}
