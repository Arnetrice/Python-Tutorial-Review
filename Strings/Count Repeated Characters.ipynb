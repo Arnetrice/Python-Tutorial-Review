{
 "cells": [
  {
   "cell_type": "markdown",
   "id": "de666638",
   "metadata": {},
   "source": [
    " # **Count Repeated Characters**"
   ]
  },
  {
   "cell_type": "markdown",
   "id": "b1b377e4",
   "metadata": {},
   "source": [
    "### Standard Approach:"
   ]
  },
  {
   "cell_type": "code",
   "execution_count": null,
   "id": "24184929",
   "metadata": {},
   "outputs": [],
   "source": [
    "word = 'Python'\n",
    "\n",
    "repeat_counter = {}\n",
    "total_count = 0\n",
    "list_of_repeats = []\n",
    "\n",
    "# Iterate through each character in the string\n",
    "for char in word:\n",
    "    if char in repeat_counter:\n",
    "        # Increment the count for repeated characters\n",
    "        repeat_counter[char] += 1\n",
    "        total_count += 1\n",
    "        # Add the character to the list of repeats if not already present\n",
    "        if char not in list_of_repeats:\n",
    "            list_of_repeats.append(char)\n",
    "    else:\n",
    "        # Initialize the character count\n",
    "        repeat_counter[char] = 1\n",
    "\n",
    "# Output the results\n",
    "if not list_of_repeats:\n",
    "    print(total_count)  # Total number of repeated characters\n",
    "    print(None)  # No repeated characters\n",
    "else:\n",
    "    print(total_count)  # Total number of repeated characters\n",
    "    for val in sorted(list_of_repeats):  # Print repeated characters in sorted order\n",
    "        print(val, end=\" \")\n"
   ]
  },
  {
   "cell_type": "markdown",
   "id": "a9865f88",
   "metadata": {},
   "source": [
    "Note: This approach uses a dictionary to count occurrences of each character and identifies the ones that are repeated."
   ]
  },
  {
   "cell_type": "markdown",
   "id": "017aff0b",
   "metadata": {},
   "source": [
    "### Optimized Solution:"
   ]
  },
  {
   "cell_type": "code",
   "execution_count": null,
   "id": "496e1d1c",
   "metadata": {},
   "outputs": [],
   "source": [
    "word = 'Corporation'\n",
    "\n",
    "list_of_repeats = []\n",
    "\n",
    "# Identify repeated characters\n",
    "for char in word:\n",
    "    if (word.count(char) > 1) and (char not in list_of_repeats):\n",
    "        list_of_repeats.append(char)\n",
    "\n",
    "# Output the results\n",
    "print(len(list_of_repeats))  # Number of unique repeated characters\n",
    "\n",
    "if list_of_repeats:\n",
    "    print(*sorted(list_of_repeats), sep=\" \")  # Print repeated characters in sorted order\n",
    "else:\n",
    "    print(None)  # No repeated characters\n"
   ]
  },
  {
   "cell_type": "markdown",
   "id": "f2901c30",
   "metadata": {},
   "source": [
    "Note: This solution leverages Python's `str.count()` method to identify repeated characters and a list to store unique repeats. It will print the number of unique repeated characters and their sorted list, or None if no repeats exis"
   ]
  },
  {
   "cell_type": "markdown",
   "id": "46c2e449",
   "metadata": {},
   "source": [
    "### Additional Practice:\n",
    "See Practice Exercise: Count Repeated Characters"
   ]
  }
 ],
 "metadata": {
  "kernelspec": {
   "display_name": "Python 3 (ipykernel)",
   "language": "python",
   "name": "python3"
  },
  "language_info": {
   "codemirror_mode": {
    "name": "ipython",
    "version": 3
   },
   "file_extension": ".py",
   "mimetype": "text/x-python",
   "name": "python",
   "nbconvert_exporter": "python",
   "pygments_lexer": "ipython3",
   "version": "3.11.4"
  }
 },
 "nbformat": 4,
 "nbformat_minor": 5
}
