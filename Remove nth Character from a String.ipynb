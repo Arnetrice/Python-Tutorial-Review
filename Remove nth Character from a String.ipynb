{
 "cells": [
  {
   "cell_type": "markdown",
   "id": "de666638",
   "metadata": {},
   "source": [
    " # **Remove nth Character from a String**"
   ]
  },
  {
   "cell_type": "markdown",
   "id": "b1b377e4",
   "metadata": {},
   "source": [
    "### Standard Approach:"
   ]
  },
  {
   "cell_type": "code",
   "execution_count": null,
   "id": "24184929",
   "metadata": {},
   "outputs": [],
   "source": [
    "word = 'Every great journey begins with a single step.'\n",
    "new_word = ''\n",
    "nth_digit = 1\n",
    "\n",
    "# Check if the nth character exceeds the string length\n",
    "if nth_digit > len(word):\n",
    "    print(word) # If out of range, return the original string\n",
    "elif not word:\n",
    "    print(\"\") # If the string is empty, return an empty string\n",
    "else:\n",
    "    # Iterate through the string\n",
    "    for i in range(len(word)):\n",
    "        # Add all characters except the nth character to the new string\n",
    "        if i != nth_digit:\n",
    "            new_word += word[i]\n",
    "    print(new_word)"
   ]
  },
  {
   "cell_type": "markdown",
   "id": "a9865f88",
   "metadata": {},
   "source": [
    "Note: This approach manually iterates through the string and builds a new string, excluding the nth character."
   ]
  },
  {
   "cell_type": "markdown",
   "id": "017aff0b",
   "metadata": {},
   "source": [
    "### Optimized Solution:"
   ]
  },
  {
   "cell_type": "code",
   "execution_count": null,
   "id": "496e1d1c",
   "metadata": {},
   "outputs": [],
   "source": [
    "word = 'Every great journey begins with a single step.'\n",
    "nth_digit = 1\n",
    "\n",
    "# Check if the nth character is out of range or the string is empty\n",
    "if not word or nth_digit >= len(word):\n",
    "    print(word)  # Return the original string\n",
    "else:\n",
    "    # Use slicing to remove the nth character\n",
    "    new_word = word[:nth_digit] + word[nth_digit + 1:]\n",
    "    print(new_word)\n"
   ]
  },
  {
   "cell_type": "markdown",
   "id": "f2901c30",
   "metadata": {},
   "source": [
    "Note: This solution leverages Python's slicing to efficiently remove the nth character."
   ]
  },
  {
   "cell_type": "markdown",
   "id": "46c2e449",
   "metadata": {},
   "source": [
    "### Additional Practice:\n",
    "See Practice Exercise: Remove nth Character from a String\n"
   ]
  }
 ],
 "metadata": {
  "kernelspec": {
   "display_name": "Python 3 (ipykernel)",
   "language": "python",
   "name": "python3"
  },
  "language_info": {
   "codemirror_mode": {
    "name": "ipython",
    "version": 3
   },
   "file_extension": ".py",
   "mimetype": "text/x-python",
   "name": "python",
   "nbconvert_exporter": "python",
   "pygments_lexer": "ipython3",
   "version": "3.11.4"
  }
 },
 "nbformat": 4,
 "nbformat_minor": 5
}
