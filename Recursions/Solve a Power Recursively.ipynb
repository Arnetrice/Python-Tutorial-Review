{
 "cells": [
  {
   "cell_type": "markdown",
   "id": "de666638",
   "metadata": {},
   "source": [
    " # **Solve a Power Recursively**"
   ]
  },
  {
   "cell_type": "markdown",
   "id": "b1b377e4",
   "metadata": {},
   "source": [
    "### Standard Approach:"
   ]
  },
  {
   "cell_type": "code",
   "execution_count": null,
   "id": "24184929",
   "metadata": {},
   "outputs": [],
   "source": [
    "def find_power(power_this, by_me):\n",
    "    if not by_me:  # Base case: exponent is 0, result is 1\n",
    "        return 1\n",
    "    elif by_me == 1:  # Base case: exponent is 1, return the base\n",
    "        return power_this\n",
    "    else:\n",
    "        return power_this * find_power(power_this, by_me - 1)  # Recursive case: multiply base by reduced exponent\n",
    "    \n",
    "# Input the base and exponent\n",
    "base = int(input('Enter the number: '))\n",
    "exp = int(input('Enter the exponent: '))\n",
    "\n",
    "# Print the result\n",
    "print('Result:', find_power(base, exp))"
   ]
  },
  {
   "cell_type": "markdown",
   "id": "a9865f88",
   "metadata": {},
   "source": [
    "Note: This approach defines a recursive function to calculate the power of a number by repeatedly multiplying the base and reducing the exponent until the base case is reached."
   ]
  },
  {
   "cell_type": "markdown",
   "id": "017aff0b",
   "metadata": {},
   "source": [
    "### Optimized Solution:"
   ]
  },
  {
   "cell_type": "code",
   "execution_count": null,
   "id": "496e1d1c",
   "metadata": {},
   "outputs": [],
   "source": [
    "def find_power(power_this, by_me):\n",
    "    if by_me == 0:  # Base case: exponent is 0, result is 1\n",
    "        return 1\n",
    "    elif by_me == 1:  # Base case: exponent is 1, return the base\n",
    "        return power_this\n",
    "    else:\n",
    "        return power_this * find_power(power_this, by_me - 1)  # Recursive case: multiply base by reduced exponent\n",
    "\n",
    "# Example call\n",
    "print('Result:', find_power(5, 6))  # Calculate 5^6"
   ]
  },
  {
   "cell_type": "markdown",
   "id": "f2901c30",
   "metadata": {},
   "source": [
    "Note: This solution simplifies the base case check (by_me == 0) for clarity, maintaining the same recursive logic to calculate the power."
   ]
  },
  {
   "cell_type": "markdown",
   "id": "46c2e449",
   "metadata": {},
   "source": [
    "### Additional Practice:\n",
    "See For Loops - Practice Exercises & Challenges: Solve a Power Recursively"
   ]
  }
 ],
 "metadata": {
  "kernelspec": {
   "display_name": "Python 3 (ipykernel)",
   "language": "python",
   "name": "python3"
  },
  "language_info": {
   "codemirror_mode": {
    "name": "ipython",
    "version": 3
   },
   "file_extension": ".py",
   "mimetype": "text/x-python",
   "name": "python",
   "nbconvert_exporter": "python",
   "pygments_lexer": "ipython3",
   "version": "3.11.4"
  }
 },
 "nbformat": 4,
 "nbformat_minor": 5
}
