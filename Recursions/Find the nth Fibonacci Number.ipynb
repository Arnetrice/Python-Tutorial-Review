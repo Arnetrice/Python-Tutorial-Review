{
 "cells": [
  {
   "cell_type": "markdown",
   "id": "de666638",
   "metadata": {},
   "source": [
    " # **Find the nth Fibonacci Number**"
   ]
  },
  {
   "cell_type": "markdown",
   "id": "b1b377e4",
   "metadata": {},
   "source": [
    "### Standard Approach:"
   ]
  },
  {
   "cell_type": "code",
   "execution_count": null,
   "id": "24184929",
   "metadata": {},
   "outputs": [],
   "source": [
    "def fib(the_fib, memo={}):\n",
    "    if the_fib in memo:  # Check if result is already computed\n",
    "        return memo[the_fib]\n",
    "    \n",
    "    if the_fib == 0 or the_fib == 1:  # Base case: Fibonacci(0) = 0, Fibonacci(1) = 1\n",
    "        return the_fib\n",
    "    \n",
    "    # Recursive case: store and compute Fibonacci(n) using previously computed values\n",
    "    memo[the_fib] = fib(the_fib - 1, memo) + fib(the_fib - 2, memo)\n",
    "    return memo[the_fib]\n",
    "\n",
    "# Test the function\n",
    "print(fib(10))  # Output: 55"
   ]
  },
  {
   "cell_type": "markdown",
   "id": "a9865f88",
   "metadata": {},
   "source": [
    "Note: This approach uses tail recursion with accumulator variables to compute Fibonacci numbers efficiently without using additional memory for intermediate computations."
   ]
  },
  {
   "cell_type": "markdown",
   "id": "017aff0b",
   "metadata": {},
   "source": [
    "### Optimized Solution:"
   ]
  },
  {
   "cell_type": "code",
   "execution_count": null,
   "id": "496e1d1c",
   "metadata": {},
   "outputs": [],
   "source": [
    "def fib_tail(n, a=0, b=1):\n",
    "    if n == 0:  # Base case: Fibonacci(0) = a\n",
    "        return a\n",
    "    elif n == 1:  # Base case: Fibonacci(1) = b\n",
    "        return b\n",
    "    else:\n",
    "        # Recursive case: shift accumulators a and b\n",
    "        return fib_tail(n - 1, b, a + b)\n",
    "\n",
    "# Test the function\n",
    "print(fib_tail(10))  # Output: 55"
   ]
  },
  {
   "cell_type": "markdown",
   "id": "f2901c30",
   "metadata": {},
   "source": [
    "Note: This solution removes the else clause for improved readability and uses a conditional expression to decide the recursive call direction."
   ]
  },
  {
   "cell_type": "markdown",
   "id": "46c2e449",
   "metadata": {},
   "source": [
    "### Additional Practice:\n",
    "See For Loops - Practice Exercises & Challenges: Find the nth Fibonacci Number"
   ]
  }
 ],
 "metadata": {
  "kernelspec": {
   "display_name": "Python 3 (ipykernel)",
   "language": "python",
   "name": "python3"
  },
  "language_info": {
   "codemirror_mode": {
    "name": "ipython",
    "version": 3
   },
   "file_extension": ".py",
   "mimetype": "text/x-python",
   "name": "python",
   "nbconvert_exporter": "python",
   "pygments_lexer": "ipython3",
   "version": "3.11.4"
  }
 },
 "nbformat": 4,
 "nbformat_minor": 5
}
