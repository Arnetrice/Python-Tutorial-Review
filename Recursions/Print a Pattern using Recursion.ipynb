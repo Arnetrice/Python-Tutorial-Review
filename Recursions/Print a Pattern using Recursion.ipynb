{
 "cells": [
  {
   "cell_type": "markdown",
   "id": "de666638",
   "metadata": {},
   "source": [
    " # **Print a Pattern using Recursion**"
   ]
  },
  {
   "cell_type": "markdown",
   "id": "b1b377e4",
   "metadata": {},
   "source": [
    "### Standard Approach:"
   ]
  },
  {
   "cell_type": "code",
   "execution_count": null,
   "id": "24184929",
   "metadata": {},
   "outputs": [],
   "source": [
    "def print_asterisks(num_rows):\n",
    "    if not num_rows:  # Base case: when num_rows is 0, stop recursion\n",
    "        return\n",
    "    else:\n",
    "        print('*' * num_rows)  # Print a row of asterisks\n",
    "        print_asterisks(num_rows - 1)  # Recursive case: call with num_rows - 1\n",
    "\n",
    "# Test the function\n",
    "print_asterisks(6)"
   ]
  },
  {
   "cell_type": "markdown",
   "id": "a9865f88",
   "metadata": {},
   "source": [
    "Note: This approach defines a recursive function to print a pattern of decreasing rows of * using a base case and recursive logic."
   ]
  },
  {
   "cell_type": "markdown",
   "id": "017aff0b",
   "metadata": {},
   "source": [
    "### Optimized Solution:"
   ]
  },
  {
   "cell_type": "code",
   "execution_count": null,
   "id": "496e1d1c",
   "metadata": {},
   "outputs": [],
   "source": [
    "def print_asterisks(num_rows):\n",
    "    if num_rows == 1:  # Base case: when num_rows is 1, print the last row\n",
    "        print(\"*\")\n",
    "    else:\n",
    "        print('*' * num_rows)  # Print a row of asterisks\n",
    "        print_asterisks(num_rows - 1)  # Recursive case: call with num_rows - 1\n",
    "\n",
    "# Test the function\n",
    "print_asterisks(6)"
   ]
  },
  {
   "cell_type": "markdown",
   "id": "f2901c30",
   "metadata": {},
   "source": [
    "Note: This solution simplifies the base case by checking when num_rows == 1, ensuring the last row is printed before stopping recursion."
   ]
  },
  {
   "cell_type": "markdown",
   "id": "46c2e449",
   "metadata": {},
   "source": [
    "### Additional Practice:\n",
    "See For Loops - Practice Exercises & Challenges: Print a Pattern using Recursion"
   ]
  }
 ],
 "metadata": {
  "kernelspec": {
   "display_name": "Python 3 (ipykernel)",
   "language": "python",
   "name": "python3"
  },
  "language_info": {
   "codemirror_mode": {
    "name": "ipython",
    "version": 3
   },
   "file_extension": ".py",
   "mimetype": "text/x-python",
   "name": "python",
   "nbconvert_exporter": "python",
   "pygments_lexer": "ipython3",
   "version": "3.11.4"
  }
 },
 "nbformat": 4,
 "nbformat_minor": 5
}
