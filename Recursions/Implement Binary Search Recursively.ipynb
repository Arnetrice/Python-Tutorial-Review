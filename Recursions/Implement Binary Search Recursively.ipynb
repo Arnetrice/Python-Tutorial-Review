{
 "cells": [
  {
   "cell_type": "markdown",
   "id": "de666638",
   "metadata": {},
   "source": [
    " # **Implement Binary Search Recursively**"
   ]
  },
  {
   "cell_type": "markdown",
   "id": "b1b377e4",
   "metadata": {},
   "source": [
    "### Standard Approach:"
   ]
  },
  {
   "cell_type": "code",
   "execution_count": null,
   "id": "24184929",
   "metadata": {},
   "outputs": [],
   "source": [
    "def binary_search(seq, low, high, elem):\n",
    "    if low > high:  # Base case: If the range is invalid, element is not found\n",
    "        return -1\n",
    "    else:\n",
    "        middle = (low + high) // 2  # Calculate the middle index\n",
    "\n",
    "        if elem == seq[middle]:  # Check if the middle element is the target\n",
    "            return middle\n",
    "        elif elem < seq[middle]:  # Search in the left half\n",
    "            return binary_search(seq, low, middle - 1, elem)\n",
    "        else:  # Search in the right half\n",
    "            return binary_search(seq, middle + 1, high, elem)\n",
    "\n",
    "# Test the function\n",
    "the_list = [1, 2, 3, 4, 5, 6, 7, 8, 9, 10]\n",
    "print(binary_search(the_list, 0, len(the_list) - 1, 8))  # Output: 7"
   ]
  },
  {
   "cell_type": "markdown",
   "id": "a9865f88",
   "metadata": {},
   "source": [
    "Note: This approach defines a recursive function to perform binary search by dividing the search range into halves and comparing the middle element with the target."
   ]
  },
  {
   "cell_type": "markdown",
   "id": "017aff0b",
   "metadata": {},
   "source": [
    "### Optimized Solution:"
   ]
  },
  {
   "cell_type": "code",
   "execution_count": null,
   "id": "496e1d1c",
   "metadata": {},
   "outputs": [],
   "source": [
    "def binary_search(seq, low, high, elem):\n",
    "    if low > high:  # Base case: If the range is invalid, element is not found\n",
    "        return -1\n",
    "    middle = (low + high) // 2  # Calculate the middle index\n",
    "\n",
    "    if elem == seq[middle]:  # Check if the middle element is the target\n",
    "        return middle\n",
    "    return binary_search(seq, low, middle - 1, elem) if elem < seq[middle] else binary_search(seq, middle + 1, high, elem)\n",
    "\n",
    "# Test the function\n",
    "the_list = [1, 2, 3, 4, 5, 6, 7, 8, 9, 10]\n",
    "print(binary_search(the_list, 0, len(the_list) - 1, 8))  # Output: 7"
   ]
  },
  {
   "cell_type": "markdown",
   "id": "f2901c30",
   "metadata": {},
   "source": [
    "Note: This solution removes the else clause for improved readability and uses a conditional expression to decide the recursive call direction."
   ]
  },
  {
   "cell_type": "markdown",
   "id": "46c2e449",
   "metadata": {},
   "source": [
    "### Additional Practice:\n",
    "See For Loops - Practice Exercises & Challenges: Implement Binary Search Recursively"
   ]
  }
 ],
 "metadata": {
  "kernelspec": {
   "display_name": "Python 3 (ipykernel)",
   "language": "python",
   "name": "python3"
  },
  "language_info": {
   "codemirror_mode": {
    "name": "ipython",
    "version": 3
   },
   "file_extension": ".py",
   "mimetype": "text/x-python",
   "name": "python",
   "nbconvert_exporter": "python",
   "pygments_lexer": "ipython3",
   "version": "3.11.4"
  }
 },
 "nbformat": 4,
 "nbformat_minor": 5
}
