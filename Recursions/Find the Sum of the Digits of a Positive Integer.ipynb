{
 "cells": [
  {
   "cell_type": "markdown",
   "id": "de666638",
   "metadata": {},
   "source": [
    " # **Find the Sum of the Digits of a Positive Integer**"
   ]
  },
  {
   "cell_type": "markdown",
   "id": "b1b377e4",
   "metadata": {},
   "source": [
    "### Standard Approach:"
   ]
  },
  {
   "cell_type": "code",
   "execution_count": null,
   "id": "24184929",
   "metadata": {},
   "outputs": [],
   "source": [
    "def sum_digits(num):\n",
    "    the_string = str(num)  # Convert the number to a string\n",
    "    \n",
    "    if len(the_string) <= 1:  # Base case: single-digit number\n",
    "        return int(the_string)\n",
    "    else:\n",
    "        return int(the_string[0]) + sum_digits(int(the_string[1:]))  # Recursive case: add first digit to sum of remaining digits\n",
    "\n",
    "# Test the function\n",
    "print(sum_digits(1234))  # Output: 10"
   ]
  },
  {
   "cell_type": "markdown",
   "id": "a9865f88",
   "metadata": {},
   "source": [
    "Note: This approach defines a recursive function to compute the sum of digits by converting the number to a string and recursively adding its digits."
   ]
  },
  {
   "cell_type": "markdown",
   "id": "017aff0b",
   "metadata": {},
   "source": [
    "### Optimized Solution:"
   ]
  },
  {
   "cell_type": "code",
   "execution_count": null,
   "id": "496e1d1c",
   "metadata": {},
   "outputs": [],
   "source": [
    "def sum_digits(num):\n",
    "    if num == 0:  # Base case: number is 0\n",
    "        return 0\n",
    "    else:\n",
    "        return (num % 10) + sum_digits(num // 10)  # Recursive case: add last digit to sum of remaining digits\n",
    "\n",
    "# Test the function\n",
    "print(sum_digits(1234))  # Output: 10"
   ]
  },
  {
   "cell_type": "markdown",
   "id": "f2901c30",
   "metadata": {},
   "source": [
    "Note: This solution  uses modulus and integer division to compute the sum of digits directly, eliminating the need for string conversion, improving both clarity and efficiency."
   ]
  },
  {
   "cell_type": "markdown",
   "id": "46c2e449",
   "metadata": {},
   "source": [
    "### Additional Practice:\n",
    "See For Loops - Practice Exercises & Challenges: Find the Sum of the Digits of a Positive Integer"
   ]
  }
 ],
 "metadata": {
  "kernelspec": {
   "display_name": "Python 3 (ipykernel)",
   "language": "python",
   "name": "python3"
  },
  "language_info": {
   "codemirror_mode": {
    "name": "ipython",
    "version": 3
   },
   "file_extension": ".py",
   "mimetype": "text/x-python",
   "name": "python",
   "nbconvert_exporter": "python",
   "pygments_lexer": "ipython3",
   "version": "3.11.4"
  }
 },
 "nbformat": 4,
 "nbformat_minor": 5
}
