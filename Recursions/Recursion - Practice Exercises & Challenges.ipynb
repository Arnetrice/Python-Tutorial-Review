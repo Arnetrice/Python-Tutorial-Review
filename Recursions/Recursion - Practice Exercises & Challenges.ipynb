{
 "cells": [
  {
   "cell_type": "markdown",
   "id": "1a54ccbf",
   "metadata": {},
   "source": [
    "# Practice Exercises & Challenges - Recursion"
   ]
  },
  {
   "cell_type": "markdown",
   "id": "356d2478",
   "metadata": {},
   "source": [
    "### 1. Practice Exercise: Recursive Factorial"
   ]
  },
  {
   "cell_type": "markdown",
   "id": "4778e73c",
   "metadata": {},
   "source": [
    "1.1. Write a program to calculate the factorial of 0 and explain the result."
   ]
  },
  {
   "cell_type": "code",
   "execution_count": null,
   "id": "b8face61",
   "metadata": {},
   "outputs": [],
   "source": [
    "def the_fact(f):\n",
    "    # replace this with your code:\n",
    "        return 1\n",
    "    else:\n",
    "        return f * the_fact(f - 1)\n",
    "\n",
    "print(the_fact(0))"
   ]
  },
  {
   "cell_type": "markdown",
   "id": "81c2a243",
   "metadata": {},
   "source": [
    "1.2. Modify the recursive function to handle negative inputs gracefully by returning an error message."
   ]
  },
  {
   "cell_type": "code",
   "execution_count": null,
   "id": "2d89c8db",
   "metadata": {},
   "outputs": [],
   "source": [
    "def the_fact_safe(f):\n",
    "    # replace this with your code:\n",
    "        return \"Error: Factorial is not defined for negative numbers.\"\n",
    "    if f == 0 or f == 1:\n",
    "        return 1\n",
    "    return f * the_fact_safe(f - 1)\n",
    "\n",
    "print(the_fact_safe(-5))"
   ]
  },
  {
   "cell_type": "markdown",
   "id": "ae2348ed",
   "metadata": {},
   "source": [
    "1.3. Calculate the factorial of 20 and observe any performance differences between recursive and iterative approaches."
   ]
  },
  {
   "cell_type": "code",
   "execution_count": null,
   "id": "243bfd88",
   "metadata": {},
   "outputs": [],
   "source": [
    "def the_fact(f):\n",
    "    if not f or f == 1:\n",
    "        return # replace this with your code\n",
    "    else:\n",
    "        return # replace this with your code\n",
    "\n",
    "print(the_fact(20))"
   ]
  },
  {
   "cell_type": "markdown",
   "id": "0b5a4c36",
   "metadata": {},
   "source": [
    "1.4. Update the function to handle non-integer inputs by raising an appropriate error."
   ]
  },
  {
   "cell_type": "code",
   "execution_count": null,
   "id": "990f0c97",
   "metadata": {},
   "outputs": [],
   "source": [
    "def the_fact_safe(f):\n",
    "    if not isinstance(f, int):\n",
    "        return \"Error: Factorial is only defined for integers.\"\n",
    "    if f < # replace this with your code:\n",
    "        return \"Error: Factorial is not defined for negative numbers.\"\n",
    "    if f == 0 or # replace this with your code:\n",
    "        return 1\n",
    "    return f * the_fact_safe(f - 1)\n",
    "\n",
    "print(the_fact_safe(2.5)) "
   ]
  },
  {
   "cell_type": "markdown",
   "id": "2cb8dc3d",
   "metadata": {},
   "source": [
    "1.5. Implement a memoized version of the factorial function to optimize repeated calculations."
   ]
  },
  {
   "cell_type": "code",
   "execution_count": null,
   "id": "8de5b3c0",
   "metadata": {},
   "outputs": [],
   "source": [
    "from functools import lru_cache\n",
    "\n",
    "@lru_cache(maxsize=None)\n",
    "def memoized_fact(f):\n",
    "    if f == 0 or # replace this with your code:\n",
    "        return 1\n",
    "    return f * memoized_fact(f - 1)\n",
    "\n",
    "print(memoized_fact(5))"
   ]
  },
  {
   "cell_type": "markdown",
   "id": "4a7d2670",
   "metadata": {},
   "source": [
    "### 2. Practice Exercise: Solve a Power Recursively"
   ]
  },
  {
   "cell_type": "markdown",
   "id": "117d787b",
   "metadata": {},
   "source": [
    "2.1. Compute find_power(0, 5) and explain the result."
   ]
  },
  {
   "cell_type": "code",
   "execution_count": null,
   "id": "bddbbea7",
   "metadata": {},
   "outputs": [],
   "source": [
    "def find_power(power_this, by_me):\n",
    "    if by_me == 0:\n",
    "        return 1\n",
    "    elif by_me == 1:\n",
    "        return # replace this with your code\n",
    "    else:\n",
    "        return power_this * find_power(power_this, by_me - 1)\n",
    "\n",
    "print('Result:', find_power(0, 5)) "
   ]
  },
  {
   "cell_type": "markdown",
   "id": "4f4ec830",
   "metadata": {},
   "source": [
    "2.2. Modify the function to handle negative exponents and return the reciprocal result."
   ]
  },
  {
   "cell_type": "code",
   "execution_count": null,
   "id": "8bbded0c",
   "metadata": {},
   "outputs": [],
   "source": [
    "def find_power(power_this, by_me):\n",
    "    if by_me == 0:\n",
    "        return 1\n",
    "    elif # replace this with your code:  # Handle negative exponents\n",
    "        return 1 / find_power(power_this, -by_me)\n",
    "    elif by_me == 1:\n",
    "        return power_this\n",
    "    else:\n",
    "        return power_this * find_power(power_this, by_me - 1)\n",
    "\n",
    "print('Result:', find_power(2, -3)) "
   ]
  },
  {
   "cell_type": "markdown",
   "id": "c3a0b0c3",
   "metadata": {},
   "source": [
    "2.3. Calculate find_power(2, 10) and observe the performance."
   ]
  },
  {
   "cell_type": "code",
   "execution_count": null,
   "id": "960706bf",
   "metadata": {},
   "outputs": [],
   "source": [
    "print('Result:', find_power(# replace this with your code))"
   ]
  },
  {
   "cell_type": "markdown",
   "id": "965041bc",
   "metadata": {},
   "source": [
    "2.4. Update the function to raise a ValueError if either the base or the exponent is non-integer."
   ]
  },
  {
   "cell_type": "code",
   "execution_count": null,
   "id": "0d1d8d65",
   "metadata": {},
   "outputs": [],
   "source": [
    "def find_power_safe(power_this, by_me):\n",
    "    if not isinstance(power_this, int) or not isinstance(by_me, int):\n",
    "        raise ValueError(\"Both base and exponent must be integers.\")\n",
    "    if # replace this with your code == 0:\n",
    "        return 1\n",
    "    elif # replace this with your codee == 1:\n",
    "        return # replace this with your code\n",
    "    else:\n",
    "        return power_this * find_power_safe(power_this, by_me - 1)\n",
    "\n",
    "try:\n",
    "    print('Result:', find_power_safe(5, 2.5))\n",
    "except ValueError as e:\n",
    "    print(e) "
   ]
  },
  {
   "cell_type": "markdown",
   "id": "698fbad2",
   "metadata": {},
   "source": [
    "2.5. Implement a recursive function that uses a divide-and-conquer approach for efficiency."
   ]
  },
  {
   "cell_type": "code",
   "execution_count": null,
   "id": "b616d53e",
   "metadata": {},
   "outputs": [],
   "source": [
    "def efficient_find_power(power_this, by_me):\n",
    "    if by_me == # replace this with your code:\n",
    "        return 1\n",
    "    elif by_me % # replace this with your code:  # Even exponent\n",
    "        half_power = efficient_find_power(power_this, by_me // 2)\n",
    "        return half_power * half_power\n",
    "    else:  # Odd exponent\n",
    "        return power_this * efficient_find_power(power_this, by_me - 1)\n",
    "\n",
    "print('Result:', efficient_find_power(2, 10))"
   ]
  },
  {
   "cell_type": "markdown",
   "id": "76d70660",
   "metadata": {},
   "source": [
    "### 3. Practice Exercise: Find the Sum of a List"
   ]
  },
  {
   "cell_type": "markdown",
   "id": "613651f2",
   "metadata": {},
   "source": [
    "3.1. Find the sum of an empty list [] using the recursive function."
   ]
  },
  {
   "cell_type": "code",
   "execution_count": null,
   "id": "6df488ae",
   "metadata": {},
   "outputs": [],
   "source": [
    "def sum_of_list(sum_this):\n",
    "    # replace this with your code:  # Base case: Empty list\n",
    "        return 0\n",
    "    else:\n",
    "        return sum_this[0] + sum_of_list(sum_this[1:])  # Recursive case\n",
    "\n",
    "# Test with an empty list\n",
    "empty_list = []\n",
    "print(\"Sum of an empty list:\", sum_of_list(empty_list))"
   ]
  },
  {
   "cell_type": "markdown",
   "id": "c5fb03d5",
   "metadata": {},
   "source": [
    "3.2. Compute the sum of the list [-3, 7, -1, 5]."
   ]
  },
  {
   "cell_type": "code",
   "execution_count": null,
   "id": "adb6d53e",
   "metadata": {},
   "outputs": [],
   "source": [
    "def sum_of_list(sum_this):\n",
    "    if not sum_this:  # Base case: Empty list\n",
    "        return 0\n",
    "    else:\n",
    "        # replace this with your code  \n",
    "\n",
    "# Test with a list containing negative numbers\n",
    "negative_list = [-3, 7, -1, 5]\n",
    "print(\"Sum of the list with negative numbers:\", sum_of_list(negative_list))"
   ]
  },
  {
   "cell_type": "markdown",
   "id": "2016803c",
   "metadata": {},
   "source": [
    "3.3. Test the function on a single-element list [10]."
   ]
  },
  {
   "cell_type": "code",
   "execution_count": null,
   "id": "d1f31c7f",
   "metadata": {},
   "outputs": [],
   "source": [
    "def sum_of_list(sum_this):\n",
    "    if # replace this with your code:  # Base case: Empty list\n",
    "        return 0\n",
    "    else:\n",
    "        # replace this with your code  # Recursive case\n",
    "\n",
    "# Test with a single-element list\n",
    "single_element_list = # replace this with your code\n",
    "print(\"Sum of a single-element list:\", sum_of_list(single_element_list))"
   ]
  },
  {
   "cell_type": "markdown",
   "id": "18d40240",
   "metadata": {},
   "source": [
    "3.4. Calculate the sum of a large list, e.g., list(range(1, 101))."
   ]
  },
  {
   "cell_type": "code",
   "execution_count": null,
   "id": "c868fb2b",
   "metadata": {},
   "outputs": [],
   "source": [
    "def sum_of_list(sum_this):\n",
    "    # replace this with your code\n",
    "\n",
    "# Test with a large list\n",
    "large_list = list(range(1, 101))  # List of numbers from 1 to 100\n",
    "print(\"Sum of numbers from 1 to 100:\", sum_of_list(large_list))"
   ]
  },
  {
   "cell_type": "markdown",
   "id": "5f7434e7",
   "metadata": {},
   "source": [
    "3.5. Modify the function to raise an error if the list contains non-numeric elements."
   ]
  },
  {
   "cell_type": "code",
   "execution_count": null,
   "id": "feba4038",
   "metadata": {},
   "outputs": [],
   "source": [
    "def sum_of_list_safe(sum_this):\n",
    "    # replace this with your code not sum_this:  # Base case: Empty list\n",
    "        return 0\n",
    "    # replace this with your code not isinstance(sum_this[0], (int, float)):  # Check for non-numeric elements\n",
    "        raise ValueError(\"List contains non-numeric elements\")\n",
    "    # replace this with your code:\n",
    "        return sum_this[0] + sum_of_list_safe(sum_this[1:])  # Recursive case\n",
    "\n",
    "# Test with a list containing non-numeric elements\n",
    "try:\n",
    "    mixed_list = [4, \"five\", 6]\n",
    "    print(\"Sum of a list with non-numeric elements:\", sum_of_list_safe(mixed_list))\n",
    "except ValueError as e:\n",
    "    print(e)"
   ]
  },
  {
   "cell_type": "markdown",
   "id": "a4c1e9e4",
   "metadata": {},
   "source": [
    "### 4. Practice Exercise: Find the Sum of the Digits of a Positive Integer"
   ]
  },
  {
   "cell_type": "markdown",
   "id": "22f7077c",
   "metadata": {},
   "source": [
    "4.1. Test the function with a single-digit number (e.g., 7)."
   ]
  },
  {
   "cell_type": "code",
   "execution_count": null,
   "id": "5c4baf51",
   "metadata": {},
   "outputs": [],
   "source": [
    "def sum_digits(num):\n",
    "    if num == 0:  # Base case: number is 0\n",
    "        # replace this with your code\n",
    "    else:\n",
    "        return (num % 10) + sum_digits(num // 10)  # Recursive case: add last digit to sum of remaining digits\n",
    "\n",
    "# Test with a single-digit number\n",
    "single_digit = 7\n",
    "print(\"Sum of a single-digit number:\", sum_digits(single_digit))"
   ]
  },
  {
   "cell_type": "markdown",
   "id": "e923f237",
   "metadata": {},
   "source": [
    "4.2. Compute the sum of the digits of a large number (e.g., 987654321)."
   ]
  },
  {
   "cell_type": "code",
   "execution_count": null,
   "id": "cb51268a",
   "metadata": {},
   "outputs": [],
   "source": [
    "def sum_digits(num):\n",
    "    # replace this with your code:  # Base case: number is 0\n",
    "        return 0\n",
    "    else:\n",
    "        return (num % 10) + sum_digits(num // 10)  # Recursive case: add last digit to sum of remaining digits\n",
    "\n",
    "# Test with a large number\n",
    "large_number = 987654321\n",
    "print(\"Sum of a large number:\", sum_digits(large_number))"
   ]
  },
  {
   "cell_type": "markdown",
   "id": "07ec3522",
   "metadata": {},
   "source": [
    "4.3. Test the function with the number 0."
   ]
  },
  {
   "cell_type": "code",
   "execution_count": null,
   "id": "08091933",
   "metadata": {},
   "outputs": [],
   "source": [
    "def sum_digits(num):\n",
    "    # replace this with your code:  # Base case: number is 0\n",
    "        # replace this with your code\n",
    "    # replace this with your code:\n",
    "        return (num % 10) + sum_digits(num // 10)  # Recursive case: add last digit to sum of remaining digits\n",
    "\n",
    "# Test with zero\n",
    "zero = 0\n",
    "print(\"Sum of digits of zero:\", sum_digits(zero))"
   ]
  },
  {
   "cell_type": "markdown",
   "id": "7099e7e7",
   "metadata": {},
   "source": [
    "4.4. Find the sum of the digits of a number with repeated digits (e.g., 11111)."
   ]
  },
  {
   "cell_type": "code",
   "execution_count": null,
   "id": "3247cbf7",
   "metadata": {},
   "outputs": [],
   "source": [
    "def sum_digits(num):\n",
    "    if num == 0:  # Base case: number is 0\n",
    "        return 0\n",
    "    # replace this with your code:\n",
    "        # replace this with your code  # Recursive case: add last digit to sum of remaining digits\n",
    "\n",
    "# Test with repeated digits\n",
    "repeated_number = 11111\n",
    "print(\"Sum of a number with repeated digits:\", sum_digits(repeated_number))"
   ]
  },
  {
   "cell_type": "markdown",
   "id": "78c8a8e3",
   "metadata": {},
   "source": [
    "4.5. Modify the function to raise an error if the input is not a positive integer."
   ]
  },
  {
   "cell_type": "code",
   "execution_count": null,
   "id": "9367f5fc",
   "metadata": {},
   "outputs": [],
   "source": [
    "def sum_digits_safe(num):\n",
    "    if not isinstance(num, int) or num < 0:  # Check for valid input\n",
    "        raise ValueError(\"Input must be a positive integer.\")\n",
    "    if num == 0:  # Base case: number is 0\n",
    "        # replace this with your code\n",
    "    # replace this with your code:\n",
    "        # replace this with your code # Recursive case: add last digit to sum of remaining digits\n",
    "\n",
    "# Test with a non-integer input\n",
    "# replace this with your code:\n",
    "    invalid_input = \"1234\"\n",
    "    print(\"Sum of digits with invalid input:\", sum_digits_safe(invalid_input))\n",
    "except ValueError as e:\n",
    "    print(e)"
   ]
  },
  {
   "cell_type": "markdown",
   "id": "13ea6d4a",
   "metadata": {},
   "source": [
    "### 5. Practice Exercise:  Print a Pattern using Recursion"
   ]
  },
  {
   "cell_type": "markdown",
   "id": "21533a29",
   "metadata": {},
   "source": [
    "5.1. Modify the function to print the rows in increasing order, starting with 1 * up to num_rows."
   ]
  },
  {
   "cell_type": "code",
   "execution_count": null,
   "id": "57c2649f",
   "metadata": {},
   "outputs": [],
   "source": [
    "def print_triangle(num_rows, current=1):\n",
    "    if current > num_rows:  # Base case: when current exceeds num_rows, stop recursion\n",
    "        return\n",
    "    else:\n",
    "        print('*' * current)  # Print a row of asterisks\n",
    "        print_triangle(num_rows, # replace this with your code)  # Recursive case: increment current\n",
    "\n",
    "# Test the function\n",
    "print_triangle(6)"
   ]
  },
  {
   "cell_type": "markdown",
   "id": "0a85a746",
   "metadata": {},
   "source": [
    "5.2. Modify the function to alternate between printing * and # rows."
   ]
  },
  {
   "cell_type": "code",
   "execution_count": null,
   "id": "820bc26b",
   "metadata": {},
   "outputs": [],
   "source": [
    "def print_alternating(num_rows):\n",
    "    if not # replace this with your code:  # Base case: stop recursion when num_rows is 0\n",
    "        return\n",
    "    else:\n",
    "        char = '*' if num_rows % 2 == 1 else # replace this with your code  # Alternate between '*' and '#'\n",
    "        print(char * num_rows)\n",
    "        print_alternating(num_rows - 1)\n",
    "\n",
    "# Test the function\n",
    "print_alternating(6)"
   ]
  },
  {
   "cell_type": "markdown",
   "id": "d75f0d0e",
   "metadata": {},
   "source": [
    "5.3. Modify the function to add spaces at the beginning of each row, forming an inverted pyramid."
   ]
  },
  {
   "cell_type": "code",
   "execution_count": null,
   "id": "75425793",
   "metadata": {},
   "outputs": [],
   "source": [
    "def print_inverted_pyramid(num_rows, current=0):\n",
    "    if num_rows == 0:  # Base case: stop recursion when no rows remain\n",
    "        return\n",
    "    else:\n",
    "        print(' ' * current + '*' * # replace this with your code)  # Add leading spaces\n",
    "        print_inverted_pyramid(num_rows - 1, # replace this with your code)  # Increment spaces, reduce rows\n",
    "\n",
    "# Test the function\n",
    "print_inverted_pyramid(6)"
   ]
  },
  {
   "cell_type": "markdown",
   "id": "4ef2634f",
   "metadata": {},
   "source": [
    "5.4. Update the function to raise an error if num_rows is negative."
   ]
  },
  {
   "cell_type": "code",
   "execution_count": null,
   "id": "81957606",
   "metadata": {},
   "outputs": [],
   "source": [
    "def print_asterisks_safe(num_rows):\n",
    "    # replace this with your code:  # Handle negative input\n",
    "        raise ValueError(\"Number of rows must be non-negative.\")\n",
    "    if not num_rows:  # Base case\n",
    "        return\n",
    "    else:\n",
    "        print('*' * num_rows)\n",
    "        print_asterisks_safe(num_rows - 1)\n",
    "\n",
    "# Test the function\n",
    "try:\n",
    "    print_asterisks_safe(-3)\n",
    "# replace this with your code:\n",
    "    print(e)"
   ]
  },
  {
   "cell_type": "markdown",
   "id": "0dd5b67c",
   "metadata": {},
   "source": [
    "5.5. Modify the function to accept an additional argument specifying the character to print instead of *."
   ]
  },
  {
   "cell_type": "code",
   "execution_count": null,
   "id": "a71a1fe1",
   "metadata": {},
   "outputs": [],
   "source": [
    "def print_custom_pattern(num_rows, char=# replace this with your code):\n",
    "    # replace this with your code:  # Base case: stop recursion when num_rows is 0\n",
    "        return\n",
    "    else:\n",
    "        print(char * num_rows)  # Print the character\n",
    "        print_custom_pattern(num_rows - 1, char)  # Recursive case: reduce rows\n",
    "\n",
    "# Test the function\n",
    "print_custom_pattern(6, '#')"
   ]
  },
  {
   "cell_type": "markdown",
   "id": "ba4cf44a",
   "metadata": {},
   "source": [
    "### 6. Practice Exercise: Check if a String is a Palindrome"
   ]
  },
  {
   "cell_type": "markdown",
   "id": "bce06cd4",
   "metadata": {},
   "source": [
    "6.1. Test the function with a single-character string (e.g., 'a')."
   ]
  },
  {
   "cell_type": "code",
   "execution_count": null,
   "id": "e7ae2257",
   "metadata": {},
   "outputs": [],
   "source": [
    "def is_palindrome(the_string):\n",
    "    if len(# replace this with your code) <= 1:\n",
    "        return # replace this with your code\n",
    "    elif the_string[0] != the_string[-1]:\n",
    "        return False\n",
    "    else:\n",
    "        return is_palindrome(the_string[1:-1])\n",
    "\n",
    "# Test with a single-character string\n",
    "print(is_palindrome('a')) "
   ]
  },
  {
   "cell_type": "markdown",
   "id": "1dce4fe9",
   "metadata": {},
   "source": [
    "6.2. Test the function with an empty string ('')."
   ]
  },
  {
   "cell_type": "code",
   "execution_count": null,
   "id": "3bea87b8",
   "metadata": {},
   "outputs": [],
   "source": [
    "def is_palindrome(the_string):\n",
    "    if len(the_string) <= 1:\n",
    "        return True\n",
    "    elif the_string[0] != the_string[-1]:\n",
    "        return False\n",
    "    else:\n",
    "        return is_palindrome(the_string[1:-1])\n",
    "\n",
    "# Test with an empty string\n",
    "print(# replace this with your code)"
   ]
  },
  {
   "cell_type": "markdown",
   "id": "6b99e120",
   "metadata": {},
   "source": [
    "6.3. Test the function with a string that is not a palindrome (e.g., 'hello')."
   ]
  },
  {
   "cell_type": "code",
   "execution_count": null,
   "id": "6eaa36f2",
   "metadata": {},
   "outputs": [],
   "source": [
    "def # replace this with your code:\n",
    "    if len(the_string) <= 1:\n",
    "        return True\n",
    "    elif the_string[0] != the_string[-1]:\n",
    "        return False\n",
    "    else:\n",
    "        return is_palindrome(# replace this with your code)\n",
    "\n",
    "# Test with a non-palindrome\n",
    "print(is_palindrome('hello'))"
   ]
  },
  {
   "cell_type": "markdown",
   "id": "4f8b76ca",
   "metadata": {},
   "source": [
    "6.4. Modify the function to ignore case and spaces in the input string."
   ]
  },
  {
   "cell_type": "code",
   "execution_count": null,
   "id": "ba345091",
   "metadata": {},
   "outputs": [],
   "source": [
    "def is_palindrome(the_string):\n",
    "    the_string = the_string.replace(' ', '').lower()  # Normalize case and remove spaces\n",
    "    # replace this with your code:\n",
    "        return True\n",
    "    elif the_string[0] != the_string[-1]:\n",
    "        return # replace this with your code\n",
    "    else:\n",
    "        return is_palindrome(the_string[1:-1])\n",
    "\n",
    "# Test with a string that has mixed case and spaces\n",
    "print(is_palindrome('A Santa at NASA')) "
   ]
  },
  {
   "cell_type": "markdown",
   "id": "3c57be74",
   "metadata": {},
   "source": [
    "6.5. Update the function to ignore non-alphanumeric characters (e.g., 'A man, a plan, a canal, Panama')."
   ]
  },
  {
   "cell_type": "code",
   "execution_count": null,
   "id": "10a76c1e",
   "metadata": {},
   "outputs": [],
   "source": [
    "def is_palindrome(the_string):\n",
    "    import string\n",
    "    the_string = ''.join(char for char in the_string if char.isalnum()).lower()  # Remove non-alphanumeric characters and normalize case\n",
    "    if len(the_string) <= 1:\n",
    "        return True\n",
    "    # replace this with your code:\n",
    "        return False\n",
    "    else:\n",
    "        return # replace this with your code\n",
    "\n",
    "# Test with a string that includes punctuation and spaces\n",
    "print(is_palindrome('A man, a plan, a canal, Panama')) "
   ]
  },
  {
   "cell_type": "markdown",
   "id": "562f852a",
   "metadata": {},
   "source": [
    "### 7. Practice Exercise: Convert from Decimal to Binary"
   ]
  },
  {
   "cell_type": "markdown",
   "id": "7680f83f",
   "metadata": {},
   "source": [
    "7.1. Test the function with the number 0 to verify the base case."
   ]
  },
  {
   "cell_type": "code",
   "execution_count": null,
   "id": "1a4f5b8e",
   "metadata": {},
   "outputs": [],
   "source": [
    "def decimal_to_binary(the_decimal):\n",
    "    # replace this with your code:\n",
    "        return '0'\n",
    "    else:\n",
    "        return (decimal_to_binary(the_decimal // 2) + str(the_decimal % 2)).lstrip('0')\n",
    "\n",
    "# Test with 0\n",
    "# replace this with your code"
   ]
  },
  {
   "cell_type": "markdown",
   "id": "cd046106",
   "metadata": {},
   "source": [
    "7.2. Test the function with a single-digit decimal number (e.g., 5)."
   ]
  },
  {
   "cell_type": "code",
   "execution_count": null,
   "id": "540a8467",
   "metadata": {},
   "outputs": [],
   "source": [
    "def # replace this with your code:\n",
    "    # replace this with your code:\n",
    "        # replace this with your code\n",
    "    else:\n",
    "        return (decimal_to_binary(the_decimal // 2) + str(the_decimal % 2)).lstrip('0')\n",
    "\n",
    "# Test with a single-digit decimal\n",
    "print(decimal_to_binary(5)) "
   ]
  },
  {
   "cell_type": "markdown",
   "id": "b898a48a",
   "metadata": {},
   "source": [
    "7.3. Convert a large decimal number (e.g., 1024) to binary."
   ]
  },
  {
   "cell_type": "code",
   "execution_count": null,
   "id": "c7793b74",
   "metadata": {},
   "outputs": [],
   "source": [
    "def decimal_to_binary(the_decimal):\n",
    "    if the_decimal == 0:\n",
    "        return '0'\n",
    "    else:\n",
    "        # replace this with your code\n",
    "\n",
    "# Test with a large decimal number\n",
    "print(decimal_to_binary(1024))"
   ]
  },
  {
   "cell_type": "markdown",
   "id": "d572f83c",
   "metadata": {},
   "source": [
    "7.4. Modify the function to handle negative numbers by returning a binary representation prefixed with -."
   ]
  },
  {
   "cell_type": "code",
   "execution_count": null,
   "id": "35ab3d6a",
   "metadata": {},
   "outputs": [],
   "source": [
    "def decimal_to_binary(the_decimal):\n",
    "    if the_decimal == 0:\n",
    "        return '0'\n",
    "    elif # replace this with your code:  # Handle negative numbers\n",
    "        return '-' + decimal_to_binary(-the_decimal)\n",
    "    else:\n",
    "        return (decimal_to_binary(the_decimal // 2) + str(the_decimal % 2)).lstrip('0')\n",
    "\n",
    "# Test with a negative number\n",
    "print(decimal_to_binary(-13)) "
   ]
  },
  {
   "cell_type": "markdown",
   "id": "d33dca9d",
   "metadata": {},
   "source": [
    "7.5. Write a script to compare the results of the function with Python's bin() function for a range of numbers."
   ]
  },
  {
   "cell_type": "code",
   "execution_count": null,
   "id": "301f2584",
   "metadata": {},
   "outputs": [],
   "source": [
    "def decimal_to_binary(the_decimal):\n",
    "    # replace this with your code:\n",
    "        return '0'\n",
    "    elif the_decimal < 0:  # Handle negative numbers\n",
    "        return '-' + # replace this with your code\n",
    "    else:\n",
    "        return (decimal_to_binary(the_decimal // 2) + str(the_decimal % 2)).lstrip('0')\n",
    "\n",
    "# Test and compare results\n",
    "for num in range(-10, 11):\n",
    "    custom_result = decimal_to_binary(num)\n",
    "    built_in_result = bin(num)[2:] if num >= 0 else '-' + bin(num)[3:]\n",
    "    print(f\"Decimal: {num}, Custom Binary: {custom_result}, Built-in Binary: {built_in_result}\")"
   ]
  },
  {
   "cell_type": "markdown",
   "id": "880b14e6",
   "metadata": {},
   "source": [
    "### 8. Practice Exercise: Implement Binary Search Recursively"
   ]
  },
  {
   "cell_type": "markdown",
   "id": "014c9ecb",
   "metadata": {},
   "source": [
    "8.1. Test the function with a list and a target that is the first element (e.g., 1)."
   ]
  },
  {
   "cell_type": "code",
   "execution_count": null,
   "id": "77538830",
   "metadata": {},
   "outputs": [],
   "source": [
    "def binary_search(seq, low, high, elem):\n",
    "    if low > high:\n",
    "        return -1\n",
    "    middle = (low + high) // # replace this with your code\n",
    "\n",
    "    if elem == seq[middle]:\n",
    "        return middle\n",
    "    return binary_search(seq, low, middle - 1, elem) if elem < seq[middle] else binary_search(seq, middle + 1, high, elem)\n",
    "\n",
    "# Test with the first element\n",
    "the_list = [1, 2, 3, 4, 5, 6, 7, 8, 9, 10]\n",
    "print(binary_search(the_list, 0, len(the_list) - 1, 1))"
   ]
  },
  {
   "cell_type": "markdown",
   "id": "6458426f",
   "metadata": {},
   "source": [
    "8.2. Test the function with a list and a target that is the last element (e.g., 10)."
   ]
  },
  {
   "cell_type": "code",
   "execution_count": null,
   "id": "a7cf85d6",
   "metadata": {},
   "outputs": [],
   "source": [
    "# Test with the last element\n",
    "the_list = [1, 2, 3, 4, 5, 6, 7, 8, 9, 10]\n",
    "print(binary_search(the_list, 0, len(the_list) - 1, # replace this with your code))"
   ]
  },
  {
   "cell_type": "markdown",
   "id": "b995f04f",
   "metadata": {},
   "source": [
    "8.3. Test the function with a target that is not in the list (e.g., 15)."
   ]
  },
  {
   "cell_type": "code",
   "execution_count": null,
   "id": "86eac684",
   "metadata": {},
   "outputs": [],
   "source": [
    "# Test with a non-existent element\n",
    "the_list = [1, 2, 3, 4, 5, 6, 7, 8, 9, 10]\n",
    "print(binary_search(# replace this with your code, 15)) "
   ]
  },
  {
   "cell_type": "markdown",
   "id": "066f6ef0",
   "metadata": {},
   "source": [
    "8.4. Test the function with an empty list and any target."
   ]
  },
  {
   "cell_type": "code",
   "execution_count": null,
   "id": "8e76124d",
   "metadata": {},
   "outputs": [],
   "source": [
    "# Test with an empty list\n",
    "# replace this with your code\n",
    "print(binary_search(empty_list, 0, len(empty_list) - 1, 5))"
   ]
  },
  {
   "cell_type": "markdown",
   "id": "941e811f",
   "metadata": {},
   "source": [
    "8.5. Update the function to handle lists sorted in descending order."
   ]
  },
  {
   "cell_type": "code",
   "execution_count": null,
   "id": "6549ae69",
   "metadata": {},
   "outputs": [],
   "source": [
    "def binary_search_desc(seq, low, high, elem):\n",
    "    if low > high:\n",
    "        return -1\n",
    "    middle = # replace this with your code\n",
    "\n",
    "    if elem == seq[middle]:\n",
    "        return # replace this with your code\n",
    "    return binary_search_desc(seq, middle + 1, high, elem) if elem < seq[middle] else binary_search_desc(seq, low, middle - 1, elem)\n",
    "\n",
    "# Test with a descending list\n",
    "desc_list = [10, 9, 8, 7, 6, 5, 4, 3, 2, 1]\n",
    "print(binary_search_desc(desc_list, 0, len(desc_list) - 1, 7))"
   ]
  },
  {
   "cell_type": "markdown",
   "id": "6d81dd8e",
   "metadata": {},
   "source": [
    "### 9. Practice Exercise: Find the nth Fibonacci Number"
   ]
  },
  {
   "cell_type": "markdown",
   "id": "9356d7d4",
   "metadata": {},
   "source": [
    "9.1. Test the function with n = 0 to verify the base case."
   ]
  },
  {
   "cell_type": "code",
   "execution_count": null,
   "id": "ae8eaa09",
   "metadata": {},
   "outputs": [],
   "source": [
    "def fib_tail(n, a=0, b=1):\n",
    "    if n == 0:\n",
    "        return a\n",
    "    elif n == 1:\n",
    "        return b\n",
    "    else:\n",
    "        return fib_tail(n - 1, b, a + b)\n",
    "\n",
    "# Test for n = 0\n",
    "print(# replace this with your code) "
   ]
  },
  {
   "cell_type": "markdown",
   "id": "7f0739dc",
   "metadata": {},
   "source": [
    "9.2. Test the function with n = 1 to verify the base case."
   ]
  },
  {
   "cell_type": "code",
   "execution_count": null,
   "id": "014e3286",
   "metadata": {},
   "outputs": [],
   "source": [
    "# Test for n = 1\n",
    "# replace this with your code "
   ]
  },
  {
   "cell_type": "markdown",
   "id": "e45f24d1",
   "metadata": {},
   "source": [
    "9.3. Test the function with a large value of n (e.g., 50)."
   ]
  },
  {
   "cell_type": "code",
   "execution_count": null,
   "id": "1b1ef4a8",
   "metadata": {},
   "outputs": [],
   "source": [
    "# Test for a large Fibonacci number\n",
    "# replace this with your code "
   ]
  },
  {
   "cell_type": "markdown",
   "id": "c930b1a7",
   "metadata": {},
   "source": [
    "9.4. Write a script to compare the performance of the two implementations for n = 30."
   ]
  },
  {
   "cell_type": "code",
   "execution_count": null,
   "id": "4e403f96",
   "metadata": {},
   "outputs": [],
   "source": [
    "import time\n",
    "\n",
    "def fib(the_fib, memo={}):\n",
    "    if the_fib in memo:\n",
    "        return memo[the_fib]\n",
    "    if the_fib == 0 or the_fib == 1:\n",
    "        return the_fib\n",
    "    memo[the_fib] = fib(the_fib - 1, memo) + fib(the_fib - 2, memo)\n",
    "    return memo[# replace this with your code ]\n",
    "\n",
    "def fib_tail(n, a=0, b=1):\n",
    "    if n == 0:\n",
    "        return a\n",
    "    elif n == 1:\n",
    "        return # replace this with your code \n",
    "    else:\n",
    "        return fib_tail(n - 1, b, a + b)\n",
    "\n",
    "# Test and compare performance for n = 30\n",
    "n = 30\n",
    "\n",
    "start = time.time()\n",
    "print(\"Memoized Fibonacci:\", fib(n))\n",
    "end = time.time()\n",
    "print(\"Memoized time:\", end - start)\n",
    "\n",
    "start = time.time()\n",
    "print(\"Tail-Recursive Fibonacci:\", fib_tail(n))\n",
    "end = time.time()\n",
    "print(\"Tail-Recursive time:\", end - start)"
   ]
  },
  {
   "cell_type": "markdown",
   "id": "9d26f1c8",
   "metadata": {},
   "source": [
    "9.5. Update the function to raise an error for negative input values."
   ]
  },
  {
   "cell_type": "code",
   "execution_count": null,
   "id": "6aedd047",
   "metadata": {},
   "outputs": [],
   "source": [
    "def fib_tail_safe(n, a=0, b=1):\n",
    "    if n < 0:  # Handle negative input\n",
    "        raise ValueError(\"Input must be a non-negative integer.\")\n",
    "    if n == 0:\n",
    "        return a\n",
    "    elif n == 1:\n",
    "        return b\n",
    "    else:\n",
    "        return fib_tail_safe(n - 1, b, a + b)\n",
    "\n",
    "# Test with negative input\n",
    "# replace this with your code:\n",
    "    print(# replace this with your code(-5))\n",
    "# replace this with your code ValueError as e:\n",
    "    print(e) "
   ]
  },
  {
   "cell_type": "markdown",
   "id": "6595a0f6",
   "metadata": {},
   "source": [
    "### 10. Practice Exercise: Find the Greatest Common Divisor"
   ]
  },
  {
   "cell_type": "markdown",
   "id": "b8a6f532",
   "metadata": {},
   "source": [
    "10.1. Test the function with two prime numbers (e.g., 17 and 19)."
   ]
  },
  {
   "cell_type": "code",
   "execution_count": null,
   "id": "8444d31f",
   "metadata": {},
   "outputs": [],
   "source": [
    "def the_gcd(num1, num2):\n",
    "    if num2 == 0:\n",
    "        return num1\n",
    "    else:\n",
    "        return the_gcd(num2, num1 % num2)\n",
    "\n",
    "# Test with two prime numbers\n",
    "# replace this with your code"
   ]
  },
  {
   "cell_type": "markdown",
   "id": "df650c1d",
   "metadata": {},
   "source": [
    "10.2. Test the function where one of the numbers is 0 (e.g., 0 and 25)."
   ]
  },
  {
   "cell_type": "code",
   "execution_count": null,
   "id": "f094b567",
   "metadata": {},
   "outputs": [],
   "source": [
    "# replace this with your code\n",
    "# replace this with your code"
   ]
  },
  {
   "cell_type": "markdown",
   "id": "27e5b16e",
   "metadata": {},
   "source": [
    "10.3. Test the function with negative numbers (e.g., -15 and 5)."
   ]
  },
  {
   "cell_type": "code",
   "execution_count": null,
   "id": "ed58ea0b",
   "metadata": {},
   "outputs": [],
   "source": [
    "# replace this with your code\n",
    "# replace this with your code\n",
    "# replace this with your code"
   ]
  },
  {
   "cell_type": "markdown",
   "id": "3b695074",
   "metadata": {},
   "source": [
    "10.4. Write a script to compare the performance of the recursive function and the math.gcd function for large numbers."
   ]
  },
  {
   "cell_type": "code",
   "execution_count": null,
   "id": "3b6bc052",
   "metadata": {},
   "outputs": [],
   "source": [
    "import math\n",
    "import # replace this with your code\n",
    "\n",
    "def the_gcd(num1, num2):\n",
    "    if num2 == 0:\n",
    "        return num1\n",
    "    else:\n",
    "        return the_gcd(num2, num1 % num2)\n",
    "\n",
    "# Test and compare performance\n",
    "num1 = 123456\n",
    "num2 = 789012\n",
    "\n",
    "# Recursive function\n",
    "start = time.time()\n",
    "print(\"Recursive GCD:\", the_gcd(num1, num2))\n",
    "end = time.time()\n",
    "print(\"Recursive time:\", end - start)\n",
    "\n",
    "# Built-in function\n",
    "start = time.time()\n",
    "print(\"Built-in GCD:\", math.gcd(num1, num2))\n",
    "end = time.time()\n",
    "print(\"Built-in time:\", end - start)"
   ]
  },
  {
   "cell_type": "markdown",
   "id": "56acc198",
   "metadata": {},
   "source": [
    "10.5. Test the function for the GCD of a number with itself (e.g., 50 and 50) and the GCD of a number with 1."
   ]
  },
  {
   "cell_type": "code",
   "execution_count": null,
   "id": "ebc9ad56",
   "metadata": {},
   "outputs": [],
   "source": [
    " # GCD of a number with itself\n",
    "# replace this with your code \n",
    "\n",
    "# GCD of a number with 1\n",
    "# replace this with your code"
   ]
  },
  {
   "cell_type": "markdown",
   "id": "ad5bfd03",
   "metadata": {},
   "source": [
    "### Solution Available at: Recustion Solutions: Practice Exercises & Challenges"
   ]
  }
 ],
 "metadata": {
  "kernelspec": {
   "display_name": "Python 3 (ipykernel)",
   "language": "python",
   "name": "python3"
  },
  "language_info": {
   "codemirror_mode": {
    "name": "ipython",
    "version": 3
   },
   "file_extension": ".py",
   "mimetype": "text/x-python",
   "name": "python",
   "nbconvert_exporter": "python",
   "pygments_lexer": "ipython3",
   "version": "3.11.4"
  }
 },
 "nbformat": 4,
 "nbformat_minor": 5
}
