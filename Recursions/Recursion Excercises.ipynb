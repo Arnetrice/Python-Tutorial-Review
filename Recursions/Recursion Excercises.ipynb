{
 "cells": [
  {
   "cell_type": "code",
   "execution_count": 2,
   "metadata": {},
   "outputs": [
    {
     "name": "stdout",
     "output_type": "stream",
     "text": [
      "15\n"
     ]
    }
   ],
   "source": [
    "# Find the Sum of a List using Recursion\n",
    "\n",
    "#sudo\n",
    "# Base Case: A condition that stops the recursive functtion and returns a value\n",
    "# len(the_list) == 0 -> return 0\n",
    "\n",
    "# Recursive Case: How to combine the pieces being returned and how to make the recusrive calls\n",
    "# the_list[0] + sum_of_list(<sequence without the first element>)\n",
    "\n",
    "the_list = [4, 5, 6]\n",
    "\n",
    "def sum_of_list(sum_this):\n",
    "    # Base Case\n",
    "    if len(sum_this) == 0:\n",
    "        return 0\n",
    "    else:\n",
    "        #remove 1st element from the sequence\n",
    "        return sum_this[0] + sum_of_list(sum_this[1:])\n",
    "    \n",
    "print(sum_of_list(the_list))\n"
   ]
  },
  {
   "cell_type": "code",
   "execution_count": 3,
   "metadata": {},
   "outputs": [
    {
     "name": "stdout",
     "output_type": "stream",
     "text": [
      "15\n"
     ]
    }
   ],
   "source": [
    "the_list = [4, 5, 6]\n",
    "\n",
    "def sum_of_list(sum_this):\n",
    "    if not sum_this:\n",
    "        return 0\n",
    "    else:\n",
    "        return sum_this[0] + sum_of_list(sum_this[1:])\n",
    "    \n",
    "print(sum_of_list(the_list))"
   ]
  },
  {
   "cell_type": "code",
   "execution_count": 12,
   "metadata": {},
   "outputs": [
    {
     "name": "stdout",
     "output_type": "stream",
     "text": [
      "55\n"
     ]
    }
   ],
   "source": [
    "# Find the nth Fibonacci Number\n",
    "\n",
    "# Base Case: When the number is 0 or 1 (1st two in fib)\n",
    "\n",
    "# Recursive Case:\n",
    "\n",
    "def fib(the_fib):\n",
    "    if not the_fib or the_fib == 1:\n",
    "        return the_fib\n",
    "    else:\n",
    "        # adds the two fib numbers before the fib number given as a parameter\n",
    "        return fib(the_fib - 1) + fib(the_fib - 2)\n",
    "    \n",
    "print(fib(10))"
   ]
  },
  {
   "cell_type": "code",
   "execution_count": 13,
   "metadata": {},
   "outputs": [
    {
     "name": "stdout",
     "output_type": "stream",
     "text": [
      "55\n"
     ]
    }
   ],
   "source": [
    "def fib(the_fib):\n",
    "    if the_fib == 0 or the_fib == 1:\n",
    "        return the_fib\n",
    "    else:\n",
    "        return fib(the_fib - 1) + fib(the_fib - 2)\n",
    "    \n",
    "print(fib(10))"
   ]
  },
  {
   "cell_type": "code",
   "execution_count": 15,
   "metadata": {},
   "outputs": [
    {
     "data": {
      "text/plain": [
       "120"
      ]
     },
     "execution_count": 15,
     "metadata": {},
     "output_type": "execute_result"
    }
   ],
   "source": [
    "# Recursive Factorial\n",
    "\n",
    "def the_fact(f):\n",
    "    if not f or f == 1:\n",
    "        return 1\n",
    "    else:\n",
    "        return f * the_fact(f-1)\n",
    "the_fact(5)\n",
    "        "
   ]
  },
  {
   "cell_type": "code",
   "execution_count": 17,
   "metadata": {},
   "outputs": [
    {
     "name": "stdout",
     "output_type": "stream",
     "text": [
      "120\n"
     ]
    }
   ],
   "source": [
    "def the_fact(f):\n",
    "    if f == 0 or f == 1:\n",
    "        return 1\n",
    "    else:\n",
    "        return f * the_fact(f-1)\n",
    "print(the_fact(5))"
   ]
  },
  {
   "cell_type": "code",
   "execution_count": 23,
   "metadata": {},
   "outputs": [
    {
     "data": {
      "text/plain": [
       "10"
      ]
     },
     "execution_count": 23,
     "metadata": {},
     "output_type": "execute_result"
    }
   ],
   "source": [
    "# Find the Sum of the Digits of a Positive Integer\n",
    "\n",
    "def sum_digits(num):\n",
    "    \n",
    "    the_string = str(num)\n",
    "    \n",
    "    if len(the_string) <= 1:\n",
    "        return int(the_string)\n",
    "    else:\n",
    "        return int(the_string[0]) + sum_digits(int(the_string[1:]))\n",
    "    \n",
    "sum_digits(1234)"
   ]
  },
  {
   "cell_type": "code",
   "execution_count": 24,
   "metadata": {},
   "outputs": [
    {
     "data": {
      "text/plain": [
       "10"
      ]
     },
     "execution_count": 24,
     "metadata": {},
     "output_type": "execute_result"
    }
   ],
   "source": [
    "def sum_digits(num):\n",
    "    \n",
    "    if num == 0:\n",
    "        return 0\n",
    "    else:\n",
    "        return (num % 10) + sum_digits(num // 10)\n",
    "    \n",
    "sum_digits(1234)"
   ]
  },
  {
   "cell_type": "code",
   "execution_count": 60,
   "metadata": {},
   "outputs": [
    {
     "name": "stdout",
     "output_type": "stream",
     "text": [
      "15625\n"
     ]
    }
   ],
   "source": [
    "# Solve a Power Recursively\n",
    "\n",
    "\n",
    "def find_power(power_this, by_me):\n",
    "    if by_me == 0:\n",
    "        return 1\n",
    "    elif by_me == 1:\n",
    "        return power_this\n",
    "    else:\n",
    "        return power_this * find_power(power_this, by_me - 1)\n",
    "    \n",
    "print(find_power(5, 6))\n",
    "    "
   ]
  },
  {
   "cell_type": "code",
   "execution_count": 61,
   "metadata": {},
   "outputs": [
    {
     "name": "stdout",
     "output_type": "stream",
     "text": [
      "Enter the number: 3\n",
      "Enter the exponent: 2\n",
      "Result: 9\n"
     ]
    }
   ],
   "source": [
    "def find_power(power_this, by_me):\n",
    "    if not by_me:\n",
    "        return 1\n",
    "    elif by_me == 1:\n",
    "        return power_this\n",
    "    else:\n",
    "        return power_this * find_power(power_this, by_me-1)\n",
    "    \n",
    "base = int(input('Enter the number: '))\n",
    "exp = int(input('Enter the exponent: '))\n",
    "\n",
    "print('Result:', find_power(base, exp))"
   ]
  },
  {
   "cell_type": "code",
   "execution_count": 96,
   "metadata": {},
   "outputs": [
    {
     "name": "stdout",
     "output_type": "stream",
     "text": [
      "5\n"
     ]
    }
   ],
   "source": [
    "# Find the Greatest Common Divisor\n",
    "\n",
    "def the_gcd(num1, num2):\n",
    "    \n",
    "    if num2 == 0:\n",
    "        return num1\n",
    "    else:\n",
    "        return gcd(num2, num1 % num2)\n",
    "\n",
    "print(gcd(15, 5))"
   ]
  },
  {
   "cell_type": "code",
   "execution_count": 90,
   "metadata": {},
   "outputs": [
    {
     "name": "stdout",
     "output_type": "stream",
     "text": [
      "3\n"
     ]
    }
   ],
   "source": [
    "import math\n",
    "\n",
    "num1 = 15\n",
    "num2 = 9\n",
    "\n",
    "print(math.gcd(num1, num2))"
   ]
  },
  {
   "cell_type": "code",
   "execution_count": 92,
   "metadata": {},
   "outputs": [
    {
     "data": {
      "text/plain": [
       "3"
      ]
     },
     "execution_count": 92,
     "metadata": {},
     "output_type": "execute_result"
    }
   ],
   "source": [
    "3 % 12"
   ]
  },
  {
   "cell_type": "code",
   "execution_count": 116,
   "metadata": {},
   "outputs": [
    {
     "data": {
      "text/plain": [
       "True"
      ]
     },
     "execution_count": 116,
     "metadata": {},
     "output_type": "execute_result"
    }
   ],
   "source": [
    "# Check if a String is a Palindrome\n",
    "\n",
    "def is_palindrome(the_string):\n",
    "    the_string = the_string.lower()\n",
    "    \n",
    "    if len(the_string) <= 1:\n",
    "        return True\n",
    "    elif the_string[0] != the_string[-1]:\n",
    "        return False\n",
    "    else:\n",
    "        return is_palindrome(the_string[1:-1])\n",
    "    \n",
    "\n",
    "is_palindrome('eye')"
   ]
  },
  {
   "cell_type": "code",
   "execution_count": 120,
   "metadata": {},
   "outputs": [
    {
     "data": {
      "text/plain": [
       "True"
      ]
     },
     "execution_count": 120,
     "metadata": {},
     "output_type": "execute_result"
    }
   ],
   "source": [
    "def is_palindrome(the_string):\n",
    "    \n",
    "    if len(the_string) <= 1:\n",
    "        return True\n",
    "    \n",
    "    else:\n",
    "        if the_string[0] == the_string[-1]:\n",
    "            return is_palindrome(the_string[1:-1])\n",
    "        else:\n",
    "            return False\n",
    "        \n",
    "is_palindrome('eye')\n",
    "    "
   ]
  },
  {
   "cell_type": "code",
   "execution_count": 2,
   "metadata": {},
   "outputs": [
    {
     "data": {
      "text/plain": [
       "4"
      ]
     },
     "execution_count": 2,
     "metadata": {},
     "output_type": "execute_result"
    }
   ],
   "source": [
    "# Count Vowels in a String\n",
    "\n",
    "def vowel_count(the_string):\n",
    "    \n",
    "    the_vowels = ['a', 'e', 'i', 'o', 'u']\n",
    "    \n",
    "    if len(the_string) == 0 :\n",
    "        return 0\n",
    "    elif the_string[0] in the_vowels:\n",
    "        return 1 + vowel_count(the_string[1:])\n",
    "    else:\n",
    "        return vowel_count(the_string[1:])  \n",
    "                         \n",
    "        \n",
    "vowel_count('arnetrice')"
   ]
  },
  {
   "cell_type": "code",
   "execution_count": 1,
   "metadata": {},
   "outputs": [
    {
     "data": {
      "text/plain": [
       "4"
      ]
     },
     "execution_count": 1,
     "metadata": {},
     "output_type": "execute_result"
    }
   ],
   "source": [
    "def vowel_count(the_string):\n",
    "    \n",
    "    if not the_string:\n",
    "        return 0\n",
    "    elif the_string[0] in ('a', 'e', 'i', 'o', 'u'):\n",
    "        return 1 + vowel_count(the_string[1:])\n",
    "    else:\n",
    "        return vowel_count(the_string[1:])  \n",
    "                         \n",
    "        \n",
    "vowel_count('arnetrice')"
   ]
  },
  {
   "cell_type": "code",
   "execution_count": 5,
   "metadata": {},
   "outputs": [
    {
     "name": "stdout",
     "output_type": "stream",
     "text": [
      "******\n",
      "*****\n",
      "****\n",
      "***\n",
      "**\n",
      "*\n"
     ]
    }
   ],
   "source": [
    "# Print a Pattern using Recursion\n",
    "\n",
    "def print_asterisks(num_rows):\n",
    "    \n",
    "    if not num_rows:\n",
    "        return\n",
    "    else:\n",
    "        print('*' * num_rows)\n",
    "        print_asterisks(num_rows-1)\n",
    "        \n",
    "print_asterisks(6)"
   ]
  },
  {
   "cell_type": "code",
   "execution_count": 6,
   "metadata": {},
   "outputs": [
    {
     "name": "stdout",
     "output_type": "stream",
     "text": [
      "******\n",
      "*****\n",
      "****\n",
      "***\n",
      "**\n",
      "*\n"
     ]
    }
   ],
   "source": [
    "def print_asterisks(num_rows):\n",
    "    \n",
    "    if num_rows == 1:\n",
    "        print(\"*\")\n",
    "    else:\n",
    "        print('*' * num_rows)\n",
    "        print_asterisks(num_rows-1)\n",
    "        \n",
    "print_asterisks(6)"
   ]
  },
  {
   "cell_type": "code",
   "execution_count": 9,
   "metadata": {},
   "outputs": [
    {
     "data": {
      "text/plain": [
       "'1101'"
      ]
     },
     "execution_count": 9,
     "metadata": {},
     "output_type": "execute_result"
    }
   ],
   "source": [
    " # Convert from Decimal to Binary with Recursion (*)\n",
    "    \n",
    "def decimal_to_binary(the_decimal):\n",
    "    if the_decimal == 0:\n",
    "        return '0'\n",
    "    else:\n",
    "        return(decimal_to_binary(the_decimal // 2) + str(the_decimal % 2)).lstrip('0')\n",
    "    \n",
    "decimal_to_binary(13)"
   ]
  },
  {
   "cell_type": "code",
   "execution_count": 11,
   "metadata": {},
   "outputs": [
    {
     "name": "stdout",
     "output_type": "stream",
     "text": [
      "0b1101\n"
     ]
    }
   ],
   "source": [
    "def decimal_to_binary(the_decimal):\n",
    "    if the_decimal == 0:\n",
    "        return str(the_decimal)\n",
    "    else:\n",
    "        return(decimal_to_binary(the_decimal // 2) + str(the_decimal % 2)).lstrip('0')\n",
    "    \n",
    "decimal_to_binary(13)\n",
    "print(bin(13)) #sanity check"
   ]
  },
  {
   "cell_type": "code",
   "execution_count": 15,
   "metadata": {},
   "outputs": [
    {
     "name": "stdout",
     "output_type": "stream",
     "text": [
      "7\n"
     ]
    }
   ],
   "source": [
    "# Implement Binary Search Recursively (*)\n",
    "def binary_search(seq, low, high, elem):\n",
    "\tif low > high:\n",
    "\t\treturn -1\n",
    "\telse:\n",
    "\t\tmiddle = (low + high)//2\n",
    "\n",
    "\t\tif elem == seq[middle]:\n",
    "\t\t\treturn middle\n",
    "\t\telif elem < seq[middle]:\n",
    "\t\t\treturn binary_search(seq, low, middle-1, elem)\n",
    "\t\telse:\n",
    "\t\t\treturn binary_search(seq, middle+1, high, elem)\n",
    "        \n",
    "the_list = [1, 2, 3, 4, 5, 6, 7, 8, 9, 10]\n",
    "\n",
    "print(binary_search(the_list, 0, len(the_list), 8))"
   ]
  },
  {
   "cell_type": "code",
   "execution_count": null,
   "metadata": {},
   "outputs": [],
   "source": []
  }
 ],
 "metadata": {
  "kernelspec": {
   "display_name": "Python 3",
   "language": "python",
   "name": "python3"
  },
  "language_info": {
   "codemirror_mode": {
    "name": "ipython",
    "version": 3
   },
   "file_extension": ".py",
   "mimetype": "text/x-python",
   "name": "python",
   "nbconvert_exporter": "python",
   "pygments_lexer": "ipython3",
   "version": "3.8.3"
  }
 },
 "nbformat": 4,
 "nbformat_minor": 4
}
