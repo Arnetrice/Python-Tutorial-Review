{
 "cells": [
  {
   "cell_type": "markdown",
   "id": "de666638",
   "metadata": {},
   "source": [
    " # **Recursive Factorial**"
   ]
  },
  {
   "cell_type": "markdown",
   "id": "b1b377e4",
   "metadata": {},
   "source": [
    "### Standard Approach:"
   ]
  },
  {
   "cell_type": "code",
   "execution_count": null,
   "id": "24184929",
   "metadata": {},
   "outputs": [],
   "source": [
    "def the_fact(f):\n",
    "    if f == 0 or f == 1:  # Base case: factorial of 0 or 1 is 1\n",
    "        return 1\n",
    "    else:\n",
    "        return f * the_fact(f - 1)  # Recursive case: f multiplied by factorial of (f - 1)\n",
    "\n",
    "print(the_fact(5))  # Example: 5! = 5 × 4 × 3 × 2 × 1"
   ]
  },
  {
   "cell_type": "markdown",
   "id": "a9865f88",
   "metadata": {},
   "source": [
    "Note: This approach defines a recursive function that calculates the factorial of a given number using the standard base case and recursive case."
   ]
  },
  {
   "cell_type": "markdown",
   "id": "017aff0b",
   "metadata": {},
   "source": [
    "### Optimized Solution:"
   ]
  },
  {
   "cell_type": "code",
   "execution_count": null,
   "id": "496e1d1c",
   "metadata": {},
   "outputs": [],
   "source": [
    "def the_fact(f):\n",
    "    if not f or f == 1:  # Base case: factorial of 0 or 1 is 1\n",
    "        return 1\n",
    "    else:\n",
    "        return f * the_fact(f - 1)  # Recursive case: f multiplied by factorial of (f - 1)\n",
    "\n",
    "print(the_fact(5))  # Example: 5! = 5 × 4 × 3 × 2 × 1"
   ]
  },
  {
   "cell_type": "markdown",
   "id": "f2901c30",
   "metadata": {},
   "source": [
    "Note: This solution uses a concise base case check (not f or f == 1) for readability."
   ]
  },
  {
   "cell_type": "markdown",
   "id": "46c2e449",
   "metadata": {},
   "source": [
    "### Additional Practice:\n",
    "See For Loops - Practice Exercises & Challenges: Recursive Factorial"
   ]
  }
 ],
 "metadata": {
  "kernelspec": {
   "display_name": "Python 3 (ipykernel)",
   "language": "python",
   "name": "python3"
  },
  "language_info": {
   "codemirror_mode": {
    "name": "ipython",
    "version": 3
   },
   "file_extension": ".py",
   "mimetype": "text/x-python",
   "name": "python",
   "nbconvert_exporter": "python",
   "pygments_lexer": "ipython3",
   "version": "3.11.4"
  }
 },
 "nbformat": 4,
 "nbformat_minor": 5
}
