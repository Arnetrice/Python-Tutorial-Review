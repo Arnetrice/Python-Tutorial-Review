{
 "cells": [
  {
   "cell_type": "markdown",
   "id": "de666638",
   "metadata": {},
   "source": [
    " # **Find the Sum of a List**"
   ]
  },
  {
   "cell_type": "markdown",
   "id": "b1b377e4",
   "metadata": {},
   "source": [
    "### Standard Approach:"
   ]
  },
  {
   "cell_type": "code",
   "execution_count": null,
   "id": "24184929",
   "metadata": {},
   "outputs": [],
   "source": [
    "the_list = [4, 5, 6]\n",
    "\n",
    "def sum_of_list(sum_this):\n",
    "    if len(sum_this) == 0:  # Base case: Empty list returns 0\n",
    "        return 0\n",
    "    else:\n",
    "        return sum_this[0] + sum_of_list(sum_this[1:])  # Recursive case: Add first element to sum of the rest\n",
    "\n",
    "print(sum_of_list(the_list))  # Output: 15"
   ]
  },
  {
   "cell_type": "markdown",
   "id": "a9865f88",
   "metadata": {},
   "source": [
    "Note: This approach defines a recursive function to compute the sum of a list by adding the first element and recursively summing the rest."
   ]
  },
  {
   "cell_type": "markdown",
   "id": "017aff0b",
   "metadata": {},
   "source": [
    "### Optimized Solution:"
   ]
  },
  {
   "cell_type": "code",
   "execution_count": null,
   "id": "496e1d1c",
   "metadata": {},
   "outputs": [],
   "source": [
    "the_list = [4, 5, 6]\n",
    "\n",
    "def sum_of_list(sum_this):\n",
    "    if not sum_this:  # Base case: Empty list returns 0\n",
    "        return 0\n",
    "    else:\n",
    "        return sum_this[0] + sum_of_list(sum_this[1:])  # Recursive case: Add first element to sum of the rest\n",
    "\n",
    "print(sum_of_list(the_list))  # Output: 15"
   ]
  },
  {
   "cell_type": "markdown",
   "id": "f2901c30",
   "metadata": {},
   "source": [
    "Note: This solution uses a concise base case check (if not sum_this) for readability while maintaining the same recursive logic."
   ]
  },
  {
   "cell_type": "markdown",
   "id": "46c2e449",
   "metadata": {},
   "source": [
    "### Additional Practice:\n",
    "See For Loops - Practice Exercises & Challenges: Find the Sum of a List"
   ]
  }
 ],
 "metadata": {
  "kernelspec": {
   "display_name": "Python 3 (ipykernel)",
   "language": "python",
   "name": "python3"
  },
  "language_info": {
   "codemirror_mode": {
    "name": "ipython",
    "version": 3
   },
   "file_extension": ".py",
   "mimetype": "text/x-python",
   "name": "python",
   "nbconvert_exporter": "python",
   "pygments_lexer": "ipython3",
   "version": "3.11.4"
  }
 },
 "nbformat": 4,
 "nbformat_minor": 5
}
