{
 "cells": [
  {
   "cell_type": "markdown",
   "id": "de666638",
   "metadata": {},
   "source": [
    " # **Convert from Decimal to Binary**"
   ]
  },
  {
   "cell_type": "markdown",
   "id": "b1b377e4",
   "metadata": {},
   "source": [
    "### Standard Approach:"
   ]
  },
  {
   "cell_type": "code",
   "execution_count": null,
   "id": "24184929",
   "metadata": {},
   "outputs": [],
   "source": [
    "def decimal_to_binary(the_decimal):\n",
    "    if the_decimal == 0:  # Base case: number is 0\n",
    "        return str(the_decimal)\n",
    "    else:\n",
    "        return (decimal_to_binary(the_decimal // 2) + str(the_decimal % 2)).lstrip('0')  # Recursive case: binary representation\n",
    "\n",
    "# Test the function\n",
    "print(decimal_to_binary(13))  # Output: 1101"
   ]
  },
  {
   "cell_type": "markdown",
   "id": "a9865f88",
   "metadata": {},
   "source": [
    "Note: This approach defines a recursive function to compute the binary representation of a decimal number by repeatedly dividing the number by 2 and collecting the remainders."
   ]
  },
  {
   "cell_type": "markdown",
   "id": "017aff0b",
   "metadata": {},
   "source": [
    "### Optimized Solution:"
   ]
  },
  {
   "cell_type": "code",
   "execution_count": null,
   "id": "496e1d1c",
   "metadata": {},
   "outputs": [],
   "source": [
    "def decimal_to_binary(the_decimal):\n",
    "    if the_decimal == 0:  # Base case: number is 0\n",
    "        return '0'\n",
    "    else:\n",
    "        return (decimal_to_binary(the_decimal // 2) + str(the_decimal % 2)).lstrip('0')  # Recursive case: binary representation\n",
    "\n",
    "# Test the function\n",
    "print(decimal_to_binary(13))  # Output: 1101\n",
    "print(bin(13)[2:])  # Verification: 1101"
   ]
  },
  {
   "cell_type": "markdown",
   "id": "f2901c30",
   "metadata": {},
   "source": [
    "Note: This solution simplifies the base case to directly return '0' for the number 0, and includes a verification step using Python’s built-in bin() function."
   ]
  },
  {
   "cell_type": "markdown",
   "id": "46c2e449",
   "metadata": {},
   "source": [
    "### Additional Practice:\n",
    "See For Loops - Practice Exercises & Challenges: Convert from Decimal to Binary"
   ]
  }
 ],
 "metadata": {
  "kernelspec": {
   "display_name": "Python 3 (ipykernel)",
   "language": "python",
   "name": "python3"
  },
  "language_info": {
   "codemirror_mode": {
    "name": "ipython",
    "version": 3
   },
   "file_extension": ".py",
   "mimetype": "text/x-python",
   "name": "python",
   "nbconvert_exporter": "python",
   "pygments_lexer": "ipython3",
   "version": "3.11.4"
  }
 },
 "nbformat": 4,
 "nbformat_minor": 5
}
