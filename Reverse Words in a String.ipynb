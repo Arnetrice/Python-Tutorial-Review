{
 "cells": [
  {
   "cell_type": "markdown",
   "id": "de666638",
   "metadata": {},
   "source": [
    " # **Reverse Words in a String**"
   ]
  },
  {
   "cell_type": "markdown",
   "id": "b1b377e4",
   "metadata": {},
   "source": [
    "### Standard Approach:"
   ]
  },
  {
   "cell_type": "code",
   "execution_count": null,
   "id": "24184929",
   "metadata": {},
   "outputs": [],
   "source": [
    "word = 'Love is Good'\n",
    "\n",
    "new_word = ''\n",
    "\n",
    "# Step 1: Change the case of each character\n",
    "for i in word:\n",
    "    if i.islower():\n",
    "        new_word += i.upper()  # Convert lowercase to uppercase\n",
    "    else:\n",
    "        new_word += i.lower()  # Convert uppercase to lowercase\n",
    "\n",
    "# Step 2: Reverse the entire string\n",
    "new_word = new_word[::-1]\n",
    "\n",
    "# Step 3: Reverse the order of words\n",
    "word_array = new_word.split(' ')\n",
    "print(\" \".join(word_array[::-1]))\n"
   ]
  },
  {
   "cell_type": "markdown",
   "id": "a9865f88",
   "metadata": {},
   "source": [
    "Note: This approach iterates through the string to change the case of each letter, reverses the entire string, and finally reverses the order of words."
   ]
  },
  {
   "cell_type": "markdown",
   "id": "017aff0b",
   "metadata": {},
   "source": [
    "### Optimized Solution:"
   ]
  },
  {
   "cell_type": "code",
   "execution_count": null,
   "id": "496e1d1c",
   "metadata": {},
   "outputs": [],
   "source": [
    "word = 'Love is Good'\n",
    "\n",
    "# Step 1: Split the string into words\n",
    "word_array = word.split(' ')\n",
    "\n",
    "new_word = ''\n",
    "\n",
    "# Step 2: Reverse each word and change case\n",
    "for word in word_array:\n",
    "    rev_word = \"\".join(reversed(word))  # Reverse the characters in the word\n",
    "    change_case = rev_word.swapcase()  # Swap the case of each character\n",
    "    new_word += change_case + \" \"\n",
    "\n",
    "# Step 3: Remove the trailing space and print the result\n",
    "print(new_word.rstrip())\n"
   ]
  },
  {
   "cell_type": "markdown",
   "id": "f2901c30",
   "metadata": {},
   "source": [
    "Note: This solution uses `reversed()` and `swapcase()` to reverse and change the case of each word directly, building the new string efficiently."
   ]
  },
  {
   "cell_type": "markdown",
   "id": "46c2e449",
   "metadata": {},
   "source": [
    "### Additional Practice:\n",
    "See Practice Exercise: Reverse Words in a String\n"
   ]
  }
 ],
 "metadata": {
  "kernelspec": {
   "display_name": "Python 3 (ipykernel)",
   "language": "python",
   "name": "python3"
  },
  "language_info": {
   "codemirror_mode": {
    "name": "ipython",
    "version": 3
   },
   "file_extension": ".py",
   "mimetype": "text/x-python",
   "name": "python",
   "nbconvert_exporter": "python",
   "pygments_lexer": "ipython3",
   "version": "3.11.4"
  }
 },
 "nbformat": 4,
 "nbformat_minor": 5
}
