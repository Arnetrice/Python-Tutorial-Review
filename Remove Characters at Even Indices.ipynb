{
 "cells": [
  {
   "cell_type": "markdown",
   "id": "de666638",
   "metadata": {},
   "source": [
    " # **Remove Characters at Even Indices**"
   ]
  },
  {
   "cell_type": "markdown",
   "id": "b1b377e4",
   "metadata": {},
   "source": [
    "### Standard Approach:"
   ]
  },
  {
   "cell_type": "code",
   "execution_count": null,
   "id": "24184929",
   "metadata": {},
   "outputs": [],
   "source": [
    "word = 'Python Rocks!'\n",
    "new_word = \"\"\n",
    "\n",
    "# Check if the string length is 1 or less\n",
    "if len(word) <= 1:\n",
    "    print(word)  # Return the original string\n",
    "else:\n",
    "    # Iterate through each character in the string\n",
    "    for i in range(len(word)):\n",
    "        # Add characters at odd indices to the new string\n",
    "        if i % 2 != 0:  # Check if the index is odd\n",
    "            new_word += word[i]\n",
    "    print(new_word)\n"
   ]
  },
  {
   "cell_type": "markdown",
   "id": "a9865f88",
   "metadata": {},
   "source": [
    "Note: This approach iterates through the string and adds characters at odd indices to a new string, effectively removing characters at even indices."
   ]
  },
  {
   "cell_type": "markdown",
   "id": "017aff0b",
   "metadata": {},
   "source": [
    "### Optimized Solution:"
   ]
  },
  {
   "cell_type": "code",
   "execution_count": null,
   "id": "496e1d1c",
   "metadata": {},
   "outputs": [],
   "source": [
    "word = 'Python Rocks!'\n",
    "\n",
    "# Use slicing to capture characters at odd indices\n",
    "new_word = word[1::2]\n",
    "\n",
    "print(new_word)\n"
   ]
  },
  {
   "cell_type": "markdown",
   "id": "f2901c30",
   "metadata": {},
   "source": [
    "Note: This solution uses Python's slicing to capture only characters at odd indices, making the process more concise and efficient."
   ]
  },
  {
   "cell_type": "markdown",
   "id": "46c2e449",
   "metadata": {},
   "source": [
    "### Additional Practice:\n",
    "See Practice Exercise: Remove Characters at Even Indices"
   ]
  }
 ],
 "metadata": {
  "kernelspec": {
   "display_name": "Python 3 (ipykernel)",
   "language": "python",
   "name": "python3"
  },
  "language_info": {
   "codemirror_mode": {
    "name": "ipython",
    "version": 3
   },
   "file_extension": ".py",
   "mimetype": "text/x-python",
   "name": "python",
   "nbconvert_exporter": "python",
   "pygments_lexer": "ipython3",
   "version": "3.11.4"
  }
 },
 "nbformat": 4,
 "nbformat_minor": 5
}
