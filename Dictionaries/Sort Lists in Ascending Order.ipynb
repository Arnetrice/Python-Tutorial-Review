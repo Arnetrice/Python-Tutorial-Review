{
 "cells": [
  {
   "cell_type": "markdown",
   "id": "de666638",
   "metadata": {},
   "source": [
    " # **Sort Lists in Ascending Order**"
   ]
  },
  {
   "cell_type": "markdown",
   "id": "b1b377e4",
   "metadata": {},
   "source": [
    "### Standard Approach:"
   ]
  },
  {
   "cell_type": "code",
   "execution_count": null,
   "id": "24184929",
   "metadata": {},
   "outputs": [],
   "source": [
    "# Initialize the dictionary\n",
    "the_dict = {\n",
    "    'a': [4, 3, 2],\n",
    "    'b': [5, 3, 7],\n",
    "    'c': [1, 9, 10],\n",
    "    'd': [3, 4, 1]\n",
    "}\n",
    "\n",
    "# Sort each list in place\n",
    "for the_list in the_dict.values():\n",
    "    the_list.sort()\n",
    "\n",
    "# Print the modified dictionary\n",
    "print(the_dict)"
   ]
  },
  {
   "cell_type": "markdown",
   "id": "a9865f88",
   "metadata": {},
   "source": [
    "Note: This approach iterates over the dictionary values and sorts each list in place using the sort() method."
   ]
  },
  {
   "cell_type": "markdown",
   "id": "017aff0b",
   "metadata": {},
   "source": [
    "### Optimized Solution:"
   ]
  },
  {
   "cell_type": "code",
   "execution_count": null,
   "id": "496e1d1c",
   "metadata": {},
   "outputs": [],
   "source": [
    "# Initialize the dictionary\n",
    "the_dict = {\n",
    "    'a': [4, 3, 2],\n",
    "    'b': [5, 3, 7],\n",
    "    'c': [1, 9, 10],\n",
    "    'd': [3, 4, 1]\n",
    "}\n",
    "\n",
    "# Create a new dictionary with sorted lists\n",
    "the_new_dict = {key: sorted(val) for key, val in the_dict.items()}\n",
    "\n",
    "# Print the new dictionary\n",
    "print(the_new_dict)"
   ]
  },
  {
   "cell_type": "markdown",
   "id": "f2901c30",
   "metadata": {},
   "source": [
    "Note: This solution creates a new dictionary with sorted lists using a dictionary comprehension and the sorted() function."
   ]
  },
  {
   "cell_type": "markdown",
   "id": "46c2e449",
   "metadata": {},
   "source": [
    "### Additional Practice:\n",
    "See For Loops - Practice Exercises & Challenges: Sort Lists in Ascending Order"
   ]
  }
 ],
 "metadata": {
  "kernelspec": {
   "display_name": "Python 3 (ipykernel)",
   "language": "python",
   "name": "python3"
  },
  "language_info": {
   "codemirror_mode": {
    "name": "ipython",
    "version": 3
   },
   "file_extension": ".py",
   "mimetype": "text/x-python",
   "name": "python",
   "nbconvert_exporter": "python",
   "pygments_lexer": "ipython3",
   "version": "3.11.4"
  }
 },
 "nbformat": 4,
 "nbformat_minor": 5
}
