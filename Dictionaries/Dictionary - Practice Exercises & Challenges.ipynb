{
 "cells": [
  {
   "cell_type": "markdown",
   "id": "1a54ccbf",
   "metadata": {},
   "source": [
    "# Practice Exercises & Challenges - Dictionary"
   ]
  },
  {
   "cell_type": "markdown",
   "id": "356d2478",
   "metadata": {},
   "source": [
    "### 1. Practice Exercise: Check if a Key Exists in a Dictionary"
   ]
  },
  {
   "cell_type": "markdown",
   "id": "4778e73c",
   "metadata": {},
   "source": [
    "1.1. What is the output when checking for a key in an empty dictionary?"
   ]
  },
  {
   "cell_type": "code",
   "execution_count": null,
   "id": "b8face61",
   "metadata": {},
   "outputs": [],
   "source": [
    "# No coding required to answer this question"
   ]
  },
  {
   "cell_type": "markdown",
   "id": "81c2a243",
   "metadata": {},
   "source": [
    "1.2. How does Python handle membership tests for non-string keys like integers or None?"
   ]
  },
  {
   "cell_type": "code",
   "execution_count": null,
   "id": "2d89c8db",
   "metadata": {},
   "outputs": [],
   "source": [
    "# No coding required to answer this question"
   ]
  },
  {
   "cell_type": "markdown",
   "id": "ae2348ed",
   "metadata": {},
   "source": [
    "1.3. Does the in operator check for values in the dictionary or just the keys?"
   ]
  },
  {
   "cell_type": "code",
   "execution_count": null,
   "id": "243bfd88",
   "metadata": {},
   "outputs": [],
   "source": [
    "# No coding required to answer this question"
   ]
  },
  {
   "cell_type": "markdown",
   "id": "0b5a4c36",
   "metadata": {},
   "source": [
    "1.4. How would the program behave if a key exists but its value is None?"
   ]
  },
  {
   "cell_type": "code",
   "execution_count": null,
   "id": "990f0c97",
   "metadata": {},
   "outputs": [],
   "source": [
    "# No coding required to answer this question"
   ]
  },
  {
   "cell_type": "markdown",
   "id": "2cb8dc3d",
   "metadata": {},
   "source": [
    "1.5. How can you check if at least one key from a list of keys exists in a dictionary? For example, given the dictionary {'x': 1, 'y': 2, 'z': 3} and the keys ['a', 'y', 'm'], what is the output?"
   ]
  },
  {
   "cell_type": "code",
   "execution_count": null,
   "id": "8de5b3c0",
   "metadata": {},
   "outputs": [],
   "source": [
    "the_dict = # replace this with your code\n",
    "keys_to_check = # replace this with your code\n",
    "\n",
    "# Using any()\n",
    "result = any(key in the_dict for key in # replace this with your code)\n",
    "print(result)"
   ]
  },
  {
   "cell_type": "markdown",
   "id": "4a7d2670",
   "metadata": {},
   "source": [
    "### 2. Practice Exercise: Add a Key-Value Pair Only if the Key is Not in the Dictionary"
   ]
  },
  {
   "cell_type": "markdown",
   "id": "117d787b",
   "metadata": {},
   "source": [
    "2.1. Add a key-value pair ('June', 30) to the dictionary {'April': 25, 'May': 28} only if the key 'June' is not already present."
   ]
  },
  {
   "cell_type": "code",
   "execution_count": null,
   "id": "bddbbea7",
   "metadata": {},
   "outputs": [],
   "source": [
    "the_dict = {'April': 25, 'May': 28}\n",
    "new_key = # replace this with your code\n",
    "new_value = # replace this with your code\n",
    "\n",
    "# replace this with your code:\n",
    "    the_dict[new_key] = new_value\n",
    "\n",
    "print(the_dict)"
   ]
  },
  {
   "cell_type": "markdown",
   "id": "4f4ec830",
   "metadata": {},
   "source": [
    "2.2. Add a key-value pair (May, 100) to an empty dictionary and print the result. What happens if the key already exists?"
   ]
  },
  {
   "cell_type": "code",
   "execution_count": null,
   "id": "8bbded0c",
   "metadata": {},
   "outputs": [],
   "source": [
    "the_dict = {}\n",
    "new_key = # replace this with your code\n",
    "new_value = # replace this with your code\n",
    "\n",
    "if new_key not in the_dict:\n",
    "    the_dict[new_key] = new_value\n",
    "\n",
    "print(the_dict)\n",
    "\n",
    "# Attempt to add the same key again\n",
    "# replace this with your code:\n",
    "    the_dict[new_key] = 200  \n",
    "\n",
    "print(the_dict)"
   ]
  },
  {
   "cell_type": "markdown",
   "id": "c3a0b0c3",
   "metadata": {},
   "source": [
    "2.3. Write a program to add the key-value pair (100, 'century') to the dictionary {50: 'half-century', 75: 'three-quarters'}."
   ]
  },
  {
   "cell_type": "code",
   "execution_count": null,
   "id": "960706bf",
   "metadata": {},
   "outputs": [],
   "source": [
    "the_dict = # replace this with your code\n",
    "new_key = # replace this with your code\n",
    "new_value = # replace this with your code\n",
    "\n",
    "# replace this with your code:\n",
    "    the_dict[new_key] = # replace this with your code\n",
    "\n",
    "print(the_dict)"
   ]
  },
  {
   "cell_type": "markdown",
   "id": "965041bc",
   "metadata": {},
   "source": [
    "2.4. Given {'outer': {'inner': 42}}, add the key 'another' with the value 99 at the top level."
   ]
  },
  {
   "cell_type": "code",
   "execution_count": null,
   "id": "0d1d8d65",
   "metadata": {},
   "outputs": [],
   "source": [
    "the_dict = # replace this with your code\n",
    "# replace this with your code = 'another'\n",
    "# replace this with your code = 99\n",
    "\n",
    "if new_key not in the_dict:\n",
    "    # replace this with your code\n",
    "\n",
    "print(the_dict)"
   ]
  },
  {
   "cell_type": "markdown",
   "id": "698fbad2",
   "metadata": {},
   "source": [
    "2.5. Modify the code to update the value of the key if it already exists in the dictionary. For example, if the key 'April' exists, update its value to 100. If not, add the key-value pair."
   ]
  },
  {
   "cell_type": "code",
   "execution_count": null,
   "id": "b616d53e",
   "metadata": {},
   "outputs": [],
   "source": [
    "the_dict = {'January': 45, 'February': 56, 'March': 67}\n",
    "new_key = # replace this with your code\n",
    "new_value = # replace this with your code\n",
    "\n",
    "# Add or update key-value pair\n",
    "# replace this with your code:\n",
    "    # replace this with your code \n",
    "else:\n",
    "    the_dict[new_key] = new_value  \n",
    "\n",
    "print(the_dict)"
   ]
  },
  {
   "cell_type": "markdown",
   "id": "76d70660",
   "metadata": {},
   "source": [
    "### 3. Practice Exercise: Merge Two Dictionaries"
   ]
  },
  {
   "cell_type": "markdown",
   "id": "613651f2",
   "metadata": {},
   "source": [
    "3.1. Merge {'x': 1} and {'y': 2}. What is the resulting dictionary?"
   ]
  },
  {
   "cell_type": "code",
   "execution_count": null,
   "id": "6df488ae",
   "metadata": {},
   "outputs": [],
   "source": [
    "the_1st_dict = # replace this with your code \n",
    "the_2nd_dict = # replace this with your code \n",
    "the_merged_dict = {**the_1st_dict, **the_2nd_dict}\n",
    "print(# replace this with your code)"
   ]
  },
  {
   "cell_type": "markdown",
   "id": "c5fb03d5",
   "metadata": {},
   "source": [
    "3.2. Merge {'a': 1, 'b': 2} with {'b': 3, 'c': 4}. What happens to the value of key 'b'?"
   ]
  },
  {
   "cell_type": "code",
   "execution_count": null,
   "id": "adb6d53e",
   "metadata": {},
   "outputs": [],
   "source": [
    "the_1st_dict = # replace this with your code\n",
    "# replace this with your code\n",
    "the_merged_dict = {**the_1st_dict, **the_2nd_dict}\n",
    "print(# replace this with your code)"
   ]
  },
  {
   "cell_type": "markdown",
   "id": "2016803c",
   "metadata": {},
   "source": [
    "3.3. What is the result when merging {'key': 'value'} with an empty dictionary?"
   ]
  },
  {
   "cell_type": "code",
   "execution_count": null,
   "id": "d1f31c7f",
   "metadata": {},
   "outputs": [],
   "source": [
    "the_1st_dict = {'key': 'value'}\n",
    "the_2nd_dict = # replace this with your code\n",
    "# replace this with your code\n",
    "print(the_merged_dict)"
   ]
  },
  {
   "cell_type": "markdown",
   "id": "18d40240",
   "metadata": {},
   "source": [
    "3.4. How does Python handle merging {'outer': {'a': 1}} with {'outer': {'b': 2}}? Is the result a deep merge?"
   ]
  },
  {
   "cell_type": "code",
   "execution_count": null,
   "id": "c868fb2b",
   "metadata": {},
   "outputs": [],
   "source": [
    "# replace this with your code\n",
    "# replace this with your code\n",
    "the_merged_dict = {**the_1st_dict, **the_2nd_dict}\n",
    "print(the_merged_dict)"
   ]
  },
  {
   "cell_type": "markdown",
   "id": "5f7434e7",
   "metadata": {},
   "source": [
    "3.5. Merge {'a': 1, 'c': 3} with {'b': 2, 'a': 0}. What is the resulting order of keys?"
   ]
  },
  {
   "cell_type": "code",
   "execution_count": null,
   "id": "feba4038",
   "metadata": {},
   "outputs": [],
   "source": [
    "# replace this with your code\n",
    "# replace this with your code\n",
    "the_merged_dict = # replace this with your code\n",
    "print(# replace this with your code)"
   ]
  },
  {
   "cell_type": "markdown",
   "id": "a4c1e9e4",
   "metadata": {},
   "source": [
    "### 4. Practice Exercise: Make a Dictionary from Nested Lists"
   ]
  },
  {
   "cell_type": "markdown",
   "id": "22f7077c",
   "metadata": {},
   "source": [
    "4.1. Convert [['x', 10], ['y', 20]] into a dictionary. What is the output?"
   ]
  },
  {
   "cell_type": "code",
   "execution_count": null,
   "id": "5c4baf51",
   "metadata": {},
   "outputs": [],
   "source": [
    "the_list = [['x', 10], ['y', 20]]\n",
    "the_dict = # replace this with your code\n",
    "print(the_dict)"
   ]
  },
  {
   "cell_type": "markdown",
   "id": "e923f237",
   "metadata": {},
   "source": [
    "4.2. How does Python handle duplicate keys when converting [['key', 1], ['key', 2]] into a dictionary?"
   ]
  },
  {
   "cell_type": "code",
   "execution_count": null,
   "id": "cb51268a",
   "metadata": {},
   "outputs": [],
   "source": [
    "the_list = # replace this with your code\n",
    "# replace this with your code\n",
    "print(the_dict)"
   ]
  },
  {
   "cell_type": "markdown",
   "id": "07ec3522",
   "metadata": {},
   "source": [
    "4.3. Create a dictionary from [[True, 'yes'], [False, 'no']]. What does the output look like?"
   ]
  },
  {
   "cell_type": "code",
   "execution_count": null,
   "id": "08091933",
   "metadata": {},
   "outputs": [],
   "source": [
    "# replace this with your code\n",
    "the_dict = {key: val for key, val in the_list}\n",
    "print(# replace this with your code)"
   ]
  },
  {
   "cell_type": "markdown",
   "id": "7099e7e7",
   "metadata": {},
   "source": [
    "4.4. Convert [['name', 'Alice'], [42, 'answer'], ['pi', 3.14]] into a dictionary. What is the result?"
   ]
  },
  {
   "cell_type": "code",
   "execution_count": null,
   "id": "3247cbf7",
   "metadata": {},
   "outputs": [],
   "source": [
    "the_list = # replace this with your code\n",
    "the_dict = # replace this with your code\n",
    "print(the_dict)"
   ]
  },
  {
   "cell_type": "markdown",
   "id": "78c8a8e3",
   "metadata": {},
   "source": [
    "4.5. What happens if the nested list contains sublists with fewer than two elements, such as [['a', 1], ['b']]?"
   ]
  },
  {
   "cell_type": "code",
   "execution_count": null,
   "id": "9367f5fc",
   "metadata": {},
   "outputs": [],
   "source": [
    "the_list = # replace this with your code\n",
    "try:\n",
    "    # replace this with your code\n",
    "except ValueError as e:\n",
    "    print(f\"Error: {e}\")"
   ]
  },
  {
   "cell_type": "markdown",
   "id": "13ea6d4a",
   "metadata": {},
   "source": [
    "### 5. Practice Exercise:  Convert Dictionary into a List of Lists"
   ]
  },
  {
   "cell_type": "markdown",
   "id": "21533a29",
   "metadata": {},
   "source": [
    "5.1. Convert {'x': 10, 'y': 20} into a list of lists. What is the resulting structure?"
   ]
  },
  {
   "cell_type": "code",
   "execution_count": null,
   "id": "57c2649f",
   "metadata": {},
   "outputs": [],
   "source": [
    "the_dict = {'x': 10, 'y': 20}\n",
    "the_list =  # replace this with your code\n",
    "print(the_list)"
   ]
  },
  {
   "cell_type": "markdown",
   "id": "0a85a746",
   "metadata": {},
   "source": [
    "5.2. What happens when an empty dictionary is converted into a list of lists?"
   ]
  },
  {
   "cell_type": "code",
   "execution_count": null,
   "id": "820bc26b",
   "metadata": {},
   "outputs": [],
   "source": [
    "the_dict = # replace this with your code\n",
    "the_list = # replace this with your code\n",
    "print(the_list)"
   ]
  },
  {
   "cell_type": "markdown",
   "id": "d75f0d0e",
   "metadata": {},
   "source": [
    "5.3. How does Python handle nested values like lists or dictionaries during the conversion? Test with {'key': {'inner': 'value'}}."
   ]
  },
  {
   "cell_type": "code",
   "execution_count": null,
   "id": "75425793",
   "metadata": {},
   "outputs": [],
   "source": [
    "the_dict = # replace this with your code\n",
    "the_list = # replace this with your code\n",
    "print(# replace this with your code)"
   ]
  },
  {
   "cell_type": "markdown",
   "id": "4ef2634f",
   "metadata": {},
   "source": [
    "5.4. Convert {'name': 'Alice', 'age': 30, 'hobbies': ['reading', 'cycling']} into a list of lists."
   ]
  },
  {
   "cell_type": "code",
   "execution_count": null,
   "id": "81957606",
   "metadata": {},
   "outputs": [],
   "source": [
    "# replace this with your code\n",
    "the_list = # replace this with your code\n",
    "print(the_list)"
   ]
  },
  {
   "cell_type": "markdown",
   "id": "0dd5b67c",
   "metadata": {},
   "source": [
    "5.5. Convert {100: 'century', 200: 'double-century'} into a list of lists. What does the output look like?"
   ]
  },
  {
   "cell_type": "code",
   "execution_count": null,
   "id": "a71a1fe1",
   "metadata": {},
   "outputs": [],
   "source": [
    "# replace this with your code\n",
    "# replace this with your code\n",
    "print(the_list)"
   ]
  },
  {
   "cell_type": "markdown",
   "id": "ba4cf44a",
   "metadata": {},
   "source": [
    "### 6. Practice Exercise: Find the Maximum Value in a Dictionary"
   ]
  },
  {
   "cell_type": "markdown",
   "id": "bce06cd4",
   "metadata": {},
   "source": [
    "6.1. Find the maximum value in the dictionary {'x': 10, 'y': 20, 'z': 5}."
   ]
  },
  {
   "cell_type": "code",
   "execution_count": null,
   "id": "e7ae2257",
   "metadata": {},
   "outputs": [],
   "source": [
    "the_dict = # replace this with your code\n",
    "print(# replace this with your code)"
   ]
  },
  {
   "cell_type": "markdown",
   "id": "1dce4fe9",
   "metadata": {},
   "source": [
    "6.2. What does the program return when finding the maximum value in an empty dictionary?"
   ]
  },
  {
   "cell_type": "code",
   "execution_count": null,
   "id": "3bea87b8",
   "metadata": {},
   "outputs": [],
   "source": [
    "the_dict = {}\n",
    "# replace this with your code:\n",
    "    print(None)\n",
    "else:\n",
    "    print(# replace this with your code)"
   ]
  },
  {
   "cell_type": "markdown",
   "id": "6b99e120",
   "metadata": {},
   "source": [
    "6.3. How does Python handle dictionaries with duplicate maximum values, like {'a': 8, 'b': 8, 'c': 3}?"
   ]
  },
  {
   "cell_type": "code",
   "execution_count": null,
   "id": "6eaa36f2",
   "metadata": {},
   "outputs": [],
   "source": [
    "# replace this with your code\n",
    "print(# replace this with your code)"
   ]
  },
  {
   "cell_type": "markdown",
   "id": "4f8b76ca",
   "metadata": {},
   "source": [
    "6.4. Test with a dictionary containing negative values: {'n1': -4, 'n2': -9, 'n3': -1}. What is the maximum value?"
   ]
  },
  {
   "cell_type": "code",
   "execution_count": null,
   "id": "ba345091",
   "metadata": {},
   "outputs": [],
   "source": [
    "# replace this with your code\n",
    "print# replace this with your code"
   ]
  },
  {
   "cell_type": "markdown",
   "id": "3c57be74",
   "metadata": {},
   "source": [
    "6.5. Write a program to find both the maximum and minimum values in the dictionary {'a': 3, 'b': 5, 'c': 1}. How do these values relate?"
   ]
  },
  {
   "cell_type": "code",
   "execution_count": null,
   "id": "10a76c1e",
   "metadata": {},
   "outputs": [],
   "source": [
    "# replace this with your code\n",
    "max_value = # replace this with your code\n",
    "min_value = # replace this with your code\n",
    "print(f\"Maximum: {max_value}, Minimum: {min_value}\")"
   ]
  },
  {
   "cell_type": "markdown",
   "id": "562f852a",
   "metadata": {},
   "source": [
    "### 7. Practice Exercise: Find the Minimum Value in a Dictionary"
   ]
  },
  {
   "cell_type": "markdown",
   "id": "7680f83f",
   "metadata": {},
   "source": [
    "7.1. Find the minimum value in the dictionary {'x': 10, 'y': 20, 'z': 5}."
   ]
  },
  {
   "cell_type": "code",
   "execution_count": null,
   "id": "1a4f5b8e",
   "metadata": {},
   "outputs": [],
   "source": [
    "the_dict = # replace this with your code\n",
    "print(# replace this with your code)"
   ]
  },
  {
   "cell_type": "markdown",
   "id": "cd046106",
   "metadata": {},
   "source": [
    "7.2. What does the program return when finding the minimum value in an empty dictionary?"
   ]
  },
  {
   "cell_type": "code",
   "execution_count": null,
   "id": "540a8467",
   "metadata": {},
   "outputs": [],
   "source": [
    "the_dict = # replace this with your code\n",
    "# replace this with your code:\n",
    "    print(None)\n",
    "else:\n",
    "    print(min(the_dict.values()))"
   ]
  },
  {
   "cell_type": "markdown",
   "id": "b898a48a",
   "metadata": {},
   "source": [
    "7.3. How does Python handle dictionaries with duplicate minimum values, like {'a': 8, 'b': 3, 'c': 3}?"
   ]
  },
  {
   "cell_type": "code",
   "execution_count": null,
   "id": "c7793b74",
   "metadata": {},
   "outputs": [],
   "source": [
    "# replace this with your code\n",
    "print(# replace this with your code)"
   ]
  },
  {
   "cell_type": "markdown",
   "id": "d572f83c",
   "metadata": {},
   "source": [
    "7.4. Test with a dictionary containing negative values: {'n1': -4, 'n2': -9, 'n3': -1}. What is the minimum value?"
   ]
  },
  {
   "cell_type": "code",
   "execution_count": null,
   "id": "35ab3d6a",
   "metadata": {},
   "outputs": [],
   "source": [
    "# replace this with your code\n",
    "print(# replace this with your code)"
   ]
  },
  {
   "cell_type": "markdown",
   "id": "d33dca9d",
   "metadata": {},
   "source": [
    "7.5. Write a program to find both the minimum and maximum values in the dictionary {'a': 3, 'b': 5, 'c': 1}. How do these values relate?"
   ]
  },
  {
   "cell_type": "code",
   "execution_count": null,
   "id": "301f2584",
   "metadata": {},
   "outputs": [],
   "source": [
    "# replace this with your code\n",
    "min_value = # replace this with your code\n",
    "max_value = # replace this with your code\n",
    "print(f\"Minimum: {min_value}, Maximum: {max_value}\")"
   ]
  },
  {
   "cell_type": "markdown",
   "id": "880b14e6",
   "metadata": {},
   "source": [
    "### 8. Practice Exercise: Find Frequency of Values in a Dictionary"
   ]
  },
  {
   "cell_type": "markdown",
   "id": "014c9ecb",
   "metadata": {},
   "source": [
    "8.1. Count the frequency of values in {'x': 10, 'y': 10, 'z': 20}."
   ]
  },
  {
   "cell_type": "code",
   "execution_count": null,
   "id": "77538830",
   "metadata": {},
   "outputs": [],
   "source": [
    "from collections import Counter\n",
    "\n",
    "# replace this with your code\n",
    "value_count_dict = # replace this with your code\n",
    "print(value_count_dict)"
   ]
  },
  {
   "cell_type": "markdown",
   "id": "6458426f",
   "metadata": {},
   "source": [
    "8.2. What is the output when finding value frequencies in an empty dictionary?"
   ]
  },
  {
   "cell_type": "code",
   "execution_count": null,
   "id": "a7cf85d6",
   "metadata": {},
   "outputs": [],
   "source": [
    "from collections import Counter\n",
    "\n",
    "# replace this with your code\n",
    "value_count_dict = # replace this with your code\n",
    "print(value_count_dict)"
   ]
  },
  {
   "cell_type": "markdown",
   "id": "b995f04f",
   "metadata": {},
   "source": [
    "8.3. Find the frequency of values in {'a': 1, 'b': 2, 'c': 3}. How does the frequency dictionary look?"
   ]
  },
  {
   "cell_type": "code",
   "execution_count": null,
   "id": "86eac684",
   "metadata": {},
   "outputs": [],
   "source": [
    "from collections import Counter\n",
    "\n",
    "# replace this with your code\n",
    "value_count_dict = # replace this with your code\n",
    "print(value_count_dict)"
   ]
  },
  {
   "cell_type": "markdown",
   "id": "066f6ef0",
   "metadata": {},
   "source": [
    "8.4. Count the frequencies of values in {'a': 1, 'b': '1', 'c': 1.0}. What does the result show about Python’s handling of different data types?"
   ]
  },
  {
   "cell_type": "code",
   "execution_count": null,
   "id": "8e76124d",
   "metadata": {},
   "outputs": [],
   "source": [
    "# replace this with your code\n",
    "\n",
    "the_dict = # replace this with your code\n",
    "# replace this with your code\n",
    "print(value_count_dict)"
   ]
  },
  {
   "cell_type": "markdown",
   "id": "941e811f",
   "metadata": {},
   "source": [
    "8.5. Use the result of frequency counting to find the most and least frequent values in {'a': 4, 'b': 4, 'c': 7, 'd': 4, 'e': 2}."
   ]
  },
  {
   "cell_type": "code",
   "execution_count": null,
   "id": "6549ae69",
   "metadata": {},
   "outputs": [],
   "source": [
    "# replace this with your code\n",
    "\n",
    "the_dict = # replace this with your code\n",
    "value_count_dict = # replace this with your code\n",
    "most_frequent = max(value_count_dict, key=value_count_dict.get)\n",
    "least_frequent = # replace this with your code\n",
    "\n",
    "print(f\"Most frequent value: {most_frequent}, Least frequent value: {least_frequent}\")"
   ]
  },
  {
   "cell_type": "markdown",
   "id": "d9838a60",
   "metadata": {},
   "source": [
    "### 9. Practice Exercise: Make a Frequency Dictionary for the Characters in a String "
   ]
  },
  {
   "cell_type": "markdown",
   "id": "2d4546ff",
   "metadata": {},
   "source": [
    "9.1. Create a frequency dictionary for the string \"Python Programming\"."
   ]
  },
  {
   "cell_type": "code",
   "execution_count": null,
   "id": "084e03ff",
   "metadata": {},
   "outputs": [],
   "source": [
    "the_string = # replace this with your code\n",
    "the_dict = # replace this with your code\n",
    "for char in the_string.lower():\n",
    "    if # replace this with your code:\n",
    "        the_dict[char] = the_dict.get(char, 0) + 1\n",
    "print(the_dict)"
   ]
  },
  {
   "cell_type": "markdown",
   "id": "6d916a0c",
   "metadata": {},
   "source": [
    "9.2. What is the output when creating a frequency dictionary for an empty string?"
   ]
  },
  {
   "cell_type": "code",
   "execution_count": null,
   "id": "1e81493a",
   "metadata": {},
   "outputs": [],
   "source": [
    "the_string = # replace this with your code\n",
    "the_dict = # replace this with your code\n",
    "# replace this with your code:\n",
    "    if # replace this with your code:\n",
    "        the_dict[char] = the_dict.get(char, 0) + 1\n",
    "print(the_dict)"
   ]
  },
  {
   "cell_type": "markdown",
   "id": "65b9089b",
   "metadata": {},
   "source": [
    "9.3. Create a frequency dictionary for the string \"123abc!@#abc\". What does the output show?"
   ]
  },
  {
   "cell_type": "code",
   "execution_count": null,
   "id": "844ac3c9",
   "metadata": {},
   "outputs": [],
   "source": [
    "the_string = # replace this with your code\n",
    "the_dict = {}\n",
    "for char in the_string.lower():\n",
    "    if char.isalpha():\n",
    "        # replace this with your code\n",
    "# replace this with your code"
   ]
  },
  {
   "cell_type": "markdown",
   "id": "45727aa6",
   "metadata": {},
   "source": [
    "9.4. Find the frequency of characters in \"AaBbCcDdEe\". How are uppercase and lowercase characters handled?"
   ]
  },
  {
   "cell_type": "code",
   "execution_count": null,
   "id": "e2a804be",
   "metadata": {},
   "outputs": [],
   "source": [
    "the_string = 'AaBbCcDdEe'\n",
    "the_dict = {}\n",
    "# replace this with your code:\n",
    "    # replace this with your code:\n",
    "        # replace this with your code\n",
    "# replace this with your code"
   ]
  },
  {
   "cell_type": "markdown",
   "id": "8945fd71",
   "metadata": {},
   "source": [
    "9.5. Using the frequency dictionary for the string \"The quick brown fox\", determine which character appears most frequently."
   ]
  },
  {
   "cell_type": "code",
   "execution_count": null,
   "id": "e7f3550d",
   "metadata": {},
   "outputs": [],
   "source": [
    "the_string = 'The quick brown fox'\n",
    "the_dict = {}\n",
    "# replace this with your code:\n",
    "    # replace this with your code:\n",
    "        the_dict[char] = the_dict.get(char, 0) + 1\n",
    "most_frequent = # replace this with your code\n",
    "print(f\"The most frequent character is '{most_frequent}' with frequency {the_dict[most_frequent]}.\")"
   ]
  },
  {
   "cell_type": "markdown",
   "id": "4b80e87a",
   "metadata": {},
   "source": [
    "### 10. Practice Exercise: Print the Max Sum of Values"
   ]
  },
  {
   "cell_type": "markdown",
   "id": "c54d5089",
   "metadata": {},
   "source": [
    "10.1. Find the maximum sum in the dictionary {'x': [10, 20], 'y': [5, 15, 25], 'z': [100]}."
   ]
  },
  {
   "cell_type": "code",
   "execution_count": null,
   "id": "9c391c9f",
   "metadata": {},
   "outputs": [],
   "source": [
    "the_dict = # replace this with your code\n",
    "key_with_largest_value = max(# replace this with your code)\n",
    "# replace this with your code"
   ]
  },
  {
   "cell_type": "markdown",
   "id": "61b53e67",
   "metadata": {},
   "source": [
    "10.2. How should the program handle an empty dictionary? Modify the code to handle this case gracefully."
   ]
  },
  {
   "cell_type": "code",
   "execution_count": null,
   "id": "e5fea837",
   "metadata": {},
   "outputs": [],
   "source": [
    "# replace this with your code\n",
    "if not the_dict:\n",
    "    print(None) \n",
    "else:\n",
    "    key_with_largest_value = # replace this with your code\n",
    "    print(key_with_largest_value)"
   ]
  },
  {
   "cell_type": "markdown",
   "id": "cfd7b312",
   "metadata": {},
   "source": [
    "10.3. Calculate the maximum sum for {'a': [1.5, 2.5], 'b': [4, 3], 'c': [-10, 15]}."
   ]
  },
  {
   "cell_type": "code",
   "execution_count": null,
   "id": "e6ba8a80",
   "metadata": {},
   "outputs": [],
   "source": [
    "# replace this with your code\n",
    "# replace this with your code\n",
    "print(key_with_largest_value)"
   ]
  },
  {
   "cell_type": "markdown",
   "id": "0984cb24",
   "metadata": {},
   "source": [
    "10.4. What is the maximum sum in a dictionary where all values are iterables containing only zeros?"
   ]
  },
  {
   "cell_type": "code",
   "execution_count": null,
   "id": "f0b47bfc",
   "metadata": {},
   "outputs": [],
   "source": [
    "the_dict = {'a': [0, 0], 'b': [0, 0, 0], 'c': [0]}\n",
    "# replace this with your code\n",
    "print(key_with_largest_value)"
   ]
  },
  {
   "cell_type": "markdown",
   "id": "016fa8e7",
   "metadata": {},
   "source": [
    "10.5. Extend the code to handle nested iterables like {'a': [1, [2, 3]], 'b': [4, 5]}. How would you flatten the lists before summing?"
   ]
  },
  {
   "cell_type": "code",
   "execution_count": null,
   "id": "c8cd27c0",
   "metadata": {},
   "outputs": [],
   "source": [
    "from itertools import chain\n",
    "\n",
    "the_dict = # replace this with your code\n",
    "\n",
    "def flatten(iterable):\n",
    "    for item in iterable:\n",
    "        if isinstance(item, (list, tuple)):\n",
    "            yield from flatten(item)\n",
    "        else:\n",
    "            yield item\n",
    "\n",
    "key_with_largest_value = # replace this with your code\n",
    "print(key_with_largest_value)"
   ]
  },
  {
   "cell_type": "markdown",
   "id": "da745650",
   "metadata": {},
   "source": [
    "### 11. Sort Lists in Ascending Order"
   ]
  },
  {
   "cell_type": "markdown",
   "id": "5e84b1c6",
   "metadata": {},
   "source": [
    "11.1. Sort the lists in the dictionary {'x': [10, 20, 5], 'y': [30, 15], 'z': [25]}."
   ]
  },
  {
   "cell_type": "code",
   "execution_count": null,
   "id": "0c54329b",
   "metadata": {},
   "outputs": [],
   "source": [
    "the_dict = {'x': [10, 20, 5], 'y': [30, 15], 'z': [25]}\n",
    "the_new_dict = # replace this with your code\n",
    "print(the_new_dict)"
   ]
  },
  {
   "cell_type": "markdown",
   "id": "8b373888",
   "metadata": {},
   "source": [
    "11.2. What happens when attempting to sort an empty dictionary?"
   ]
  },
  {
   "cell_type": "code",
   "execution_count": null,
   "id": "4f667e1c",
   "metadata": {},
   "outputs": [],
   "source": [
    "# replace this with your code\n",
    "the_new_dict = # replace this with your code\n",
    "print(the_new_dict)"
   ]
  },
  {
   "cell_type": "markdown",
   "id": "cc7074d6",
   "metadata": {},
   "source": [
    "11.3. Sort the lists in {'a': [-10, 20, 0], 'b': [5, -5, 10]}."
   ]
  },
  {
   "cell_type": "code",
   "execution_count": null,
   "id": "b698ac43",
   "metadata": {},
   "outputs": [],
   "source": [
    "the_dict = {'a': [1.1, 2, 0.5], 'b': [3, 3.5, 2.2]}\n",
    "# replace this with your code\n",
    "print(the_new_dict)"
   ]
  },
  {
   "cell_type": "markdown",
   "id": "70efa321",
   "metadata": {},
   "source": [
    "11.4. Sort the lists in {'a': [1.1, 2, 0.5], 'b': [3, 3.5, 2.2]}. What does the result show about sorting numbers?"
   ]
  },
  {
   "cell_type": "code",
   "execution_count": null,
   "id": "0bab76d4",
   "metadata": {},
   "outputs": [],
   "source": [
    "the_dict = {'a': [1.1, 2, 0.5], 'b': [3, 3.5, 2.2]}\n",
    "# replace this with your code\n",
    "print(the_new_dict)"
   ]
  },
  {
   "cell_type": "markdown",
   "id": "661a668f",
   "metadata": {},
   "source": [
    "11.5. Modify the code to sort the lists without altering the original dictionary, ensuring a new dictionary is created."
   ]
  },
  {
   "cell_type": "code",
   "execution_count": null,
   "id": "4aacc089",
   "metadata": {},
   "outputs": [],
   "source": [
    "the_dict = {'a': [4, 3, 2], 'b': [5, 3, 7]}\n",
    "the_new_dict = # replace this with your code\n",
    "print(\"Original:\", # replace this with your code)\n",
    "print(\"New:\", # replace this with your code)"
   ]
  },
  {
   "cell_type": "markdown",
   "id": "6ae4fe38",
   "metadata": {},
   "source": [
    "### 12. "
   ]
  },
  {
   "cell_type": "markdown",
   "id": "bd734e95",
   "metadata": {},
   "source": [
    "12.1. "
   ]
  },
  {
   "cell_type": "code",
   "execution_count": null,
   "id": "a1f84ffd",
   "metadata": {},
   "outputs": [],
   "source": []
  },
  {
   "cell_type": "markdown",
   "id": "8a2e4af0",
   "metadata": {},
   "source": [
    "12.2. "
   ]
  },
  {
   "cell_type": "code",
   "execution_count": null,
   "id": "0397d0c8",
   "metadata": {},
   "outputs": [],
   "source": []
  },
  {
   "cell_type": "markdown",
   "id": "acfbc003",
   "metadata": {},
   "source": [
    "12.3. "
   ]
  },
  {
   "cell_type": "code",
   "execution_count": null,
   "id": "c11eaaa4",
   "metadata": {},
   "outputs": [],
   "source": []
  },
  {
   "cell_type": "markdown",
   "id": "49af8751",
   "metadata": {},
   "source": [
    "12.4. "
   ]
  },
  {
   "cell_type": "code",
   "execution_count": null,
   "id": "c039df70",
   "metadata": {},
   "outputs": [],
   "source": []
  },
  {
   "cell_type": "markdown",
   "id": "65889631",
   "metadata": {},
   "source": [
    "12.5. "
   ]
  },
  {
   "cell_type": "code",
   "execution_count": null,
   "id": "df4bf28d",
   "metadata": {},
   "outputs": [],
   "source": []
  },
  {
   "cell_type": "markdown",
   "id": "e1664c7c",
   "metadata": {},
   "source": [
    "### 13. "
   ]
  },
  {
   "cell_type": "markdown",
   "id": "d4bcd858",
   "metadata": {},
   "source": [
    "13.1 Modify the program to print the triangular pattern right-aligned."
   ]
  },
  {
   "cell_type": "code",
   "execution_count": null,
   "id": "56ea5884",
   "metadata": {},
   "outputs": [],
   "source": [
    "num_rows = 5\n",
    "row = 0\n",
    "\n",
    "# replace this with your code:\n",
    "    print(' ' * (num_rows - row - 1) + (chr(65 + row) + ' ') * (row + 1))\n",
    "    # replace this with your code"
   ]
  },
  {
   "cell_type": "markdown",
   "id": "93b2b0ba",
   "metadata": {},
   "source": [
    "13.2. Start the pattern with E and decrement letters for each row (E, D D, C C C, ...)."
   ]
  },
  {
   "cell_type": "code",
   "execution_count": null,
   "id": "7fa3c5ed",
   "metadata": {},
   "outputs": [],
   "source": [
    "num_rows = 5\n",
    "row = 0\n",
    "\n",
    "# replace this with your code:\n",
    "    print((chr(69 - row) + ' ') * (row + 1))\n",
    "    # replace this with your code"
   ]
  },
  {
   "cell_type": "markdown",
   "id": "13b034d2",
   "metadata": {},
   "source": [
    "13.3. Allow the user to input the number of rows for the pattern."
   ]
  },
  {
   "cell_type": "code",
   "execution_count": null,
   "id": "94dd64dc",
   "metadata": {},
   "outputs": [],
   "source": [
    "num_rows = # replace this with your code(input(\"Enter the number of rows: \"))\n",
    "row = # replace this with your code\n",
    "\n",
    "# replace this with your code:\n",
    "    print((chr(65 + row) + ' ') * (row + 1))\n",
    "    # replace this with your code"
   ]
  },
  {
   "cell_type": "markdown",
   "id": "55526dc0",
   "metadata": {},
   "source": [
    "13.4. Modify the program to print the triangle upside-down (e.g., E E E E E, D D D D, ...)."
   ]
  },
  {
   "cell_type": "code",
   "execution_count": null,
   "id": "268ce972",
   "metadata": {},
   "outputs": [],
   "source": [
    "num_rows = 5\n",
    "row = # replace this with your code\n",
    "\n",
    "# replace this with your code:\n",
    "    print((chr(65 + row - 1) + ' ') * row)\n",
    "    # replace this with your code"
   ]
  },
  {
   "cell_type": "markdown",
   "id": "b33e611f",
   "metadata": {},
   "source": [
    "13.5. Extend the program to print a diamond-shaped pattern using letters."
   ]
  },
  {
   "cell_type": "code",
   "execution_count": null,
   "id": "e63a12ee",
   "metadata": {},
   "outputs": [],
   "source": [
    "num_rows = 5\n",
    "row = 0\n",
    "\n",
    "# Top half of the diamond\n",
    "# replace this with your code:\n",
    "    print(' ' * (num_rows - row - 1) + (chr(65 + row) + ' ') * (row + 1))\n",
    "    # replace this with your code\n",
    "\n",
    "# Bottom half of the diamond\n",
    "row = num_rows - 2\n",
    "# replace this with your code:\n",
    "    print(' ' * (num_rows - row - 1) + (chr(65 + row) + ' ') * (row + 1))\n",
    "    row -= 1"
   ]
  },
  {
   "cell_type": "markdown",
   "id": "ad5bfd03",
   "metadata": {},
   "source": [
    "### Solution Available at: Dictionary Solutions: Practice Exercises & Challenges"
   ]
  }
 ],
 "metadata": {
  "kernelspec": {
   "display_name": "Python 3 (ipykernel)",
   "language": "python",
   "name": "python3"
  },
  "language_info": {
   "codemirror_mode": {
    "name": "ipython",
    "version": 3
   },
   "file_extension": ".py",
   "mimetype": "text/x-python",
   "name": "python",
   "nbconvert_exporter": "python",
   "pygments_lexer": "ipython3",
   "version": "3.11.4"
  }
 },
 "nbformat": 4,
 "nbformat_minor": 5
}
