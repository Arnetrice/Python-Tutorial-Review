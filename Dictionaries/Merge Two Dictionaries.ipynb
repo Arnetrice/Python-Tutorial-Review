{
 "cells": [
  {
   "cell_type": "markdown",
   "id": "de666638",
   "metadata": {},
   "source": [
    " # **Merge Two Dictionaries**"
   ]
  },
  {
   "cell_type": "markdown",
   "id": "b1b377e4",
   "metadata": {},
   "source": [
    "### Standard Approach:"
   ]
  },
  {
   "cell_type": "code",
   "execution_count": null,
   "id": "24184929",
   "metadata": {},
   "outputs": [],
   "source": [
    "# Initialize the dictionaries\n",
    "the_1st_dict = {\"a\": 1, \"b\": 2, \"c\": 3}\n",
    "the_2nd_dict = {\"c\": 4, \"d\": 6, \"e\": 8}\n",
    "\n",
    "# Copy the first dictionary\n",
    "the_merged_dict = the_1st_dict.copy()\n",
    "\n",
    "# Merge the second dictionary into the first\n",
    "for key, value in the_2nd_dict.items():\n",
    "    the_merged_dict[key] = value\n",
    "\n",
    "# Print the merged dictionary\n",
    "print(the_merged_dict)"
   ]
  },
  {
   "cell_type": "markdown",
   "id": "a9865f88",
   "metadata": {},
   "source": [
    "Note: This approach manually merges two dictionaries by copying the first dictionary and then iterating over the second dictionary to add or update key-value pairs."
   ]
  },
  {
   "cell_type": "markdown",
   "id": "017aff0b",
   "metadata": {},
   "source": [
    "### Optimized Solution:"
   ]
  },
  {
   "cell_type": "code",
   "execution_count": null,
   "id": "496e1d1c",
   "metadata": {},
   "outputs": [],
   "source": [
    "# Initialize the dictionaries\n",
    "the_1st_dict = {\"a\": 1, \"b\": 2, \"c\": 3}\n",
    "the_2nd_dict = {\"c\": 4, \"d\": 6, \"e\": 8}\n",
    "\n",
    "# Merge the dictionaries using dictionary unpacking\n",
    "the_merged_dict = {**the_1st_dict, **the_2nd_dict}\n",
    "\n",
    "# Print the merged dictionary\n",
    "print(the_merged_dict)"
   ]
  },
  {
   "cell_type": "markdown",
   "id": "f2901c30",
   "metadata": {},
   "source": [
    "Note: In this solution, we recognize that Python allows merging two dictionaries using dictionary unpacking (**), a concise and efficient method."
   ]
  },
  {
   "cell_type": "markdown",
   "id": "46c2e449",
   "metadata": {},
   "source": [
    "### Additional Practice:\n",
    "See For Loops - Practice Exercises & Challenges: Merge Two Dictionaries"
   ]
  }
 ],
 "metadata": {
  "kernelspec": {
   "display_name": "Python 3 (ipykernel)",
   "language": "python",
   "name": "python3"
  },
  "language_info": {
   "codemirror_mode": {
    "name": "ipython",
    "version": 3
   },
   "file_extension": ".py",
   "mimetype": "text/x-python",
   "name": "python",
   "nbconvert_exporter": "python",
   "pygments_lexer": "ipython3",
   "version": "3.11.4"
  }
 },
 "nbformat": 4,
 "nbformat_minor": 5
}
