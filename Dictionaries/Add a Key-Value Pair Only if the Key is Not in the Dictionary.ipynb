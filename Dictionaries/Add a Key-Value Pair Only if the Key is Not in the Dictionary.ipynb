{
 "cells": [
  {
   "cell_type": "markdown",
   "id": "de666638",
   "metadata": {},
   "source": [
    " # **Add a Key-Value Pair Only if the Key is Not in the Dictionary**"
   ]
  },
  {
   "cell_type": "markdown",
   "id": "b1b377e4",
   "metadata": {},
   "source": [
    "### Standard Approach:"
   ]
  },
  {
   "cell_type": "code",
   "execution_count": null,
   "id": "24184929",
   "metadata": {},
   "outputs": [],
   "source": [
    "# Initialize the dictionary\n",
    "the_dict = {'January': 45, 'February': 56, 'March': 67}\n",
    "\n",
    "# Define the new key-value pair\n",
    "new_key_value = ('April', 67)\n",
    "\n",
    "# Check and add the key-value pair if the key is not in the dictionary\n",
    "if new_key_value[0] not in the_dict.keys():\n",
    "    the_dict[new_key_value[0]] = new_key_value[1]\n",
    "\n",
    "# Print the updated dictionary\n",
    "print(the_dict)"
   ]
  },
  {
   "cell_type": "markdown",
   "id": "a9865f88",
   "metadata": {},
   "source": [
    "Note: This approach explicitly uses the keys() method to check if a key exists before adding a new key-value pair to the dictionary."
   ]
  },
  {
   "cell_type": "markdown",
   "id": "017aff0b",
   "metadata": {},
   "source": [
    "### Optimized Solution:"
   ]
  },
  {
   "cell_type": "code",
   "execution_count": null,
   "id": "496e1d1c",
   "metadata": {},
   "outputs": [],
   "source": [
    "# Initialize the dictionary\n",
    "the_dict = {'January': 45, 'February': 56, 'March': 67}\n",
    "\n",
    "# Define the new key and value\n",
    "new_key = 'April'\n",
    "new_value = 67\n",
    "\n",
    "# Check and add the key-value pair if the key is not in the dictionary\n",
    "if new_key not in the_dict:\n",
    "    the_dict[new_key] = new_value\n",
    "\n",
    "# Print the updated dictionary\n",
    "print(the_dict)"
   ]
  },
  {
   "cell_type": "markdown",
   "id": "f2901c30",
   "metadata": {},
   "source": [
    "Note: In this solution, we recognize that Python allows direct membership checks on dictionaries without explicitly calling the keys() method. This simplifies the code and improves performance."
   ]
  },
  {
   "cell_type": "markdown",
   "id": "46c2e449",
   "metadata": {},
   "source": [
    "### Additional Practice:\n",
    "See For Loops - Practice Exercises & Challenges: Add a Key-Value Pair Only if the Key is Not in the Dictionary"
   ]
  }
 ],
 "metadata": {
  "kernelspec": {
   "display_name": "Python 3 (ipykernel)",
   "language": "python",
   "name": "python3"
  },
  "language_info": {
   "codemirror_mode": {
    "name": "ipython",
    "version": 3
   },
   "file_extension": ".py",
   "mimetype": "text/x-python",
   "name": "python",
   "nbconvert_exporter": "python",
   "pygments_lexer": "ipython3",
   "version": "3.11.4"
  }
 },
 "nbformat": 4,
 "nbformat_minor": 5
}
