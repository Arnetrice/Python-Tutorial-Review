{
 "cells": [
  {
   "cell_type": "markdown",
   "id": "de666638",
   "metadata": {},
   "source": [
    " # **Make a Dictionary from Nested Lists**"
   ]
  },
  {
   "cell_type": "markdown",
   "id": "b1b377e4",
   "metadata": {},
   "source": [
    "### Standard Approach:"
   ]
  },
  {
   "cell_type": "code",
   "execution_count": null,
   "id": "24184929",
   "metadata": {},
   "outputs": [],
   "source": [
    "# Initialize the nested list\n",
    "the_list = [['a', 1], ['b', 2], ['c', 3], ['d', 4]]\n",
    "\n",
    "# Initialize an empty dictionary\n",
    "the_dict = {}\n",
    "\n",
    "# Handle the case of an empty list\n",
    "if not the_list:\n",
    "    print(the_dict)\n",
    "else:\n",
    "    # Iterate through the nested list and populate the dictionary\n",
    "    for nest in the_list:\n",
    "        the_dict[nest[0]] = nest[1]\n",
    "\n",
    "    # Print the resulting dictionary\n",
    "    print(the_dict)"
   ]
  },
  {
   "cell_type": "markdown",
   "id": "a9865f88",
   "metadata": {},
   "source": [
    "Note: This approach involves manually iterating over the nested lists and adding key-value pairs to a dictionary."
   ]
  },
  {
   "cell_type": "markdown",
   "id": "017aff0b",
   "metadata": {},
   "source": [
    "### Optimized Solution:"
   ]
  },
  {
   "cell_type": "code",
   "execution_count": null,
   "id": "496e1d1c",
   "metadata": {},
   "outputs": [],
   "source": [
    "# Initialize the nested list\n",
    "the_list = [['a', 1], ['b', 2], ['c', 3], ['d', 4]]\n",
    "\n",
    "# Use a dictionary comprehension to create the dictionary\n",
    "the_dict = {key: val for key, val in the_list}\n",
    "\n",
    "# Print the resulting dictionary\n",
    "print(the_dict)"
   ]
  },
  {
   "cell_type": "markdown",
   "id": "f2901c30",
   "metadata": {},
   "source": [
    "Note: In this solution, we recognize that Python provides a concise way to convert nested lists into dictionaries using dictionary comprehensions."
   ]
  },
  {
   "cell_type": "markdown",
   "id": "46c2e449",
   "metadata": {},
   "source": [
    "### Additional Practice:\n",
    "See For Loops - Practice Exercises & Challenges: Make a Dictionary from Nested Lists"
   ]
  }
 ],
 "metadata": {
  "kernelspec": {
   "display_name": "Python 3 (ipykernel)",
   "language": "python",
   "name": "python3"
  },
  "language_info": {
   "codemirror_mode": {
    "name": "ipython",
    "version": 3
   },
   "file_extension": ".py",
   "mimetype": "text/x-python",
   "name": "python",
   "nbconvert_exporter": "python",
   "pygments_lexer": "ipython3",
   "version": "3.11.4"
  }
 },
 "nbformat": 4,
 "nbformat_minor": 5
}
