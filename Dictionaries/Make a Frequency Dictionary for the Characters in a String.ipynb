{
 "cells": [
  {
   "cell_type": "markdown",
   "id": "de666638",
   "metadata": {},
   "source": [
    " # **Make a Frequency Dictionary for the Characters in a String**"
   ]
  },
  {
   "cell_type": "markdown",
   "id": "b1b377e4",
   "metadata": {},
   "source": [
    "### Standard Approach:"
   ]
  },
  {
   "cell_type": "code",
   "execution_count": null,
   "id": "24184929",
   "metadata": {},
   "outputs": [],
   "source": [
    "from collections import Counter\n",
    "\n",
    "# Initialize the string\n",
    "the_string = 'Hello, World'\n",
    "\n",
    "# Count all characters, converting to lowercase\n",
    "the_dict = dict(Counter(the_string.lower()))\n",
    "\n",
    "# Filter to include only alphabetic characters\n",
    "the_new_dict = {}\n",
    "for char, count in the_dict.items():\n",
    "    if char.isalpha():\n",
    "        the_new_dict[char] = count\n",
    "\n",
    "# Print the resulting frequency dictionary\n",
    "print(the_new_dict)"
   ]
  },
  {
   "cell_type": "markdown",
   "id": "a9865f88",
   "metadata": {},
   "source": [
    "Note: This approach utilizes Counter from the collections module to count all characters in a string, followed by filtering out non-alphabetic characters."
   ]
  },
  {
   "cell_type": "markdown",
   "id": "017aff0b",
   "metadata": {},
   "source": [
    "### Optimized Solution:"
   ]
  },
  {
   "cell_type": "code",
   "execution_count": null,
   "id": "496e1d1c",
   "metadata": {},
   "outputs": [],
   "source": [
    "# Initialize the string\n",
    "the_string = 'Hello, World'\n",
    "\n",
    "# Initialize an empty dictionary\n",
    "the_dict = {}\n",
    "\n",
    "# Count alphabetic characters\n",
    "for char in the_string.lower():\n",
    "    if char.isalpha():\n",
    "        the_dict[char] = the_dict.get(char, 0) + 1\n",
    "\n",
    "# Print the resulting frequency dictionary\n",
    "print(the_dict)"
   ]
  },
  {
   "cell_type": "markdown",
   "id": "f2901c30",
   "metadata": {},
   "source": [
    "Note: This solution uses a for loop to iterate over the string and build the frequency dictionary directly, filtering and counting alphabetic characters."
   ]
  },
  {
   "cell_type": "markdown",
   "id": "46c2e449",
   "metadata": {},
   "source": [
    "### Additional Practice:\n",
    "See For Loops - Practice Exercises & Challenges: Make a Frequency Dictionary for the Characters in a String"
   ]
  }
 ],
 "metadata": {
  "kernelspec": {
   "display_name": "Python 3 (ipykernel)",
   "language": "python",
   "name": "python3"
  },
  "language_info": {
   "codemirror_mode": {
    "name": "ipython",
    "version": 3
   },
   "file_extension": ".py",
   "mimetype": "text/x-python",
   "name": "python",
   "nbconvert_exporter": "python",
   "pygments_lexer": "ipython3",
   "version": "3.11.4"
  }
 },
 "nbformat": 4,
 "nbformat_minor": 5
}
