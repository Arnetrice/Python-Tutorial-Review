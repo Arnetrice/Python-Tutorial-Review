{
 "cells": [
  {
   "cell_type": "code",
   "execution_count": null,
   "metadata": {},
   "outputs": [],
   "source": [
    "the_dict = {'a': 4, 'b': 6}\n",
    "\n",
    "the_key = 'c'\n",
    "\n",
    "if the_key in the_dict.keys():\n",
    "    print(True)\n",
    "else:\n",
    "    print(False)"
   ]
  },
  {
   "cell_type": "code",
   "execution_count": null,
   "metadata": {},
   "outputs": [],
   "source": [
    "the_dict = {'a': 4, 'b': 6}\n",
    "\n",
    "print(the_key in the_dict)"
   ]
  },
  {
   "cell_type": "code",
   "execution_count": null,
   "metadata": {},
   "outputs": [],
   "source": [
    "# Add a Key-Value Pair Only if the Key is Not in the Dictionary\n",
    "the_dict = {'January': 45, 'February': 56, 'March': 67}\n",
    "\n",
    "new_key_value = ('April', 67)\n",
    "\n",
    "if new_key_value[0] not in the_dict.keys():\n",
    "    the_dict[new_key_value[0]] = new_key_value[1]\n",
    "print(the_dict)\n"
   ]
  },
  {
   "cell_type": "code",
   "execution_count": null,
   "metadata": {},
   "outputs": [],
   "source": [
    "the_dict = {'January': 45, 'February': 56, 'March': 67}\n",
    "\n",
    "new_key = 'April'\n",
    "new_value = 67\n",
    "\n",
    "if new_key not in the_dict:\n",
    "    the_dict[new_key] = new_value\n",
    "    \n",
    "print(the_dict)"
   ]
  },
  {
   "cell_type": "code",
   "execution_count": null,
   "metadata": {},
   "outputs": [],
   "source": [
    "# Merge Two Dictionaries\n",
    "the_1st_dict = {\"a\": 1, \"b\": 2, \"c\": 3}\n",
    "the_2nd_dict = {\"c\": 4, \"d\": 6, \"e\": 8}\n",
    "\n",
    "the_merged_dict = {**the_1st_dict , **the_2nd_dict}\n",
    "\n",
    "print(the_merged_dict)"
   ]
  },
  {
   "cell_type": "code",
   "execution_count": 35,
   "metadata": {},
   "outputs": [
    {
     "name": "stdout",
     "output_type": "stream",
     "text": [
      "{'a': 1, 'b': 2, 'c': 4, 'd': 6, 'e': 8}\n"
     ]
    }
   ],
   "source": [
    "the_1st_dict = {\"a\": 1, \"b\": 2, \"c\": 3}\n",
    "the_2nd_dict = {\"c\": 4, \"d\": 6, \"e\": 8}\n",
    "\n",
    "the_merged_dict = the_1st_dict.copy()\n",
    "\n",
    "for key, value in the_2nd_dict.items():\n",
    "    the_merged_dict[key] = value\n",
    "\n",
    "print(the_merged_dict)"
   ]
  },
  {
   "cell_type": "code",
   "execution_count": 18,
   "metadata": {},
   "outputs": [
    {
     "name": "stdout",
     "output_type": "stream",
     "text": [
      "False\n"
     ]
    }
   ],
   "source": [
    "# Check if All Values are Equal\n",
    "the_dict = {'a': 4, 'b': 4, 'c': 6}\n",
    "\n",
    "add_to_set = set()\n",
    "\n",
    "for val in the_dict.values():\n",
    "    add_to_set.add(val)\n",
    "if len(add_to_set) == 1:\n",
    "    print(True)\n",
    "elif len(add_to_set) > 1:\n",
    "    print(False)\n",
    "else:\n",
    "    print('Empty')\n",
    "    "
   ]
  },
  {
   "cell_type": "code",
   "execution_count": 19,
   "metadata": {},
   "outputs": [
    {
     "name": "stdout",
     "output_type": "stream",
     "text": [
      "False\n"
     ]
    }
   ],
   "source": [
    "the_dict = {'a': 4, 'b': 4, 'c': 6}\n",
    "\n",
    "add_to_set = len(set(the_dict.values()))\n",
    "\n",
    "if add_to_set == 0:\n",
    "    print('Empty')\n",
    "elif add_to_set == 1:\n",
    "    print(True)\n",
    "else:\n",
    "    print(False)"
   ]
  },
  {
   "cell_type": "code",
   "execution_count": 23,
   "metadata": {},
   "outputs": [
    {
     "name": "stdout",
     "output_type": "stream",
     "text": [
      "7\n"
     ]
    }
   ],
   "source": [
    "# Find the Maximum Value in a Dictionary\n",
    "the_dict = {'a': 4, 'b': 3, 'c': 7}\n",
    "\n",
    "add_to_set = set(the_dict.values())\n",
    "\n",
    "if not add_to_set:\n",
    "    print(None)\n",
    "else:\n",
    "    print(max(add_to_set))"
   ]
  },
  {
   "cell_type": "code",
   "execution_count": 28,
   "metadata": {},
   "outputs": [
    {
     "name": "stdout",
     "output_type": "stream",
     "text": [
      "7\n"
     ]
    }
   ],
   "source": [
    "the_dict = {'a': 4, 'b': 3, 'c': 7}\n",
    "\n",
    "if not add_to_set:\n",
    "    print(None)\n",
    "else:\n",
    "    print(max(set(add_to_set)))"
   ]
  },
  {
   "cell_type": "code",
   "execution_count": 29,
   "metadata": {},
   "outputs": [
    {
     "name": "stdout",
     "output_type": "stream",
     "text": [
      "3\n"
     ]
    }
   ],
   "source": [
    "# Find the Minimum Value in a Dictionary\n",
    "the_dict = {'a': 4, 'b': 3, 'c': 7}\n",
    "\n",
    "add_to_set = set(the_dict.values())\n",
    "\n",
    "if not add_to_set:\n",
    "    print(None)\n",
    "else:\n",
    "    print(min(add_to_set))"
   ]
  },
  {
   "cell_type": "code",
   "execution_count": 30,
   "metadata": {},
   "outputs": [
    {
     "name": "stdout",
     "output_type": "stream",
     "text": [
      "3\n"
     ]
    }
   ],
   "source": [
    "the_dict = {'a': 4, 'b': 3, 'c': 7}\n",
    "\n",
    "if not add_to_set:\n",
    "    print(None)\n",
    "else:\n",
    "    print(min(set(add_to_set)))"
   ]
  },
  {
   "cell_type": "code",
   "execution_count": 81,
   "metadata": {},
   "outputs": [
    {
     "name": "stdout",
     "output_type": "stream",
     "text": [
      "{}\n"
     ]
    }
   ],
   "source": [
    "# Find Frequency of Values in a Dictionary\n",
    "from collections import Counter\n",
    "\n",
    "the_dict = {'a': 4, 'b': 4, 'c': 2, 'd': 7, 'e': 4, 'f': 2, 'g': 7, 'h': 7}\n",
    "\n",
    "\n",
    "value_count_dict = dict (Counter(the_dict.values()))\n",
    "\n",
    "print(value_count_dict)\n",
    "\n",
    "\n"
   ]
  },
  {
   "cell_type": "code",
   "execution_count": 79,
   "metadata": {},
   "outputs": [
    {
     "name": "stdout",
     "output_type": "stream",
     "text": [
      "{}\n"
     ]
    }
   ],
   "source": [
    "the_dict = {'a': 4, 'b': 4, 'c': 2, 'd': 7, 'e': 4, 'f': 2, 'g': 7, 'h': 7}\n",
    "\n",
    "value_count_dict = {}\n",
    "\n",
    "for val in the_dict.values():\n",
    "    if val in value_count_dict:\n",
    "        value_count_dict[val] += 1\n",
    "    else:\n",
    "        value_count_dict[val] = 1\n",
    "print(value_count_dict)"
   ]
  },
  {
   "cell_type": "code",
   "execution_count": 90,
   "metadata": {},
   "outputs": [
    {
     "name": "stdout",
     "output_type": "stream",
     "text": [
      "{'a': 1, 'b': 2, 'c': 3, 'd': 4}\n"
     ]
    }
   ],
   "source": [
    "# Make a Dictionary from Nested Lists\n",
    "\n",
    "the_list = [['a', 1], ['b', 2], ['c', 3], ['d', 4]]\n",
    "\n",
    "the_dict = {}\n",
    "\n",
    "if not the_list:\n",
    "    print(the_dict)\n",
    "else:\n",
    "    for nest in the_list:\n",
    "        the_dict[nest[0]] = nest[1]\n",
    "    print(the_dict)"
   ]
  },
  {
   "cell_type": "code",
   "execution_count": 91,
   "metadata": {},
   "outputs": [
    {
     "name": "stdout",
     "output_type": "stream",
     "text": [
      "{'a': 1, 'b': 2, 'c': 3, 'd': 4}\n"
     ]
    }
   ],
   "source": [
    "the_list = [['a', 1], ['b', 2], ['c', 3], ['d', 4]]\n",
    "\n",
    "the_dict = {}\n",
    "\n",
    "for nest in the_list:\n",
    "    key = nest[0]\n",
    "    val = nest[1]\n",
    "    the_dict[key] = val\n",
    "    \n",
    "print(the_dict)"
   ]
  },
  {
   "cell_type": "code",
   "execution_count": 102,
   "metadata": {},
   "outputs": [
    {
     "name": "stdout",
     "output_type": "stream",
     "text": [
      "1077\n"
     ]
    }
   ],
   "source": [
    "# Print the Max Sum of Values\n",
    "\n",
    "the_dict = {\n",
    "    'a': [1, 2, 3],\n",
    "    'b': [4, 0, -4],\n",
    "    'c': [3, 5, 1069],\n",
    "    'd': (45, 12, 1008)\n",
    "}\n",
    "\n",
    "\n",
    "key_with_largest_value = 0\n",
    "\n",
    "for val in the_dict.values():\n",
    "    if sum(val) > key_with_largest_value:\n",
    "        key_with_largest_value = sum(val)\n",
    "print(key_with_largest_value)\n",
    "    "
   ]
  },
  {
   "cell_type": "code",
   "execution_count": 1,
   "metadata": {},
   "outputs": [
    {
     "name": "stdout",
     "output_type": "stream",
     "text": [
      "1077\n"
     ]
    }
   ],
   "source": [
    "the_dict = {\n",
    "    'a': [1, 2, 3],\n",
    "    'b': [4, 0, -4],\n",
    "    'c': [3, 5, 1069],\n",
    "    'd': (45, 12, 1008)\n",
    "}\n",
    "\n",
    "\n",
    "key_with_largest_value = None\n",
    "\n",
    "for val in the_dict.values():\n",
    "    val_sum = sum(val)\n",
    "    \n",
    "    if key_with_largest_value is None:\n",
    "        key_with_largest_value = val_sum\n",
    "    elif key_with_largest_value < val_sum:\n",
    "        key_with_largest_value = val_sum\n",
    "\n",
    "print(key_with_largest_value)\n",
    "        "
   ]
  },
  {
   "cell_type": "code",
   "execution_count": 78,
   "metadata": {},
   "outputs": [
    {
     "name": "stdout",
     "output_type": "stream",
     "text": [
      "{'h': 1, 'e': 1, 'l': 2, 'o': 2, 'w': 1, 'r': 1, 'd': 1}\n"
     ]
    }
   ],
   "source": [
    "# Make a Frequency Dictionary for the Characters in a String (*)\n",
    "\n",
    "from collections import Counter\n",
    "\n",
    "the_string = 'Hello, World'\n",
    "\n",
    "the_dict =  dict (Counter(the_string.lower()))\n",
    "\n",
    "the_new_dict = dict()\n",
    "\n",
    "for char in the_dict.items():\n",
    "    if char[0].isalpha():\n",
    "        the_new_dict[char[0]] = char[1]\n",
    "\n",
    "print(the_new_dict)"
   ]
  },
  {
   "cell_type": "code",
   "execution_count": 77,
   "metadata": {},
   "outputs": [
    {
     "name": "stdout",
     "output_type": "stream",
     "text": [
      "{'p': 1, 'y': 1, 't': 1, 'h': 2, 'o': 2, 'n': 1, 'm': 1, 'e': 1}\n"
     ]
    }
   ],
   "source": [
    "the_string = 'Python Home 2021' \n",
    "\n",
    "the_dict = {}\n",
    "\n",
    "for char in the_string.lower():\n",
    "    if char.isalpha():\n",
    "        if char in the_dict:\n",
    "            the_dict[char] += 1\n",
    "        else:\n",
    "            the_dict[char] = 1\n",
    "            \n",
    "print(the_dict)"
   ]
  },
  {
   "cell_type": "code",
   "execution_count": 80,
   "metadata": {},
   "outputs": [
    {
     "name": "stdout",
     "output_type": "stream",
     "text": [
      "{'a': [2, 3, 4], 'b': [3, 5, 7], 'c': [1, 9, 10], 'd': [1, 3, 4]}\n"
     ]
    }
   ],
   "source": [
    "# Sort Lists in Ascending Order (*)\n",
    "\n",
    "the_dict = {\n",
    "    \n",
    "    'a': [4, 3, 2],\n",
    "    'b': [5, 3, 7],\n",
    "    'c': [1, 9, 10],\n",
    "    'd': [3, 4, 1]\n",
    "}\n",
    "\n",
    "for the_list in the_dict.values():\n",
    "    the_list.sort()\n",
    "\n",
    "print(the_dict)"
   ]
  },
  {
   "cell_type": "code",
   "execution_count": 103,
   "metadata": {},
   "outputs": [
    {
     "name": "stdout",
     "output_type": "stream",
     "text": [
      "{'a': [2, 3, 4], 'b': [3, 5, 7], 'c': [1, 9, 10], 'd': [1, 3, 4]}\n"
     ]
    }
   ],
   "source": [
    "the_dict = {\n",
    "    \n",
    "    'a': [4, 3, 2],\n",
    "    'b': [5, 3, 7],\n",
    "    'c': [1, 9, 10],\n",
    "    'd': [3, 4, 1]\n",
    "}\n",
    "\n",
    "the_new_dict = {}\n",
    "\n",
    "for key, val in the_dict.items():\n",
    "    the_new_dict[key] = sorted(val)\n",
    "\n",
    "print(the_new_dict)"
   ]
  },
  {
   "cell_type": "code",
   "execution_count": 110,
   "metadata": {},
   "outputs": [
    {
     "name": "stdout",
     "output_type": "stream",
     "text": [
      "[['description', 'shoe'], ['price', 4.56], ['colors', ['green', 'blue', 'red']]]\n"
     ]
    }
   ],
   "source": [
    "# Convert Dictionary into a List of Lists (*)\n",
    "\n",
    "the_dict = {\n",
    "    'description': 'shoe',\n",
    "    'price': 4.56,\n",
    "    'colors': ['green', 'blue', 'red']\n",
    "}\n",
    "\n",
    "the_list = []\n",
    "\n",
    "for key, val in the_dict.items():\n",
    "    the_list.append([key, val])\n",
    "    \n",
    "print(the_list)"
   ]
  },
  {
   "cell_type": "code",
   "execution_count": 112,
   "metadata": {},
   "outputs": [
    {
     "name": "stdout",
     "output_type": "stream",
     "text": [
      "[['description', 'shoe'], ['price', 4.56], ['colors', ['green', 'blue', 'red']]]\n"
     ]
    }
   ],
   "source": [
    "the_dict = {\n",
    "    'description': 'shoe',\n",
    "    'price': 4.56,\n",
    "    'colors': ['green', 'blue', 'red']\n",
    "}\n",
    "\n",
    "the_list = [[k, v] for k, v in the_dict.items()]\n",
    "\n",
    "print(the_list)"
   ]
  },
  {
   "cell_type": "code",
   "execution_count": null,
   "metadata": {},
   "outputs": [],
   "source": []
  }
 ],
 "metadata": {
  "kernelspec": {
   "display_name": "Python 3",
   "language": "python",
   "name": "python3"
  },
  "language_info": {
   "codemirror_mode": {
    "name": "ipython",
    "version": 3
   },
   "file_extension": ".py",
   "mimetype": "text/x-python",
   "name": "python",
   "nbconvert_exporter": "python",
   "pygments_lexer": "ipython3",
   "version": "3.8.3"
  }
 },
 "nbformat": 4,
 "nbformat_minor": 4
}
