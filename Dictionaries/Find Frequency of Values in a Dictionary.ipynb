{
 "cells": [
  {
   "cell_type": "markdown",
   "id": "de666638",
   "metadata": {},
   "source": [
    " # **Find Frequency of Values in a Dictionary**"
   ]
  },
  {
   "cell_type": "markdown",
   "id": "b1b377e4",
   "metadata": {},
   "source": [
    "### Standard Approach:"
   ]
  },
  {
   "cell_type": "code",
   "execution_count": null,
   "id": "24184929",
   "metadata": {},
   "outputs": [],
   "source": [
    "# Initialize the dictionary\n",
    "the_dict = {'a': 4, 'b': 4, 'c': 2, 'd': 7, 'e': 4, 'f': 2, 'g': 7, 'h': 7}\n",
    "\n",
    "# Initialize an empty dictionary for counting frequencies\n",
    "value_count_dict = {}\n",
    "\n",
    "# Iterate through the dictionary values\n",
    "for val in the_dict.values():\n",
    "    if val in value_count_dict:\n",
    "        value_count_dict[val] += 1  # Increment count if the value already exists\n",
    "    else:\n",
    "        value_count_dict[val] = 1  # Initialize count for a new value\n",
    "\n",
    "# Print the resulting frequency dictionary\n",
    "print(value_count_dict)"
   ]
  },
  {
   "cell_type": "markdown",
   "id": "a9865f88",
   "metadata": {},
   "source": [
    "Note: This approach manually counts the occurrences of each value in the dictionary using a for loop and an auxiliary dictionary."
   ]
  },
  {
   "cell_type": "markdown",
   "id": "017aff0b",
   "metadata": {},
   "source": [
    "### Optimized Solution:"
   ]
  },
  {
   "cell_type": "code",
   "execution_count": null,
   "id": "496e1d1c",
   "metadata": {},
   "outputs": [],
   "source": [
    "from collections import Counter\n",
    "\n",
    "# Initialize the dictionary\n",
    "the_dict = {'a': 4, 'b': 4, 'c': 2, 'd': 7, 'e': 4, 'f': 2, 'g': 7, 'h': 7}\n",
    "\n",
    "# Use Counter to count the frequency of values\n",
    "value_count_dict = dict(Counter(the_dict.values()))\n",
    "\n",
    "# Print the resulting frequency dictionary\n",
    "print(value_count_dict)"
   ]
  },
  {
   "cell_type": "markdown",
   "id": "f2901c30",
   "metadata": {},
   "source": [
    "Note: In this solution, Python provides a built-in Counter class from the collections module for counting elements efficiently."
   ]
  },
  {
   "cell_type": "markdown",
   "id": "46c2e449",
   "metadata": {},
   "source": [
    "### Additional Practice:\n",
    "See For Loops - Practice Exercises & Challenges: Find Frequency of Values in a Dictionary"
   ]
  }
 ],
 "metadata": {
  "kernelspec": {
   "display_name": "Python 3 (ipykernel)",
   "language": "python",
   "name": "python3"
  },
  "language_info": {
   "codemirror_mode": {
    "name": "ipython",
    "version": 3
   },
   "file_extension": ".py",
   "mimetype": "text/x-python",
   "name": "python",
   "nbconvert_exporter": "python",
   "pygments_lexer": "ipython3",
   "version": "3.11.4"
  }
 },
 "nbformat": 4,
 "nbformat_minor": 5
}
