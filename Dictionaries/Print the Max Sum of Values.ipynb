{
 "cells": [
  {
   "cell_type": "markdown",
   "id": "de666638",
   "metadata": {},
   "source": [
    " # **Print the Max Sum of Values**"
   ]
  },
  {
   "cell_type": "markdown",
   "id": "b1b377e4",
   "metadata": {},
   "source": [
    "### Standard Approach:"
   ]
  },
  {
   "cell_type": "code",
   "execution_count": null,
   "id": "24184929",
   "metadata": {},
   "outputs": [],
   "source": [
    "# Initialize the dictionary\n",
    "the_dict = {\n",
    "    'a': [1, 2, 3],\n",
    "    'b': [4, 0, -4],\n",
    "    'c': [3, 5, 1069],\n",
    "    'd': (45, 12, 1008)\n",
    "}\n",
    "\n",
    "# Initialize variable to store the largest sum\n",
    "key_with_largest_value = None\n",
    "\n",
    "# Iterate through the values in the dictionary\n",
    "for val in the_dict.values():\n",
    "    val_sum = sum(val)  # Calculate the sum of the current iterable\n",
    "\n",
    "    # Check and update the largest sum\n",
    "    if key_with_largest_value is None:\n",
    "        key_with_largest_value = val_sum\n",
    "    elif key_with_largest_value < val_sum:\n",
    "        key_with_largest_value = val_sum\n",
    "\n",
    "# Print the largest sum\n",
    "print(key_with_largest_value)"
   ]
  },
  {
   "cell_type": "markdown",
   "id": "a9865f88",
   "metadata": {},
   "source": [
    "Note: This approach calculates the sum of each value (assumed to be an iterable) in the dictionary using a for loop and keeps track of the maximum sum encountered."
   ]
  },
  {
   "cell_type": "markdown",
   "id": "017aff0b",
   "metadata": {},
   "source": [
    "### Optimized Solution:"
   ]
  },
  {
   "cell_type": "code",
   "execution_count": null,
   "id": "496e1d1c",
   "metadata": {},
   "outputs": [],
   "source": [
    "# Initialize the dictionary\n",
    "the_dict = {\n",
    "    'a': [1, 2, 3],\n",
    "    'b': [4, 0, -4],\n",
    "    'c': [3, 5, 1069],\n",
    "    'd': (45, 12, 1008)\n",
    "}\n",
    "\n",
    "# Use max with a generator expression to find the largest sum\n",
    "key_with_largest_value = max(sum(val) for val in the_dict.values())\n",
    "\n",
    "# Print the largest sum\n",
    "print(key_with_largest_value)"
   ]
  },
  {
   "cell_type": "markdown",
   "id": "f2901c30",
   "metadata": {},
   "source": [
    "Note: This solution uses a generator expression with the max function to find the largest sum in a concise and efficient manner."
   ]
  },
  {
   "cell_type": "markdown",
   "id": "46c2e449",
   "metadata": {},
   "source": [
    "### Additional Practice:\n",
    "See For Loops - Practice Exercises & Challenges: Print the Max Sum of Values"
   ]
  }
 ],
 "metadata": {
  "kernelspec": {
   "display_name": "Python 3 (ipykernel)",
   "language": "python",
   "name": "python3"
  },
  "language_info": {
   "codemirror_mode": {
    "name": "ipython",
    "version": 3
   },
   "file_extension": ".py",
   "mimetype": "text/x-python",
   "name": "python",
   "nbconvert_exporter": "python",
   "pygments_lexer": "ipython3",
   "version": "3.11.4"
  }
 },
 "nbformat": 4,
 "nbformat_minor": 5
}
