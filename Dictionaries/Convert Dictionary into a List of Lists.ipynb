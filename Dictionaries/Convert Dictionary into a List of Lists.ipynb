{
 "cells": [
  {
   "cell_type": "markdown",
   "id": "de666638",
   "metadata": {},
   "source": [
    " # **Convert Dictionary into a List of Lists**"
   ]
  },
  {
   "cell_type": "markdown",
   "id": "b1b377e4",
   "metadata": {},
   "source": [
    "### Standard Approach:"
   ]
  },
  {
   "cell_type": "code",
   "execution_count": null,
   "id": "24184929",
   "metadata": {},
   "outputs": [],
   "source": [
    "# Initialize the dictionary\n",
    "the_dict = {\n",
    "    'description': 'shoe',\n",
    "    'price': 4.56,\n",
    "    'colors': ['green', 'blue', 'red']\n",
    "}\n",
    "\n",
    "# Initialize an empty list\n",
    "the_list = []\n",
    "\n",
    "# Iterate through the dictionary and append key-value pairs as nested lists\n",
    "for key, val in the_dict.items():\n",
    "    the_list.append([key, val])\n",
    "\n",
    "# Print the resulting list of lists\n",
    "print(the_list)"
   ]
  },
  {
   "cell_type": "markdown",
   "id": "a9865f88",
   "metadata": {},
   "source": [
    "Note: This approach manually iterates over the dictionary’s key-value pairs and appends them as nested lists to a new list."
   ]
  },
  {
   "cell_type": "markdown",
   "id": "017aff0b",
   "metadata": {},
   "source": [
    "### Optimized Solution:"
   ]
  },
  {
   "cell_type": "code",
   "execution_count": null,
   "id": "496e1d1c",
   "metadata": {},
   "outputs": [],
   "source": [
    "# Initialize the dictionary\n",
    "the_dict = {\n",
    "    'description': 'shoe',\n",
    "    'price': 4.56,\n",
    "    'colors': ['green', 'blue', 'red']\n",
    "}\n",
    "\n",
    "# Use a list comprehension to create the list of lists\n",
    "the_list = [[k, v] for k, v in the_dict.items()]\n",
    "\n",
    "# Print the resulting list of lists\n",
    "print(the_list)"
   ]
  },
  {
   "cell_type": "markdown",
   "id": "f2901c30",
   "metadata": {},
   "source": [
    "Note: In this solution, Python provides a concise and efficient way to create a list of lists using list comprehensions."
   ]
  },
  {
   "cell_type": "markdown",
   "id": "46c2e449",
   "metadata": {},
   "source": [
    "### Additional Practice:\n",
    "See For Loops - Practice Exercises & Challenges: Convert Dictionary into a List of Lists"
   ]
  }
 ],
 "metadata": {
  "kernelspec": {
   "display_name": "Python 3 (ipykernel)",
   "language": "python",
   "name": "python3"
  },
  "language_info": {
   "codemirror_mode": {
    "name": "ipython",
    "version": 3
   },
   "file_extension": ".py",
   "mimetype": "text/x-python",
   "name": "python",
   "nbconvert_exporter": "python",
   "pygments_lexer": "ipython3",
   "version": "3.11.4"
  }
 },
 "nbformat": 4,
 "nbformat_minor": 5
}
