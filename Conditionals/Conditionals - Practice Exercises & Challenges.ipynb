{
 "cells": [
  {
   "cell_type": "markdown",
   "id": "1a54ccbf",
   "metadata": {},
   "source": [
    "# Practice Exercises & Challenges - Conditionals"
   ]
  },
  {
   "cell_type": "markdown",
   "id": "356d2478",
   "metadata": {},
   "source": [
    "### 1. Practice Exercise: Determining Number Signs: Conditional Logic in Action"
   ]
  },
  {
   "cell_type": "markdown",
   "id": "4778e73c",
   "metadata": {},
   "source": [
    "1.1. What output do you expect if a non-numeric value is inputted?"
   ]
  },
  {
   "cell_type": "code",
   "execution_count": null,
   "id": "b8face61",
   "metadata": {},
   "outputs": [],
   "source": [
    "try:\n",
    "    the_number = int(input(\"Enter a number: \"))\n",
    "    result = 'Positive' # replace this with your code  else 'Negative' # replace this with your code  'Zero'\n",
    "    print(result)\n",
    "except ValueError:\n",
    "    print(\"Invalid input. Please enter a valid integer.\")\n"
   ]
  },
  {
   "cell_type": "markdown",
   "id": "81c2a243",
   "metadata": {},
   "source": [
    "1.2. How does the program handle extremely large or small numbers?"
   ]
  },
  {
   "cell_type": "code",
   "execution_count": null,
   "id": "2d89c8db",
   "metadata": {},
   "outputs": [],
   "source": [
    "the_number = int(input(\"Enter a very large number: \"))\n",
    "result = 'Positive' if # replace this with your code \n",
    "print(result)"
   ]
  },
  {
   "cell_type": "markdown",
   "id": "ae2348ed",
   "metadata": {},
   "source": [
    "1.3. Confirm the behavior of the program when zero is explicitly entered."
   ]
  },
  {
   "cell_type": "code",
   "execution_count": null,
   "id": "243bfd88",
   "metadata": {},
   "outputs": [],
   "source": [
    "the_number = 0\n",
    "result = 'Positive' # replace this with your code \n",
    "print(result) "
   ]
  },
  {
   "cell_type": "markdown",
   "id": "0b5a4c36",
   "metadata": {},
   "source": [
    "1.4. Test with numbers just above and below zero (e.g., -1, 1)."
   ]
  },
  {
   "cell_type": "code",
   "execution_count": null,
   "id": "990f0c97",
   "metadata": {},
   "outputs": [],
   "source": [
    "numbers = [-1, 1]\n",
    "for num in numbers:\n",
    "    result = # replace this with your code \n",
    "    print(f\"{num}: {result}\")"
   ]
  },
  {
   "cell_type": "markdown",
   "id": "2cb8dc3d",
   "metadata": {},
   "source": [
    "1.5. What happens if the user inputs a decimal value?"
   ]
  },
  {
   "cell_type": "code",
   "execution_count": null,
   "id": "8de5b3c0",
   "metadata": {},
   "outputs": [],
   "source": [
    "try:\n",
    "    the_number = float(input(\"Enter a decimal number: \"))\n",
    "    the_number = int(# replace this with your code )\n",
    "    result = # replace this with your code \n",
    "    print(result)\n",
    "except # replace this with your code :\n",
    "    print(\"Invalid input. Please enter a numeric value.\")\n"
   ]
  },
  {
   "cell_type": "markdown",
   "id": "4a7d2670",
   "metadata": {},
   "source": [
    "### 2. Practice Exercise: Classifying Characters: Applying Conditional Statements to Letters"
   ]
  },
  {
   "cell_type": "markdown",
   "id": "117d787b",
   "metadata": {},
   "source": [
    "2.1. How does the program behave if the input string has mixed case letters"
   ]
  },
  {
   "cell_type": "code",
   "execution_count": null,
   "id": "bddbbea7",
   "metadata": {},
   "outputs": [],
   "source": [
    "the_string = \"Apple\"\n",
    "for char in the_string.# replace this with your code:\n",
    "    if char in ('a', 'e', 'i', 'o', 'u'):\n",
    "        print(f'{char} is a vowel')\n",
    "    elif char.isalpha():\n",
    "        print(f'{char} is a consonant')"
   ]
  },
  {
   "cell_type": "markdown",
   "id": "4f4ec830",
   "metadata": {},
   "source": [
    "2.2. What is the output when the string is composed entirely of numbers?"
   ]
  },
  {
   "cell_type": "code",
   "execution_count": null,
   "id": "8bbded0c",
   "metadata": {},
   "outputs": [],
   "source": [
    "the_string = \"12345\"\n",
    "for char in the_string:\n",
    "    if not char.# replace this with your code:\n",
    "        print(f'\"{char}\" # replace this with your code')"
   ]
  },
  {
   "cell_type": "markdown",
   "id": "c3a0b0c3",
   "metadata": {},
   "source": [
    "2.3. How does the code categorize special characters like punctuation marks?"
   ]
  },
  {
   "cell_type": "code",
   "execution_count": null,
   "id": "960706bf",
   "metadata": {},
   "outputs": [],
   "source": [
    "the_string = \"!@#$%\"\n",
    "for char in # replace this with your code:\n",
    "    if not char.isalpha():\n",
    "        print(f'\"{char}\" # replace this with your code')\n",
    " "
   ]
  },
  {
   "cell_type": "markdown",
   "id": "965041bc",
   "metadata": {},
   "source": [
    "2.4. What happens when the string includes Unicode characters?"
   ]
  },
  {
   "cell_type": "code",
   "execution_count": null,
   "id": "0d1d8d65",
   "metadata": {},
   "outputs": [],
   "source": [
    "the_string = \"ñandú\"\n",
    "for char in the_string.lower():\n",
    "    if char.isalpha() and not char in ('a', 'e', 'i', 'o', 'u'):\n",
    "        print(f'{char} # replace this with your code')\n",
    "    elif char.isalpha():\n",
    "        print(f'{char} # replace this with your code')\n",
    "    else:\n",
    "        print(f'\"{char}\" # replace this with your code')"
   ]
  },
  {
   "cell_type": "markdown",
   "id": "698fbad2",
   "metadata": {},
   "source": [
    "2.5. What is the output if the string contains a sequence of vowels?"
   ]
  },
  {
   "cell_type": "code",
   "execution_count": null,
   "id": "b616d53e",
   "metadata": {},
   "outputs": [],
   "source": [
    "the_string = \"aeiou\"\n",
    "for char in the_string.lower():\n",
    "    if char in # replace this with your code:\n",
    "        print(f'{char} # replace this with your code')\n"
   ]
  },
  {
   "cell_type": "markdown",
   "id": "76d70660",
   "metadata": {},
   "source": [
    "### 3. Practice Exercise: Determining Seasons with Conditional Logic"
   ]
  },
  {
   "cell_type": "markdown",
   "id": "613651f2",
   "metadata": {},
   "source": [
    "3.1. What is the output for the edge numbers 1 and 4? Test these values to verify that the program handles boundary inputs correctly."
   ]
  },
  {
   "cell_type": "code",
   "execution_count": null,
   "id": "6df488ae",
   "metadata": {},
   "outputs": [],
   "source": [
    "print(['Spring', 'Winter', 'Summer', 'Fall'][# replace this with your code]) \n",
    "print(['Spring', 'Winter', 'Summer', 'Fall'][# replace this with your code])  "
   ]
  },
  {
   "cell_type": "markdown",
   "id": "c5fb03d5",
   "metadata": {},
   "source": [
    "3.2. What happens if the number is 5? Ensure the program correctly identifies and handles numbers outside the valid range."
   ]
  },
  {
   "cell_type": "code",
   "execution_count": null,
   "id": "adb6d53e",
   "metadata": {},
   "outputs": [],
   "source": [
    "the_season_num = 5\n",
    "if the_season_num > 4:\n",
    "    # replace this with your code"
   ]
  },
  {
   "cell_type": "markdown",
   "id": "2016803c",
   "metadata": {},
   "source": [
    "3.3. How does the program respond to a number 0? Check if the program properly manages numbers below the acceptable range."
   ]
  },
  {
   "cell_type": "code",
   "execution_count": null,
   "id": "d1f31c7f",
   "metadata": {},
   "outputs": [],
   "source": [
    "the_season_num = 0\n",
    "if the_season_num < 1:\n",
    "    # replace this with your code"
   ]
  },
  {
   "cell_type": "markdown",
   "id": "18d40240",
   "metadata": {},
   "source": [
    "3.4. Discuss what modifications would be necessary to handle non-integer values, such as strings or floats."
   ]
  },
  {
   "cell_type": "code",
   "execution_count": null,
   "id": "c868fb2b",
   "metadata": {},
   "outputs": [],
   "source": [
    "input_val = \"three\"\n",
    "try:\n",
    "    the_season_num = int(input_val)\n",
    "     # replace this with your code\n",
    "        print(['Spring', 'Winter', 'Summer', 'Fall'][ # replace this with your code])\n",
    "except ValueError:\n",
    "    print(\"Please enter a valid integer number for your season.\")\n"
   ]
  },
  {
   "cell_type": "markdown",
   "id": "5f7434e7",
   "metadata": {},
   "source": [
    "3.5. Modify the program to handle various types of incorrect inputs (e.g., non-numeric values, empty input) and loop until a valid season number is entered."
   ]
  },
  {
   "cell_type": "code",
   "execution_count": null,
   "id": "feba4038",
   "metadata": {},
   "outputs": [],
   "source": [
    "while True:\n",
    "    input_value = input(\"Enter a season number (1-4) or 'exit' to quit: \")\n",
    "    try:\n",
    "        the_season_num = int(input_value)\n",
    "        # replace this with your code\n",
    "            print(['Spring', 'Winter', 'Summer', 'Fall'][the_season_num - 1])\n",
    "            break\n",
    "        else:\n",
    "            # replace this with your code]\n",
    "    except ValueError:\n",
    "        if # replace this with your code.lower() == 'exit':\n",
    "            break\n",
    "        print(\"Invalid input. Please enter a numeric value.\")\n"
   ]
  },
  {
   "cell_type": "markdown",
   "id": "a4c1e9e4",
   "metadata": {},
   "source": [
    "### 4. Practice Exercise: Evaluating Leap Years with Conditional Logic"
   ]
  },
  {
   "cell_type": "markdown",
   "id": "22f7077c",
   "metadata": {},
   "source": [
    "4.1. What is the output for the year 1900?"
   ]
  },
  {
   "cell_type": "code",
   "execution_count": null,
   "id": "5c4baf51",
   "metadata": {},
   "outputs": [],
   "source": [
    "# replace this with your code\n",
    "\n",
    "if the_year % 4 != 0:\n",
    "    print(f'{the_year} is not a leap year.')\n",
    "elif the_year % 100 != 0:\n",
    "    print(f'{the_year} is a leap year.')\n",
    "elif the_year % 400 != 0:\n",
    "    print(f'{the_year} is not a leap year.')\n",
    "else:\n",
    "    print(f'{the_year} is a leap year.')"
   ]
  },
  {
   "cell_type": "markdown",
   "id": "e923f237",
   "metadata": {},
   "source": [
    "4.2. What is the output for the year 2024?"
   ]
  },
  {
   "cell_type": "code",
   "execution_count": null,
   "id": "cb51268a",
   "metadata": {},
   "outputs": [],
   "source": [
    "# replace this with your code\n",
    "\n",
    "if the_year % 4 != 0:\n",
    "    print(f'{the_year} is not a leap year.')\n",
    "elif the_year % 100 != 0:\n",
    "    print(f'{the_year} is a leap year.')\n",
    "elif the_year % 400 != 0:\n",
    "    print(f'{the_year} is not a leap year.')\n",
    "else:\n",
    "    print(f'{the_year} is a leap year.')"
   ]
  },
  {
   "cell_type": "markdown",
   "id": "07ec3522",
   "metadata": {},
   "source": [
    "4.3. What is the output for the year 2019?"
   ]
  },
  {
   "cell_type": "code",
   "execution_count": null,
   "id": "08091933",
   "metadata": {},
   "outputs": [],
   "source": [
    "# replace this with your code\n",
    "\n",
    "if the_year % 4 != 0:\n",
    "    print(f'{the_year} is not a leap year.')\n",
    "elif the_year % 100 != 0:\n",
    "    print(f'{the_year} is a leap year.')\n",
    "elif the_year % 400 != 0:\n",
    "    print(f'{the_year} is not a leap year.')\n",
    "else:\n",
    "    print(f'{the_year} is a leap year.')"
   ]
  },
  {
   "cell_type": "markdown",
   "id": "7099e7e7",
   "metadata": {},
   "source": [
    "4.4. What is the output for the year 2000?"
   ]
  },
  {
   "cell_type": "code",
   "execution_count": null,
   "id": "3247cbf7",
   "metadata": {},
   "outputs": [],
   "source": [
    " # replace this with your code\n",
    "    \n",
    "if the_year % 4 != 0:\n",
    "    print(f'{the_year} is not a leap year.')\n",
    "elif the_year % 100 != 0:\n",
    "    print(f'{the_year} is a leap year.')\n",
    "elif the_year % 400 != 0:\n",
    "    print(f'{the_year} is not a leap year.')\n",
    "else:\n",
    "    print(f'{the_year} is a leap year.')"
   ]
  },
  {
   "cell_type": "markdown",
   "id": "78c8a8e3",
   "metadata": {},
   "source": [
    "4.5. Modify the program to accept user input for the year and determine if it is a leap year using the optimized logic."
   ]
  },
  {
   "cell_type": "code",
   "execution_count": null,
   "id": "9367f5fc",
   "metadata": {},
   "outputs": [],
   "source": [
    "the_year = # replace this with your code\n",
    "if the_year % 4 != 0:\n",
    "    print(f'{the_year} is not a leap year.')\n",
    "elif the_year % 100 != 0:\n",
    "    print(f'{the_year} is a leap year.')\n",
    "elif the_year % 400 != 0:\n",
    "    print(f'{the_year} is not a leap year.')\n",
    "else:\n",
    "    print(f'{the_year} is a leap year.')"
   ]
  },
  {
   "cell_type": "markdown",
   "id": "13ea6d4a",
   "metadata": {},
   "source": [
    "### 5. Practice Exercise: Determining Equality - A Conditional Comparison of Three Numbers"
   ]
  },
  {
   "cell_type": "markdown",
   "id": "21533a29",
   "metadata": {},
   "source": [
    "5.1. What is the output if all three numbers are 5?"
   ]
  },
  {
   "cell_type": "code",
   "execution_count": null,
   "id": "57c2649f",
   "metadata": {},
   "outputs": [],
   "source": [
    "a = 5\n",
    "b = 5\n",
    "c = 5\n",
    "\n",
    "if a == b == c:\n",
    "    # replace this with your code\n",
    "else:\n",
    "    print('Not Equal')"
   ]
  },
  {
   "cell_type": "markdown",
   "id": "0a85a746",
   "metadata": {},
   "source": [
    "5.2. What is the output for the numbers (1, 2, 3)?"
   ]
  },
  {
   "cell_type": "code",
   "execution_count": null,
   "id": "820bc26b",
   "metadata": {},
   "outputs": [],
   "source": [
    "a = 1\n",
    "b = 2\n",
    "c = 3\n",
    "\n",
    "if a == b == c:\n",
    "    print('Equal')\n",
    "else:\n",
    "    # replace this with your code"
   ]
  },
  {
   "cell_type": "markdown",
   "id": "d75f0d0e",
   "metadata": {},
   "source": [
    "5.3. What happens if two numbers are the same and one is different, for example, (2, 2, 3)?"
   ]
  },
  {
   "cell_type": "code",
   "execution_count": null,
   "id": "75425793",
   "metadata": {},
   "outputs": [],
   "source": [
    "a = 2\n",
    "b = 2\n",
    "c = 3\n",
    "\n",
    "if a == b == c:\n",
    "    # replace this with your code\n",
    "else:\n",
    "    # replace this with your code"
   ]
  },
  {
   "cell_type": "markdown",
   "id": "4ef2634f",
   "metadata": {},
   "source": [
    "5.4. Test the function with negative numbers, for example, (-1, -1, -1)."
   ]
  },
  {
   "cell_type": "code",
   "execution_count": null,
   "id": "81957606",
   "metadata": {},
   "outputs": [],
   "source": [
    "a = # replace this with your code\n",
    "b = # replace this with your code\n",
    "c = # replace this with your code\n",
    "\n",
    "if a == b == c:\n",
    "    # replace this with your code\n",
    "else:\n",
    "    # replace this with your code"
   ]
  },
  {
   "cell_type": "markdown",
   "id": "0dd5b67c",
   "metadata": {},
   "source": [
    "5.5. Modify the program to accept three numbers from the user and use the optimized logic to determine if they are equal."
   ]
  },
  {
   "cell_type": "code",
   "execution_count": null,
   "id": "a71a1fe1",
   "metadata": {},
   "outputs": [],
   "source": [
    "a = # replace this with your code\n",
    "b = # replace this with your code\n",
    "c = # replace this with your code\n",
    "\n",
    "# replace this with your code:\n",
    "    print('Equal')\n",
    "else:\n",
    "    print('Not Equal')\n"
   ]
  },
  {
   "cell_type": "markdown",
   "id": "ba4cf44a",
   "metadata": {},
   "source": [
    "### 6. Practice Exercise: Identifying the Highest Number in a List with IF"
   ]
  },
  {
   "cell_type": "markdown",
   "id": "bce06cd4",
   "metadata": {},
   "source": [
    "6.1. What is the output if the list is []?"
   ]
  },
  {
   "cell_type": "code",
   "execution_count": null,
   "id": "e7ae2257",
   "metadata": {},
   "outputs": [],
   "source": [
    "the_list = # replace this with your code\n",
    "\n",
    "if # replace this with your code:\n",
    "    print(f\"The maximum value is {max(# replace this with your code:)}.\")\n",
    "else:\n",
    "    print(\"The list is empty.\")\n"
   ]
  },
  {
   "cell_type": "markdown",
   "id": "1dce4fe9",
   "metadata": {},
   "source": [
    "6.2. What is the output for the list [42]?"
   ]
  },
  {
   "cell_type": "code",
   "execution_count": null,
   "id": "3bea87b8",
   "metadata": {},
   "outputs": [],
   "source": [
    "the_list = # replace this with your code\n",
    "\n",
    "if # replace this with your code:\n",
    "    print(f\"The maximum value is {max(# replace this with your code)}.\")\n",
    "else:\n",
    "    print(\"The list is empty.\")\n"
   ]
  },
  {
   "cell_type": "markdown",
   "id": "6b99e120",
   "metadata": {},
   "source": [
    "6.3. What is the output for the list [-10, -45, -32]?"
   ]
  },
  {
   "cell_type": "code",
   "execution_count": null,
   "id": "6eaa36f2",
   "metadata": {},
   "outputs": [],
   "source": [
    "the_list = # replace this with your code\n",
    "\n",
    "if # replace this with your code:\n",
    "    print(f\"The maximum value is {# replace this with your code}.\")\n",
    "else:\n",
    "    print(\"The list is empty.\")"
   ]
  },
  {
   "cell_type": "markdown",
   "id": "4f8b76ca",
   "metadata": {},
   "source": [
    "6.4. What happens if the list contains mixed types, such as [10, 'twenty', 30]?"
   ]
  },
  {
   "cell_type": "code",
   "execution_count": null,
   "id": "ba345091",
   "metadata": {},
   "outputs": [],
   "source": [
    "the_list = # replace this with your code\n",
    "\n",
    "try:\n",
    "    print(f\"The maximum value is {# replace this with your code}.\")\n",
    "except TypeError:\n",
    "    print(\"Error: List contains non-comparable types.\")\n"
   ]
  },
  {
   "cell_type": "markdown",
   "id": "3c57be74",
   "metadata": {},
   "source": [
    "6.5. Modify the program to accept numbers from the user to populate the list and then determine the maximum value using the optimized approach."
   ]
  },
  {
   "cell_type": "code",
   "execution_count": null,
   "id": "10a76c1e",
   "metadata": {},
   "outputs": [],
   "source": [
    "user_input = input(# replace this with your code)\n",
    "try:\n",
    "    the_list = list(map(int, user_input.split(',')))\n",
    "    if # replace this with your code:\n",
    "        print(f\"The maximum value is {max(the_list)}.\")\n",
    "    else:\n",
    "        print(\"The list is empty.\")\n",
    "except ValueError:\n",
    "    print(\"Invalid input. Please enter only numbers separated by commas.\")\n"
   ]
  },
  {
   "cell_type": "markdown",
   "id": "562f852a",
   "metadata": {},
   "source": [
    "### 7. Practice Exercise: Find Number of Days in a Month"
   ]
  },
  {
   "cell_type": "markdown",
   "id": "7680f83f",
   "metadata": {},
   "source": [
    "7.1. What is the output for July 2023?"
   ]
  },
  {
   "cell_type": "code",
   "execution_count": null,
   "id": "1a4f5b8e",
   "metadata": {},
   "outputs": [],
   "source": [
    "month = # replace this with your code\n",
    "year = # replace this with your code\n",
    "\n",
    "if month in [1, 3, 5, 7, 8, 10, 12]:\n",
    "    print(\"31 days\")\n",
    "elif month in [4, 6, 9, 11]:\n",
    "    print(\"30 days\")\n",
    "elif month == 2:\n",
    "    days = 29 if (year % 4 == 0 and year % 100 != 0) or (year % 400 == 0) else 28\n",
    "    print(f\"{days} days\")\n",
    "else:\n",
    "    print(\"Invalid month\")"
   ]
  },
  {
   "cell_type": "markdown",
   "id": "cd046106",
   "metadata": {},
   "source": [
    "7.2. What is the output for November 2023?"
   ]
  },
  {
   "cell_type": "code",
   "execution_count": null,
   "id": "540a8467",
   "metadata": {},
   "outputs": [],
   "source": [
    "month = # replace this with your code\n",
    "year = # replace this with your code\n",
    "\n",
    "if month in [1, 3, 5, 7, 8, 10, 12]:\n",
    "    print(\"31 days\")\n",
    "elif month in [4, 6, 9, 11]:\n",
    "    print(\"30 days\")\n",
    "elif month == 2:\n",
    "    days = 29 if (year % 4 == 0 and year % 100 != 0) or (year % 400 == 0) else 28\n",
    "    print(f\"{days} days\")\n",
    "else:\n",
    "    print(\"Invalid month\")"
   ]
  },
  {
   "cell_type": "markdown",
   "id": "b898a48a",
   "metadata": {},
   "source": [
    "7.3. What is the output for February 2024?"
   ]
  },
  {
   "cell_type": "code",
   "execution_count": null,
   "id": "c7793b74",
   "metadata": {},
   "outputs": [],
   "source": [
    "month = # replace this with your code\n",
    "year = # replace this with your code\n",
    "\n",
    "if month in [1, 3, 5, 7, 8, 10, 12]:\n",
    "    print(\"31 days\")\n",
    "elif month in [4, 6, 9, 11]:\n",
    "    print(\"30 days\")\n",
    "elif month == 2:\n",
    "    days = 29 if (year % 4 == 0 and year % 100 != 0) or (year % 400 == 0) else 28\n",
    "    print(f\"{days} days\")\n",
    "else:\n",
    "    print(\"Invalid month\")"
   ]
  },
  {
   "cell_type": "markdown",
   "id": "d572f83c",
   "metadata": {},
   "source": [
    "7.4. What is the output for February 2023?"
   ]
  },
  {
   "cell_type": "code",
   "execution_count": null,
   "id": "35ab3d6a",
   "metadata": {},
   "outputs": [],
   "source": [
    "month = # replace this with your code\n",
    "year = # replace this with your code\n",
    "\n",
    "if month in [1, 3, 5, 7, 8, 10, 12]:\n",
    "    print(\"31 days\")\n",
    "elif month in [4, 6, 9, 11]:\n",
    "    print(\"30 days\")\n",
    "elif month == 2:\n",
    "    days = 29 if (year % 4 == 0 and year % 100 != 0) or (year % 400 == 0) else 28\n",
    "    print(f\"{days} days\")\n",
    "else:\n",
    "    print(\"Invalid month\")"
   ]
  },
  {
   "cell_type": "markdown",
   "id": "d33dca9d",
   "metadata": {},
   "source": [
    "7.5. Modify the program to handle user input for month and year, ensuring invalid entries such as strings or out-of-range months are gracefully handled."
   ]
  },
  {
   "cell_type": "code",
   "execution_count": null,
   "id": "301f2584",
   "metadata": {},
   "outputs": [],
   "source": [
    "# replace this with your code:\n",
    "    month = int(input(\"Enter the month as a number (1-12): \"))\n",
    "    year = int(input(\"Enter the year: \"))\n",
    "    if month in # replace this with your code\n",
    "        print(\"31 days\")\n",
    "    elif month in # replace this with your code\n",
    "        print(\"30 days\")\n",
    "    elif month == 2:\n",
    "        days = 29 if (year % 4 == 0 and year % 100 != 0) or (year % 400 == 0) else 28\n",
    "        print(f\"{days} days\")\n",
    "    else:\n",
    "        print(\"Invalid month\")\n",
    "# replace this with your code ValueError:\n",
    "    print(\"Please enter valid numeric values.\")\n"
   ]
  },
  {
   "cell_type": "markdown",
   "id": "880b14e6",
   "metadata": {},
   "source": [
    "### 8. Practice Exercise: Evaluating Academic Performance"
   ]
  },
  {
   "cell_type": "markdown",
   "id": "014c9ecb",
   "metadata": {},
   "source": [
    "8.1. Modify the program to use an alternative grading scale where \"A+\" is 95 and above, and \"A\" is 90 to 94. What is the output for a score of 96?"
   ]
  },
  {
   "cell_type": "code",
   "execution_count": null,
   "id": "77538830",
   "metadata": {},
   "outputs": [],
   "source": [
    "score = # replace this with your code\n",
    "# Build the conditional logic here"
   ]
  },
  {
   "cell_type": "markdown",
   "id": "6458426f",
   "metadata": {},
   "source": [
    "8.2. Adapt the program to handle decimal scores. What is the output if the score is 89.5, assuming it rounds to the nearest whole number for grading?"
   ]
  },
  {
   "cell_type": "code",
   "execution_count": null,
   "id": "a7cf85d6",
   "metadata": {},
   "outputs": [],
   "source": [
    "score = 89.5\n",
    "rounded_score = round(score)\n",
    "# Proceed with the grading logic...\n",
    "print(f\"Grade: {# replace this with your code}\")\n"
   ]
  },
  {
   "cell_type": "markdown",
   "id": "b995f04f",
   "metadata": {},
   "source": [
    "8.3. What happens if the user inputs \"99.9\" in the optimized version? Does the program handle decimal scores correctly?"
   ]
  },
  {
   "cell_type": "code",
   "execution_count": null,
   "id": "86eac684",
   "metadata": {},
   "outputs": [],
   "source": [
    "score = \"99.9\"\n",
    "if not score.isdigit() and not (0 <= float(score) <= 100):\n",
    "    print(\"Invalid score. Please enter a valid number between 0 and 100.\")\n",
    "else:\n",
    "    score = float(score)\n",
    "    # replace this with your code"
   ]
  },
  {
   "cell_type": "markdown",
   "id": "066f6ef0",
   "metadata": {},
   "source": [
    "8.4. Test the program with a non-numeric input such as \"one hundred\". What should the program output, and how might you improve the validation to guide the user more effectively?"
   ]
  },
  {
   "cell_type": "code",
   "execution_count": null,
   "id": "8e76124d",
   "metadata": {},
   "outputs": [],
   "source": [
    "score = # replace this with your code\n",
    "try:\n",
    "    score = int(# replace this with your code)\n",
    "# replace this with your code ValueError:\n",
    "    print(\"Please enter a numeric score.\")\n"
   ]
  },
  {
   "cell_type": "markdown",
   "id": "941e811f",
   "metadata": {},
   "source": [
    "8.5. Modify the code to include specific feedback for scores below 0 or above 100, explaining why the score is invalid."
   ]
  },
  {
   "cell_type": "code",
   "execution_count": null,
   "id": "6549ae69",
   "metadata": {},
   "outputs": [],
   "source": [
    "score = 101  # Or -1\n",
    "if # replace this with your code:\n",
    "    print(\"Invalid score. Scores cannot be negative.\")\n",
    "elif # replace this with your code\n",
    "    print(\"Invalid score. Scores cannot exceed 100.\")\n",
    "else:\n",
    "    print(\"The score is valid\")"
   ]
  },
  {
   "cell_type": "markdown",
   "id": "d9838a60",
   "metadata": {},
   "source": [
    "### 9. Practice Exercise: Password Strength Checker"
   ]
  },
  {
   "cell_type": "markdown",
   "id": "2d4546ff",
   "metadata": {},
   "source": [
    "9.1. What is the output for the password \"abc123\"?"
   ]
  },
  {
   "cell_type": "code",
   "execution_count": null,
   "id": "084e03ff",
   "metadata": {},
   "outputs": [],
   "source": [
    "password = # replace this with your code\n",
    "\n",
    "if len(password) < 8:\n",
    "    print(\"Password is Weak: Too short.\")\n",
    "else:\n",
    "    has_upper = False\n",
    "    has_lower = False\n",
    "    has_digit = False\n",
    "    has_special = False\n",
    "\n",
    "    for char in password:\n",
    "        if char.isupper():\n",
    "            has_upper = True\n",
    "        elif char.islower():\n",
    "            has_lower = True\n",
    "        elif char.isdigit():\n",
    "            has_digit = True\n",
    "        elif char in \"!@#$%^&*()-_+=<>?/|\":\n",
    "            has_special = True\n",
    "\n",
    "    # Fill in the logical condition to determine if the password is strong, moderate, or weak\n",
    "    if ___________:  \n",
    "        print(\"Password is Strong.\")\n",
    "    elif ___________: \n",
    "        print(\"Password is Moderate.\")\n",
    "    else:\n",
    "        print(\"Password is Weak.\")"
   ]
  },
  {
   "cell_type": "markdown",
   "id": "6d916a0c",
   "metadata": {},
   "source": [
    "9.2. What is the output for the password \"Strong#2024\"?"
   ]
  },
  {
   "cell_type": "code",
   "execution_count": null,
   "id": "1e81493a",
   "metadata": {},
   "outputs": [],
   "source": [
    "# use the logic from 9.1 to answer this question. Don't forget to update the string for the variable password"
   ]
  },
  {
   "cell_type": "markdown",
   "id": "65b9089b",
   "metadata": {},
   "source": [
    "9.3. What is the output for the password \"Moderate12\"?"
   ]
  },
  {
   "cell_type": "code",
   "execution_count": null,
   "id": "844ac3c9",
   "metadata": {},
   "outputs": [],
   "source": [
    "# use the logic from 9.1 to answer this question. Don't forget to update the string for the variable password"
   ]
  },
  {
   "cell_type": "markdown",
   "id": "45727aa6",
   "metadata": {},
   "source": [
    "9.4. What is the output for the password \"Weak!\"?"
   ]
  },
  {
   "cell_type": "code",
   "execution_count": null,
   "id": "e2a804be",
   "metadata": {},
   "outputs": [],
   "source": [
    "# use the logic from 9.1 to answer this question. Don't forget to update the string for the variable password"
   ]
  },
  {
   "cell_type": "markdown",
   "id": "8945fd71",
   "metadata": {},
   "source": [
    "9.5. What is the output for the password \"NoSpecial2020\"?"
   ]
  },
  {
   "cell_type": "code",
   "execution_count": null,
   "id": "e7f3550d",
   "metadata": {},
   "outputs": [],
   "source": [
    "# use the logic from 9.1 to answer this question. Don't forget to update the string for the variable password"
   ]
  },
  {
   "cell_type": "markdown",
   "id": "4b80e87a",
   "metadata": {},
   "source": [
    "### 10. Practice Exercise: Calculate Electricity Bill Based on Units"
   ]
  },
  {
   "cell_type": "markdown",
   "id": "c54d5089",
   "metadata": {},
   "source": [
    "10.1. What is the bill for 50 units?"
   ]
  },
  {
   "cell_type": "code",
   "execution_count": null,
   "id": "9c391c9f",
   "metadata": {},
   "outputs": [],
   "source": [
    "units = int(input(\"Enter the number of units consumed: \"))\n",
    "\n",
    "________ units <= 100: # Fill in the correct conditional for the first slab\n",
    "    bill = units * 0.50\n",
    "elif ________:  # Fill in the correct conditional for the second slab\n",
    "    bill = (100 * 0.50) + ((units - 100) * 0.75)\n",
    "________________:  # Fill in the correct conditional for the third slab\n",
    "    bill = (100 * 0.50) + (100 * 0.75) + ((units - 200) * 1.20)\n",
    "________:  # Provide the conditional logic that leads to this slab\n",
    "    bill = (100 * 0.50) + (100 * 0.75) + (100 * 1.20) + ((units - 300) * 1.50)\n",
    "\n",
    "print(f\"Your electricity bill is: ${bill:.2f}\")\n"
   ]
  },
  {
   "cell_type": "markdown",
   "id": "61b53e67",
   "metadata": {},
   "source": [
    "10.2. Calculate the bill for 150 units."
   ]
  },
  {
   "cell_type": "code",
   "execution_count": null,
   "id": "e5fea837",
   "metadata": {},
   "outputs": [],
   "source": [
    "# use the logic from 10.1 to answer this question. "
   ]
  },
  {
   "cell_type": "markdown",
   "id": "cfd7b312",
   "metadata": {},
   "source": [
    "10.3. Determine the bill for 250 units."
   ]
  },
  {
   "cell_type": "code",
   "execution_count": null,
   "id": "e6ba8a80",
   "metadata": {},
   "outputs": [],
   "source": [
    "# use the logic from 10.1 to answer this question. "
   ]
  },
  {
   "cell_type": "markdown",
   "id": "0984cb24",
   "metadata": {},
   "source": [
    "10.4. What is the bill for 350 units?"
   ]
  },
  {
   "cell_type": "code",
   "execution_count": null,
   "id": "f0b47bfc",
   "metadata": {},
   "outputs": [],
   "source": [
    "# use the logic from 10.1 to answer this question. "
   ]
  },
  {
   "cell_type": "markdown",
   "id": "016fa8e7",
   "metadata": {},
   "source": [
    "10.5. What happens if the input is 0 units?"
   ]
  },
  {
   "cell_type": "code",
   "execution_count": null,
   "id": "c8cd27c0",
   "metadata": {},
   "outputs": [],
   "source": [
    "# use the logic from 10.1 to answer this question. "
   ]
  },
  {
   "cell_type": "markdown",
   "id": "ad5bfd03",
   "metadata": {},
   "source": [
    "### Solution Available at: Conditional Solutions: Practice Exercises & Challenges"
   ]
  }
 ],
 "metadata": {
  "kernelspec": {
   "display_name": "Python 3 (ipykernel)",
   "language": "python",
   "name": "python3"
  },
  "language_info": {
   "codemirror_mode": {
    "name": "ipython",
    "version": 3
   },
   "file_extension": ".py",
   "mimetype": "text/x-python",
   "name": "python",
   "nbconvert_exporter": "python",
   "pygments_lexer": "ipython3",
   "version": "3.11.4"
  }
 },
 "nbformat": 4,
 "nbformat_minor": 5
}
