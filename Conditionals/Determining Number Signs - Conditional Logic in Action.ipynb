{
 "cells": [
  {
   "cell_type": "markdown",
   "id": "de666638",
   "metadata": {},
   "source": [
    " # **Conditionals: Zero, Positive, or Negative**"
   ]
  },
  {
   "cell_type": "markdown",
   "id": "b1b377e4",
   "metadata": {},
   "source": [
    "### Standard Approach:"
   ]
  },
  {
   "cell_type": "code",
   "execution_count": null,
   "id": "24184929",
   "metadata": {},
   "outputs": [],
   "source": [
    "the_number = int(input(\"Enter a number: \"))\n",
    "\n",
    "# Step 1: Evaluate if the number is positive\n",
    "if the_number > 0:\n",
    "    print('Positive')  \n",
    "\n",
    "# Step 2: Evaluate if the number is negative\n",
    "elif the_number < 0:\n",
    "    print('Negative')  \n",
    "\n",
    "# Step 3: Evaluate if the number is zero\n",
    "else:\n",
    "    print('Zero')  \n"
   ]
  },
  {
   "cell_type": "markdown",
   "id": "a9865f88",
   "metadata": {},
   "source": [
    "Note: This approach uses a standard if, elif, else structure to evaluate whether a number entered by the user is positive, negative, or zero, and then prints the result accordingly."
   ]
  },
  {
   "cell_type": "markdown",
   "id": "017aff0b",
   "metadata": {},
   "source": [
    "### Optimized Solution:"
   ]
  },
  {
   "cell_type": "code",
   "execution_count": null,
   "id": "496e1d1c",
   "metadata": {},
   "outputs": [],
   "source": [
    "the_number = int(input(\"Enter a number: \"))\n",
    "\n",
    "# Single line conditional expression\n",
    "result = 'Positive' if the_number > 0 else 'Negative' if the_number < 0 else 'Zero'\n",
    "print(result) \n"
   ]
  },
  {
   "cell_type": "markdown",
   "id": "f2901c30",
   "metadata": {},
   "source": [
    "Note: This solution employs Python's ternary operators for a more concise version of the conditional logic, effectively reducing the multi-line if-elif-else into a single line of code."
   ]
  },
  {
   "cell_type": "markdown",
   "id": "46c2e449",
   "metadata": {},
   "source": [
    "### Additional Practice:\n",
    "See Conditionals - Practice Exercises & Challenges: Conditionals: Zero, Positive, or Negative"
   ]
  }
 ],
 "metadata": {
  "kernelspec": {
   "display_name": "Python 3 (ipykernel)",
   "language": "python",
   "name": "python3"
  },
  "language_info": {
   "codemirror_mode": {
    "name": "ipython",
    "version": 3
   },
   "file_extension": ".py",
   "mimetype": "text/x-python",
   "name": "python",
   "nbconvert_exporter": "python",
   "pygments_lexer": "ipython3",
   "version": "3.11.4"
  }
 },
 "nbformat": 4,
 "nbformat_minor": 5
}
