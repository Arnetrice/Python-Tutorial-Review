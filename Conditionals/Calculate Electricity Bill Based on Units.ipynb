{
 "cells": [
  {
   "cell_type": "markdown",
   "id": "de666638",
   "metadata": {},
   "source": [
    " # **Calculate Electricity Bill Based on Units**"
   ]
  },
  {
   "cell_type": "markdown",
   "id": "b1b377e4",
   "metadata": {},
   "source": [
    "### Standard Approach:"
   ]
  },
  {
   "cell_type": "code",
   "execution_count": null,
   "id": "24184929",
   "metadata": {},
   "outputs": [],
   "source": [
    "units = int(input(\"Enter the number of units consumed: \"))\n",
    "\n",
    "if units <= 100:\n",
    "    bill = units * 0.50\n",
    "elif units <= 200:\n",
    "    bill = (100 * 0.50) + ((units - 100) * 0.75)\n",
    "elif units <= 300:\n",
    "    bill = (100 * 0.50) + (100 * 0.75) + ((units - 200) * 1.20)\n",
    "else:\n",
    "    bill = (100 * 0.50) + (100 * 0.75) + (100 * 1.20) + ((units - 300) * 1.50)\n",
    "\n",
    "print(f\"Your electricity bill is: ${bill:.2f}\")\n"
   ]
  },
  {
   "cell_type": "markdown",
   "id": "a9865f88",
   "metadata": {},
   "source": [
    "Note: This approach directly calculates the electricity bill using conditional branching to apply different rates based on the number of units consumed. It’s straightforward but can get slightly repetitive with the addition of more tariff slabs."
   ]
  },
  {
   "cell_type": "markdown",
   "id": "017aff0b",
   "metadata": {},
   "source": [
    "### Optimized Solution:"
   ]
  },
  {
   "cell_type": "code",
   "execution_count": null,
   "id": "496e1d1c",
   "metadata": {},
   "outputs": [],
   "source": [
    "units = int(input(\"Enter the number of units consumed: \"))\n",
    "\n",
    "rates = [(100, 0.50), (100, 0.75), (100, 1.20), (float('inf'), 1.50)]\n",
    "bill = 0\n",
    "\n",
    "for limit, rate in rates:\n",
    "    if units > limit:\n",
    "        bill += limit * rate\n",
    "        units -= limit\n",
    "    else:\n",
    "        bill += units * rate\n",
    "        break\n",
    "\n",
    "print(f\"Your electricity bill is: ${bill:.2f}\")"
   ]
  },
  {
   "cell_type": "markdown",
   "id": "f2901c30",
   "metadata": {},
   "source": [
    "Note: This solution refines the billing process by employing a loop over a list of tuples, each containing a unit limit and its corresponding rate. It automates the process of billing against progressive rates, making the code scalable and easier to manage."
   ]
  },
  {
   "cell_type": "markdown",
   "id": "46c2e449",
   "metadata": {},
   "source": [
    "### Additional Practice:\n",
    "See Conditionals - Practice Exercises & Challenges: Calculate Electricity Bill Based on Units"
   ]
  }
 ],
 "metadata": {
  "kernelspec": {
   "display_name": "Python 3 (ipykernel)",
   "language": "python",
   "name": "python3"
  },
  "language_info": {
   "codemirror_mode": {
    "name": "ipython",
    "version": 3
   },
   "file_extension": ".py",
   "mimetype": "text/x-python",
   "name": "python",
   "nbconvert_exporter": "python",
   "pygments_lexer": "ipython3",
   "version": "3.11.4"
  }
 },
 "nbformat": 4,
 "nbformat_minor": 5
}
