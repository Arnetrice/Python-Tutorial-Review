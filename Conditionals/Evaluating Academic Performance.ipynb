{
 "cells": [
  {
   "cell_type": "markdown",
   "id": "de666638",
   "metadata": {},
   "source": [
    " # **Evaluating Academic Performance**"
   ]
  },
  {
   "cell_type": "markdown",
   "id": "b1b377e4",
   "metadata": {},
   "source": [
    "### Standard Approach:"
   ]
  },
  {
   "cell_type": "code",
   "execution_count": null,
   "id": "24184929",
   "metadata": {},
   "outputs": [],
   "source": [
    "score = int(input(\"Enter your score (0-100): \"))\n",
    "\n",
    "if score < 0 or score > 100:\n",
    "    print(\"Invalid score. Please enter a number between 0 and 100.\")\n",
    "else:\n",
    "    if score >= 90:\n",
    "        print(\"Grade: A\")\n",
    "    elif score >= 80:\n",
    "        print(\"Grade: B\")\n",
    "    elif score >= 70:\n",
    "        print(\"Grade: C\")\n",
    "    elif score >= 60:\n",
    "        print(\"Grade: D\")\n",
    "    else:\n",
    "        print(\"Grade: F\")"
   ]
  },
  {
   "cell_type": "markdown",
   "id": "a9865f88",
   "metadata": {},
   "source": [
    "Note: This approach uses a series of nested if-else statements to determine and print a student’s grade based on their score. It ensures the score falls within a valid range before assigning a grade."
   ]
  },
  {
   "cell_type": "markdown",
   "id": "017aff0b",
   "metadata": {},
   "source": [
    "### Optimized Solution:"
   ]
  },
  {
   "cell_type": "code",
   "execution_count": null,
   "id": "496e1d1c",
   "metadata": {},
   "outputs": [],
   "source": [
    "score = input(\"Enter your score (0-100): \")\n",
    "\n",
    "if not score.isdigit() or not (0 <= int(score) <= 100):\n",
    "    print(\"Invalid score. Please enter a valid number between 0 and 100.\")\n",
    "else:\n",
    "    score = int(score)\n",
    "    grade = (\n",
    "        \"A\" if score >= 90 else\n",
    "        \"B\" if score >= 80 else\n",
    "        \"C\" if score >= 70 else\n",
    "        \"D\" if score >= 60 else\n",
    "        \"F\"\n",
    "    )\n",
    "    print(f\"Grade: {grade}\")"
   ]
  },
  {
   "cell_type": "markdown",
   "id": "f2901c30",
   "metadata": {},
   "source": [
    "Note: This solution refines the grading process using chained ternary operators, which streamline the grade determination into a single expression. It includes validation for non-digit input and ensures the score is within the correct range."
   ]
  },
  {
   "cell_type": "markdown",
   "id": "46c2e449",
   "metadata": {},
   "source": [
    "### Additional Practice:\n",
    "See Conditionals - Practice Exercises & Challenges: Evaluating Academic Performance"
   ]
  }
 ],
 "metadata": {
  "kernelspec": {
   "display_name": "Python 3 (ipykernel)",
   "language": "python",
   "name": "python3"
  },
  "language_info": {
   "codemirror_mode": {
    "name": "ipython",
    "version": 3
   },
   "file_extension": ".py",
   "mimetype": "text/x-python",
   "name": "python",
   "nbconvert_exporter": "python",
   "pygments_lexer": "ipython3",
   "version": "3.11.4"
  }
 },
 "nbformat": 4,
 "nbformat_minor": 5
}
