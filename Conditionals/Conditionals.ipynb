{
 "cells": [
  {
   "cell_type": "code",
   "execution_count": null,
   "metadata": {},
   "outputs": [],
   "source": [
    "# Zero, Positive, or Negative\n",
    "\n",
    "the_number = 0\n",
    "\n",
    "if the_number > 0:\n",
    "    print('Positive')\n",
    "elif the_number < 0:\n",
    "    print('Negative')\n",
    "else:\n",
    "    print('Zero')"
   ]
  },
  {
   "cell_type": "code",
   "execution_count": null,
   "metadata": {},
   "outputs": [],
   "source": [
    "the_number = -9\n",
    "\n",
    "if the_number >= 0:\n",
    "    if the_number == 0:\n",
    "        print('Zero')\n",
    "    else:\n",
    "        print('Positive')\n",
    "else:\n",
    "    print('Negative')"
   ]
  },
  {
   "cell_type": "code",
   "execution_count": null,
   "metadata": {},
   "outputs": [],
   "source": [
    "# Check Vowels and Consonants\n",
    "\n",
    "the_string = 'Python~@'\n",
    "\n",
    "the_vowels = ['a', 'e', 'i', 'o', 'u']\n",
    "\n",
    "for char in the_string.lower():\n",
    "    if char.isalpha():\n",
    "        if char in the_vowels:\n",
    "            print(f'{char} is a vowel')\n",
    "        else:\n",
    "            print(f'{char} is a consonant')\n",
    "    elif char.isalnum:\n",
    "        print(f'{char} is a not letter')\n",
    "    else:\n",
    "        print('Empty String')"
   ]
  },
  {
   "cell_type": "code",
   "execution_count": null,
   "metadata": {},
   "outputs": [],
   "source": [
    "the_string = 'Score: 36'\n",
    "\n",
    "if not the_string:\n",
    "    print('Empty String')\n",
    "else:\n",
    "    for char in the_string.lower():\n",
    "        if char in ('a', 'e', 'i', 'o', 'u'):\n",
    "            print(f'{char} is a vowel')\n",
    "        elif not char.isalpha():\n",
    "            print(f'{char} is a not a letter')\n",
    "        else:\n",
    "            print(f'{char} is a consonant')\n",
    "        "
   ]
  },
  {
   "cell_type": "code",
   "execution_count": null,
   "metadata": {},
   "outputs": [],
   "source": [
    "# Print Max of Three Numbers\n",
    "the_dict = {\n",
    "    'a': 1,\n",
    "    'b': 3,\n",
    "    'c': 24\n",
    "}\n",
    "\n",
    "the_max_num = 0\n",
    "\n",
    "for val in the_dict.values():\n",
    "    if val > the_max_num:\n",
    "        the_max_num = val\n",
    "        \n",
    "print(the_max_num)\n"
   ]
  },
  {
   "cell_type": "code",
   "execution_count": null,
   "metadata": {},
   "outputs": [],
   "source": [
    "a = 1\n",
    "b = 3\n",
    "c = 24\n",
    "\n",
    "if (a >=b) and (a >= c):\n",
    "    print(a)\n",
    "elif (b >= a) and (b >= c):\n",
    "    print(b)\n",
    "else:\n",
    "    print(c)"
   ]
  },
  {
   "cell_type": "code",
   "execution_count": null,
   "metadata": {},
   "outputs": [],
   "source": [
    "the_dict = {\n",
    "    'a': 1,\n",
    "    'b': 3,\n",
    "    'c': 24\n",
    "}\n",
    "\n",
    "print(max(the_dict.values()))"
   ]
  },
  {
   "cell_type": "code",
   "execution_count": null,
   "metadata": {},
   "outputs": [],
   "source": [
    "# Print Min of Three Number\n",
    "\n",
    "the_dict = {\n",
    "    'a': 1,\n",
    "    'b': 3,\n",
    "    'c': 24\n",
    "}\n",
    "\n",
    "print(min(the_dict.values()))"
   ]
  },
  {
   "cell_type": "code",
   "execution_count": null,
   "metadata": {},
   "outputs": [],
   "source": [
    "the_dict = {\n",
    "    'a': 1,\n",
    "    'b': 3,\n",
    "    'c': 24\n",
    "}\n",
    "\n",
    "the_min_num = max(the_dict.values())\n",
    "\n",
    "for val in the_dict.values():\n",
    "    if val < the_min_num:\n",
    "        the_min_num = val\n",
    "        \n",
    "print(the_min_num)\n"
   ]
  },
  {
   "cell_type": "code",
   "execution_count": null,
   "metadata": {},
   "outputs": [],
   "source": [
    "a = 1\n",
    "b = 3\n",
    "c = 24\n",
    "\n",
    "if (a <=b) and (a <= c):\n",
    "    print(a)\n",
    "elif (b <= a) and (b <= c):\n",
    "    print(b)\n",
    "else:\n",
    "    print(c)"
   ]
  },
  {
   "cell_type": "code",
   "execution_count": null,
   "metadata": {},
   "outputs": [],
   "source": [
    "# Four Seasons\n",
    "\n",
    "the_seasons = ('Spring', 'Winter', 'Summer', 'Fall')\n",
    "\n",
    "the_season_num = 3\n",
    "\n",
    "if the_season_num > 4:\n",
    "    print('Please enter a valid number for your season')\n",
    "else:\n",
    "    if the_season_num == 1:\n",
    "        print(the_seasons[0])\n",
    "    elif the_season_num == 2:\n",
    "        print(the_seasons[1])\n",
    "    elif the_season_num == 3:\n",
    "        print(the_seasons[2])\n",
    "    else:\n",
    "        print(the_seasons[3])\n",
    "\n",
    "\n"
   ]
  },
  {
   "cell_type": "code",
   "execution_count": null,
   "metadata": {},
   "outputs": [],
   "source": [
    "the_season_num = 3\n",
    "\n",
    "if the_season_num > 4:\n",
    "    print('Please enter a valid number for your season')\n",
    "else:\n",
    "    if the_season_num == 1:\n",
    "        print('Spring')\n",
    "    elif the_season_num == 2:\n",
    "        print('Winter')\n",
    "    elif the_season_num == 3:\n",
    "        print('Summer')\n",
    "    else:\n",
    "        print('Fall')\n"
   ]
  },
  {
   "cell_type": "code",
   "execution_count": null,
   "metadata": {},
   "outputs": [],
   "source": [
    "# Compare Three Numbers\n",
    "\n",
    "the_nums = (3, 3, 5)\n",
    "\n",
    "if the_nums[0] == the_nums[1] and the_nums[1] == the_nums[2]:\n",
    "    print('Equal')\n",
    "else:\n",
    "    print('Not Equal')\n",
    "    "
   ]
  },
  {
   "cell_type": "code",
   "execution_count": null,
   "metadata": {},
   "outputs": [],
   "source": [
    "a = 3\n",
    "b = 3\n",
    "c = 3\n",
    "\n",
    "if a == b and b == c:\n",
    "    print('Equal')\n",
    "else:\n",
    "    print('Not Equal')\n",
    "\n"
   ]
  },
  {
   "cell_type": "code",
   "execution_count": null,
   "metadata": {},
   "outputs": [],
   "source": [
    "a = 3\n",
    "b = 3\n",
    "c = 3\n",
    "\n",
    "if a == b == c:\n",
    "    print('Equal')\n",
    "else:\n",
    "    print('Not Equal')\n"
   ]
  },
  {
   "cell_type": "code",
   "execution_count": null,
   "metadata": {},
   "outputs": [],
   "source": [
    "# Find Number of Days in a Month\n",
    "days_in_month = {\n",
    "    'January': 31,\n",
    "    'February': 28,\n",
    "    'March': 31,\n",
    "    'April': 30,\n",
    "    'May' : 31,\n",
    "    'June': 30,\n",
    "    'July': 31,\n",
    "    'August': 31,\n",
    "    'September': 30,\n",
    "    'October': 31,\n",
    "    'November': 30,\n",
    "    'December': 31\n",
    "}\n",
    "\n",
    "if days_in_month:\n",
    "    for month, days in days_in_month.items():\n",
    "        print(f'{month} has: {days} days.')"
   ]
  },
  {
   "cell_type": "code",
   "execution_count": null,
   "metadata": {},
   "outputs": [],
   "source": [
    "month = 'April'\n",
    "\n",
    "months_with_30_days = ('April', 'June', 'September', 'November')\n",
    "\n",
    "months_with_31_days = ('January', 'March', 'May', 'July', 'August', 'October', 'December')\n",
    "\n",
    "if month in months_with_30_days:\n",
    "    print(f'{month} has: 30 days.')\n",
    "elif month in months_with_30_days:\n",
    "    print(f'{month} has: 31 days.')\n",
    "else:\n",
    "    print(f'{month} has: 28 days.')"
   ]
  },
  {
   "cell_type": "code",
   "execution_count": null,
   "metadata": {},
   "outputs": [],
   "source": [
    "# Increasing or Decreasing Order\n",
    "a = 3\n",
    "b = 2\n",
    "c = 1\n",
    "\n",
    "if a > b > c:\n",
    "    print('Decreasing Order')\n",
    "elif a < b < c:\n",
    "    print('Increasing Order')\n",
    "else:\n",
    "    print(None)"
   ]
  },
  {
   "cell_type": "code",
   "execution_count": null,
   "metadata": {},
   "outputs": [],
   "source": [
    "the_dict = {\"a\": 1, \"b\": 2, \"c\": 3}\n",
    "\n",
    "the_outcome = []\n",
    "\n",
    "for val in the_dict.values():\n",
    "    the_outcome.append(val)\n",
    "if the_outcome[0] > the_outcome[1] > the_outcome[2]:\n",
    "    print('Decreasing Order')\n",
    "elif the_outcome[0] < the_outcome[1] < the_outcome[2]:\n",
    "    print('Increasing Order')\n",
    "else:\n",
    "    print(None)"
   ]
  },
  {
   "cell_type": "code",
   "execution_count": null,
   "metadata": {},
   "outputs": [],
   "source": [
    "# Solve Quadratic Equations\n",
    "\n",
    "import math\n",
    "\n",
    "a = 1\n",
    "b = 2\n",
    "c = 1\n",
    "\n",
    "the_discriminant = (b**2) - (4 * a * c)\n",
    "\n",
    "print(the_discriminant)\n",
    "\n",
    "if the_discriminant < 0:\n",
    "    print('Complex Roots')\n",
    "elif the_discriminant == 0:\n",
    "    r = -b / (2 * a)\n",
    "    print(r)\n",
    "else:\n",
    "    r1 = (-b - math.sqrt(the_discriminant)) / (2*a)\n",
    "    r2 = (-b + math.sqrt(the_discriminant)) / (2*a)\n",
    "    print(r1, r2)"
   ]
  },
  {
   "cell_type": "code",
   "execution_count": null,
   "metadata": {},
   "outputs": [],
   "source": [
    "# Check if a Year is a Leap Year or Not (*)\n",
    "\n",
    "the_year = 1912\n",
    "\n",
    "if the_year % 4 != 0:\n",
    "    print(f'{the_year} is not a leap year.')\n",
    "    \n",
    "elif the_year % 100 != 0:\n",
    "    print(f'{the_year} is a leap year.')\n",
    "    \n",
    "elif the_year % 400 != 0:\n",
    "    print(f'{the_year} is not a leap year.')\n",
    "    \n",
    "else:\n",
    "    print(f'{the_year} is a leap year.')"
   ]
  },
  {
   "cell_type": "code",
   "execution_count": null,
   "metadata": {},
   "outputs": [],
   "source": [
    "the_year = 1912\n",
    "\n",
    "if the_year % 4 == 0:\n",
    "    if the_year % 100 == 0:\n",
    "        if year % 400 == 0:\n",
    "            print(f'{the_year} is a leap year.')\n",
    "        else:\n",
    "            print(f'{the_year} is not a leap year.')\n",
    "    else:\n",
    "        print(f'{the_year} is a leap year.')\n",
    "else:\n",
    "    print(f'{the_year} is not a leap year.')"
   ]
  },
  {
   "cell_type": "code",
   "execution_count": 21,
   "metadata": {},
   "outputs": [
    {
     "name": "stdout",
     "output_type": "stream",
     "text": [
      "This calculator performs the following operations: \n",
      "\t {1: 'Addition', 2: 'Subtraction', 3: 'Multiplication', 4: 'Division', 5: 'Integer Division', 6: 'Remainders'}\n",
      "Enter the number which corresponds with the type of operation you want: 3\n",
      "Now enter the 1st value: 4\n",
      "Finally enter the 2nd value: 3\n",
      "The result of 4 * 3 is 12 \n"
     ]
    }
   ],
   "source": [
    "# Interactive Calculator\n",
    "\n",
    "operation_types = {1: 'Addition', 2: 'Subtraction', 3: 'Multiplication',\n",
    "    4: 'Division', 5: 'Integer Division', 6: 'Remainders'\n",
    "}\n",
    "\n",
    "initial_message = 'This calculator performs the following operations: \\n\\t'\n",
    "\n",
    "output_message = 'The result of'\n",
    "print(initial_message , operation_types)\n",
    "\n",
    "the_input_1 = int(input('Enter the number which corresponds with the type of operation you want: '))\n",
    "the_input_2 = int(input('Now enter the 1st value: '))\n",
    "the_input_3 = int(input('Finally enter the 2nd value: '))\n",
    "\n",
    "user_inputs_are = (the_input_1, the_input_2, the_input_3)\n",
    "\n",
    "if the_input_1 == 1:\n",
    "    result = the_input_2 + the_input_3\n",
    "    print(f\"{output_message} {the_input_2} + {the_input_3} is {result} \")\n",
    "elif the_input_1 == 2:\n",
    "    result = the_input_2 - the_input_3\n",
    "    print(f\"{output_message} {the_input_2} - {the_input_3} is {result} \")\n",
    "elif the_input_1 == 3:\n",
    "    result = the_input_2 * the_input_3\n",
    "    print(f\"{output_message} {the_input_2} * {the_input_3} is {result} \")\n",
    "elif the_input_1 == 4:\n",
    "    if the_input_3 == 0:\n",
    "        print('Please choose a valid operation')\n",
    "    else:\n",
    "        result = the_input_2 / the_input_3\n",
    "        print(f\"{output_message} {the_input_2} / {the_input_3} = {result} \")\n",
    "elif the_input_1 == 5:\n",
    "    if the_input_3 == 0:\n",
    "        print('Please choose a valid operation')\n",
    "    else:\n",
    "        result = the_input_2 // the_input_3\n",
    "        print(f\"{output_message} {the_input_2} // {the_input_3} = {result} \")\n",
    "elif the_input_1 == 6:\n",
    "    result = the_input_2 % the_input_3\n",
    "    print(f\"{output_message} {the_input_2} % {the_input_3} is {result} \")"
   ]
  },
  {
   "cell_type": "code",
   "execution_count": 26,
   "metadata": {},
   "outputs": [
    {
     "name": "stdout",
     "output_type": "stream",
     "text": [
      "=== Welcome to you Interactive Python Calculator ===\n",
      "Please enter the first value: 3\n",
      "Please enter the second value: 4\n",
      "Great! Now enter the operation.\n",
      "These are the available options:\n",
      "1 -  Addition\n",
      "2 - Subtraction\n",
      "3 - Multiplication\n",
      "4 - Division\n",
      "5 - Integer Division\n",
      "6 - Modulo\n",
      "--> Enter the corresponding integer: 5\n",
      "The result of 3 // 4 is: 0\n"
     ]
    }
   ],
   "source": [
    "ADDITION = 1\n",
    "SUBTRACTION = 2\n",
    "MULTIPLICATION = 3\n",
    "DIVISON = 4\n",
    "INTEGER_DIVISON = 5\n",
    "MODULO = 6\n",
    "\n",
    "print('=== Welcome to you Interactive Python Calculator ===')\n",
    "\n",
    "a = int(input('Please enter the first value: '))\n",
    "b = int(input('Please enter the second value: '))\n",
    "\n",
    "print('Great! Now enter the operation.')\n",
    "print('These are the available options:')\n",
    "print('1 -  Addition')\n",
    "print('2 - Subtraction')\n",
    "print('3 - Multiplication')\n",
    "print('4 - Division')\n",
    "print('5 - Integer Division')\n",
    "print('6 - Modulo')\n",
    "\n",
    "operation = int(input('--> Enter the corresponding integer: '))\n",
    "\n",
    "if operation == ADDITION:\n",
    "    result = a + b\n",
    "    print(f'The result of {a} + {b} is: {result}')\n",
    "elif operation == SUBTRACTION:\n",
    "    result = a - b\n",
    "    print(f'The result of {a} - {b} is: {result}')\n",
    "elif operation == MULTIPLICATION:\n",
    "    result = a * b\n",
    "    print(f'The result of {a} * {b} is: {result}')\n",
    "elif operation == DIVISON:\n",
    "    if b == 0:\n",
    "        print('Division by Zero. Please enter another value for b.')\n",
    "    else:\n",
    "        result = a / b\n",
    "        print(f'The result of {a} / {b} is: {result}')\n",
    "elif operation == INTEGER_DIVISON:\n",
    "    if b == 0:\n",
    "        print('Division by Zero. Please enter another value for b.')\n",
    "    else:\n",
    "        result = a // b\n",
    "        print(f'The result of {a} // {b} is: {result}')\n",
    "elif operation == MODULO:\n",
    "    result = a % b\n",
    "    print(f'The result of {a} % {b} is: {result}')\n",
    "else:\n",
    "    print('Please choose a valid operation')"
   ]
  },
  {
   "cell_type": "code",
   "execution_count": 49,
   "metadata": {},
   "outputs": [
    {
     "name": "stdout",
     "output_type": "stream",
     "text": [
      "Welcome to Rock, Paper, Scissors --- Please enter an option:\n",
      " Rock\n",
      "The computer choose Scissors.\n",
      "You win! The computer choose Scissors.\n"
     ]
    }
   ],
   "source": [
    "# Rock, Paper, Scissors (*)\n",
    "\n",
    "from random import randint\n",
    "\n",
    "user_choice = input('Welcome to Rock, Paper, Scissors --- Please enter an option:\\n ' )\n",
    "\n",
    "choices = ('Rock', 'Paper', 'Scissors')\n",
    "\n",
    "if user_choice not in choices:\n",
    "    print('Please enter a valid option. Your choices are.... \\\n",
    "    \\n\\t Rock, Paper, or Scissors')\n",
    "elif user_choice in choices:\n",
    "    computer_choice = randint(1, 3)\n",
    "    \n",
    "    computer_choice = choices[computer_choice - 1]\n",
    "    print(f'The computer choose {computer_choice}.')\n",
    "    \n",
    "    if user_choice == computer_choice:\n",
    "        print('Tie, Try again.')\n",
    "    elif user_choice == 'Paper' and computer_choice == 'Rock':\n",
    "        print(f'You win! The computer choose {computer_choice}.')\n",
    "    elif user_choice == 'Rock' and computer_choice == 'Scissors':\n",
    "        print(f'You win! The computer choose {computer_choice}.')\n",
    "    elif user_choice == 'Scissors' and computer_choice == 'Paper':\n",
    "        print(f'You win! The computer choose {computer_choice}.')\n",
    "        \n",
    "else:\n",
    "    print(f'You lose! The computer choose {computer_choice}.')\n",
    "    \n",
    "    "
   ]
  },
  {
   "cell_type": "code",
   "execution_count": 46,
   "metadata": {},
   "outputs": [
    {
     "name": "stdout",
     "output_type": "stream",
     "text": [
      "***** Welcome to the game Rock, Paper, Scissors!*****\n"
     ]
    }
   ],
   "source": [
    "import random\n",
    "\n",
    "choices = ('Rock', 'Paper', 'Scissors')\n",
    "\n",
    "computer_choice = choices[random.randint(0, 2)]\n",
    "\n",
    "print(f\"***** Welcome to the game {choices[0]}, {choices[1]}, {choices[2]}!*****\")\n",
    "user_choice = input('Welcome to Rock, Paper, Scissors --- Please enter an option:\\n ' )\n",
    "\n",
    "if user_choice == computer_choice:\n",
    "    print('Tie, Try again.')\n",
    "elif user_choice == 'Rock':\n",
    "    if computer_choice == \"Paper\":\n",
    "        print(f'You lose! The computer choose {computer_choice}.')\n",
    "    else:\n",
    "        print(f'You win! The computer choose {computer_choice}.')\n",
    "elif user_choice == 'Paper':\n",
    "    if computer_choice == \"Scissors\":\n",
    "        print(f'You lose! The computer choose {computer_choice}.')\n",
    "elif user_choice == 'Scissors':\n",
    "    if computer_choice == 'Rock':\n",
    "        print(f'You lose! The computer choose {computer_choice}.')\n",
    "    else:\n",
    "        print(f'You win! The computer choose {computer_choice}.')\n",
    "else:\n",
    "    print('Please enter a valid option. Your choices are.... \\\n",
    "    \\n\\t Rock, Paper, or Scissors')  \n",
    "        \n",
    "    \n",
    "        "
   ]
  },
  {
   "cell_type": "code",
   "execution_count": null,
   "metadata": {},
   "outputs": [],
   "source": []
  }
 ],
 "metadata": {
  "kernelspec": {
   "display_name": "Python 3",
   "language": "python",
   "name": "python3"
  },
  "language_info": {
   "codemirror_mode": {
    "name": "ipython",
    "version": 3
   },
   "file_extension": ".py",
   "mimetype": "text/x-python",
   "name": "python",
   "nbconvert_exporter": "python",
   "pygments_lexer": "ipython3",
   "version": "3.8.3"
  }
 },
 "nbformat": 4,
 "nbformat_minor": 4
}
