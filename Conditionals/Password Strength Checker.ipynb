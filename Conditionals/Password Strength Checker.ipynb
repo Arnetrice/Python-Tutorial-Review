{
 "cells": [
  {
   "attachments": {},
   "cell_type": "markdown",
   "id": "de666638",
   "metadata": {},
   "source": [
    " # **Password Strength Checker**"
   ]
  },
  {
   "cell_type": "markdown",
   "id": "b1b377e4",
   "metadata": {},
   "source": [
    "### Standard Approach:"
   ]
  },
  {
   "cell_type": "code",
   "execution_count": null,
   "id": "24184929",
   "metadata": {},
   "outputs": [],
   "source": [
    "password = input(\"Enter your password: \")\n",
    "\n",
    "has_upper = False\n",
    "has_lower = False\n",
    "has_digit = False\n",
    "has_special = False\n",
    "\n",
    "special_characters = \"!@#$%^&*()-_+=<>?/|\"\n",
    "\n",
    "# Check password length\n",
    "if len(password) < 8:\n",
    "    print(\"Password is Weak: Too short.\")\n",
    "else:\n",
    "    for char in password:\n",
    "        if char.isupper():\n",
    "            has_upper = True\n",
    "        elif char.islower():\n",
    "            has_lower = True\n",
    "        elif char.isdigit():\n",
    "            has_digit = True\n",
    "        elif char in special_characters:\n",
    "            has_special = True\n",
    "\n",
    "    # Evaluate password strength based on character types found\n",
    "    if has_upper and has_lower and has_digit and has_special:\n",
    "        print(\"Password is Strong.\")\n",
    "    elif (has_upper or has_lower) and has_digit:\n",
    "        print(\"Password is Moderate.\")\n",
    "    else:\n",
    "        print(\"Password is Weak.\")\n"
   ]
  },
  {
   "cell_type": "markdown",
   "id": "a9865f88",
   "metadata": {},
   "source": [
    "Note: This approach involves iterating through each character in the password to check for the presence of uppercase letters, lowercase letters, digits, and special characters. It uses boolean flags to track each type of character."
   ]
  },
  {
   "cell_type": "markdown",
   "id": "017aff0b",
   "metadata": {},
   "source": [
    "### Optimized Solution:"
   ]
  },
  {
   "cell_type": "code",
   "execution_count": null,
   "id": "496e1d1c",
   "metadata": {},
   "outputs": [],
   "source": [
    "import re\n",
    "\n",
    "password = input(\"Enter your password: \")\n",
    "\n",
    "# Check password length and use regular expressions to check for character types\n",
    "if len(password) < 8:\n",
    "    print(\"Password is Weak: Too short.\")\n",
    "elif all([\n",
    "    re.search(r'[A-Z]', password),  # At least one uppercase letter\n",
    "    re.search(r'[a-z]', password),  # At least one lowercase letter\n",
    "    re.search(r'\\d', password),     # At least one digit\n",
    "    re.search(r'[!@#$%^&*()\\-_+=<>?/|]', password)  # At least one special character\n",
    "]):\n",
    "    print(\"Password is Strong.\")\n",
    "elif re.search(r'[a-zA-Z]', password) and re.search(r'\\d', password):\n",
    "    print(\"Password is Moderate.\")\n",
    "else:\n",
    "    print(\"Password is Weak.\")\n"
   ]
  },
  {
   "cell_type": "markdown",
   "id": "f2901c30",
   "metadata": {},
   "source": [
    "Note: This solution utilizes regular expressions to simplify and streamline the character type checking process, reducing the need for multiple conditional checks and iterations through the password."
   ]
  },
  {
   "cell_type": "markdown",
   "id": "46c2e449",
   "metadata": {},
   "source": [
    "### Additional Practice:\n",
    "See Conditionals - Practice Exercises & Challenges: Password Strength Checker"
   ]
  }
 ],
 "metadata": {
  "kernelspec": {
   "display_name": "Python 3 (ipykernel)",
   "language": "python",
   "name": "python3"
  },
  "language_info": {
   "codemirror_mode": {
    "name": "ipython",
    "version": 3
   },
   "file_extension": ".py",
   "mimetype": "text/x-python",
   "name": "python",
   "nbconvert_exporter": "python",
   "pygments_lexer": "ipython3",
   "version": "3.11.4"
  }
 },
 "nbformat": 4,
 "nbformat_minor": 5
}
