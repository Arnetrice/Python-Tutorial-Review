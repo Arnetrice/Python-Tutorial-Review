{
 "cells": [
  {
   "cell_type": "markdown",
   "id": "de666638",
   "metadata": {},
   "source": [
    " # **Conditionals: Check Vowels and Consonants**"
   ]
  },
  {
   "cell_type": "markdown",
   "id": "b1b377e4",
   "metadata": {},
   "source": [
    "### Standard Approach:"
   ]
  },
  {
   "cell_type": "code",
   "execution_count": null,
   "id": "24184929",
   "metadata": {},
   "outputs": [],
   "source": [
    "the_string = 'Score: 36'\n",
    "\n",
    "the_vowels = ['a', 'e', 'i', 'o', 'u']\n",
    "\n",
    "# Check each character in the string\n",
    "for char in the_string.lower():\n",
    "    if char.isalpha():  # Check if the character is a letter\n",
    "        if char in the_vowels:\n",
    "            print(f'{char} is a vowel')\n",
    "        else:\n",
    "            print(f'{char} is a consonant')\n",
    "    elif char.isdigit():\n",
    "        print(f'{char} is not a letter')\n",
    "    else:\n",
    "        print(f'\"{char}\" is neither a letter nor a digit')"
   ]
  },
  {
   "cell_type": "markdown",
   "id": "a9865f88",
   "metadata": {},
   "source": [
    "Note: This approach uses nested if statements to categorize each character in a string as a vowel, consonant, non-letter number, or an empty string. It provides detailed feedback about each character."
   ]
  },
  {
   "cell_type": "markdown",
   "id": "017aff0b",
   "metadata": {},
   "source": [
    "### Optimized Solution:"
   ]
  },
  {
   "cell_type": "code",
   "execution_count": null,
   "id": "496e1d1c",
   "metadata": {},
   "outputs": [],
   "source": [
    "the_string = 'Score: 36'\n",
    "\n",
    "if not the_string:  # Check if the string is empty\n",
    "    print('Empty String')\n",
    "else:\n",
    "    for char in the_string.lower():\n",
    "        if char in ('a', 'e', 'i', 'o', 'u'):  # Check for vowels\n",
    "            print(f'{char} is a vowel')\n",
    "        elif not char.isalpha():  # Check for non-letters\n",
    "            print(f'\"{char}\" is not a letter')\n",
    "        else:\n",
    "            print(f'{char} is a consonant')\n"
   ]
  },
  {
   "cell_type": "markdown",
   "id": "f2901c30",
   "metadata": {},
   "source": [
    "Note: This solution streamlines the standard approach by reducing the depth of conditionals and making use of tuple membership testing for vowels"
   ]
  },
  {
   "cell_type": "markdown",
   "id": "46c2e449",
   "metadata": {},
   "source": [
    "### Additional Practice:\n",
    "See Conditionals - Practice Exercises & Challenges: Conditionals: Check Vowels and Consonants"
   ]
  }
 ],
 "metadata": {
  "kernelspec": {
   "display_name": "Python 3 (ipykernel)",
   "language": "python",
   "name": "python3"
  },
  "language_info": {
   "codemirror_mode": {
    "name": "ipython",
    "version": 3
   },
   "file_extension": ".py",
   "mimetype": "text/x-python",
   "name": "python",
   "nbconvert_exporter": "python",
   "pygments_lexer": "ipython3",
   "version": "3.11.4"
  }
 },
 "nbformat": 4,
 "nbformat_minor": 5
}
