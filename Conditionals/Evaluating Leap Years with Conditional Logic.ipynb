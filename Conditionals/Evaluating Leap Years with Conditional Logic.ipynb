{
 "cells": [
  {
   "cell_type": "markdown",
   "id": "de666638",
   "metadata": {},
   "source": [
    " # **Evaluating Leap Years with Conditional Logic**"
   ]
  },
  {
   "cell_type": "markdown",
   "id": "b1b377e4",
   "metadata": {},
   "source": [
    "### Standard Approach:"
   ]
  },
  {
   "cell_type": "code",
   "execution_count": null,
   "id": "24184929",
   "metadata": {},
   "outputs": [],
   "source": [
    "the_year = 1912\n",
    "\n",
    "# Check if the year is divisible by 4\n",
    "if the_year % 4 == 0:\n",
    "    # Further check if it is a century year\n",
    "    if the_year % 100 == 0:\n",
    "        # Century year must be divisible by 400 to be a leap year\n",
    "        if the_year % 400 == 0:\n",
    "            print(f'{the_year} is a leap year.')\n",
    "        else:\n",
    "            print(f'{the_year} is not a leap year.')\n",
    "    else:\n",
    "        print(f'{the_year} is a leap year.')\n",
    "else:\n",
    "    print(f'{the_year} is not a leap year.')\n"
   ]
  },
  {
   "cell_type": "markdown",
   "id": "a9865f88",
   "metadata": {},
   "source": [
    "Note: his approach uses a series of nested if statements to determine whether a given year is a leap year. It checks multiple conditions to adhere to the rules that define a leap year."
   ]
  },
  {
   "cell_type": "markdown",
   "id": "017aff0b",
   "metadata": {},
   "source": [
    "### Optimized Solution:"
   ]
  },
  {
   "cell_type": "code",
   "execution_count": null,
   "id": "496e1d1c",
   "metadata": {},
   "outputs": [],
   "source": [
    "the_year = 1912\n",
    "\n",
    "# Check conditions in a streamlined manner\n",
    "if the_year % 4 != 0:\n",
    "    print(f'{the_year} is not a leap year.')\n",
    "elif the_year % 100 != 0:\n",
    "    print(f'{the_year} is a leap year.')\n",
    "elif the_year % 400 != 0:\n",
    "    print(f'{the_year} is not a leap year.')\n",
    "else:\n",
    "    print(f'{the_year} is a leap year.')"
   ]
  },
  {
   "cell_type": "markdown",
   "id": "f2901c30",
   "metadata": {},
   "source": [
    "Note: This solution simplifies the decision structure by reversing the conditions, reducing the depth of nesting and potentially improving readability"
   ]
  },
  {
   "cell_type": "markdown",
   "id": "46c2e449",
   "metadata": {},
   "source": [
    "### Additional Practice:\n",
    "See Conditionals - Practice Exercises & Challenges: Evaluating Leap Years with Conditional Logic"
   ]
  }
 ],
 "metadata": {
  "kernelspec": {
   "display_name": "Python 3 (ipykernel)",
   "language": "python",
   "name": "python3"
  },
  "language_info": {
   "codemirror_mode": {
    "name": "ipython",
    "version": 3
   },
   "file_extension": ".py",
   "mimetype": "text/x-python",
   "name": "python",
   "nbconvert_exporter": "python",
   "pygments_lexer": "ipython3",
   "version": "3.11.4"
  }
 },
 "nbformat": 4,
 "nbformat_minor": 5
}
