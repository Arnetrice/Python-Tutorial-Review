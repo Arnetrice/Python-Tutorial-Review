{
 "cells": [
  {
   "cell_type": "markdown",
   "id": "de666638",
   "metadata": {},
   "source": [
    " # **Identifying the Highest Number in a List with IF**"
   ]
  },
  {
   "cell_type": "markdown",
   "id": "b1b377e4",
   "metadata": {},
   "source": [
    "### Standard Approach:"
   ]
  },
  {
   "cell_type": "code",
   "execution_count": null,
   "id": "24184929",
   "metadata": {},
   "outputs": [],
   "source": [
    "the_list = [10, 45, 32, 67, 89, 21]\n",
    "\n",
    "# Check if the list is empty\n",
    "if len(the_list) == 0:\n",
    "    print(\"The list is empty.\")\n",
    "else:\n",
    "    max_value = the_list[0]  # Start with the first number as the maximum\n",
    "    for num in the_list:\n",
    "        if num > max_value:\n",
    "            max_value = num  # Update max_value if a larger number is found\n",
    "    print(f\"The maximum value is {max_value}.\")"
   ]
  },
  {
   "cell_type": "markdown",
   "id": "a9865f88",
   "metadata": {},
   "source": [
    "Note: This approach utilizes manual iteration through a list to determine the highest number. It involves setting an initial maximum and comparing each number in the list to find the largest."
   ]
  },
  {
   "cell_type": "markdown",
   "id": "017aff0b",
   "metadata": {},
   "source": [
    "### Optimized Solution:"
   ]
  },
  {
   "cell_type": "code",
   "execution_count": null,
   "id": "496e1d1c",
   "metadata": {},
   "outputs": [],
   "source": [
    "the_list = [10, 45, 32, 67, 89, 21]\n",
    "\n",
    "# Check if the list is not empty and print the maximum value\n",
    "if the_list:\n",
    "    print(f\"The maximum value is {max(the_list)}.\")\n",
    "else:\n",
    "    print(\"The list is empty.\")"
   ]
  },
  {
   "cell_type": "markdown",
   "id": "f2901c30",
   "metadata": {},
   "source": [
    "Note: This solution simplifies leverages Python’s built-in max() function to find the maximum value in a list. This method simplifies the code and improves readability."
   ]
  },
  {
   "cell_type": "markdown",
   "id": "46c2e449",
   "metadata": {},
   "source": [
    "### Additional Practice:\n",
    "See Conditionals - Practice Exercises & Challenges: Identifying the Highest Number in a List with IF"
   ]
  }
 ],
 "metadata": {
  "kernelspec": {
   "display_name": "Python 3 (ipykernel)",
   "language": "python",
   "name": "python3"
  },
  "language_info": {
   "codemirror_mode": {
    "name": "ipython",
    "version": 3
   },
   "file_extension": ".py",
   "mimetype": "text/x-python",
   "name": "python",
   "nbconvert_exporter": "python",
   "pygments_lexer": "ipython3",
   "version": "3.11.4"
  }
 },
 "nbformat": 4,
 "nbformat_minor": 5
}
