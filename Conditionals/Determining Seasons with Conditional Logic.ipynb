{
 "cells": [
  {
   "cell_type": "markdown",
   "id": "de666638",
   "metadata": {},
   "source": [
    " # **Determining Seasons with Conditional Logic**"
   ]
  },
  {
   "cell_type": "markdown",
   "id": "b1b377e4",
   "metadata": {},
   "source": [
    "### Standard Approach:"
   ]
  },
  {
   "cell_type": "code",
   "execution_count": null,
   "id": "24184929",
   "metadata": {},
   "outputs": [],
   "source": [
    "the_seasons = ('Spring', 'Winter', 'Summer', 'Fall')\n",
    "\n",
    "# Prompt for user input\n",
    "input_value = input(\"Enter a season number (1-4): \")\n",
    "the_season_num = int(input_value)  # Convert the input to an integer\n",
    "\n",
    "# Validate the range of the input\n",
    "if the_season_num > 4 or the_season_num < 1:\n",
    "    print('Please enter a valid number for your season')\n",
    "else:\n",
    "    # Output the season corresponding to the input number\n",
    "    print(the_seasons[the_season_num - 1])"
   ]
  },
  {
   "cell_type": "markdown",
   "id": "a9865f88",
   "metadata": {},
   "source": [
    "Note: This approach uses a tuple for storing season names and uses a direct user input prompt to acquire a season number. The approach assumes that the input will be appropriately formatted and within the expected range, which might be suitable for controlled environments or scenarios where input is predefined."
   ]
  },
  {
   "cell_type": "markdown",
   "id": "017aff0b",
   "metadata": {},
   "source": [
    "### Optimized Solution:"
   ]
  },
  {
   "cell_type": "code",
   "execution_count": null,
   "id": "496e1d1c",
   "metadata": {},
   "outputs": [],
   "source": [
    "# Prompt for user input\n",
    "input_value = input(\"Enter a season number (1-4): \")\n",
    "the_season_num = int(input_value)  # Convert the input to an integer\n",
    "\n",
    "# Validate the range and output the corresponding season\n",
    "if 1 <= the_season_num <= 4:\n",
    "    print(['Spring', 'Winter', 'Summer', 'Fall'][the_season_num - 1])\n",
    "else:\n",
    "    print('Please enter a valid number for your season')"
   ]
  },
  {
   "cell_type": "markdown",
   "id": "f2901c30",
   "metadata": {},
   "source": [
    "Note: This solution uses a list directly within the print statement to index the seasons. It simplifies the standard approach by embedding the seasons directly in the conditional logic, reducing the number of lines and variables used."
   ]
  },
  {
   "cell_type": "markdown",
   "id": "46c2e449",
   "metadata": {},
   "source": [
    "### Additional Practice:\n",
    "See Conditionals - Practice Exercises & Challenges: Determining Seasons with Conditional Logic"
   ]
  }
 ],
 "metadata": {
  "kernelspec": {
   "display_name": "Python 3 (ipykernel)",
   "language": "python",
   "name": "python3"
  },
  "language_info": {
   "codemirror_mode": {
    "name": "ipython",
    "version": 3
   },
   "file_extension": ".py",
   "mimetype": "text/x-python",
   "name": "python",
   "nbconvert_exporter": "python",
   "pygments_lexer": "ipython3",
   "version": "3.11.4"
  }
 },
 "nbformat": 4,
 "nbformat_minor": 5
}
