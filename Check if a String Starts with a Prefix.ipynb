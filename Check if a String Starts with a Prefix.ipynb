{
 "cells": [
  {
   "cell_type": "markdown",
   "id": "b3852563",
   "metadata": {},
   "source": [
    "# **Check if a String Starts with a Prefix**"
   ]
  },
  {
   "cell_type": "markdown",
   "id": "4ae301c1",
   "metadata": {},
   "source": [
    "### Standard Approach:"
   ]
  },
  {
   "cell_type": "code",
   "execution_count": 3,
   "id": "3e67fc18",
   "metadata": {},
   "outputs": [
    {
     "name": "stdout",
     "output_type": "stream",
     "text": [
      "True\n"
     ]
    }
   ],
   "source": [
    "# Define the main string and the prefix to check\n",
    "word = 'Arnetrice'\n",
    "prefix_word = 'Arnet'\n",
    "\n",
    "# Step 1: Check if the prefix is longer than the main string\n",
    "if len(prefix_word) > len(word):\n",
    "    print(False)\n",
    "else:\n",
    "    # Step 2: Extract the first `len(prefix_word)` characters from the string\n",
    "    new_word = word[:len(prefix_word)]\n",
    "    \n",
    "    # Step 3: Compare the extracted part with the prefix\n",
    "    if new_word == prefix_word:\n",
    "        print(True)\n",
    "    else:\n",
    "        print(False)\n"
   ]
  },
  {
   "cell_type": "markdown",
   "id": "6b287914",
   "metadata": {},
   "source": [
    "Note: The standard approach demonstrates how to manually check if a string starts with a specific prefix. This is achieved by slicing the main string to extract the first len(prefix) characters and comparing them with the prefix."
   ]
  },
  {
   "cell_type": "markdown",
   "id": "f576b59a",
   "metadata": {},
   "source": [
    "### Optimized Solution:"
   ]
  },
  {
   "cell_type": "code",
   "execution_count": 4,
   "id": "deb30263",
   "metadata": {},
   "outputs": [
    {
     "name": "stdout",
     "output_type": "stream",
     "text": [
      "True\n"
     ]
    }
   ],
   "source": [
    "# Use the built-in `startswith` method to check the prefix\n",
    "word = 'Arnetrice'\n",
    "prefix_word = 'Arnet'\n",
    "\n",
    "print(word.startswith(prefix_word))\n"
   ]
  },
  {
   "cell_type": "markdown",
   "id": "1561f65a",
   "metadata": {},
   "source": [
    "Note: The optimized solution leverages Python's built-in startswith method, which is designed specifically for this task. It is more concise, efficient, and Pythonic."
   ]
  },
  {
   "cell_type": "markdown",
   "id": "5e7c8c5a",
   "metadata": {},
   "source": [
    "### Additional Practice:\n",
    "See Practice Exercise for Edge Cases: Check if a String Starts with a Prefix\n"
   ]
  }
 ],
 "metadata": {
  "kernelspec": {
   "display_name": "Python 3 (ipykernel)",
   "language": "python",
   "name": "python3"
  },
  "language_info": {
   "codemirror_mode": {
    "name": "ipython",
    "version": 3
   },
   "file_extension": ".py",
   "mimetype": "text/x-python",
   "name": "python",
   "nbconvert_exporter": "python",
   "pygments_lexer": "ipython3",
   "version": "3.11.4"
  }
 },
 "nbformat": 4,
 "nbformat_minor": 5
}
