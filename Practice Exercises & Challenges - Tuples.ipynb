{
 "cells": [
  {
   "cell_type": "markdown",
   "id": "1a54ccbf",
   "metadata": {},
   "source": [
    "# Practice Exercises & Challenges - Tuples"
   ]
  },
  {
   "cell_type": "markdown",
   "id": "356d2478",
   "metadata": {},
   "source": [
    "### 1. Practice Exercise: Access Elements in a Tuple"
   ]
  },
  {
   "cell_type": "markdown",
   "id": "4778e73c",
   "metadata": {},
   "source": [
    "1.1. What happens when there are no spaces in the string? Will the replace method make any changes to the string?"
   ]
  },
  {
   "cell_type": "code",
   "execution_count": null,
   "id": "b8face61",
   "metadata": {},
   "outputs": [],
   "source": [
    "print('HelloWorld'.replace(\" \", \"\"))"
   ]
  },
  {
   "cell_type": "markdown",
   "id": "81c2a243",
   "metadata": {},
   "source": [
    "1.2. How does the replace method behave when the string contains only spaces? What will the output look like?"
   ]
  },
  {
   "cell_type": "code",
   "execution_count": null,
   "id": "2d89c8db",
   "metadata": {},
   "outputs": [],
   "source": [
    "print('     '.replace(\" \", \"\"))"
   ]
  },
  {
   "cell_type": "markdown",
   "id": "ae2348ed",
   "metadata": {},
   "source": [
    "1.3. What will the replace method return when the string is empty? Why?"
   ]
  },
  {
   "cell_type": "code",
   "execution_count": null,
   "id": "243bfd88",
   "metadata": {},
   "outputs": [],
   "source": [
    "print(''.replace(\" \", \"\"))"
   ]
  },
  {
   "cell_type": "markdown",
   "id": "0b5a4c36",
   "metadata": {},
   "source": [
    "1.4. What happens when the string has leading and trailing spaces? How does the replace method handle them?"
   ]
  },
  {
   "cell_type": "code",
   "execution_count": null,
   "id": "990f0c97",
   "metadata": {},
   "outputs": [],
   "source": [
    "print('  Hello  '.replace(\" \", \"\"))"
   ]
  },
  {
   "cell_type": "markdown",
   "id": "4a7d2670",
   "metadata": {},
   "source": [
    "### 2. Check if a String Only Contains Numbers"
   ]
  },
  {
   "cell_type": "markdown",
   "id": "117d787b",
   "metadata": {},
   "source": [
    "2.1. What do you think happens when the isdecimal() method is called on an empty string? Will it return True or False? Why?"
   ]
  },
  {
   "cell_type": "code",
   "execution_count": null,
   "id": "bddbbea7",
   "metadata": {},
   "outputs": [],
   "source": [
    "print(''.isdecimal())"
   ]
  },
  {
   "cell_type": "markdown",
   "id": "4f4ec830",
   "metadata": {},
   "source": [
    "2.2. Does the string '12345' contain only decimal digits? What do you expect the isdecimal() method to return?"
   ]
  },
  {
   "cell_type": "code",
   "execution_count": null,
   "id": "8bbded0c",
   "metadata": {},
   "outputs": [],
   "source": [
    "print('12345'.isdecimal())"
   ]
  },
  {
   "cell_type": "markdown",
   "id": "c3a0b0c3",
   "metadata": {},
   "source": [
    "2.3. Can the isdecimal() method return True if the string contains a mix of letters and numbers? Why or why not?"
   ]
  },
  {
   "cell_type": "code",
   "execution_count": null,
   "id": "960706bf",
   "metadata": {},
   "outputs": [],
   "source": [
    "print('Hello123'.isdecimal())"
   ]
  },
  {
   "cell_type": "markdown",
   "id": "965041bc",
   "metadata": {},
   "source": [
    "2.4. The string '123²' contains the superscript \"²\". Do you think the isdecimal() method considers this a valid decimal character? Why or why not?"
   ]
  },
  {
   "cell_type": "code",
   "execution_count": null,
   "id": "0d1d8d65",
   "metadata": {},
   "outputs": [],
   "source": [
    "print('123²'.isdecimal())"
   ]
  },
  {
   "cell_type": "markdown",
   "id": "76d70660",
   "metadata": {},
   "source": [
    "### 3. Replace a Character in a String"
   ]
  },
  {
   "cell_type": "markdown",
   "id": "613651f2",
   "metadata": {},
   "source": [
    "3.1. What happens if the character to be replaced is not found in the string? Will the replace() method still modify the string?"
   ]
  },
  {
   "cell_type": "code",
   "execution_count": null,
   "id": "6df488ae",
   "metadata": {},
   "outputs": [],
   "source": [
    "word = 'Python'\n",
    "current_char = 'z'\n",
    "new_char = 'a'\n",
    "print(word.replace(current_char, new_char))"
   ]
  },
  {
   "cell_type": "markdown",
   "id": "c5fb03d5",
   "metadata": {},
   "source": [
    "3.2. How does the replace() method handle strings where the target character appears multiple times?"
   ]
  },
  {
   "cell_type": "code",
   "execution_count": null,
   "id": "adb6d53e",
   "metadata": {},
   "outputs": [],
   "source": [
    "word = 'Python Programming'\n",
    "current_char = 'P'\n",
    "new_char = 'a'\n",
    "print(word.replace(current_char, new_char))"
   ]
  },
  {
   "cell_type": "markdown",
   "id": "2016803c",
   "metadata": {},
   "source": [
    "3.3. If the new character is the same as the target character, what will the output be?"
   ]
  },
  {
   "cell_type": "code",
   "execution_count": null,
   "id": "d1f31c7f",
   "metadata": {},
   "outputs": [],
   "source": [
    "word = 'Python'\n",
    "current_char = 'P'\n",
    "new_char = 'P'\n",
    "print(word.replace(current_char, new_char))"
   ]
  },
  {
   "cell_type": "markdown",
   "id": "18d40240",
   "metadata": {},
   "source": [
    "3.4. What is the result of calling the replace() method on an empty string?"
   ]
  },
  {
   "cell_type": "code",
   "execution_count": null,
   "id": "c868fb2b",
   "metadata": {},
   "outputs": [],
   "source": [
    "word = ''\n",
    "current_char = 'P'\n",
    "new_char = 'a'\n",
    "print(word.replace(current_char, new_char)) "
   ]
  },
  {
   "cell_type": "markdown",
   "id": "a4c1e9e4",
   "metadata": {},
   "source": [
    "### 4. Remove nth Character from a String"
   ]
  },
  {
   "cell_type": "markdown",
   "id": "22f7077c",
   "metadata": {},
   "source": [
    "4.1. What will happen when you try to remove a character from an empty string? Why?"
   ]
  },
  {
   "cell_type": "code",
   "execution_count": null,
   "id": "5c4baf51",
   "metadata": {},
   "outputs": [],
   "source": [
    "word = ''\n",
    "nth_digit = 1\n",
    "print(word[:nth_digit] + word[nth_digit + 1:])"
   ]
  },
  {
   "cell_type": "markdown",
   "id": "e923f237",
   "metadata": {},
   "source": [
    "4.2. If the nth_digit is larger than the string length, what will the slicing operation return? Why?"
   ]
  },
  {
   "cell_type": "code",
   "execution_count": null,
   "id": "cb51268a",
   "metadata": {},
   "outputs": [],
   "source": [
    "word = 'Hello'\n",
    "nth_digit = 10\n",
    "print(word[:nth_digit] + word[nth_digit + 1:])"
   ]
  },
  {
   "cell_type": "markdown",
   "id": "07ec3522",
   "metadata": {},
   "source": [
    "4.3. How does the slicing operation handle removing the first character of the string? What will the result look like?"
   ]
  },
  {
   "cell_type": "code",
   "execution_count": null,
   "id": "08091933",
   "metadata": {},
   "outputs": [],
   "source": [
    "word = 'Hello'\n",
    "nth_digit = 0\n",
    "print(word[:nth_digit] + word[nth_digit + 1:])"
   ]
  },
  {
   "cell_type": "markdown",
   "id": "7099e7e7",
   "metadata": {},
   "source": [
    "4.4. What happens when the nth_digit corresponds to the last character of the string? How does the slicing operation exclude it?"
   ]
  },
  {
   "cell_type": "code",
   "execution_count": null,
   "id": "3247cbf7",
   "metadata": {},
   "outputs": [],
   "source": [
    "word = 'Hello'\n",
    "nth_digit = 4\n",
    "print(word[:nth_digit] + word[nth_digit + 1:])"
   ]
  },
  {
   "cell_type": "markdown",
   "id": "13ea6d4a",
   "metadata": {},
   "source": [
    "### 5. Practice Exercise: Replace Commas with Dots"
   ]
  },
  {
   "cell_type": "markdown",
   "id": "21533a29",
   "metadata": {},
   "source": [
    "5.1. What happens when the replace() method is called on a string that has no commas? Will it modify the string?"
   ]
  },
  {
   "cell_type": "code",
   "execution_count": null,
   "id": "57c2649f",
   "metadata": {},
   "outputs": [],
   "source": [
    "word = 'Hello World'\n",
    "print(word.replace(',', '.'))"
   ]
  },
  {
   "cell_type": "markdown",
   "id": "0a85a746",
   "metadata": {},
   "source": [
    "5.2. How does the replace() method handle strings with multiple commas? What will the output look like?"
   ]
  },
  {
   "cell_type": "code",
   "execution_count": null,
   "id": "820bc26b",
   "metadata": {},
   "outputs": [],
   "source": [
    "word = 'Hello, World, Python!'\n",
    "print(word.replace(',', '.'))"
   ]
  },
  {
   "cell_type": "markdown",
   "id": "d75f0d0e",
   "metadata": {},
   "source": [
    "5.3. If a string contains only commas, what will the output be after replacing them with dots?"
   ]
  },
  {
   "cell_type": "code",
   "execution_count": null,
   "id": "75425793",
   "metadata": {},
   "outputs": [],
   "source": [
    "word = ',,,'\n",
    "print(word.replace(',', '.'))"
   ]
  },
  {
   "cell_type": "markdown",
   "id": "4ef2634f",
   "metadata": {},
   "source": [
    "5.4. What is the result of calling replace() on an empty string? Why?"
   ]
  },
  {
   "cell_type": "code",
   "execution_count": null,
   "id": "81957606",
   "metadata": {},
   "outputs": [],
   "source": [
    "word = ''\n",
    "print(word.replace(',', '.'))"
   ]
  },
  {
   "cell_type": "markdown",
   "id": "ba4cf44a",
   "metadata": {},
   "source": [
    "### 6. Practice Exercise: Remove Characters at Even Indices"
   ]
  },
  {
   "cell_type": "markdown",
   "id": "bce06cd4",
   "metadata": {},
   "source": [
    "6.1. What happens when you try to remove characters at even indices from a single character string? Why?"
   ]
  },
  {
   "cell_type": "code",
   "execution_count": null,
   "id": "e7ae2257",
   "metadata": {},
   "outputs": [],
   "source": [
    "word = 'A'\n",
    "print(word[1::2])"
   ]
  },
  {
   "cell_type": "markdown",
   "id": "1dce4fe9",
   "metadata": {},
   "source": [
    "6.2. How does slicing behave when the string is empty? Will the output be an error or an empty string?"
   ]
  },
  {
   "cell_type": "code",
   "execution_count": null,
   "id": "3bea87b8",
   "metadata": {},
   "outputs": [],
   "source": [
    "word = ''\n",
    "print(word[1::2])"
   ]
  },
  {
   "cell_type": "markdown",
   "id": "6b99e120",
   "metadata": {},
   "source": [
    "6.3. If the string has an even number of characters, how many characters will remain after removing those at even indices?"
   ]
  },
  {
   "cell_type": "code",
   "execution_count": null,
   "id": "6eaa36f2",
   "metadata": {},
   "outputs": [],
   "source": [
    "word = 'Python'\n",
    "print(word[1::2])"
   ]
  },
  {
   "cell_type": "markdown",
   "id": "4f8b76ca",
   "metadata": {},
   "source": [
    "6.4. How does the output differ for strings with odd numbers of characters versus even numbers?"
   ]
  },
  {
   "cell_type": "code",
   "execution_count": null,
   "id": "ba345091",
   "metadata": {},
   "outputs": [],
   "source": [
    "word = 'Python!'\n",
    "print(word[1::2])"
   ]
  },
  {
   "cell_type": "markdown",
   "id": "562f852a",
   "metadata": {},
   "source": [
    "### 7. Practice Exercise: Print Character at a Given Index"
   ]
  },
  {
   "cell_type": "markdown",
   "id": "7680f83f",
   "metadata": {},
   "source": [
    "7.1. What happens if the string is empty and an index is provided? Why is this check necessary?"
   ]
  },
  {
   "cell_type": "code",
   "execution_count": null,
   "id": "1a4f5b8e",
   "metadata": {},
   "outputs": [],
   "source": [
    "word = \"\"\n",
    "index_given = 2"
   ]
  },
  {
   "cell_type": "markdown",
   "id": "cd046106",
   "metadata": {},
   "source": [
    "7.2. How does the program determine whether the given index is valid? What is printed when the index is within range?"
   ]
  },
  {
   "cell_type": "code",
   "execution_count": null,
   "id": "540a8467",
   "metadata": {},
   "outputs": [],
   "source": [
    "word = \"Python\"\n",
    "index_given = 3"
   ]
  },
  {
   "cell_type": "markdown",
   "id": "b898a48a",
   "metadata": {},
   "source": [
    "7.3. What happens if the given index exceeds the length of the string? Why?"
   ]
  },
  {
   "cell_type": "code",
   "execution_count": null,
   "id": "c7793b74",
   "metadata": {},
   "outputs": [],
   "source": [
    "word = \"Python\"\n",
    "index_given = 10"
   ]
  },
  {
   "cell_type": "markdown",
   "id": "d572f83c",
   "metadata": {},
   "source": [
    "7.4. How does Python handle negative indices? Will the program behave differently for negative indices compared to positive ones?"
   ]
  },
  {
   "cell_type": "code",
   "execution_count": null,
   "id": "35ab3d6a",
   "metadata": {},
   "outputs": [],
   "source": [
    "word = \"Python\"\n",
    "index_given = -1"
   ]
  },
  {
   "cell_type": "markdown",
   "id": "880b14e6",
   "metadata": {},
   "source": [
    "### 8. Practice Exercise: Combine First and Last Three Characters of a String"
   ]
  },
  {
   "cell_type": "markdown",
   "id": "014c9ecb",
   "metadata": {},
   "source": [
    "8.1. What happens if the string has fewer than 6 characters? "
   ]
  },
  {
   "cell_type": "code",
   "execution_count": null,
   "id": "77538830",
   "metadata": {},
   "outputs": [],
   "source": [
    "word = \"Wow\"\n",
    "slice_size = 3\n",
    "min_char_length = 6"
   ]
  },
  {
   "cell_type": "markdown",
   "id": "6458426f",
   "metadata": {},
   "source": [
    "8.2. If the string is exactly 6 characters long, what will the output be? How are the first and last three characters combined?"
   ]
  },
  {
   "cell_type": "code",
   "execution_count": null,
   "id": "a7cf85d6",
   "metadata": {},
   "outputs": [],
   "source": [
    "word = \"Python\"\n",
    "slice_size = 3\n",
    "min_char_length = 6"
   ]
  },
  {
   "cell_type": "markdown",
   "id": "b995f04f",
   "metadata": {},
   "source": [
    "8.3. How does the program handle strings longer than 6 characters? What happens to the characters in the middle?"
   ]
  },
  {
   "cell_type": "code",
   "execution_count": null,
   "id": "86eac684",
   "metadata": {},
   "outputs": [],
   "source": [
    "word = \"Programming\"\n",
    "slice_size = 3\n",
    "min_char_length = 6"
   ]
  },
  {
   "cell_type": "markdown",
   "id": "066f6ef0",
   "metadata": {},
   "source": [
    "8.4. How does the program behave if the string is empty? Why?"
   ]
  },
  {
   "cell_type": "code",
   "execution_count": null,
   "id": "8e76124d",
   "metadata": {},
   "outputs": [],
   "source": [
    "word = \"\"\n",
    "slice_size = 3\n",
    "min_char_length = 6"
   ]
  },
  {
   "cell_type": "markdown",
   "id": "d9838a60",
   "metadata": {},
   "source": [
    "### 9. Practice Exercise: Check if a String Starts with a Prefix"
   ]
  },
  {
   "cell_type": "markdown",
   "id": "13d23301",
   "metadata": {},
   "source": [
    "Predict the output of the following cases as True or False before running the code:"
   ]
  },
  {
   "cell_type": "markdown",
   "id": "2d4546ff",
   "metadata": {},
   "source": [
    "9.1. Does an empty string (\"\") start with another empty string (\"\")?"
   ]
  },
  {
   "cell_type": "code",
   "execution_count": null,
   "id": "084e03ff",
   "metadata": {},
   "outputs": [],
   "source": [
    "print(''.startswith(''))"
   ]
  },
  {
   "cell_type": "markdown",
   "id": "6d916a0c",
   "metadata": {},
   "source": [
    "9.2. Can the string 'abc' start with the prefix 'abcd', which is longer than the string itself? Why or why not?"
   ]
  },
  {
   "cell_type": "code",
   "execution_count": null,
   "id": "1e81493a",
   "metadata": {},
   "outputs": [],
   "source": [
    "print('abc'.startswith('abcd'))"
   ]
  },
  {
   "cell_type": "markdown",
   "id": "65b9089b",
   "metadata": {},
   "source": [
    "9.3. Can the string \"abc\" start with the suffix \"ab\", which is shorter than the string itself?"
   ]
  },
  {
   "cell_type": "code",
   "execution_count": null,
   "id": "844ac3c9",
   "metadata": {},
   "outputs": [],
   "source": [
    "print('abc'.startswith('ab'))"
   ]
  },
  {
   "cell_type": "markdown",
   "id": "4b80e87a",
   "metadata": {},
   "source": [
    "### 10. Practice Exercise: Check if a String Ends with a Suffix"
   ]
  },
  {
   "cell_type": "markdown",
   "id": "0047a941",
   "metadata": {},
   "source": [
    "Predict the output of the following cases as True or False before running the code:"
   ]
  },
  {
   "cell_type": "markdown",
   "id": "c54d5089",
   "metadata": {},
   "source": [
    "10.1. Does an empty string (\"\") end with another empty string (\"\")?"
   ]
  },
  {
   "cell_type": "code",
   "execution_count": null,
   "id": "9c391c9f",
   "metadata": {},
   "outputs": [],
   "source": [
    "print(''.endswith(''))"
   ]
  },
  {
   "cell_type": "markdown",
   "id": "61b53e67",
   "metadata": {},
   "source": [
    "10.2. Can the string \"abc\" end with the suffix \"abcd\", which is longer than the string itself?"
   ]
  },
  {
   "cell_type": "code",
   "execution_count": null,
   "id": "e5fea837",
   "metadata": {},
   "outputs": [],
   "source": [
    "print('abc'.endswith('abcd'))"
   ]
  },
  {
   "cell_type": "markdown",
   "id": "cfd7b312",
   "metadata": {},
   "source": [
    "10.3. Is an empty string (\"\") considered a suffix of any string? "
   ]
  },
  {
   "cell_type": "code",
   "execution_count": null,
   "id": "e6ba8a80",
   "metadata": {},
   "outputs": [],
   "source": [
    "print('abc'.endswith(''))"
   ]
  },
  {
   "cell_type": "markdown",
   "id": "02c8bd3d",
   "metadata": {},
   "source": [
    "### 11. Practice Exercise: Count Repeated Characters"
   ]
  },
  {
   "cell_type": "markdown",
   "id": "9aab9997",
   "metadata": {},
   "source": [
    "Use the standard or optimized approach in the code lecture for these practice exercises"
   ]
  },
  {
   "cell_type": "markdown",
   "id": "18ce7ee0",
   "metadata": {},
   "source": [
    "11.1. What happens if no characters in the string are repeated? How does the program handle this case?"
   ]
  },
  {
   "cell_type": "code",
   "execution_count": 3,
   "id": "9242e55b",
   "metadata": {},
   "outputs": [],
   "source": [
    "word = \"Python\""
   ]
  },
  {
   "cell_type": "markdown",
   "id": "9c47a6e8",
   "metadata": {},
   "source": [
    "11.2. If every character in the string is repeated, how does the program count and display them?"
   ]
  },
  {
   "cell_type": "code",
   "execution_count": null,
   "id": "d0b37264",
   "metadata": {},
   "outputs": [],
   "source": [
    "word = \"aabbcc\""
   ]
  },
  {
   "cell_type": "markdown",
   "id": "3c715530",
   "metadata": {},
   "source": [
    "11.3. How does the program behave if the string contains only one character? Why?"
   ]
  },
  {
   "cell_type": "code",
   "execution_count": null,
   "id": "4a5c68d8",
   "metadata": {},
   "outputs": [],
   "source": [
    "word = \"a\""
   ]
  },
  {
   "cell_type": "markdown",
   "id": "bc8e48f3",
   "metadata": {},
   "source": [
    "11.4. What is the result of running the program on an empty string? Why?"
   ]
  },
  {
   "cell_type": "code",
   "execution_count": null,
   "id": "4c9c764e",
   "metadata": {},
   "outputs": [],
   "source": [
    "word = \"\""
   ]
  },
  {
   "cell_type": "markdown",
   "id": "121ddb9e",
   "metadata": {},
   "source": [
    "### 12. Practice Exercise: Sort Words in Alphabetical Order"
   ]
  },
  {
   "cell_type": "markdown",
   "id": "31dba725",
   "metadata": {},
   "source": [
    "Use the standard or optimized approach in the code lecture for these practice exercises"
   ]
  },
  {
   "cell_type": "markdown",
   "id": "1fec3967",
   "metadata": {},
   "source": [
    "12.1. How does the program behave when the input string contains only one word? Why?"
   ]
  },
  {
   "cell_type": "code",
   "execution_count": null,
   "id": "aa0f01c5",
   "metadata": {},
   "outputs": [],
   "source": [
    "word = \"Python\""
   ]
  },
  {
   "cell_type": "markdown",
   "id": "9b61dc5f",
   "metadata": {},
   "source": [
    "12.2. What happens when the input string contains multiple words? How are the words processed individually?"
   ]
  },
  {
   "cell_type": "code",
   "execution_count": null,
   "id": "c346776f",
   "metadata": {},
   "outputs": [],
   "source": [
    "word = \"Hello Python\""
   ]
  },
  {
   "cell_type": "markdown",
   "id": "85050c14",
   "metadata": {},
   "source": [
    "12.3. How does the program handle uppercase letters? Why is the lower() method necessary?"
   ]
  },
  {
   "cell_type": "code",
   "execution_count": null,
   "id": "9c34fc64",
   "metadata": {},
   "outputs": [],
   "source": [
    "word = \"HELLO WORLD\""
   ]
  },
  {
   "cell_type": "markdown",
   "id": "055926ee",
   "metadata": {},
   "source": [
    "12.4. What is the output when the input string is empty? Why?"
   ]
  },
  {
   "cell_type": "code",
   "execution_count": null,
   "id": "0cf9ca12",
   "metadata": {},
   "outputs": [],
   "source": [
    "word = \"\""
   ]
  },
  {
   "cell_type": "markdown",
   "id": "92bae94e",
   "metadata": {},
   "source": [
    "12.5. How does the program treat punctuation marks in the string? Will they be sorted along with the characters?"
   ]
  },
  {
   "cell_type": "code",
   "execution_count": null,
   "id": "f2cda6d8",
   "metadata": {},
   "outputs": [],
   "source": [
    "word = \"Hello, World!\""
   ]
  },
  {
   "cell_type": "markdown",
   "id": "c59ec989",
   "metadata": {},
   "source": [
    "### 13. Practice Exercise: Reverse Words in a String"
   ]
  },
  {
   "cell_type": "markdown",
   "id": "c4711abc",
   "metadata": {},
   "source": [
    "Use the standard or optimized approach in the code lecture for these practice exercises"
   ]
  },
  {
   "cell_type": "markdown",
   "id": "d5942785",
   "metadata": {},
   "source": [
    "13.1. How does the program behave with a single word? What happens to the case and the order of the characters?"
   ]
  },
  {
   "cell_type": "code",
   "execution_count": null,
   "id": "1e4eba7c",
   "metadata": {},
   "outputs": [],
   "source": [
    "word = \"Python\""
   ]
  },
  {
   "cell_type": "markdown",
   "id": "ef7178c5",
   "metadata": {},
   "source": [
    "13.2. How does the program process multiple words in the string? Does the word order remain the same?"
   ]
  },
  {
   "cell_type": "code",
   "execution_count": null,
   "id": "12de46b4",
   "metadata": {},
   "outputs": [],
   "source": [
    "word = \"Hello World\""
   ]
  },
  {
   "cell_type": "markdown",
   "id": "c4cac37e",
   "metadata": {},
   "source": [
    "13.3. What happens to the case of letters in a string with mixed uppercase and lowercase letters?"
   ]
  },
  {
   "cell_type": "code",
   "execution_count": null,
   "id": "63f3197b",
   "metadata": {},
   "outputs": [],
   "source": [
    "word = \"Good Morning\""
   ]
  },
  {
   "cell_type": "markdown",
   "id": "d764cf09",
   "metadata": {},
   "source": [
    "13.4. What is the output for an empty string? Why does the program return this result?"
   ]
  },
  {
   "cell_type": "code",
   "execution_count": null,
   "id": "6f11d3b7",
   "metadata": {},
   "outputs": [],
   "source": [
    "word = \"\""
   ]
  },
  {
   "cell_type": "markdown",
   "id": "797f29ae",
   "metadata": {},
   "source": [
    "13.5. How does the program handle strings with punctuation marks? Do punctuation marks swap case or change their order?"
   ]
  },
  {
   "cell_type": "code",
   "execution_count": null,
   "id": "f5643f36",
   "metadata": {},
   "outputs": [],
   "source": [
    "word = \"Hello, World!\""
   ]
  },
  {
   "cell_type": "markdown",
   "id": "8f650783",
   "metadata": {},
   "source": [
    "### 14. Practice Exercise: Check if String Contains All Letters in the Alphabet"
   ]
  },
  {
   "cell_type": "markdown",
   "id": "0eae9831",
   "metadata": {},
   "source": [
    "14.1. What happens when the string contains all 26 letters of the alphabet at least once?"
   ]
  },
  {
   "cell_type": "code",
   "execution_count": null,
   "id": "a1174b0e",
   "metadata": {},
   "outputs": [],
   "source": [
    "word = \"abcdefghijklmnopqrstuvwxyz\""
   ]
  },
  {
   "cell_type": "markdown",
   "id": "250fe453",
   "metadata": {},
   "source": [
    "14.2. If a single letter is missing, how does the program identify it?"
   ]
  },
  {
   "cell_type": "code",
   "execution_count": null,
   "id": "3dbc59fd",
   "metadata": {},
   "outputs": [],
   "source": [
    "word = \"The quick brown fox jumps over the lazy dg\""
   ]
  },
  {
   "cell_type": "markdown",
   "id": "22669df4",
   "metadata": {},
   "source": [
    "14.3. Why does an empty string result in False, and what does the missing letters output show?"
   ]
  },
  {
   "cell_type": "code",
   "execution_count": null,
   "id": "ff3b6fb9",
   "metadata": {},
   "outputs": [],
   "source": [
    "word = \"\""
   ]
  },
  {
   "cell_type": "markdown",
   "id": "5b004a90",
   "metadata": {},
   "source": [
    "14.4. How does the program handle strings with punctuation or mixed case letters?"
   ]
  },
  {
   "cell_type": "code",
   "execution_count": null,
   "id": "20a61e20",
   "metadata": {},
   "outputs": [],
   "source": [
    "word = \"The Quick Brown Fox Jumps Over The Lazy Dog!\""
   ]
  },
  {
   "cell_type": "markdown",
   "id": "fab7d415",
   "metadata": {},
   "source": [
    "14.5. What is the output for strings that contain no alphabetic characters, such as symbols or spaces?"
   ]
  },
  {
   "cell_type": "code",
   "execution_count": null,
   "id": "80ec45ae",
   "metadata": {},
   "outputs": [],
   "source": [
    "word = \"     !!!@@@###\""
   ]
  },
  {
   "cell_type": "markdown",
   "id": "ad5bfd03",
   "metadata": {},
   "source": [
    "### Solution Available at: Solutions - Practice Exercises & Challenges - Strings"
   ]
  }
 ],
 "metadata": {
  "kernelspec": {
   "display_name": "Python 3 (ipykernel)",
   "language": "python",
   "name": "python3"
  },
  "language_info": {
   "codemirror_mode": {
    "name": "ipython",
    "version": 3
   },
   "file_extension": ".py",
   "mimetype": "text/x-python",
   "name": "python",
   "nbconvert_exporter": "python",
   "pygments_lexer": "ipython3",
   "version": "3.11.4"
  }
 },
 "nbformat": 4,
 "nbformat_minor": 5
}
