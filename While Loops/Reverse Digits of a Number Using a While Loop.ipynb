{
 "cells": [
  {
   "attachments": {},
   "cell_type": "markdown",
   "id": "de666638",
   "metadata": {},
   "source": [
    " # **Reverse Digits of a Number Using a While Loop**"
   ]
  },
  {
   "cell_type": "markdown",
   "id": "b1b377e4",
   "metadata": {},
   "source": [
    "### Standard Approach:"
   ]
  },
  {
   "cell_type": "code",
   "execution_count": null,
   "id": "24184929",
   "metadata": {},
   "outputs": [],
   "source": [
    "# Input: Get the number from the user\n",
    "the_num = int(input(\"Enter a number: \"))\n",
    "reversed_num = 0  # Initialize the reversed number\n",
    "\n",
    "# Loop through the digits of the number\n",
    "while the_num > 0:\n",
    "    the_digit = the_num % 10  # Extract the last digit\n",
    "    reversed_num = reversed_num * 10 + the_digit  # Add the digit to the reversed number\n",
    "    the_num //= 10  # Remove the last digit from the number\n",
    "\n",
    "# Print the reversed number\n",
    "print(reversed_num)"
   ]
  },
  {
   "cell_type": "markdown",
   "id": "a9865f88",
   "metadata": {},
   "source": [
    "Note: In this approach, we extract the last digit of the number, build the reversed number step by step, and remove the last digit in each iteration."
   ]
  },
  {
   "cell_type": "markdown",
   "id": "017aff0b",
   "metadata": {},
   "source": [
    "### Optimized Solution:"
   ]
  },
  {
   "cell_type": "code",
   "execution_count": null,
   "id": "496e1d1c",
   "metadata": {},
   "outputs": [],
   "source": [
    "# Input: Get the number from the user\n",
    "the_num = int(input(\"Enter a number: \"))\n",
    "reversed_num = 0  # Initialize the reversed number\n",
    "\n",
    "# Loop through the digits of the number\n",
    "while the_num:\n",
    "    reversed_num = reversed_num * 10 + the_num % 10  # Add the last digit to the reversed number\n",
    "    the_num //= 10  # Remove the last digit from the number\n",
    "\n",
    "# Print the reversed number\n",
    "print(reversed_num)"
   ]
  },
  {
   "cell_type": "markdown",
   "id": "f2901c30",
   "metadata": {},
   "source": [
    "Note: In this solution, we remove the need for an explicit variable (the_digit) to hold the last digit, making the logic more concise."
   ]
  },
  {
   "cell_type": "markdown",
   "id": "46c2e449",
   "metadata": {},
   "source": [
    "### Additional Practice:\n",
    "See For Loops - Practice Exercises & Challenges: Reverse Digits of a Number Using a While Loop"
   ]
  }
 ],
 "metadata": {
  "kernelspec": {
   "display_name": "Python 3 (ipykernel)",
   "language": "python",
   "name": "python3"
  },
  "language_info": {
   "codemirror_mode": {
    "name": "ipython",
    "version": 3
   },
   "file_extension": ".py",
   "mimetype": "text/x-python",
   "name": "python",
   "nbconvert_exporter": "python",
   "pygments_lexer": "ipython3",
   "version": "3.11.4"
  }
 },
 "nbformat": 4,
 "nbformat_minor": 5
}
