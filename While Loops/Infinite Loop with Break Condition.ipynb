{
 "cells": [
  {
   "attachments": {},
   "cell_type": "markdown",
   "id": "de666638",
   "metadata": {},
   "source": [
    " # **Infinite Loop with Break Condition**"
   ]
  },
  {
   "cell_type": "markdown",
   "id": "b1b377e4",
   "metadata": {},
   "source": [
    "### Standard Approach:"
   ]
  },
  {
   "cell_type": "code",
   "execution_count": null,
   "id": "24184929",
   "metadata": {},
   "outputs": [],
   "source": [
    "# Infinite loop with explicit break condition\n",
    "while True:\n",
    "    user_input = input('Type \"exit\" to quit: ')\n",
    "    if user_input.lower() == 'exit':\n",
    "        print('Exiting the loop.')\n",
    "        break"
   ]
  },
  {
   "cell_type": "markdown",
   "id": "a9865f88",
   "metadata": {},
   "source": [
    "Note: This approach uses a while True loop to continuously prompt the user until they type \"exit\" (case-insensitive). The loop is terminated using a break statement."
   ]
  },
  {
   "cell_type": "markdown",
   "id": "017aff0b",
   "metadata": {},
   "source": [
    "### Optimized Solution:"
   ]
  },
  {
   "cell_type": "code",
   "execution_count": null,
   "id": "496e1d1c",
   "metadata": {},
   "outputs": [],
   "source": [
    "# Infinite loop with a walrus operator\n",
    "while (user_input := input('Type \"exit\" to quit: ').lower()) != 'exit':\n",
    "    print(f'You entered: {user_input}')\n",
    "print('Exiting the loop.')"
   ]
  },
  {
   "cell_type": "markdown",
   "id": "f2901c30",
   "metadata": {},
   "source": [
    "Note: This solution uses the walrus operator (:=) to combine input assignment and validation into a single line of code."
   ]
  },
  {
   "attachments": {},
   "cell_type": "markdown",
   "id": "46c2e449",
   "metadata": {},
   "source": [
    "### Additional Practice:\n",
    "See For Loops - Practice Exercises & Challenges: Infinite Loop with Break Condition"
   ]
  }
 ],
 "metadata": {
  "kernelspec": {
   "display_name": "Python 3 (ipykernel)",
   "language": "python",
   "name": "python3"
  },
  "language_info": {
   "codemirror_mode": {
    "name": "ipython",
    "version": 3
   },
   "file_extension": ".py",
   "mimetype": "text/x-python",
   "name": "python",
   "nbconvert_exporter": "python",
   "pygments_lexer": "ipython3",
   "version": "3.11.4"
  }
 },
 "nbformat": 4,
 "nbformat_minor": 5
}
