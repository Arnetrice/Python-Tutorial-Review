{
 "cells": [
  {
   "cell_type": "markdown",
   "id": "de666638",
   "metadata": {},
   "source": [
    " # **Check if a Number is Prime Using a While Loop**"
   ]
  },
  {
   "cell_type": "markdown",
   "id": "b1b377e4",
   "metadata": {},
   "source": [
    "### Standard Approach:"
   ]
  },
  {
   "cell_type": "code",
   "execution_count": null,
   "id": "24184929",
   "metadata": {},
   "outputs": [],
   "source": [
    "# Input: User provides a number\n",
    "the_num = int(input(\"Enter a number: \"))\n",
    "\n",
    "# Initialize variables\n",
    "is_prime = True\n",
    "the_divisor = 2\n",
    "\n",
    "# Check for divisors using a while loop\n",
    "while the_divisor < the_num: \n",
    "    if the_num % the_divisor == 0:\n",
    "        is_prime = False  # Not a prime number\n",
    "        break  # Exit the loop early\n",
    "    the_divisor += 1\n",
    "\n",
    "# Output result based on the flag variable\n",
    "print(\"Prime\" if is_prime else \"Not Prime\")"
   ]
  },
  {
   "cell_type": "markdown",
   "id": "a9865f88",
   "metadata": {},
   "source": [
    "This approach calculates the factorial of a given number using a while loop, where the loop decrements the number and multiplies it sequentially."
   ]
  },
  {
   "cell_type": "markdown",
   "id": "017aff0b",
   "metadata": {},
   "source": [
    "### Optimized Solution:"
   ]
  },
  {
   "cell_type": "code",
   "execution_count": null,
   "id": "496e1d1c",
   "metadata": {},
   "outputs": [],
   "source": [
    "# Input: User provides a number\n",
    "the_num = int(input(\"Enter a number: \"))\n",
    "\n",
    "# Initialize the divisor\n",
    "the_divisor = 2\n",
    "\n",
    "# While loop to check for divisors\n",
    "while the_divisor < the_num:  \n",
    "    if the_num % the_divisor == 0:\n",
    "        print(\"Not Prime\")  # Found a divisor, not prime\n",
    "        break  # Exit the loop early\n",
    "    the_divisor += 1\n",
    "else:\n",
    "    # This block executes only if the while loop does NOT hit 'break'\n",
    "    print(\"Prime\")"
   ]
  },
  {
   "cell_type": "markdown",
   "id": "f2901c30",
   "metadata": {},
   "source": [
    "Note: In this solution, the else block of the while loop removes the need for a flag variable. If the loop completes without hitting a break, the number is prime."
   ]
  },
  {
   "cell_type": "markdown",
   "id": "46c2e449",
   "metadata": {},
   "source": [
    "### Additional Practice:\n",
    "See For Loops - Practice Exercises & Challenges: Check if a Number is Prime Using a While Loop"
   ]
  }
 ],
 "metadata": {
  "kernelspec": {
   "display_name": "Python 3 (ipykernel)",
   "language": "python",
   "name": "python3"
  },
  "language_info": {
   "codemirror_mode": {
    "name": "ipython",
    "version": 3
   },
   "file_extension": ".py",
   "mimetype": "text/x-python",
   "name": "python",
   "nbconvert_exporter": "python",
   "pygments_lexer": "ipython3",
   "version": "3.11.4"
  }
 },
 "nbformat": 4,
 "nbformat_minor": 5
}
