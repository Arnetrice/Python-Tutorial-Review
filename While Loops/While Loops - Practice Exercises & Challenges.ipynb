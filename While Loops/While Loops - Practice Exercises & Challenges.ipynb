{
 "cells": [
  {
   "cell_type": "markdown",
   "id": "1a54ccbf",
   "metadata": {},
   "source": [
    "# Practice Exercises & Challenges - While Loops"
   ]
  },
  {
   "cell_type": "markdown",
   "id": "356d2478",
   "metadata": {},
   "source": [
    "### 1. Practice Exercise: Calculate Factorial Using a While Loop"
   ]
  },
  {
   "cell_type": "markdown",
   "id": "4778e73c",
   "metadata": {},
   "source": [
    "1.1. What happens if the input is 0? Why does it return 1?"
   ]
  },
  {
   "cell_type": "code",
   "execution_count": null,
   "id": "b8face61",
   "metadata": {},
   "outputs": [],
   "source": [
    "# No coding required to answer this question"
   ]
  },
  {
   "cell_type": "markdown",
   "id": "81c2a243",
   "metadata": {},
   "source": [
    "1.2. What changes are required to handle negative numbers gracefully?"
   ]
  },
  {
   "cell_type": "code",
   "execution_count": null,
   "id": "2d89c8db",
   "metadata": {},
   "outputs": [],
   "source": [
    "# Input: User provides a number\n",
    "the_num = int(input(\"Enter a number: \"))\n",
    "\n",
    "if the_num < 0:\n",
    "    print(\"Factorial is not defined for negative numbers.\")\n",
    "else:\n",
    "    the_factorial = 1\n",
    "    while # replace this with your code:"
   ]
  },
  {
   "cell_type": "markdown",
   "id": "ae2348ed",
   "metadata": {},
   "source": [
    "1.3. Rewrite the factorial calculation logic from Question 1.2 using a for loop instead of a while loop."
   ]
  },
  {
   "cell_type": "code",
   "execution_count": null,
   "id": "243bfd88",
   "metadata": {},
   "outputs": [],
   "source": [
    "# Input: User provides a number\n",
    "the_num = int(input(\"Enter a number: \"))\n",
    "\n",
    "# Check for negative numbers\n",
    "if the_num < 0:\n",
    "    print(\"Factorial is not defined for negative numbers.\")\n",
    "else:\n",
    "    the_factorial = 1\n",
    "\n",
    "    # Replace while loop with for loop\n",
    "    # replace this with your code   # Iterate from 1 to the_num (inclusive)\n",
    "        the_factorial *= # replace this with your code \n",
    "\n",
    "    # Print the factorial result\n",
    "    print(the_factorial)\n"
   ]
  },
  {
   "cell_type": "markdown",
   "id": "0b5a4c36",
   "metadata": {},
   "source": [
    "1.4. How would you further modify the program to calculate the factorial for multiple inputs without restarting it?"
   ]
  },
  {
   "cell_type": "code",
   "execution_count": null,
   "id": "990f0c97",
   "metadata": {},
   "outputs": [],
   "source": [
    "while   # replace this with your code:\n",
    "    the_num = int(input(\"Enter a number (or -1 to exit): \"))\n",
    "      # replace this with your code:\n",
    "        break\n",
    "      # replace this with your code:\n",
    "        print(\"Factorial is not defined for negative numbers.\")\n",
    "      # replace this with your code:\n",
    "        the_factorial = 1\n",
    "          # replace this with your code:\n",
    "            the_factorial *= the_num\n",
    "            the_num -= 1\n",
    "        print(\"Factorial:\", the_factorial)"
   ]
  },
  {
   "cell_type": "markdown",
   "id": "2cb8dc3d",
   "metadata": {},
   "source": [
    "1.5. What happens if the user inputs a non-integer value, such as a string or a float? How would you handle this scenario in the program?"
   ]
  },
  {
   "cell_type": "code",
   "execution_count": null,
   "id": "8de5b3c0",
   "metadata": {},
   "outputs": [],
   "source": [
    "# replace this with your code:\n",
    "    the_num = int(input(\"Enter a number: \"))\n",
    "    if the_num < 0:\n",
    "        print(\"Factorial is not defined for negative numbers.\")\n",
    "    else:\n",
    "        the_factorial = 1\n",
    "        # replace this with your code:\n",
    "            the_factorial *= the_num\n",
    "            the_num -= 1\n",
    "        print(\"Factorial:\", the_factorial)\n",
    "# replace this with your code::\n",
    "    print(\"Invalid input! Please enter an integer.\")"
   ]
  },
  {
   "cell_type": "markdown",
   "id": "4a7d2670",
   "metadata": {},
   "source": [
    "### 2. Practice Exercise: Check if a Number is Prime Using a While Loop"
   ]
  },
  {
   "cell_type": "markdown",
   "id": "117d787b",
   "metadata": {},
   "source": [
    "2.1. What happens when the input is 2 when using the standard approach? Why?"
   ]
  },
  {
   "cell_type": "code",
   "execution_count": null,
   "id": "bddbbea7",
   "metadata": {},
   "outputs": [],
   "source": [
    "# No coding required to answer this question. "
   ]
  },
  {
   "cell_type": "markdown",
   "id": "4f4ec830",
   "metadata": {},
   "source": [
    "2.2. How can you modify the optimized solution to handle the edge case where the input is 1 or a negative number?"
   ]
  },
  {
   "cell_type": "code",
   "execution_count": null,
   "id": "8bbded0c",
   "metadata": {},
   "outputs": [],
   "source": [
    "# Input: User provides a number\n",
    "the_num = int(input(\"Enter a number: \"))\n",
    "\n",
    "# Handle edge cases for 1 and negative numbers\n",
    "if # replace this with your code:\n",
    "\n",
    "    # Check for divisors\n",
    "    # replace this with your code:"
   ]
  },
  {
   "cell_type": "markdown",
   "id": "c3a0b0c3",
   "metadata": {},
   "source": [
    "2.3. Optimize the loop to check divisors only up to the square root of the number. Why is this optimization valid?"
   ]
  },
  {
   "cell_type": "code",
   "execution_count": null,
   "id": "960706bf",
   "metadata": {},
   "outputs": [],
   "source": [
    "import math  # Import math to use the square root function\n",
    "\n",
    "# Input: User provides a number\n",
    "the_num = int(input(\"Enter a number: \"))\n",
    "\n",
    "# Handle edge cases for 1 and negative numbers\n",
    "if # replace this with your code:\n",
    "\n",
    "    # Optimized loop: Check divisors up to the square root of the number\n",
    "    while # replace this with your code:\n",
    "        if # replace this with your code:  # Check if divisible\n",
    "            print(\"Not Prime\")\n",
    "            break\n",
    "        # replace this with your code:​ increment\n",
    "    else:\n",
    "        # replace this with your code\n"
   ]
  },
  {
   "cell_type": "markdown",
   "id": "965041bc",
   "metadata": {},
   "source": [
    "2.4. Rewrite the program to check for primality using a for loop instead of a while loop."
   ]
  },
  {
   "cell_type": "code",
   "execution_count": null,
   "id": "0d1d8d65",
   "metadata": {},
   "outputs": [],
   "source": [
    "import math  # Import math to calculate the integer square root\n",
    "\n",
    "# Input: User provides a number\n",
    "the_num = int(input(\"Enter a number: \"))\n",
    "\n",
    "# Handle edge cases for 1 and negative numbers\n",
    "if # replace this with your code:\n",
    "\n",
    "    # Use a for loop to check divisors up to the square root of the number\n",
    "    for # replace this with your code:\n",
    "        if # replace this with your code:  # Check for divisibility\n",
    "            print(\"Not Prime\")\n",
    "            break  # Exit the loop if a divisor is found\n",
    "    else:\n",
    "        # Executes only if the loop completes without hitting 'break'\n",
    "        # replace this with your code"
   ]
  },
  {
   "cell_type": "markdown",
   "id": "698fbad2",
   "metadata": {},
   "source": [
    "2.5. Modify the program to print all prime numbers in a given range, say from 2 to n."
   ]
  },
  {
   "cell_type": "code",
   "execution_count": null,
   "id": "b616d53e",
   "metadata": {},
   "outputs": [],
   "source": [
    "import math\n",
    "\n",
    "# Input: User provides an upper limit for the range\n",
    "n = int(input(\"Enter the upper limit (n): \"))\n",
    "\n",
    "# Edge case: Handle if n is less than 2\n",
    "# replace this with your code:\n",
    "    print(\"There are no prime numbers in this range.\")\n",
    "else:\n",
    "    print(\"Prime numbers from 2 to\", n, \"are:\")\n",
    "\n",
    "    # Iterate through all numbers in the range 2 to n\n",
    "    for # replace this with your code:  # Start at 2, end at n\n",
    "        is_prime = True  # Assume the number is prime initially\n",
    "\n",
    "        # Check divisors up to the square root of the number\n",
    "        for # replace this with your code:\n",
    "            # replace this with your code::  # Not a prime number\n",
    "                is_prime = False\n",
    "                break\n",
    "\n",
    "        # Print the number if it is prime\n",
    "        if # replace this with your code:\n",
    "            print(num)"
   ]
  },
  {
   "cell_type": "markdown",
   "id": "76d70660",
   "metadata": {},
   "source": [
    "### 3. Practice Exercise: Generate the First 100 Even Numbers Using a While Loop"
   ]
  },
  {
   "cell_type": "markdown",
   "id": "613651f2",
   "metadata": {},
   "source": [
    "3.1. Modify the program to generate a user-specified number of even numbers."
   ]
  },
  {
   "cell_type": "code",
   "execution_count": null,
   "id": "6df488ae",
   "metadata": {},
   "outputs": [],
   "source": [
    "n = int(input(\"Enter how many even numbers to generate: \"))\n",
    "the_counter = # replace this with your code\n",
    "count = # replace this with your code\n",
    "# replace this with your code:\n",
    "    print(the_counter, end=\" \")\n",
    "    the_counter += # replace this with your code\n",
    "    count += # replace this with your code"
   ]
  },
  {
   "cell_type": "markdown",
   "id": "c5fb03d5",
   "metadata": {},
   "source": [
    "3.2. Modify the program to print even numbers between two given values, e.g., 50 to 150."
   ]
  },
  {
   "cell_type": "code",
   "execution_count": null,
   "id": "adb6d53e",
   "metadata": {},
   "outputs": [],
   "source": [
    "the_counter = # replace this with your code\n",
    "# replace this with your code:\n",
    "    print(the_counter, end=\" \")\n",
    "    # replace this with your code"
   ]
  },
  {
   "cell_type": "markdown",
   "id": "2016803c",
   "metadata": {},
   "source": [
    "3.3. Modify the program to print the first 100 odd numbers instead."
   ]
  },
  {
   "cell_type": "code",
   "execution_count": null,
   "id": "d1f31c7f",
   "metadata": {},
   "outputs": [],
   "source": [
    "the_counter = # replace this with your code\n",
    "count = # replace this with your code\n",
    "# replace this with your code:\n",
    "    print(the_counter, end=\" \")\n",
    "    the_counter # replace this with your code\n",
    "    count # replace this with your code"
   ]
  },
  {
   "cell_type": "markdown",
   "id": "18d40240",
   "metadata": {},
   "source": [
    "3.4. Rewrite the program from question 3.1 to use a for loop instead of a while loop."
   ]
  },
  {
   "cell_type": "code",
   "execution_count": null,
   "id": "c868fb2b",
   "metadata": {},
   "outputs": [],
   "source": [
    "# Input: User provides how many even numbers to generate\n",
    "n = int(input(\"Enter how many even numbers to generate: \"))\n",
    "\n",
    "# Use a for loop to generate the first n even numbers\n",
    "# replace this with your code  # Start at 2, step by 2, stop at 2*n\n",
    "    print(the_counter, end=\" \")"
   ]
  },
  {
   "cell_type": "markdown",
   "id": "5f7434e7",
   "metadata": {},
   "source": [
    "3.5. Handle the edge case where no even numbers need to be printed."
   ]
  },
  {
   "cell_type": "code",
   "execution_count": null,
   "id": "feba4038",
   "metadata": {},
   "outputs": [],
   "source": [
    "n = int(input(\"Enter how many even numbers to generate: \"))\n",
    "if n <= 0:\n",
    "    print(\"No even numbers to display.\")\n",
    "else:\n",
    "    the_counter = # replace this with your code\n",
    "    count = # replace this with your code\n",
    "    # replace this with your code:\n",
    "        print(the_counter, end=\" \")\n",
    "        # replace this with your code\n",
    "        # replace this with your code"
   ]
  },
  {
   "cell_type": "markdown",
   "id": "a4c1e9e4",
   "metadata": {},
   "source": [
    "### 4. Practice Exercise: Print the Alphabet Using a While Loop"
   ]
  },
  {
   "cell_type": "markdown",
   "id": "22f7077c",
   "metadata": {},
   "source": [
    "4.1. Modify the program to print lowercase letters ('a' to 'z')."
   ]
  },
  {
   "cell_type": "code",
   "execution_count": null,
   "id": "5c4baf51",
   "metadata": {},
   "outputs": [],
   "source": [
    "start = # replace this with your code\n",
    "end = # replace this with your code\n",
    "ascii_value = # replace this with your code\n",
    "while ascii_value < # replace this with your code:\n",
    "    print(chr(ascii_value), end=' ')\n",
    "    ascii_value # replace this with your code\n",
    "print()"
   ]
  },
  {
   "cell_type": "markdown",
   "id": "e923f237",
   "metadata": {},
   "source": [
    "4.2. Ask the user to input two letters, and print all letters between them (inclusive)."
   ]
  },
  {
   "cell_type": "code",
   "execution_count": null,
   "id": "cb51268a",
   "metadata": {},
   "outputs": [],
   "source": [
    "start_letter = input(\"Enter the start letter: \").upper()\n",
    "end_letter = input(\"Enter the end letter: \").upper()\n",
    "\n",
    "start = ord(start_letter)\n",
    "end = ord(end_letter) + 1\n",
    "\n",
    "ascii_value = start\n",
    "# replace this with your code:\n",
    "    # replace this with your code\n",
    "    # replace this with your code\n",
    "print()"
   ]
  },
  {
   "cell_type": "markdown",
   "id": "07ec3522",
   "metadata": {},
   "source": [
    "4.3. Print the alphabet in reverse order ('Z' to 'A')."
   ]
  },
  {
   "cell_type": "code",
   "execution_count": null,
   "id": "08091933",
   "metadata": {},
   "outputs": [],
   "source": [
    "start = # replace this with your code\n",
    "end = # replace this with your code\n",
    "ascii_value = start\n",
    "# replace this with your code\n",
    "    print(chr(ascii_value), end=' ')\n",
    "    # replace this with your code\n",
    "print()"
   ]
  },
  {
   "cell_type": "markdown",
   "id": "7099e7e7",
   "metadata": {},
   "source": [
    "4.4. Print only the odd-positioned letters (A, C, E...) or even-positioned letters (B, D, F...)."
   ]
  },
  {
   "cell_type": "code",
   "execution_count": null,
   "id": "3247cbf7",
   "metadata": {},
   "outputs": [],
   "source": [
    "start = ord('A')\n",
    "end = ord('Z') + 1\n",
    "ascii_value = start\n",
    "# replace this with your code\n",
    "    # replace this with your code:  \n",
    "        print(chr(ascii_value), end=' ')\n",
    "    # replace this with your code\n",
    "print()"
   ]
  },
  {
   "cell_type": "markdown",
   "id": "78c8a8e3",
   "metadata": {},
   "source": [
    "4.5. Write a program to print letters from A to Z where their relative positions (starting from A as position 0) are divisible by 3."
   ]
  },
  {
   "cell_type": "code",
   "execution_count": null,
   "id": "9367f5fc",
   "metadata": {},
   "outputs": [],
   "source": [
    "start = ord('A')  # ASCII value of 'A'\n",
    "end = ord('Z') + 1  # ASCII value of 'Z' + 1 to include 'Z'\n",
    "\n",
    "ascii_value = start\n",
    " # replace this with your code:\n",
    "     # replace this with your code:  # Check divisibility by 3\n",
    "        print(chr(ascii_value), end=' ')\n",
    "     # replace this with your code\n",
    "print()"
   ]
  },
  {
   "cell_type": "markdown",
   "id": "13ea6d4a",
   "metadata": {},
   "source": [
    "### 5. Practice Exercise:  Reverse a String Using a While Loop"
   ]
  },
  {
   "cell_type": "markdown",
   "id": "21533a29",
   "metadata": {},
   "source": [
    "5.1. Modify the program to reverse an entire sentence (e.g., \"Hello World!\" → \"!dlroW olleH\")."
   ]
  },
  {
   "cell_type": "code",
   "execution_count": null,
   "id": "57c2649f",
   "metadata": {},
   "outputs": [],
   "source": [
    "sentence = \"Hello World!\"\n",
    "reversed_sentence = ''.join(# replace this with your code)\n",
    "print(reversed_sentence)"
   ]
  },
  {
   "cell_type": "markdown",
   "id": "0a85a746",
   "metadata": {},
   "source": [
    "5.2. Reverse each word in a sentence while keeping the word order intact (e.g., \"Hello World!\" → \"olleH !dlroW\")."
   ]
  },
  {
   "cell_type": "code",
   "execution_count": null,
   "id": "820bc26b",
   "metadata": {},
   "outputs": [],
   "source": [
    "sentence = \"Hello World!\"\n",
    "reversed_words = ' '.join(word[::-1] for word in sentence.split())\n",
    "print(reversed_words)"
   ]
  },
  {
   "cell_type": "markdown",
   "id": "d75f0d0e",
   "metadata": {},
   "source": [
    "5.3. Write a program to reverse a string and swap the case of each character (e.g., \"Hello\" → \"OLLEh\")."
   ]
  },
  {
   "cell_type": "code",
   "execution_count": null,
   "id": "75425793",
   "metadata": {},
   "outputs": [],
   "source": [
    "the_string = \"Hello\"\n",
    "reversed_case_swapped = ''.join(\n",
    "    the_string[i].swapcase() for i in range(len(the_string) - 1, -1, -1)\n",
    ")\n",
    "print(reversed_case_swapped)"
   ]
  },
  {
   "cell_type": "markdown",
   "id": "4ef2634f",
   "metadata": {},
   "source": [
    "5.4. Reverse only the vowels in a string while keeping the rest of the characters in place (e.g., \"hello\" → \"holle\")."
   ]
  },
  {
   "cell_type": "code",
   "execution_count": null,
   "id": "81957606",
   "metadata": {},
   "outputs": [],
   "source": [
    "the_string = \"hello\"\n",
    "vowels = \"aeiouAEIOU\"\n",
    "string_list = list(# replace this with your code)\n",
    "i, j = 0, len(the_string) - 1\n",
    "while i < j:\n",
    "    if string_list[i] not in # replace this with your code:\n",
    "        i += 1\n",
    "    elif string_list[j] not in # replace this with your code:\n",
    "        j -= 1\n",
    "    else:\n",
    "        string_list[i], string_list[j] = string_list[j], string_list[i]\n",
    "        i += 1\n",
    "        j -= 1\n",
    "print(''.join(string_list))"
   ]
  },
  {
   "cell_type": "markdown",
   "id": "0dd5b67c",
   "metadata": {},
   "source": [
    "5.5. Reverse a string without using explicit indexing (e.g., use pop() from a stack-like structure)."
   ]
  },
  {
   "cell_type": "code",
   "execution_count": null,
   "id": "a71a1fe1",
   "metadata": {},
   "outputs": [],
   "source": [
    "the_string = \"Python\"\n",
    "stack = list # replace this with your code  # Convert string to a list (stack-like structure)\n",
    "reversed_string = \"\"\n",
    "# replace this with your code:\n",
    "    reversed_string += stack.pop()  # Pop characters from the end\n",
    "print(# replace this with your code)"
   ]
  },
  {
   "cell_type": "markdown",
   "id": "ba4cf44a",
   "metadata": {},
   "source": [
    "### 6. Practice Exercise: Reverse Digits of a Number Using a While Loop"
   ]
  },
  {
   "cell_type": "markdown",
   "id": "bce06cd4",
   "metadata": {},
   "source": [
    "6.1. Modify the program to handle negative numbers (e.g., -123 → -321)."
   ]
  },
  {
   "cell_type": "code",
   "execution_count": null,
   "id": "e7ae2257",
   "metadata": {},
   "outputs": [],
   "source": [
    "the_num = int(input(\"Enter a number: \"))\n",
    "is_negative = # replace this with your code   # Check if the number is negative\n",
    "the_num = abs(# replace this with your code )  # Work with the absolute value\n",
    "reversed_num = 0\n",
    "\n",
    "# replace this with your code:\n",
    "    reversed_num = reversed_num * 10 + the_num % 10\n",
    "    the_num //= 10\n",
    "\n",
    "if is_negative:\n",
    "    reversed_num = -reversed_num  # Add the negative sign back\n",
    "\n",
    "print(reversed_num)"
   ]
  },
  {
   "cell_type": "markdown",
   "id": "1dce4fe9",
   "metadata": {},
   "source": [
    "6.2. Write a program to count the number of digits in the reversed number (e.g., 12345 → 54321 → 5 digits)."
   ]
  },
  {
   "cell_type": "code",
   "execution_count": null,
   "id": "3bea87b8",
   "metadata": {},
   "outputs": [],
   "source": [
    "the_num = int(input(\"Enter a number: \"))\n",
    "reversed_num = 0\n",
    "digit_count = 0  # Initialize the counter for digits\n",
    "\n",
    "# replace this with your code:\n",
    "    reversed_num = reversed_num * 10 + the_num % 10  # Reverse the number\n",
    "    the_num //= 10  # Remove the last digit\n",
    "    digit_count += 1  # Increment the digit count\n",
    "\n",
    "print(f\"Reversed Number: {reversed_num}, Number of Digits: {# replace this with your code}\")"
   ]
  },
  {
   "cell_type": "markdown",
   "id": "6b99e120",
   "metadata": {},
   "source": [
    "6.3. Modify the program to reverse the digits of a decimal number (e.g., 123.45 → 54.321)."
   ]
  },
  {
   "cell_type": "code",
   "execution_count": null,
   "id": "6eaa36f2",
   "metadata": {},
   "outputs": [],
   "source": [
    "the_num = input(\"Enter a decimal number: \")\n",
    "reversed_num = ''.join(# replace this with your code)\n",
    "print(reversed_num)"
   ]
  },
  {
   "cell_type": "markdown",
   "id": "4f8b76ca",
   "metadata": {},
   "source": [
    "6.4. Calculate the sum of the digits in the reversed number (e.g., 12345 → 54321 → 15)."
   ]
  },
  {
   "cell_type": "code",
   "execution_count": null,
   "id": "ba345091",
   "metadata": {},
   "outputs": [],
   "source": [
    "the_num = int(input(\"Enter a number: \"))\n",
    "reversed_num = 0\n",
    "digit_sum = 0\n",
    "\n",
    "# replace this with your code:\n",
    "    digit = the_num % 10\n",
    "    reversed_num = reversed_num * 10 + digit\n",
    "    # replace this with your code  # Add each digit to the sum\n",
    "    the_num //= 10\n",
    "\n",
    "print(f\"Reversed Number: {# replace this with your code}, Sum of Digits: {# replace this with your code}\")"
   ]
  },
  {
   "cell_type": "markdown",
   "id": "3c57be74",
   "metadata": {},
   "source": [
    "6.5. Rewrite the program to reverse the digits using recursion instead of a loop."
   ]
  },
  {
   "cell_type": "code",
   "execution_count": null,
   "id": "10a76c1e",
   "metadata": {},
   "outputs": [],
   "source": [
    "def reverse_num(num, reversed_num=0):\n",
    "    # replace this with your code:\n",
    "        return reversed_num\n",
    "    return reverse_num(num // 10, reversed_num * 10 + num % 10)\n",
    "\n",
    "the_num = int(input(\"Enter a number: \"))\n",
    "print(reverse_num(the_num))"
   ]
  },
  {
   "cell_type": "markdown",
   "id": "562f852a",
   "metadata": {},
   "source": [
    "### 7. Practice Exercise: Sum of First 100 Positive Integers Using a While Loop"
   ]
  },
  {
   "cell_type": "markdown",
   "id": "7680f83f",
   "metadata": {},
   "source": [
    "7.1. Modify the program to calculate the sum of the first n positive integers, where n is provided by the user."
   ]
  },
  {
   "cell_type": "code",
   "execution_count": null,
   "id": "1a4f5b8e",
   "metadata": {},
   "outputs": [],
   "source": [
    "n = int(input(\"Enter a number: \"))\n",
    "the_num = 1\n",
    "the_sum = 0\n",
    "\n",
    "# replace this with your code:\n",
    "    the_sum += # replace this with your code\n",
    "    the_num += # replace this with your code\n",
    "\n",
    "print(the_sum)"
   ]
  },
  {
   "cell_type": "markdown",
   "id": "cd046106",
   "metadata": {},
   "source": [
    "7.2. Write a program to calculate the sum of integers between two given values (inclusive)."
   ]
  },
  {
   "cell_type": "code",
   "execution_count": null,
   "id": "540a8467",
   "metadata": {},
   "outputs": [],
   "source": [
    "start = int(input(\"Enter the start of the range: \"))\n",
    "end = int(input(\"Enter the end of the range: \"))\n",
    "the_sum = # replace this with your code\n",
    "print(the_sum)"
   ]
  },
  {
   "cell_type": "markdown",
   "id": "b898a48a",
   "metadata": {},
   "source": [
    "7.3. Modify the program to calculate the sum of all odd integers between 1 and 100."
   ]
  },
  {
   "cell_type": "code",
   "execution_count": null,
   "id": "c7793b74",
   "metadata": {},
   "outputs": [],
   "source": [
    "the_sum = # replace this with your code\n",
    "print(the_sum)"
   ]
  },
  {
   "cell_type": "markdown",
   "id": "d572f83c",
   "metadata": {},
   "source": [
    "7.4. Modify the program to calculate the sum of all even integers between 1 and 100."
   ]
  },
  {
   "cell_type": "code",
   "execution_count": null,
   "id": "35ab3d6a",
   "metadata": {},
   "outputs": [],
   "source": [
    "the_sum = # replace this with your code\n",
    "print(the_sum)"
   ]
  },
  {
   "cell_type": "markdown",
   "id": "d33dca9d",
   "metadata": {},
   "source": [
    "7.5. Write a program to calculate the sum of the squares of integers from 1 to 100."
   ]
  },
  {
   "cell_type": "code",
   "execution_count": null,
   "id": "301f2584",
   "metadata": {},
   "outputs": [],
   "source": [
    "the_sum = # replace this with your code\n",
    "print(the_sum)"
   ]
  },
  {
   "cell_type": "markdown",
   "id": "880b14e6",
   "metadata": {},
   "source": [
    "### 8. Practice Exercise: Validate User Input Using While Loop"
   ]
  },
  {
   "cell_type": "markdown",
   "id": "014c9ecb",
   "metadata": {},
   "source": [
    "8.1. Modify the program to validate a decimal number between 0.5 and 9.5."
   ]
  },
  {
   "cell_type": "code",
   "execution_count": null,
   "id": "77538830",
   "metadata": {},
   "outputs": [],
   "source": [
    "while not (0.5 <= (user_input := # replace this with your code:\n",
    "    print('Invalid input. Try again.')\n",
    "\n",
    "print('Valid input:', user_input)"
   ]
  },
  {
   "cell_type": "markdown",
   "id": "6458426f",
   "metadata": {},
   "source": [
    "8.2. Validate that the user enters a single uppercase letter (A-Z)."
   ]
  },
  {
   "cell_type": "code",
   "execution_count": null,
   "id": "a7cf85d6",
   "metadata": {},
   "outputs": [],
   "source": [
    "# replace this with your code ((user_input := input('Enter a single uppercase letter (A-Z): ')).isalpha() and user_input.isupper() and len(user_input) == 1):\n",
    "    print('Invalid input. Try again.')\n",
    "\n",
    "print('Valid input:', user_input)\n"
   ]
  },
  {
   "cell_type": "markdown",
   "id": "b995f04f",
   "metadata": {},
   "source": [
    "8.3. Validate that the user input matches one of a predefined set of values (e.g., [\"yes\", \"no\", \"maybe\"])."
   ]
  },
  {
   "cell_type": "code",
   "execution_count": null,
   "id": "86eac684",
   "metadata": {},
   "outputs": [],
   "source": [
    "valid_choices = [\"yes\", \"no\", \"maybe\"]\n",
    "# replace this with your code (user_input := input('Enter yes, no, or maybe: ').lower()) not in # replace this with your code:\n",
    "    print('Invalid input. Try again.')\n",
    "\n",
    "print('Valid input:', user_input)"
   ]
  },
  {
   "cell_type": "markdown",
   "id": "066f6ef0",
   "metadata": {},
   "source": [
    "8.4. Prompt the user for a password, ensuring it meets specific criteria (e.g., at least 8 characters, contains a number)."
   ]
  },
  {
   "cell_type": "code",
   "execution_count": null,
   "id": "8e76124d",
   "metadata": {},
   "outputs": [],
   "source": [
    "# replace this with your code (len(user_input := input('Enter a password: ')) >= 8 and any(char.isdigit() for char in user_input)):\n",
    "    print('Invalid password. It must be at least 8 characters and contain a number.')\n",
    "\n",
    "print('Valid password entered.')"
   ]
  },
  {
   "cell_type": "markdown",
   "id": "941e811f",
   "metadata": {},
   "source": [
    "8.5. Validate a number that is divisible by 5 and greater than 20."
   ]
  },
  {
   "cell_type": "code",
   "execution_count": null,
   "id": "6549ae69",
   "metadata": {},
   "outputs": [],
   "source": [
    "# replace this with your code((user_input := int(input('Enter a number greater than 20 and divisible by 5: '))) > 20 and # replace this with your code):\n",
    "    print('Invalid input. Try again.')\n",
    "\n",
    "print('Valid input:', user_input)"
   ]
  },
  {
   "cell_type": "markdown",
   "id": "d9838a60",
   "metadata": {},
   "source": [
    "### 9. Practice Exercise: Guess the Number"
   ]
  },
  {
   "cell_type": "markdown",
   "id": "2d4546ff",
   "metadata": {},
   "source": [
    "9.1. Modify the program to guess a number between 1 and 100 instead of 1 and 10."
   ]
  },
  {
   "cell_type": "code",
   "execution_count": null,
   "id": "084e03ff",
   "metadata": {},
   "outputs": [],
   "source": [
    "target = random.randint(1, 100)\n",
    "while (guess := int(input('Guess the number (1-100): '))) != # replace this with your code:\n",
    "    print('Too low!' if guess < target else 'Too high!')\n",
    "print('Correct!')"
   ]
  },
  {
   "cell_type": "markdown",
   "id": "6d916a0c",
   "metadata": {},
   "source": [
    "9.2. Modify the code to calculate the sum of all multiples of 5 between 1 and 100."
   ]
  },
  {
   "cell_type": "code",
   "execution_count": null,
   "id": "1e81493a",
   "metadata": {},
   "outputs": [],
   "source": [
    "target = random.randint(1, 10)\n",
    "attempts = 0\n",
    "max_attempts = 5\n",
    "# replace this with your code:\n",
    "    guess = int(input('Guess the number (1-10): '))\n",
    "    if # replace this with your code:\n",
    "        print('Correct!')\n",
    "        break\n",
    "    print('Too low!' if guess < target else 'Too high!')\n",
    "    attempts += 1\n",
    "else:\n",
    "    print('Out of attempts! The number was', target)"
   ]
  },
  {
   "cell_type": "markdown",
   "id": "65b9089b",
   "metadata": {},
   "source": [
    "9.3. Allow the user to input a range (start and stop values) and calculate the sum of all integers in that range."
   ]
  },
  {
   "cell_type": "code",
   "execution_count": null,
   "id": "844ac3c9",
   "metadata": {},
   "outputs": [],
   "source": [
    "target = random.randint(1, 10)\n",
    "# replace this with your code (guess := int(input('Guess the number (1-10): '))) != target:\n",
    "    if abs(# replace this with your code) <= 2:\n",
    "        print('Very close!')\n",
    "    else:\n",
    "        print('Too low!' if guess < target else 'Too high!')\n",
    "print('Correct!')"
   ]
  },
  {
   "cell_type": "markdown",
   "id": "45727aa6",
   "metadata": {},
   "source": [
    "9.4. Write a program to calculate the average of the first 100 positive integers."
   ]
  },
  {
   "cell_type": "code",
   "execution_count": null,
   "id": "e2a804be",
   "metadata": {},
   "outputs": [],
   "source": [
    "target = random.randint(1, 10)\n",
    "attempts = 0\n",
    "# replace this with your code:\n",
    "    print('Too low!' if guess < target else 'Too high!')\n",
    "    attempts += # replace this with your code\n",
    "print(f'Correct! You guessed it in {attempts + 1} attempts.')"
   ]
  },
  {
   "cell_type": "markdown",
   "id": "8945fd71",
   "metadata": {},
   "source": [
    "9.5. Calculate the sum of the squares of the first 100 positive integers."
   ]
  },
  {
   "cell_type": "code",
   "execution_count": null,
   "id": "e7f3550d",
   "metadata": {},
   "outputs": [],
   "source": [
    "play_again = 'yes'\n",
    "# replace this with your code play_again.lower() == 'yes':\n",
    "    target = random.randint(1, 10)\n",
    "    # replace this with your code:\n",
    "        print('Too low!' if guess < target else 'Too high!')\n",
    "    print('Correct!')\n",
    "    play_again = input('Play again? (yes/no): ')\n",
    "print('Thanks for playing!')"
   ]
  },
  {
   "cell_type": "markdown",
   "id": "4b80e87a",
   "metadata": {},
   "source": [
    "### 10. Practice Exercise: Infinite Loop with Break Condition"
   ]
  },
  {
   "cell_type": "markdown",
   "id": "c54d5089",
   "metadata": {},
   "source": [
    "10.1. Modify the program to echo the user's input, but add a counter to display the number of inputs before exiting."
   ]
  },
  {
   "cell_type": "code",
   "execution_count": null,
   "id": "9c391c9f",
   "metadata": {},
   "outputs": [],
   "source": [
    "counter = 0\n",
    "# replace this with your code (user_input := # replace this with your code('Type \"exit\" to quit: ').lower()) != 'exit':\n",
    "    # replace this with your code\n",
    "    print(f'You entered: {user_input} (Input #{counter})')\n",
    "print(f'Exiting the loop after {counter} inputs.')"
   ]
  },
  {
   "cell_type": "markdown",
   "id": "61b53e67",
   "metadata": {},
   "source": [
    "10.2. Modify the program to allow the user to specify a custom exit keyword, such as \"quit\" or \"stop\"."
   ]
  },
  {
   "cell_type": "code",
   "execution_count": null,
   "id": "e5fea837",
   "metadata": {},
   "outputs": [],
   "source": [
    "exit_keyword = input('Enter the custom exit keyword: ')# replace this with your code\n",
    "# replace this with your code (user_input := input(f'Type \"{exit_keyword}\" to quit: ').# replace this with your code != exit_keyword:\n",
    "    print(f'You entered: {user_input}')\n",
    "print(f'Exiting the loop using the keyword \"{exit_keyword}\".')"
   ]
  },
  {
   "cell_type": "markdown",
   "id": "cfd7b312",
   "metadata": {},
   "source": [
    "10.3. Limit the input to strings of 10 characters or fewer. If the input is too long, prompt the user again without breaking the loop."
   ]
  },
  {
   "cell_type": "code",
   "execution_count": null,
   "id": "e6ba8a80",
   "metadata": {},
   "outputs": [],
   "source": [
    "# replace this with your code(user_input := # replace this with your code('Type \"exit\" to quit (max 10 characters): ').lower()) != 'exit':\n",
    "    # replace this with your code:\n",
    "        print('Input too long. Try again.')\n",
    "    else:\n",
    "        print(f'You entered: {user_input}')\n",
    "print('Exiting the loop.')"
   ]
  },
  {
   "cell_type": "markdown",
   "id": "0984cb24",
   "metadata": {},
   "source": [
    "10.4. Ensure that the user cannot input empty strings. If they do, print a message and re-prompt them."
   ]
  },
  {
   "cell_type": "code",
   "execution_count": null,
   "id": "f0b47bfc",
   "metadata": {},
   "outputs": [],
   "source": [
    "# replace this with your code (user_input := # replace this with your code.strip().lower()) != 'exit':\n",
    "    # replace this with your code:\n",
    "        print('Empty input is not allowed. Try again.')\n",
    "    else:\n",
    "        print(f'You entered: {user_input}')\n",
    "print('Exiting the loop.')"
   ]
  },
  {
   "cell_type": "markdown",
   "id": "016fa8e7",
   "metadata": {},
   "source": [
    "10.5. Create an infinite loop that counts down from 10 and exits automatically when the countdown reaches 0."
   ]
  },
  {
   "cell_type": "code",
   "execution_count": null,
   "id": "c8cd27c0",
   "metadata": {},
   "outputs": [],
   "source": [
    "countdown = # replace this with your code\n",
    "# replace this with your code:\n",
    "    print(f'Countdown: {countdown}')\n",
    "    countdown # replace this with your code\n",
    "print('Countdown complete. Exiting the loop.')"
   ]
  },
  {
   "cell_type": "markdown",
   "id": "da745650",
   "metadata": {},
   "source": [
    "### 11. Print a Multiplication Table Using a While Loop"
   ]
  },
  {
   "cell_type": "markdown",
   "id": "5e84b1c6",
   "metadata": {},
   "source": [
    "11.1. Modify the program to ask the user for the number they want the multiplication table for."
   ]
  },
  {
   "cell_type": "code",
   "execution_count": null,
   "id": "0c54329b",
   "metadata": {},
   "outputs": [],
   "source": [
    "the_num = int(input('Enter a number: '))\n",
    "the_multiplier = # replace this with your code\n",
    "\n",
    "# replace this with your code:\n",
    "    print(f'{the_num} x {the_multiplier} = {the_num * the_multiplier}')\n",
    "    # replace this with your code"
   ]
  },
  {
   "cell_type": "markdown",
   "id": "8b373888",
   "metadata": {},
   "source": [
    "11.2. Allow the user to specify the starting and ending multipliers."
   ]
  },
  {
   "cell_type": "code",
   "execution_count": null,
   "id": "4f667e1c",
   "metadata": {},
   "outputs": [],
   "source": [
    "the_num = int(input('Enter a number: '))\n",
    "start = int(input('Enter the starting multiplier: '))\n",
    "end = int(input('Enter the ending multiplier: '))\n",
    "\n",
    "# replace this with your code:\n",
    "    print(f'{the_num} x {start} = {the_num * start}')\n",
    "    # replace this with your code"
   ]
  },
  {
   "cell_type": "markdown",
   "id": "cc7074d6",
   "metadata": {},
   "source": [
    "11.3. Modify the program to print multiplication tables for numbers 1 through 5."
   ]
  },
  {
   "cell_type": "code",
   "execution_count": null,
   "id": "b698ac43",
   "metadata": {},
   "outputs": [],
   "source": [
    "the_num = 1\n",
    "# replace this with your code:\n",
    "    print(f'Multiplication Table for {the_num}')\n",
    "    the_multiplier = # replace this with your code\n",
    "    # replace this with your code:\n",
    "        print(f'{the_num} x {the_multiplier} = {the_num * the_multiplier}')\n",
    "        the_multiplier += 1\n",
    "    print()\n",
    "    the_num += # replace this with your code"
   ]
  },
  {
   "cell_type": "markdown",
   "id": "70efa321",
   "metadata": {},
   "source": [
    "11.4. Print the multiplication table in reverse order (e.g., from 10 down to 1)."
   ]
  },
  {
   "cell_type": "code",
   "execution_count": null,
   "id": "0bab76d4",
   "metadata": {},
   "outputs": [],
   "source": [
    "the_num = 5\n",
    "the_multiplier = 10\n",
    "\n",
    "# replace this with your code:\n",
    "    print(f'{the_num} x {the_multiplier} = {the_num * the_multiplier}')\n",
    "    # replace this with your code"
   ]
  },
  {
   "cell_type": "markdown",
   "id": "661a668f",
   "metadata": {},
   "source": [
    "11.5. Store each multiplication statement in a list and print the entire list after the loop."
   ]
  },
  {
   "cell_type": "code",
   "execution_count": null,
   "id": "4aacc089",
   "metadata": {},
   "outputs": [],
   "source": [
    "the_num = 5\n",
    "the_multiplier = 1\n",
    "table = []\n",
    "\n",
    "# replace this with your code:\n",
    "    result = f'{the_num} x {the_multiplier} = {the_num * the_multiplier}'\n",
    "    table.append(result)\n",
    "    # replace this with your code\n",
    "\n",
    "for line in # replace this with your code:\n",
    "    print(line)"
   ]
  },
  {
   "cell_type": "markdown",
   "id": "6ae4fe38",
   "metadata": {},
   "source": [
    "### 12. Print Integers in Reverse Order (from n to 1) Using While Loop"
   ]
  },
  {
   "cell_type": "markdown",
   "id": "bd734e95",
   "metadata": {},
   "source": [
    "12.1. Modify the program to print only even numbers from n down to 1."
   ]
  },
  {
   "cell_type": "code",
   "execution_count": null,
   "id": "a1f84ffd",
   "metadata": {},
   "outputs": [],
   "source": [
    "the_num = int(input(\"Enter a positive number: \"))\n",
    "# replace this with your code:\n",
    "    if the_num # replace this with your code:\n",
    "        print(the_num)\n",
    "    the_num # replace this with your code"
   ]
  },
  {
   "cell_type": "markdown",
   "id": "8a2e4af0",
   "metadata": {},
   "source": [
    "12.2. Modify the program to print only odd numbers from n down to 1."
   ]
  },
  {
   "cell_type": "code",
   "execution_count": null,
   "id": "0397d0c8",
   "metadata": {},
   "outputs": [],
   "source": [
    "the_num = int(input(\"Enter a positive number: \"))\n",
    "# replace this with your code:\n",
    "    if the_num # replace this with your code:\n",
    "        print(the_num)\n",
    "    the_num # replace this with your code"
   ]
  },
  {
   "cell_type": "markdown",
   "id": "acfbc003",
   "metadata": {},
   "source": [
    "12.3. Add a message like \"Countdown complete!\" after printing all numbers."
   ]
  },
  {
   "cell_type": "code",
   "execution_count": null,
   "id": "c11eaaa4",
   "metadata": {},
   "outputs": [],
   "source": [
    "the_num = int(input(\"Enter a positive number: \"))\n",
    "# replace this with your code:\n",
    "    print(the_num)\n",
    "    the_num # replace this with your code\n",
    "print(\"Countdown complete!\")"
   ]
  },
  {
   "cell_type": "markdown",
   "id": "49af8751",
   "metadata": {},
   "source": [
    "12.4. Ensure the user inputs a positive integer. Prompt them again if they enter a negative number or 0."
   ]
  },
  {
   "cell_type": "code",
   "execution_count": null,
   "id": "c039df70",
   "metadata": {},
   "outputs": [],
   "source": [
    "the_num = int(input(\"Enter a positive number: \"))\n",
    "# replace this with your code:\n",
    "    print(\"Invalid input. Please enter a positive number.\")\n",
    "    # replace this with your code= int(input(\"Enter a positive number: \"))\n",
    "# replace this with your code:\n",
    "    print(the_num)\n",
    "    the_num -= 1"
   ]
  },
  {
   "cell_type": "markdown",
   "id": "65889631",
   "metadata": {},
   "source": [
    "12.5. Store the numbers in reverse order in a list and print the list after the loop completes."
   ]
  },
  {
   "cell_type": "code",
   "execution_count": null,
   "id": "df4bf28d",
   "metadata": {},
   "outputs": [],
   "source": [
    "the_num = int(input(\"Enter a positive number: \"))\n",
    "numbers = []\n",
    "# replace this with your code:\n",
    "    numbers.append(# replace this with your code)\n",
    "    the_num -= 1\n",
    "print(numbers)"
   ]
  },
  {
   "cell_type": "markdown",
   "id": "e1664c7c",
   "metadata": {},
   "source": [
    "### 13. Triangular Letters Pattern Using a While Loop"
   ]
  },
  {
   "cell_type": "markdown",
   "id": "d4bcd858",
   "metadata": {},
   "source": [
    "13.1 Modify the program to print the triangular pattern right-aligned."
   ]
  },
  {
   "cell_type": "code",
   "execution_count": null,
   "id": "56ea5884",
   "metadata": {},
   "outputs": [],
   "source": [
    "num_rows = 5\n",
    "row = 0\n",
    "\n",
    "# replace this with your code:\n",
    "    print(' ' * (num_rows - row - 1) + (chr(65 + row) + ' ') * (row + 1))\n",
    "    # replace this with your code"
   ]
  },
  {
   "cell_type": "markdown",
   "id": "93b2b0ba",
   "metadata": {},
   "source": [
    "13.2. Start the pattern with E and decrement letters for each row (E, D D, C C C, ...)."
   ]
  },
  {
   "cell_type": "code",
   "execution_count": null,
   "id": "7fa3c5ed",
   "metadata": {},
   "outputs": [],
   "source": [
    "num_rows = 5\n",
    "row = 0\n",
    "\n",
    "# replace this with your code:\n",
    "    print((chr(69 - row) + ' ') * (row + 1))\n",
    "    # replace this with your code"
   ]
  },
  {
   "cell_type": "markdown",
   "id": "13b034d2",
   "metadata": {},
   "source": [
    "13.3. Allow the user to input the number of rows for the pattern."
   ]
  },
  {
   "cell_type": "code",
   "execution_count": null,
   "id": "94dd64dc",
   "metadata": {},
   "outputs": [],
   "source": [
    "num_rows = # replace this with your code(input(\"Enter the number of rows: \"))\n",
    "row = # replace this with your code\n",
    "\n",
    "# replace this with your code:\n",
    "    print((chr(65 + row) + ' ') * (row + 1))\n",
    "    # replace this with your code"
   ]
  },
  {
   "cell_type": "markdown",
   "id": "55526dc0",
   "metadata": {},
   "source": [
    "13.4. Modify the program to print the triangle upside-down (e.g., E E E E E, D D D D, ...)."
   ]
  },
  {
   "cell_type": "code",
   "execution_count": null,
   "id": "268ce972",
   "metadata": {},
   "outputs": [],
   "source": [
    "num_rows = 5\n",
    "row = # replace this with your code\n",
    "\n",
    "# replace this with your code:\n",
    "    print((chr(65 + row - 1) + ' ') * row)\n",
    "    # replace this with your code"
   ]
  },
  {
   "cell_type": "markdown",
   "id": "b33e611f",
   "metadata": {},
   "source": [
    "13.5. Extend the program to print a diamond-shaped pattern using letters."
   ]
  },
  {
   "cell_type": "code",
   "execution_count": null,
   "id": "e63a12ee",
   "metadata": {},
   "outputs": [],
   "source": [
    "num_rows = 5\n",
    "row = 0\n",
    "\n",
    "# Top half of the diamond\n",
    "# replace this with your code:\n",
    "    print(' ' * (num_rows - row - 1) + (chr(65 + row) + ' ') * (row + 1))\n",
    "    # replace this with your code\n",
    "\n",
    "# Bottom half of the diamond\n",
    "row = num_rows - 2\n",
    "# replace this with your code:\n",
    "    print(' ' * (num_rows - row - 1) + (chr(65 + row) + ' ') * (row + 1))\n",
    "    row -= 1"
   ]
  },
  {
   "cell_type": "markdown",
   "id": "ad5bfd03",
   "metadata": {},
   "source": [
    "### Solution Available at: While Loop Solutions: Practice Exercises & Challenges"
   ]
  }
 ],
 "metadata": {
  "kernelspec": {
   "display_name": "Python 3 (ipykernel)",
   "language": "python",
   "name": "python3"
  },
  "language_info": {
   "codemirror_mode": {
    "name": "ipython",
    "version": 3
   },
   "file_extension": ".py",
   "mimetype": "text/x-python",
   "name": "python",
   "nbconvert_exporter": "python",
   "pygments_lexer": "ipython3",
   "version": "3.11.4"
  }
 },
 "nbformat": 4,
 "nbformat_minor": 5
}
