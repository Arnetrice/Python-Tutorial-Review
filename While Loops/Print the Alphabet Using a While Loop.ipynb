{
 "cells": [
  {
   "cell_type": "markdown",
   "id": "de666638",
   "metadata": {},
   "source": [
    " # **Print the Alphabet Using a While Loop**"
   ]
  },
  {
   "cell_type": "markdown",
   "id": "b1b377e4",
   "metadata": {},
   "source": [
    "### Standard Approach:"
   ]
  },
  {
   "cell_type": "code",
   "execution_count": null,
   "id": "24184929",
   "metadata": {},
   "outputs": [],
   "source": [
    "# Initialize ASCII value for 'A'\n",
    "ascii_value = 65 \n",
    "\n",
    "# Loop through ASCII values for uppercase letters\n",
    "while ascii_value < 91:  # ASCII value 91 is one past 'Z'\n",
    "    print(chr(ascii_value))  # Convert ASCII value to character\n",
    "    ascii_value += 1  # Increment to the next ASCII value"
   ]
  },
  {
   "cell_type": "markdown",
   "id": "a9865f88",
   "metadata": {},
   "source": [
    "This approach uses  the ASCII values of uppercase letters (65 for 'A' and 90 for 'Z') to generate the alphabet."
   ]
  },
  {
   "cell_type": "markdown",
   "id": "017aff0b",
   "metadata": {},
   "source": [
    "### Optimized Solution:"
   ]
  },
  {
   "cell_type": "code",
   "execution_count": null,
   "id": "496e1d1c",
   "metadata": {},
   "outputs": [],
   "source": [
    "# Dynamically determine start and end ASCII values\n",
    "start = ord('A')  # ASCII value of 'A'\n",
    "end = ord('Z') + 1  # ASCII value of 'Z' + 1 to include 'Z'\n",
    "\n",
    "# Initialize the ASCII value to start\n",
    "ascii_value = start\n",
    "\n",
    "# Loop through ASCII values for uppercase letters\n",
    "while ascii_value < end:\n",
    "    print(chr(ascii_value), end=' ')  # Print letters on the same line\n",
    "    ascii_value += 1  # Increment to the next ASCII value\n",
    "print()  # Add a newline at the end"
   ]
  },
  {
   "cell_type": "markdown",
   "id": "f2901c30",
   "metadata": {},
   "source": [
    "Note: In this solution, we eliminate the hardcoded values by using the ord() function to dynamically retrieve the ASCII values of 'A' and 'Z'."
   ]
  },
  {
   "cell_type": "markdown",
   "id": "46c2e449",
   "metadata": {},
   "source": [
    "### Additional Practice:\n",
    "See For Loops - Practice Exercises & Challenges: Print the Alphabet Using a While Loop"
   ]
  }
 ],
 "metadata": {
  "kernelspec": {
   "display_name": "Python 3 (ipykernel)",
   "language": "python",
   "name": "python3"
  },
  "language_info": {
   "codemirror_mode": {
    "name": "ipython",
    "version": 3
   },
   "file_extension": ".py",
   "mimetype": "text/x-python",
   "name": "python",
   "nbconvert_exporter": "python",
   "pygments_lexer": "ipython3",
   "version": "3.11.4"
  }
 },
 "nbformat": 4,
 "nbformat_minor": 5
}
