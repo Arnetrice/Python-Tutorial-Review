{
 "cells": [
  {
   "cell_type": "markdown",
   "id": "de666638",
   "metadata": {},
   "source": [
    " # **Print a Multiplication Table Using a While Loop**"
   ]
  },
  {
   "cell_type": "markdown",
   "id": "b1b377e4",
   "metadata": {},
   "source": [
    "### Standard Approach:"
   ]
  },
  {
   "cell_type": "code",
   "execution_count": null,
   "id": "24184929",
   "metadata": {},
   "outputs": [],
   "source": [
    "# Initialize variables\n",
    "the_num = 5  # Number for which the table is generated\n",
    "the_multiplier = 1  # Start multiplier\n",
    "\n",
    "# Loop to generate the multiplication table\n",
    "while the_multiplier <= 10:\n",
    "    print(f'{the_num} x {the_multiplier} = {the_num * the_multiplier}')\n",
    "    the_multiplier += 1"
   ]
  },
  {
   "cell_type": "markdown",
   "id": "a9865f88",
   "metadata": {},
   "source": [
    "Note: This approach directly prints each multiplication step inside the loop."
   ]
  },
  {
   "cell_type": "markdown",
   "id": "017aff0b",
   "metadata": {},
   "source": [
    "### Optimized Solution:"
   ]
  },
  {
   "cell_type": "code",
   "execution_count": null,
   "id": "496e1d1c",
   "metadata": {},
   "outputs": [],
   "source": [
    "# Initialize variables\n",
    "the_num = 5  # Number for which the table is generated\n",
    "the_multiplier = 1  # Start multiplier\n",
    "\n",
    "# Loop to generate the multiplication table\n",
    "while the_multiplier <= 10:\n",
    "    result = f'{the_num} x {the_multiplier} = {the_num * the_multiplier}'\n",
    "    print(result)\n",
    "    the_multiplier += 1"
   ]
  },
  {
   "cell_type": "markdown",
   "id": "f2901c30",
   "metadata": {},
   "source": [
    "Note: This solution stores the multiplication statement in a variable before printing, improving readability and flexibility for further use."
   ]
  },
  {
   "cell_type": "markdown",
   "id": "46c2e449",
   "metadata": {},
   "source": [
    "### Additional Practice:\n",
    "See For Loops - Practice Exercises & Challenges: Print a Multiplication Table Using a While Loop"
   ]
  }
 ],
 "metadata": {
  "kernelspec": {
   "display_name": "Python 3 (ipykernel)",
   "language": "python",
   "name": "python3"
  },
  "language_info": {
   "codemirror_mode": {
    "name": "ipython",
    "version": 3
   },
   "file_extension": ".py",
   "mimetype": "text/x-python",
   "name": "python",
   "nbconvert_exporter": "python",
   "pygments_lexer": "ipython3",
   "version": "3.11.4"
  }
 },
 "nbformat": 4,
 "nbformat_minor": 5
}
