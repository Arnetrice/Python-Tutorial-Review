{
 "cells": [
  {
   "attachments": {},
   "cell_type": "markdown",
   "id": "de666638",
   "metadata": {},
   "source": [
    " # **Generate the First 100 Even Numbers Using a While Loop**"
   ]
  },
  {
   "cell_type": "markdown",
   "id": "b1b377e4",
   "metadata": {},
   "source": [
    "### Standard Approach:"
   ]
  },
  {
   "cell_type": "code",
   "execution_count": null,
   "id": "24184929",
   "metadata": {},
   "outputs": [],
   "source": [
    "# Initialize variables\n",
    "the_counter = 2  # Start with the first even number\n",
    "count = 0        # Track how many even numbers have been printed\n",
    "\n",
    "# Generate the first 100 even numbers\n",
    "while count < 100:\n",
    "    print(the_counter, end=\" \")  # Print the current even number\n",
    "    the_counter += 2  # Increment to the next even number\n",
    "    count += 1  # Increment the count"
   ]
  },
  {
   "cell_type": "markdown",
   "id": "a9865f88",
   "metadata": {},
   "source": [
    "This approach uses two variables: the_counter, to the current even number and count, to track how many even numbers have been printed."
   ]
  },
  {
   "cell_type": "markdown",
   "id": "017aff0b",
   "metadata": {},
   "source": [
    "### Optimized Solution:"
   ]
  },
  {
   "cell_type": "code",
   "execution_count": null,
   "id": "496e1d1c",
   "metadata": {},
   "outputs": [],
   "source": [
    "# Initialize the counter\n",
    "the_counter = 2  # Start with the first even number\n",
    "\n",
    "# Generate even numbers up to 200\n",
    "while the_counter <= 200:\n",
    "    print(the_counter, end=\" \")  # Print the current even number\n",
    "    the_counter += 2  # Increment to the next even number"
   ]
  },
  {
   "cell_type": "markdown",
   "id": "f2901c30",
   "metadata": {},
   "source": [
    "Note: In this solution, we eliminate the count variable and rely on the value of the_counter to control the loop."
   ]
  },
  {
   "cell_type": "markdown",
   "id": "46c2e449",
   "metadata": {},
   "source": [
    "### Additional Practice:\n",
    "See For Loops - Practice Exercises & Challenges: Generate the First 100 Even Numbers Using a While Loop"
   ]
  }
 ],
 "metadata": {
  "kernelspec": {
   "display_name": "Python 3 (ipykernel)",
   "language": "python",
   "name": "python3"
  },
  "language_info": {
   "codemirror_mode": {
    "name": "ipython",
    "version": 3
   },
   "file_extension": ".py",
   "mimetype": "text/x-python",
   "name": "python",
   "nbconvert_exporter": "python",
   "pygments_lexer": "ipython3",
   "version": "3.11.4"
  }
 },
 "nbformat": 4,
 "nbformat_minor": 5
}
