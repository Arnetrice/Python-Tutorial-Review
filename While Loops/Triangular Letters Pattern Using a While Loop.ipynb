{
 "cells": [
  {
   "attachments": {},
   "cell_type": "markdown",
   "id": "de666638",
   "metadata": {},
   "source": [
    " # **Triangular Letters Pattern Using a While Loop**"
   ]
  },
  {
   "cell_type": "markdown",
   "id": "b1b377e4",
   "metadata": {},
   "source": [
    "### Standard Approach:"
   ]
  },
  {
   "cell_type": "code",
   "execution_count": null,
   "id": "24184929",
   "metadata": {},
   "outputs": [],
   "source": [
    "# Number of rows for the triangular pattern\n",
    "num_rows = 5\n",
    "row = 0\n",
    "\n",
    "# Outer loop for each row\n",
    "while row < num_rows:\n",
    "    col = 0\n",
    "    # Inner loop for each column in the row\n",
    "    while col <= row:\n",
    "        print(chr(65 + row), end=' ')  # Print the letter corresponding to the row\n",
    "        col += 1\n",
    "    print()  # Move to the next line after each row\n",
    "    row += 1"
   ]
  },
  {
   "cell_type": "markdown",
   "id": "a9865f88",
   "metadata": {},
   "source": [
    "Note: This approach uses nested while loops to print the triangular pattern row by row."
   ]
  },
  {
   "cell_type": "markdown",
   "id": "017aff0b",
   "metadata": {},
   "source": [
    "### Optimized Solution:"
   ]
  },
  {
   "cell_type": "code",
   "execution_count": null,
   "id": "496e1d1c",
   "metadata": {},
   "outputs": [],
   "source": [
    "# Number of rows for the triangular pattern\n",
    "num_rows = 5\n",
    "row = 0\n",
    "\n",
    "# Loop through rows\n",
    "while row < num_rows:\n",
    "    # Print the row directly using string multiplication\n",
    "    print((chr(65 + row) + ' ') * (row + 1))\n",
    "    row += 1"
   ]
  },
  {
   "cell_type": "markdown",
   "id": "f2901c30",
   "metadata": {},
   "source": [
    "Note: This solution simplifies the logic by replacing the inner loop with string multiplication."
   ]
  },
  {
   "cell_type": "markdown",
   "id": "46c2e449",
   "metadata": {},
   "source": [
    "### Additional Practice:\n",
    "See For Loops - Practice Exercises & Challenges: Triangular Letters Pattern Using a While Loop"
   ]
  }
 ],
 "metadata": {
  "kernelspec": {
   "display_name": "Python 3 (ipykernel)",
   "language": "python",
   "name": "python3"
  },
  "language_info": {
   "codemirror_mode": {
    "name": "ipython",
    "version": 3
   },
   "file_extension": ".py",
   "mimetype": "text/x-python",
   "name": "python",
   "nbconvert_exporter": "python",
   "pygments_lexer": "ipython3",
   "version": "3.11.4"
  }
 },
 "nbformat": 4,
 "nbformat_minor": 5
}
