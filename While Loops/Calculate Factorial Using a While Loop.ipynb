{
 "cells": [
  {
   "cell_type": "markdown",
   "id": "de666638",
   "metadata": {},
   "source": [
    " # **Calculate Factorial Using a While Loop**"
   ]
  },
  {
   "cell_type": "markdown",
   "id": "b1b377e4",
   "metadata": {},
   "source": [
    "### Standard Approach:"
   ]
  },
  {
   "cell_type": "code",
   "execution_count": null,
   "id": "24184929",
   "metadata": {},
   "outputs": [],
   "source": [
    "# Input: User provides a number\n",
    "the_num = int(input(\"Enter a number: \"))\n",
    "\n",
    "# Initialize factorial variable\n",
    "the_factorial = 1  \n",
    "\n",
    "# While loop: Multiply the number while decrementing it\n",
    "while the_num > 1:\n",
    "    the_factorial *= the_num  # Multiply current number\n",
    "    the_num -= 1  # Decrement the number\n",
    "\n",
    "# Print the factorial\n",
    "print(the_factorial)"
   ]
  },
  {
   "cell_type": "markdown",
   "id": "a9865f88",
   "metadata": {},
   "source": [
    "Note: This approach calculates the factorial of a given number using a while loop, where the loop decrements the number and multiplies it sequentially."
   ]
  },
  {
   "cell_type": "markdown",
   "id": "017aff0b",
   "metadata": {},
   "source": [
    "### Optimized Solution:"
   ]
  },
  {
   "cell_type": "code",
   "execution_count": null,
   "id": "496e1d1c",
   "metadata": {},
   "outputs": [],
   "source": [
    "# Input: User provides a number\n",
    "the_num = int(input(\"Enter a number: \"))\n",
    "\n",
    "# Initialize factorial variable\n",
    "the_factorial = 1  \n",
    "\n",
    "# While loop: Multiply the number while decrementing it\n",
    "while the_num:\n",
    "    the_factorial *= the_num  # Multiply current number\n",
    "    the_num -= 1  # Decrement the number\n",
    "\n",
    "# Print the factorial\n",
    "print(the_factorial)"
   ]
  },
  {
   "cell_type": "markdown",
   "id": "f2901c30",
   "metadata": {},
   "source": [
    "Note: This solution removes the explicit condition (the_num > 1) and directly uses the_num as the condition. Since 0 evaluates to False, the loop terminates naturally."
   ]
  },
  {
   "cell_type": "markdown",
   "id": "46c2e449",
   "metadata": {},
   "source": [
    "### Additional Practice:\n",
    "See For Loops - Practice Exercises & Challenges: Calculate Factorial Using a While Loop"
   ]
  }
 ],
 "metadata": {
  "kernelspec": {
   "display_name": "Python 3 (ipykernel)",
   "language": "python",
   "name": "python3"
  },
  "language_info": {
   "codemirror_mode": {
    "name": "ipython",
    "version": 3
   },
   "file_extension": ".py",
   "mimetype": "text/x-python",
   "name": "python",
   "nbconvert_exporter": "python",
   "pygments_lexer": "ipython3",
   "version": "3.11.4"
  }
 },
 "nbformat": 4,
 "nbformat_minor": 5
}
