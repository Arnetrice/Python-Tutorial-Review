{
 "cells": [
  {
   "cell_type": "code",
   "execution_count": null,
   "metadata": {},
   "outputs": [],
   "source": [
    "print(len(\"Amazing\"))"
   ]
  },
  {
   "cell_type": "code",
   "execution_count": null,
   "metadata": {},
   "outputs": [],
   "source": [
    "word = ''\n",
    "\n",
    "i = 8\n",
    "\n",
    "if len(word) == 0:\n",
    "    print(\"Empty String\")\n",
    "    \n",
    "elif i < len(word):\n",
    "    print(word[i])\n",
    "else:\n",
    "    print(\"i out of range\")"
   ]
  },
  {
   "cell_type": "code",
   "execution_count": null,
   "metadata": {},
   "outputs": [],
   "source": [
    "word = 'Hello'\n",
    "i = 0\n",
    "\n",
    "if not word:\n",
    "    print(\"empty String\")\n",
    "elif i < len(word):\n",
    "    print(word[i])\n",
    "else:\n",
    "    print(\"i out of range\")"
   ]
  },
  {
   "cell_type": "code",
   "execution_count": null,
   "metadata": {},
   "outputs": [],
   "source": [
    "word = 'Tiki'\n",
    "\n",
    "if not word:\n",
    "    print(word)\n",
    "else:\n",
    "    print(word[:: -1])"
   ]
  },
  {
   "cell_type": "code",
   "execution_count": null,
   "metadata": {},
   "outputs": [],
   "source": [
    "word = 'Arnetrice'\n",
    "part1 = \"\"\n",
    "part2 = \"\"\n",
    "if len(word) < 6:\n",
    "    print(\"\")\n",
    "else:\n",
    "    part1 = word[:3]\n",
    "    part2 = word[-3:]\n",
    "    print(part1 + part2)"
   ]
  },
  {
   "cell_type": "code",
   "execution_count": null,
   "metadata": {},
   "outputs": [],
   "source": [
    "word = 'Wonderful'\n",
    "\n",
    "if len(word) < 6:\n",
    "    print(\"\")\n",
    "else:\n",
    "    new_word = word[:3] + word[len(word)-3:]\n",
    "    print(new_word)"
   ]
  },
  {
   "cell_type": "code",
   "execution_count": null,
   "metadata": {},
   "outputs": [],
   "source": [
    "word = 'Amazing Smith'\n",
    "\n",
    "slice_size= 3\n",
    "\n",
    "min_char_length = 6\n",
    "\n",
    "if len(word) < min_char_length:\n",
    "    print(\"\")\n",
    "else:\n",
    "    new_word = word[:slice_size] + word[len(word)-slice_size:]\n",
    "    print(new_word)"
   ]
  },
  {
   "cell_type": "code",
   "execution_count": null,
   "metadata": {},
   "outputs": [],
   "source": [
    "word = 'Python Rocks'\n",
    "\n",
    "new_word = \"\" # new copy of string\n",
    "\n",
    "if len(word) <= 1:\n",
    "    print(word)\n",
    "\n",
    "else:\n",
    "    for i in range(len(word)): #range returns a sequence of numbers, takes 3 parms (start, stop, & step), the stop parm in mandatory\n",
    "        if i % 2 != 0:\n",
    "            new_word += word[i]\n",
    "    print(new_word)\n",
    "\n",
    "            "
   ]
  },
  {
   "cell_type": "code",
   "execution_count": null,
   "metadata": {},
   "outputs": [],
   "source": [
    "word = 'Coding'\n",
    "\n",
    "new_word = \"\"\n",
    "\n",
    "for i in range(1, len(word), 2):\n",
    "    new_word += word[i]\n",
    "    \n",
    "print(new_word)"
   ]
  },
  {
   "cell_type": "code",
   "execution_count": null,
   "metadata": {},
   "outputs": [],
   "source": [
    "word ='Hello59'\n",
    "\n",
    "word.isdecimal()"
   ]
  },
  {
   "cell_type": "code",
   "execution_count": null,
   "metadata": {},
   "outputs": [],
   "source": [
    "word = 'Hello'\n",
    "\n",
    "new_word = ''\n",
    "\n",
    "nth_digit = 1\n",
    "\n",
    "if nth_digit >= len(word):\n",
    "    print(word)\n",
    "elif not word:\n",
    "    print(\"\")\n",
    "else:\n",
    "    for i in range(len(word)):\n",
    "        if i != nth_digit:\n",
    "            new_word += word[i]\n",
    "    print(new_word)\n"
   ]
  },
  {
   "cell_type": "code",
   "execution_count": null,
   "metadata": {},
   "outputs": [],
   "source": [
    "word = 'Hello'\n",
    "\n",
    "nth_digit = 1\n",
    "\n",
    "if (not word) or (nth_digit >= len(word)):\n",
    "    print(word)\n",
    "else:\n",
    "    new_word= ''\n",
    "    for i in range(len(word)):\n",
    "        if i != nth_digit:\n",
    "            new_word += word[i]\n",
    "    print(new_word)\n",
    "    "
   ]
  },
  {
   "cell_type": "code",
   "execution_count": null,
   "metadata": {},
   "outputs": [],
   "source": [
    "word = 'Python'\n",
    "\n",
    "current_char = 'p'\n",
    "\n",
    "new_char = 'a'\n",
    "\n",
    "for i in word:\n",
    "    if i == current_char:\n",
    "        word = word.replace(current_char, new_char)\n",
    "    \n",
    "print(word)\n",
    "        \n",
    "\n"
   ]
  },
  {
   "cell_type": "code",
   "execution_count": null,
   "metadata": {},
   "outputs": [],
   "source": []
  },
  {
   "cell_type": "code",
   "execution_count": null,
   "metadata": {},
   "outputs": [],
   "source": [
    "word = 'Python'\n",
    "\n",
    "new_word = ''\n",
    "\n",
    "current_char = 'P'\n",
    "\n",
    "new_char = 'a'\n",
    "\n",
    "for i in word:\n",
    "    if i == current_char:\n",
    "        new_word += new_word\n",
    "    else:\n",
    "        new_word += i\n",
    "print(new_word)"
   ]
  },
  {
   "cell_type": "code",
   "execution_count": null,
   "metadata": {},
   "outputs": [],
   "source": [
    "word = 'Hello, World!'\n",
    "\n",
    "for char in word:\n",
    "    if char == ',':\n",
    "        word = word.replace(char, '.')\n",
    "print(word)"
   ]
  },
  {
   "cell_type": "code",
   "execution_count": null,
   "metadata": {},
   "outputs": [],
   "source": [
    "word = 'Hello, World!'\n",
    "\n",
    "new_word = ''\n",
    "\n",
    "comma = ','\n",
    "dot = '.'\n",
    "\n",
    "for char in word:\n",
    "    if char == comma:\n",
    "        new_word += dot\n",
    "    else:\n",
    "        new_word += char\n",
    "\n",
    "print(new_word)"
   ]
  },
  {
   "cell_type": "code",
   "execution_count": null,
   "metadata": {},
   "outputs": [],
   "source": [
    "word = 'Hello, World!'\n",
    "\n",
    "COMMA= ','\n",
    "DOT = '.'\n",
    "\n",
    "print(word.replace(COMMA, DOT))"
   ]
  },
  {
   "cell_type": "code",
   "execution_count": 23,
   "metadata": {},
   "outputs": [
    {
     "name": "stdout",
     "output_type": "stream",
     "text": [
      "False\n"
     ]
    }
   ],
   "source": [
    "import string\n",
    "\n",
    "word = 'The quick broWn fox jumps over the lazy dog'\n",
    "\n",
    "word = word.lower()\n",
    "\n",
    "\n",
    "word_set = set(word.replace(\" \", \"\"))\n",
    "\n",
    "\n",
    "alpha_check = string.ascii_lowercase\n",
    "\n",
    "\n",
    "if len(word_set) == len(alpha_check):\n",
    "    print(True)\n",
    "else:\n",
    "    print(False)"
   ]
  },
  {
   "cell_type": "code",
   "execution_count": 25,
   "metadata": {},
   "outputs": [
    {
     "name": "stdout",
     "output_type": "stream",
     "text": [
      "False\n"
     ]
    }
   ],
   "source": [
    "import string\n",
    "\n",
    "word = 'The quick broWn fox jumps over the lazy dog'\n",
    "\n",
    "word_set = set(word.lower())\n",
    "\n",
    "remove_char = \" \"\n",
    "\n",
    "if remove_char in word_set:\n",
    "    word_set.remove(\" \")\n",
    "\n",
    "print(word_set == set(string.ascii_lowercase))"
   ]
  },
  {
   "cell_type": "code",
   "execution_count": 27,
   "metadata": {},
   "outputs": [
    {
     "name": "stdout",
     "output_type": "stream",
     "text": [
      "False\n"
     ]
    }
   ],
   "source": [
    "import string\n",
    "\n",
    "word = 'Hello'\n",
    "\n",
    "is_pangram = True\n",
    "\n",
    "for char in string.ascii_lowercase:\n",
    "    if char not in word.lower():\n",
    "        is_pangram = False\n",
    "        \n",
    "print(is_pangram)"
   ]
  },
  {
   "cell_type": "code",
   "execution_count": 28,
   "metadata": {},
   "outputs": [
    {
     "name": "stdout",
     "output_type": "stream",
     "text": [
      "False\n"
     ]
    }
   ],
   "source": [
    "import string\n",
    "\n",
    "word = 'Hello'\n",
    "\n",
    "is_pangram = True\n",
    "\n",
    "for char in string.ascii_lowercase:\n",
    "    if char not in word.lower():\n",
    "        is_pangram = False\n",
    "        break\n",
    "        \n",
    "print(is_pangram)"
   ]
  },
  {
   "cell_type": "code",
   "execution_count": 33,
   "metadata": {},
   "outputs": [
    {
     "name": "stdout",
     "output_type": "stream",
     "text": [
      "Python\n"
     ]
    }
   ],
   "source": [
    "#---------------Remove Spaces from a String\n",
    "\n",
    "word = 'Python'\n",
    "\n",
    "word = word.replace(\" \", \"\")\n",
    "\n",
    "print(word)"
   ]
  },
  {
   "cell_type": "code",
   "execution_count": 35,
   "metadata": {},
   "outputs": [
    {
     "name": "stdout",
     "output_type": "stream",
     "text": [
      "Hello,World!\n"
     ]
    }
   ],
   "source": [
    "word = 'Hello, World!'\n",
    "\n",
    "new_word = \"\"\n",
    "\n",
    "for char in word:\n",
    "    if char != \" \":\n",
    "        new_word += char\n",
    "        \n",
    "print(new_word)"
   ]
  },
  {
   "cell_type": "code",
   "execution_count": 37,
   "metadata": {},
   "outputs": [
    {
     "name": "stdout",
     "output_type": "stream",
     "text": [
      "Hello,World!\n"
     ]
    }
   ],
   "source": [
    "word = 'Hello, World!'\n",
    "\n",
    "\n",
    "print(word.replace(\" \", \"\"))"
   ]
  },
  {
   "cell_type": "code",
   "execution_count": 49,
   "metadata": {},
   "outputs": [
    {
     "name": "stdout",
     "output_type": "stream",
     "text": [
      "False\n"
     ]
    }
   ],
   "source": [
    "# Check if a string starts with a Prefix\n",
    "\n",
    "word = 'Nora'\n",
    "\n",
    "prefix_word = 'Circum'\n",
    "\n",
    "if len(prefix_word) > len(word):\n",
    "    print(False)\n",
    "else:\n",
    "    new_word = word[: len(prefix_word)]\n",
    "    print(new_word)\n",
    "    if new_word == prefix_word:\n",
    "        print(True)\n",
    "    else:\n",
    "        print(False)\n",
    "\n"
   ]
  },
  {
   "cell_type": "code",
   "execution_count": 51,
   "metadata": {},
   "outputs": [
    {
     "name": "stdout",
     "output_type": "stream",
     "text": [
      "True\n"
     ]
    }
   ],
   "source": [
    "word = 'Hello'\n",
    "\n",
    "prefix_word = 'He'\n",
    "\n",
    "print(word[:len(prefix_word)] == prefix_word)"
   ]
  },
  {
   "cell_type": "code",
   "execution_count": 53,
   "metadata": {},
   "outputs": [
    {
     "name": "stdout",
     "output_type": "stream",
     "text": [
      "True\n"
     ]
    }
   ],
   "source": [
    "word = 'Hello'\n",
    "\n",
    "prefix_word = 'He'\n",
    "\n",
    "print(word.startswith(prefix_word))"
   ]
  },
  {
   "cell_type": "code",
   "execution_count": 59,
   "metadata": {},
   "outputs": [
    {
     "name": "stdout",
     "output_type": "stream",
     "text": [
      "False\n"
     ]
    }
   ],
   "source": [
    "# Check if a string ends with a Prefix\n",
    "word = 'Hello'\n",
    "\n",
    "suffix_word = 'Lo'\n",
    "\n",
    "print(word.endswith(suffix_word))"
   ]
  },
  {
   "cell_type": "code",
   "execution_count": 63,
   "metadata": {},
   "outputs": [
    {
     "name": "stdout",
     "output_type": "stream",
     "text": [
      "llo\n",
      "False\n"
     ]
    }
   ],
   "source": [
    "word = 'Hello'\n",
    "\n",
    "suffix_word = 'loe'\n",
    "\n",
    "if len(suffix_word) > len(word):\n",
    "    print(False)\n",
    "else:\n",
    "    new_word = word[-(len(suffix_word)):]\n",
    "    print(new_word)\n",
    "    if new_word == suffix_word:\n",
    "        print(True)\n",
    "    else:\n",
    "        print(False)"
   ]
  },
  {
   "cell_type": "code",
   "execution_count": 66,
   "metadata": {},
   "outputs": [
    {
     "name": "stdout",
     "output_type": "stream",
     "text": [
      "True\n"
     ]
    }
   ],
   "source": [
    "word = 'Arnetrice'\n",
    "\n",
    "suffix_word = 'ice'\n",
    "\n",
    "print(word[-(len(suffix_word)) :] == suffix_word)\n"
   ]
  },
  {
   "cell_type": "code",
   "execution_count": 110,
   "metadata": {},
   "outputs": [
    {
     "name": "stdout",
     "output_type": "stream",
     "text": [
      "DLROw OLLEh it the new word 1st\n",
      "['DLROw', 'OLLEh']  this is the word array\n",
      "OLLEh DLROw\n"
     ]
    }
   ],
   "source": [
    "# Reverse Words in a String (*)\n",
    "\n",
    "word = 'Hello World'\n",
    "\n",
    "new_word = ''\n",
    "\n",
    "for i in word:\n",
    "    if i.islower():\n",
    "        new_word += i.upper()\n",
    "    else:\n",
    "        new_word += i.lower()\n",
    "        \n",
    "new_word = new_word[::-1]\n",
    "print(new_word, 'it the new word 1st')\n",
    "\n",
    "word_array = new_word.split(' ')\n",
    "print(word_array, ' this is the word array')\n",
    "\n",
    "print(\" \".join(word_array[::-1]))\n",
    "\n"
   ]
  },
  {
   "cell_type": "code",
   "execution_count": 114,
   "metadata": {},
   "outputs": [
    {
     "name": "stdout",
     "output_type": "stream",
     "text": [
      "NOHTYp SI EMOSEWa \n"
     ]
    }
   ],
   "source": [
    "word = 'Python is Awesome'\n",
    "\n",
    "word_array = word.split(' ')\n",
    "\n",
    "new_word = ''\n",
    "\n",
    "for word in word_array:\n",
    "    rev_word = \"\".join(reversed(word))\n",
    "    # could do rev_word = word[::-1]\n",
    "    \n",
    "    change_case = rev_word.swapcase()\n",
    "    new_word += change_case + \" \"\n",
    "    \n",
    "new_word.rstrip()\n",
    "\n",
    "print(new_word)"
   ]
  },
  {
   "cell_type": "code",
   "execution_count": 175,
   "metadata": {},
   "outputs": [
    {
     "name": "stdout",
     "output_type": "stream",
     "text": [
      "0\n",
      "None\n"
     ]
    }
   ],
   "source": [
    "# Count Repeated Characters (*)\n",
    "word = 'Python'\n",
    "\n",
    "repeat_counter =  {}\n",
    "\n",
    "total_count = 0\n",
    "\n",
    "list_of_repeats = []\n",
    "\n",
    "for char in word:\n",
    "    if char in repeat_counter:\n",
    "        repeat_counter[char] += 1\n",
    "        total_count += 1\n",
    "        if char not in list_of_repeats:\n",
    "            list_of_repeats.append(char)\n",
    "    else:\n",
    "        repeat_counter[char] = 1\n",
    "        \n",
    "#print(repeat_counter)\n",
    "#print(sorted(list_of_repeats))\n",
    "\n",
    "\n",
    "if not list_of_repeats:\n",
    "    print(total_count)\n",
    "    print(None)\n",
    "else:\n",
    "    print(total_count)\n",
    "    for val in sorted(list_of_repeats):\n",
    "        print(val, end=\" \")\n",
    "\n",
    "\n",
    "\n",
    "        "
   ]
  },
  {
   "cell_type": "code",
   "execution_count": 179,
   "metadata": {},
   "outputs": [
    {
     "name": "stdout",
     "output_type": "stream",
     "text": [
      "2\n",
      "o r "
     ]
    }
   ],
   "source": [
    "word = 'Corporation'\n",
    "\n",
    "repeat_counter = 0\n",
    "\n",
    "list_of_repeats = []\n",
    "\n",
    "for char in word:\n",
    "    if (word.count(char) > 1) and (char not in list_of_repeats):\n",
    "        repeat_counter += 1\n",
    "        list_of_repeats.append(char)\n",
    "        \n",
    "print(repeat_counter)\n",
    "\n",
    "if len(list_of_repeats) > 0:\n",
    "    for char in sorted(list_of_repeats):\n",
    "        print(char, end= \" \")\n",
    "else:\n",
    "    print(None)"
   ]
  },
  {
   "cell_type": "code",
   "execution_count": 180,
   "metadata": {},
   "outputs": [
    {
     "name": "stdout",
     "output_type": "stream",
     "text": [
      "2\n",
      "o r\n"
     ]
    }
   ],
   "source": [
    "word = 'Corporation'\n",
    "\n",
    "repeat_counter = 0\n",
    "\n",
    "list_of_repeats = []\n",
    "\n",
    "for char in word:\n",
    "    if (word.count(char) > 1) and (char not in list_of_repeats):\n",
    "        repeat_counter += 1\n",
    "        list_of_repeats.append(char)\n",
    "        \n",
    "print(repeat_counter)\n",
    "\n",
    "if list_of_repeats:\n",
    "    print(*sorted(list_of_repeats), sep=\" \")\n",
    "else:\n",
    "    print(None)"
   ]
  },
  {
   "cell_type": "code",
   "execution_count": 181,
   "metadata": {},
   "outputs": [
    {
     "name": "stdout",
     "output_type": "stream",
     "text": [
      "2\n",
      "o r\n"
     ]
    }
   ],
   "source": [
    "word = 'Corporation'\n",
    "\n",
    "list_of_repeats = []\n",
    "\n",
    "for char in word:\n",
    "    if (word.count(char) > 1) and (char not in list_of_repeats):\n",
    "        list_of_repeats.append(char)\n",
    "        \n",
    "print(len(list_of_repeats))\n",
    "\n",
    "if list_of_repeats:\n",
    "    print(*sorted(list_of_repeats), sep=\" \")\n",
    "else:\n",
    "    print(None)"
   ]
  },
  {
   "cell_type": "code",
   "execution_count": 18,
   "metadata": {},
   "outputs": [
    {
     "name": "stdout",
     "output_type": "stream",
     "text": [
      " deflnoruw dlorw\n"
     ]
    }
   ],
   "source": [
    "# Sort word in alphabetical order\n",
    "\n",
    "word = 'Wonderful World'\n",
    "\n",
    "word_array = word.lower().split(' ')\n",
    "\n",
    "new_word = ' '\n",
    "\n",
    "for word in word_array:\n",
    "    new_word += \"\".join(sorted(word)) + ' '\n",
    "    \n",
    "print(new_word.rstrip())\n",
    "    "
   ]
  },
  {
   "cell_type": "code",
   "execution_count": 17,
   "metadata": {},
   "outputs": [
    {
     "name": "stdout",
     "output_type": "stream",
     "text": [
      " deflnoruw dlorw \n"
     ]
    }
   ],
   "source": [
    "word = 'Wonderful World'\n",
    "\n",
    "word_array = word.split(' ')\n",
    "\n",
    "new_word = ' '\n",
    "\n",
    "for word in word_array:\n",
    "    lowercase_word = word.lower()\n",
    "    sorted_word = \"\".join(sorted(lowercase_word))\n",
    "    new_word += sorted_word + \" \"\n",
    "\n",
    "new_word.rstrip()\n",
    "    \n",
    "print(new_word)"
   ]
  },
  {
   "cell_type": "code",
   "execution_count": 19,
   "metadata": {},
   "outputs": [
    {
     "name": "stdout",
     "output_type": "stream",
     "text": [
      " deflnoruw dlorw \n"
     ]
    }
   ],
   "source": [
    "word = 'Wonderful World'\n",
    "\n",
    "word_array = word.split(' ')\n",
    "\n",
    "new_word = ' '\n",
    "\n",
    "for word in word_array:\n",
    "    new_word += \"\".join(sorted(word.lower())) + ' '\n",
    "\n",
    "new_word.rstrip()\n",
    "    \n",
    "print(new_word)"
   ]
  },
  {
   "cell_type": "code",
   "execution_count": null,
   "metadata": {},
   "outputs": [],
   "source": []
  }
 ],
 "metadata": {
  "kernelspec": {
   "display_name": "Python 3",
   "language": "python",
   "name": "python3"
  },
  "language_info": {
   "codemirror_mode": {
    "name": "ipython",
    "version": 3
   },
   "file_extension": ".py",
   "mimetype": "text/x-python",
   "name": "python",
   "nbconvert_exporter": "python",
   "pygments_lexer": "ipython3",
   "version": "3.8.3"
  }
 },
 "nbformat": 4,
 "nbformat_minor": 4
}
